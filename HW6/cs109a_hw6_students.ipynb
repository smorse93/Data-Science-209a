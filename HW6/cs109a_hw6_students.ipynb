{
 "cells": [
  {
   "cell_type": "markdown",
   "metadata": {
    "button": false,
    "deletable": false,
    "editable": false,
    "new_sheet": false,
    "run_control": {
     "read_only": false
    }
   },
   "source": [
    "# <img style=\"float: left; padding-right: 10px; width: 45px\" src=\"https://raw.githubusercontent.com/Harvard-IACS/2018-CS109A/master/content/styles/iacs.png\"> CS109A Introduction to Data Science\n",
    "\n",
    "## Homework 6: Trees, Bagging, Random Forests, and Boosting\n",
    "\n",
    "\n",
    "**Harvard University**<br/>\n",
    "**Fall 2020**<br/>\n",
    "**Instructors**: Pavlos Protopapas, Kevin Rader and Chris Tanner\n",
    "\n",
    "<hr style=\"height:2pt\">\n",
    "\n"
   ]
  },
  {
   "cell_type": "code",
   "execution_count": 411,
   "metadata": {
    "button": false,
    "deletable": false,
    "editable": false,
    "jupyter": {
     "outputs_hidden": false
    },
    "new_sheet": false,
    "run_control": {
     "read_only": false
    }
   },
   "outputs": [
    {
     "data": {
      "text/html": [
       "<style>\n",
       "blockquote { background: #AEDE94; }\n",
       "h1 { \n",
       "    padding-top: 25px;\n",
       "    padding-bottom: 25px;\n",
       "    text-align: left; \n",
       "    padding-left: 10px;\n",
       "    background-color: #DDDDDD; \n",
       "    color: black;\n",
       "}\n",
       "h2 { \n",
       "    padding-top: 10px;\n",
       "    padding-bottom: 10px;\n",
       "    text-align: left; \n",
       "    padding-left: 5px;\n",
       "    background-color: #EEEEEE; \n",
       "    color: black;\n",
       "}\n",
       "\n",
       "div.exercise {\n",
       "\tbackground-color: #ffcccc;\n",
       "\tborder-color: #E9967A; \t\n",
       "\tborder-left: 5px solid #800080; \n",
       "\tpadding: 0.5em;\n",
       "}\n",
       "\n",
       "div.exercise-r {\n",
       "\tbackground-color: #fce8e8;\n",
       "\tborder-color: #E9967A; \t\n",
       "\tborder-left: 5px solid #800080; \n",
       "\tpadding: 0.5em;\n",
       "}\n",
       "\n",
       "\n",
       "span.sub-q {\n",
       "\tfont-weight: bold;\n",
       "}\n",
       "div.theme {\n",
       "\tbackground-color: #DDDDDD;\n",
       "\tborder-color: #E9967A; \t\n",
       "\tborder-left: 5px solid #800080; \n",
       "\tpadding: 0.5em;\n",
       "\tfont-size: 18pt;\n",
       "}\n",
       "div.gc { \n",
       "\tbackground-color: #AEDE94;\n",
       "\tborder-color: #E9967A; \t \n",
       "\tborder-left: 5px solid #800080; \n",
       "\tpadding: 0.5em;\n",
       "\tfont-size: 12pt;\n",
       "}\n",
       "p.q1 { \n",
       "    padding-top: 5px;\n",
       "    padding-bottom: 5px;\n",
       "    text-align: left; \n",
       "    padding-left: 5px;\n",
       "    background-color: #EEEEEE; \n",
       "    color: black;\n",
       "}\n",
       "header {\n",
       "   padding-top: 35px;\n",
       "    padding-bottom: 35px;\n",
       "    text-align: left; \n",
       "    padding-left: 10px;\n",
       "    background-color: #DDDDDD; \n",
       "    color: black;\n",
       "}\n",
       "</style>\n",
       "\n"
      ],
      "text/plain": [
       "<IPython.core.display.HTML object>"
      ]
     },
     "execution_count": 411,
     "metadata": {},
     "output_type": "execute_result"
    }
   ],
   "source": [
    "#RUN THIS CELL \n",
    "import requests\n",
    "from IPython.core.display import HTML, display\n",
    "styles = requests.get(\"https://raw.githubusercontent.com/Harvard-IACS/2018-CS109A/master/content/styles/cs109.css\").text\n",
    "HTML(styles)"
   ]
  },
  {
   "cell_type": "markdown",
   "metadata": {
    "button": false,
    "deletable": false,
    "editable": false,
    "new_sheet": false,
    "run_control": {
     "read_only": false
    }
   },
   "source": [
    "<hr style=\"height:2pt\">\n",
    "\n",
    "### INSTRUCTIONS\n",
    "\n",
    "- To submit your assignment follow the instructions given in Canvas.\n",
    "\n",
    "- This homework can be submitted in pairs, and it is encouraged for you to do so. Especially during covid and distancing, this can be a way to work with other students and learn alongside one another. As future data scientists, you will often be expected to work with others, and working in pairs can help practice communicating data science concepts.\n",
    "\n",
    "- Please restart the kernel and run the entire notebook again before you submit.\n",
    "\n",
    "- Running cells out of order is a common pitfall in Jupyter Notebooks. To make sure your code works restart the kernel and run the whole notebook again before you submit. Exceptions should be made for code with a long execution time, of course.\n",
    "- We have tried to include all the libraries you may need to do the assignment in the imports statement at the top of this notebook. We strongly suggest that you use those and not others as we may not be familiar with them. .\n",
    "- Please use .head() when viewing data. Do not submit a notebook that is **excessively long**. \n",
    "- In questions that require code to answer, such as \"calculate the $R^2$\", do not just output the value from a cell. Write a `print()` function that includes a reference to the calculated value, **not hardcoded**. For example: \n",
    "```\n",
    "print(f'The R^2 is {R:.4f}')\n",
    "```\n",
    "\n",
    "<hr style=\"height:2pt\">"
   ]
  },
  {
   "cell_type": "code",
   "execution_count": 412,
   "metadata": {
    "button": false,
    "deletable": false,
    "editable": false,
    "new_sheet": false,
    "run_control": {
     "read_only": false
    }
   },
   "outputs": [],
   "source": [
    "import numpy as np\n",
    "import pandas as pd\n",
    "import matplotlib.pyplot as plt\n",
    "\n",
    "from sklearn.model_selection import cross_val_score\n",
    "from sklearn.utils import resample\n",
    "from sklearn.tree import DecisionTreeClassifier\n",
    "from sklearn.ensemble import RandomForestClassifier\n",
    "from sklearn.ensemble import AdaBoostClassifier\n",
    "from sklearn.metrics import accuracy_score\n",
    "\n",
    "%matplotlib inline\n",
    "\n",
    "import seaborn as sns\n",
    "sns.set(style='whitegrid')\n",
    "pd.set_option('display.width', 1500)\n",
    "pd.set_option('display.max_columns', 100)"
   ]
  },
  {
   "cell_type": "markdown",
   "metadata": {
    "button": false,
    "deletable": false,
    "editable": false,
    "new_sheet": false,
    "run_control": {
     "read_only": false
    }
   },
   "source": [
    "# Higgs Boson Discovery\n",
    "\n",
    "The discovery of the Higgs boson in July 2012 marked a fundamental breakthrough in particle physics. The Higgs boson particle was discovered through experiments at the Large Hadron Collider at CERN, by colliding beams of protons at high energy. A key challenge in analyzing the results of these experiments is to differentiate between collisions that produce Higgs bosons and collisions that produce only background noise. \n",
    "\n",
    "You are provided with data from Monte-Carlo simulations of collisions of particles in a particle collider experiment. The training set is available in `Higgs_train.csv` and the test set is in `Higgs_test.csv`. Each row in these files corresponds to a particle collision described by 28 features (columns 1-28), of which the first 21 features are kinematic properties measured by the particle detectors in the accelerator, and the remaining features are derived by physicists from the first 21 features. The class label is provided in the last column, with a label of 1 indicating that the collision produces Higgs bosons (signal), and a label of 0 indicating that the collision produces other particles (background).\n",
    "\n",
    "The data set provided to you is a small subset of the HIGGS data set in the UCI machine learning repository. The following paper contains further details about the data set and the predictors used: [Baldi et al., Nature Communications 5, 2014](https://www.nature.com/articles/ncomms5308)."
   ]
  },
  {
   "cell_type": "code",
   "execution_count": 413,
   "metadata": {
    "button": false,
    "deletable": false,
    "editable": false,
    "jupyter": {
     "outputs_hidden": false
    },
    "new_sheet": false,
    "run_control": {
     "read_only": false
    }
   },
   "outputs": [
    {
     "name": "stdout",
     "output_type": "stream",
     "text": [
      "5000 training samples, 5000 test samples\n",
      "\n",
      "Columns:\n",
      "lepton pT, lepton eta, lepton phi, missing energy magnitude, missing energy phi, jet 1 pt, jet 1 eta, jet 1 phi, jet 1 b-tag, jet 2 pt, jet 2 eta, jet 2 phi, jet 2 b-tag, jet 3 pt, jet 3 eta, jet 3 phi, jet 3 b-tag, jet 4 pt, jet 4 eta, jet 4 phi, jet 4 b-tag, m_jj, m_jjj, m_lv, m_jlv, m_bb, m_wbb, m_wwbb, class\n"
     ]
    }
   ],
   "source": [
    "# Load data\n",
    "data_train = pd.read_csv('data/Higgs_train.csv')\n",
    "data_test = pd.read_csv('data/Higgs_test.csv')\n",
    "\n",
    "print(f\"{len(data_train)} training samples, {len(data_test)} test samples\")\n",
    "print(\"\\nColumns:\")\n",
    "print(', '.join(data_train.columns))"
   ]
  },
  {
   "cell_type": "code",
   "execution_count": 414,
   "metadata": {
    "button": false,
    "deletable": false,
    "editable": false,
    "jupyter": {
     "outputs_hidden": false
    },
    "new_sheet": false,
    "run_control": {
     "read_only": false
    }
   },
   "outputs": [
    {
     "data": {
      "text/html": [
       "<div>\n",
       "<style scoped>\n",
       "    .dataframe tbody tr th:only-of-type {\n",
       "        vertical-align: middle;\n",
       "    }\n",
       "\n",
       "    .dataframe tbody tr th {\n",
       "        vertical-align: top;\n",
       "    }\n",
       "\n",
       "    .dataframe thead th {\n",
       "        text-align: right;\n",
       "    }\n",
       "</style>\n",
       "<table border=\"1\" class=\"dataframe\">\n",
       "  <thead>\n",
       "    <tr style=\"text-align: right;\">\n",
       "      <th></th>\n",
       "      <th>lepton pT</th>\n",
       "      <th>lepton eta</th>\n",
       "      <th>lepton phi</th>\n",
       "      <th>missing energy magnitude</th>\n",
       "      <th>missing energy phi</th>\n",
       "      <th>jet 1 pt</th>\n",
       "      <th>jet 1 eta</th>\n",
       "      <th>jet 1 phi</th>\n",
       "      <th>jet 1 b-tag</th>\n",
       "      <th>jet 2 pt</th>\n",
       "      <th>jet 2 eta</th>\n",
       "      <th>jet 2 phi</th>\n",
       "      <th>jet 2 b-tag</th>\n",
       "      <th>jet 3 pt</th>\n",
       "      <th>jet 3 eta</th>\n",
       "      <th>jet 3 phi</th>\n",
       "      <th>jet 3 b-tag</th>\n",
       "      <th>jet 4 pt</th>\n",
       "      <th>jet 4 eta</th>\n",
       "      <th>jet 4 phi</th>\n",
       "      <th>jet 4 b-tag</th>\n",
       "      <th>m_jj</th>\n",
       "      <th>m_jjj</th>\n",
       "      <th>m_lv</th>\n",
       "      <th>m_jlv</th>\n",
       "      <th>m_bb</th>\n",
       "      <th>m_wbb</th>\n",
       "      <th>m_wwbb</th>\n",
       "      <th>class</th>\n",
       "    </tr>\n",
       "  </thead>\n",
       "  <tbody>\n",
       "    <tr>\n",
       "      <th>0</th>\n",
       "      <td>0.377</td>\n",
       "      <td>-1.5800</td>\n",
       "      <td>-1.7100</td>\n",
       "      <td>0.991</td>\n",
       "      <td>0.114</td>\n",
       "      <td>1.250</td>\n",
       "      <td>0.620</td>\n",
       "      <td>-1.480</td>\n",
       "      <td>2.17</td>\n",
       "      <td>0.754</td>\n",
       "      <td>0.7750</td>\n",
       "      <td>-0.667</td>\n",
       "      <td>2.21</td>\n",
       "      <td>1.280</td>\n",
       "      <td>-1.190</td>\n",
       "      <td>0.505</td>\n",
       "      <td>0.00</td>\n",
       "      <td>1.110</td>\n",
       "      <td>-0.464</td>\n",
       "      <td>0.397</td>\n",
       "      <td>0.00</td>\n",
       "      <td>0.522</td>\n",
       "      <td>1.320</td>\n",
       "      <td>0.982</td>\n",
       "      <td>1.360</td>\n",
       "      <td>0.965</td>\n",
       "      <td>1.310</td>\n",
       "      <td>1.080</td>\n",
       "      <td>1.0</td>\n",
       "    </tr>\n",
       "    <tr>\n",
       "      <th>1</th>\n",
       "      <td>0.707</td>\n",
       "      <td>0.0876</td>\n",
       "      <td>-0.4000</td>\n",
       "      <td>0.919</td>\n",
       "      <td>-1.230</td>\n",
       "      <td>1.170</td>\n",
       "      <td>-0.553</td>\n",
       "      <td>0.886</td>\n",
       "      <td>2.17</td>\n",
       "      <td>1.300</td>\n",
       "      <td>0.7620</td>\n",
       "      <td>-1.060</td>\n",
       "      <td>2.21</td>\n",
       "      <td>0.607</td>\n",
       "      <td>0.459</td>\n",
       "      <td>1.020</td>\n",
       "      <td>0.00</td>\n",
       "      <td>0.497</td>\n",
       "      <td>0.956</td>\n",
       "      <td>0.236</td>\n",
       "      <td>0.00</td>\n",
       "      <td>0.440</td>\n",
       "      <td>0.829</td>\n",
       "      <td>0.992</td>\n",
       "      <td>1.160</td>\n",
       "      <td>2.220</td>\n",
       "      <td>1.190</td>\n",
       "      <td>0.938</td>\n",
       "      <td>1.0</td>\n",
       "    </tr>\n",
       "    <tr>\n",
       "      <th>2</th>\n",
       "      <td>0.617</td>\n",
       "      <td>0.2660</td>\n",
       "      <td>-1.3500</td>\n",
       "      <td>1.150</td>\n",
       "      <td>1.040</td>\n",
       "      <td>0.955</td>\n",
       "      <td>0.377</td>\n",
       "      <td>-0.148</td>\n",
       "      <td>0.00</td>\n",
       "      <td>1.060</td>\n",
       "      <td>-0.0194</td>\n",
       "      <td>1.110</td>\n",
       "      <td>0.00</td>\n",
       "      <td>1.470</td>\n",
       "      <td>0.205</td>\n",
       "      <td>-1.060</td>\n",
       "      <td>2.55</td>\n",
       "      <td>1.490</td>\n",
       "      <td>-0.398</td>\n",
       "      <td>-0.542</td>\n",
       "      <td>0.00</td>\n",
       "      <td>1.020</td>\n",
       "      <td>1.030</td>\n",
       "      <td>0.986</td>\n",
       "      <td>0.928</td>\n",
       "      <td>1.370</td>\n",
       "      <td>0.982</td>\n",
       "      <td>0.917</td>\n",
       "      <td>1.0</td>\n",
       "    </tr>\n",
       "    <tr>\n",
       "      <th>3</th>\n",
       "      <td>0.851</td>\n",
       "      <td>-0.3810</td>\n",
       "      <td>-0.0713</td>\n",
       "      <td>1.470</td>\n",
       "      <td>-0.795</td>\n",
       "      <td>0.692</td>\n",
       "      <td>0.883</td>\n",
       "      <td>0.497</td>\n",
       "      <td>0.00</td>\n",
       "      <td>1.620</td>\n",
       "      <td>0.1240</td>\n",
       "      <td>1.180</td>\n",
       "      <td>1.11</td>\n",
       "      <td>1.290</td>\n",
       "      <td>0.160</td>\n",
       "      <td>-0.916</td>\n",
       "      <td>2.55</td>\n",
       "      <td>0.945</td>\n",
       "      <td>0.796</td>\n",
       "      <td>-1.520</td>\n",
       "      <td>0.00</td>\n",
       "      <td>1.200</td>\n",
       "      <td>1.100</td>\n",
       "      <td>0.987</td>\n",
       "      <td>1.350</td>\n",
       "      <td>1.460</td>\n",
       "      <td>0.995</td>\n",
       "      <td>0.954</td>\n",
       "      <td>1.0</td>\n",
       "    </tr>\n",
       "    <tr>\n",
       "      <th>4</th>\n",
       "      <td>0.768</td>\n",
       "      <td>-0.6920</td>\n",
       "      <td>-0.0402</td>\n",
       "      <td>0.615</td>\n",
       "      <td>0.144</td>\n",
       "      <td>0.749</td>\n",
       "      <td>0.397</td>\n",
       "      <td>-0.874</td>\n",
       "      <td>0.00</td>\n",
       "      <td>1.150</td>\n",
       "      <td>0.1270</td>\n",
       "      <td>1.320</td>\n",
       "      <td>2.21</td>\n",
       "      <td>0.730</td>\n",
       "      <td>-0.758</td>\n",
       "      <td>-1.120</td>\n",
       "      <td>0.00</td>\n",
       "      <td>0.848</td>\n",
       "      <td>0.107</td>\n",
       "      <td>0.502</td>\n",
       "      <td>1.55</td>\n",
       "      <td>0.922</td>\n",
       "      <td>0.864</td>\n",
       "      <td>0.983</td>\n",
       "      <td>1.370</td>\n",
       "      <td>0.601</td>\n",
       "      <td>0.919</td>\n",
       "      <td>0.957</td>\n",
       "      <td>0.0</td>\n",
       "    </tr>\n",
       "  </tbody>\n",
       "</table>\n",
       "</div>"
      ],
      "text/plain": [
       "   lepton pT  lepton eta  lepton phi  missing energy magnitude  missing energy phi  jet 1 pt  jet 1 eta  jet 1 phi  jet 1 b-tag  jet 2 pt  jet 2 eta  jet 2 phi  jet 2 b-tag  jet 3 pt  jet 3 eta  jet 3 phi  jet 3 b-tag  jet 4 pt  jet 4 eta  jet 4 phi  jet 4 b-tag   m_jj  m_jjj   m_lv  m_jlv   m_bb  m_wbb  m_wwbb  class\n",
       "0      0.377     -1.5800     -1.7100                     0.991               0.114     1.250      0.620     -1.480         2.17     0.754     0.7750     -0.667         2.21     1.280     -1.190      0.505         0.00     1.110     -0.464      0.397         0.00  0.522  1.320  0.982  1.360  0.965  1.310   1.080    1.0\n",
       "1      0.707      0.0876     -0.4000                     0.919              -1.230     1.170     -0.553      0.886         2.17     1.300     0.7620     -1.060         2.21     0.607      0.459      1.020         0.00     0.497      0.956      0.236         0.00  0.440  0.829  0.992  1.160  2.220  1.190   0.938    1.0\n",
       "2      0.617      0.2660     -1.3500                     1.150               1.040     0.955      0.377     -0.148         0.00     1.060    -0.0194      1.110         0.00     1.470      0.205     -1.060         2.55     1.490     -0.398     -0.542         0.00  1.020  1.030  0.986  0.928  1.370  0.982   0.917    1.0\n",
       "3      0.851     -0.3810     -0.0713                     1.470              -0.795     0.692      0.883      0.497         0.00     1.620     0.1240      1.180         1.11     1.290      0.160     -0.916         2.55     0.945      0.796     -1.520         0.00  1.200  1.100  0.987  1.350  1.460  0.995   0.954    1.0\n",
       "4      0.768     -0.6920     -0.0402                     0.615               0.144     0.749      0.397     -0.874         0.00     1.150     0.1270      1.320         2.21     0.730     -0.758     -1.120         0.00     0.848      0.107      0.502         1.55  0.922  0.864  0.983  1.370  0.601  0.919   0.957    0.0"
      ]
     },
     "metadata": {},
     "output_type": "display_data"
    },
    {
     "data": {
      "text/html": [
       "<div>\n",
       "<style scoped>\n",
       "    .dataframe tbody tr th:only-of-type {\n",
       "        vertical-align: middle;\n",
       "    }\n",
       "\n",
       "    .dataframe tbody tr th {\n",
       "        vertical-align: top;\n",
       "    }\n",
       "\n",
       "    .dataframe thead th {\n",
       "        text-align: right;\n",
       "    }\n",
       "</style>\n",
       "<table border=\"1\" class=\"dataframe\">\n",
       "  <thead>\n",
       "    <tr style=\"text-align: right;\">\n",
       "      <th></th>\n",
       "      <th>lepton pT</th>\n",
       "      <th>lepton eta</th>\n",
       "      <th>lepton phi</th>\n",
       "      <th>missing energy magnitude</th>\n",
       "      <th>missing energy phi</th>\n",
       "      <th>jet 1 pt</th>\n",
       "      <th>jet 1 eta</th>\n",
       "      <th>jet 1 phi</th>\n",
       "      <th>jet 1 b-tag</th>\n",
       "      <th>jet 2 pt</th>\n",
       "      <th>jet 2 eta</th>\n",
       "      <th>jet 2 phi</th>\n",
       "      <th>jet 2 b-tag</th>\n",
       "      <th>jet 3 pt</th>\n",
       "      <th>jet 3 eta</th>\n",
       "      <th>jet 3 phi</th>\n",
       "      <th>jet 3 b-tag</th>\n",
       "      <th>jet 4 pt</th>\n",
       "      <th>jet 4 eta</th>\n",
       "      <th>jet 4 phi</th>\n",
       "      <th>jet 4 b-tag</th>\n",
       "      <th>m_jj</th>\n",
       "      <th>m_jjj</th>\n",
       "      <th>m_lv</th>\n",
       "      <th>m_jlv</th>\n",
       "      <th>m_bb</th>\n",
       "      <th>m_wbb</th>\n",
       "      <th>m_wwbb</th>\n",
       "      <th>class</th>\n",
       "    </tr>\n",
       "  </thead>\n",
       "  <tbody>\n",
       "    <tr>\n",
       "      <th>count</th>\n",
       "      <td>5000.000000</td>\n",
       "      <td>5000.000000</td>\n",
       "      <td>5000.000000</td>\n",
       "      <td>5000.000000</td>\n",
       "      <td>5000.000000</td>\n",
       "      <td>5000.000000</td>\n",
       "      <td>5000.000000</td>\n",
       "      <td>5000.000000</td>\n",
       "      <td>5000.000000</td>\n",
       "      <td>5000.000000</td>\n",
       "      <td>5000.000000</td>\n",
       "      <td>5000.000000</td>\n",
       "      <td>5000.000000</td>\n",
       "      <td>5000.000000</td>\n",
       "      <td>5000.000000</td>\n",
       "      <td>5000.000000</td>\n",
       "      <td>5000.000000</td>\n",
       "      <td>5000.000000</td>\n",
       "      <td>5000.000000</td>\n",
       "      <td>5000.000000</td>\n",
       "      <td>5000.000000</td>\n",
       "      <td>5000.000000</td>\n",
       "      <td>5000.000000</td>\n",
       "      <td>5000.000000</td>\n",
       "      <td>5000.000000</td>\n",
       "      <td>5000.000000</td>\n",
       "      <td>5000.000000</td>\n",
       "      <td>5000.000000</td>\n",
       "      <td>5000.000000</td>\n",
       "    </tr>\n",
       "    <tr>\n",
       "      <th>mean</th>\n",
       "      <td>0.978645</td>\n",
       "      <td>-0.014280</td>\n",
       "      <td>-0.018956</td>\n",
       "      <td>1.005793</td>\n",
       "      <td>0.002528</td>\n",
       "      <td>0.980390</td>\n",
       "      <td>0.025014</td>\n",
       "      <td>-0.007104</td>\n",
       "      <td>0.993678</td>\n",
       "      <td>0.988659</td>\n",
       "      <td>-0.010310</td>\n",
       "      <td>-0.006926</td>\n",
       "      <td>1.006922</td>\n",
       "      <td>0.997004</td>\n",
       "      <td>0.018817</td>\n",
       "      <td>0.003952</td>\n",
       "      <td>1.011994</td>\n",
       "      <td>0.982806</td>\n",
       "      <td>0.005201</td>\n",
       "      <td>0.003349</td>\n",
       "      <td>1.007810</td>\n",
       "      <td>1.038431</td>\n",
       "      <td>1.027201</td>\n",
       "      <td>1.054719</td>\n",
       "      <td>1.023094</td>\n",
       "      <td>0.958464</td>\n",
       "      <td>1.033432</td>\n",
       "      <td>0.960494</td>\n",
       "      <td>0.524600</td>\n",
       "    </tr>\n",
       "    <tr>\n",
       "      <th>std</th>\n",
       "      <td>0.547025</td>\n",
       "      <td>1.011927</td>\n",
       "      <td>0.997945</td>\n",
       "      <td>0.591907</td>\n",
       "      <td>1.003337</td>\n",
       "      <td>0.463677</td>\n",
       "      <td>1.002018</td>\n",
       "      <td>1.014559</td>\n",
       "      <td>1.028920</td>\n",
       "      <td>0.476462</td>\n",
       "      <td>1.007983</td>\n",
       "      <td>1.002177</td>\n",
       "      <td>1.045206</td>\n",
       "      <td>0.471681</td>\n",
       "      <td>1.007824</td>\n",
       "      <td>0.999656</td>\n",
       "      <td>1.200416</td>\n",
       "      <td>0.497681</td>\n",
       "      <td>1.007999</td>\n",
       "      <td>1.008904</td>\n",
       "      <td>1.400846</td>\n",
       "      <td>0.619460</td>\n",
       "      <td>0.353984</td>\n",
       "      <td>0.173243</td>\n",
       "      <td>0.427141</td>\n",
       "      <td>0.495720</td>\n",
       "      <td>0.352966</td>\n",
       "      <td>0.306057</td>\n",
       "      <td>0.499444</td>\n",
       "    </tr>\n",
       "    <tr>\n",
       "      <th>min</th>\n",
       "      <td>0.275000</td>\n",
       "      <td>-2.410000</td>\n",
       "      <td>-1.740000</td>\n",
       "      <td>0.010000</td>\n",
       "      <td>-1.740000</td>\n",
       "      <td>0.170000</td>\n",
       "      <td>-2.920000</td>\n",
       "      <td>-1.740000</td>\n",
       "      <td>0.000000</td>\n",
       "      <td>0.198000</td>\n",
       "      <td>-2.910000</td>\n",
       "      <td>-1.740000</td>\n",
       "      <td>0.000000</td>\n",
       "      <td>0.265000</td>\n",
       "      <td>-2.720000</td>\n",
       "      <td>-1.740000</td>\n",
       "      <td>0.000000</td>\n",
       "      <td>0.366000</td>\n",
       "      <td>-2.500000</td>\n",
       "      <td>-1.740000</td>\n",
       "      <td>0.000000</td>\n",
       "      <td>0.151000</td>\n",
       "      <td>0.443000</td>\n",
       "      <td>0.339000</td>\n",
       "      <td>0.371000</td>\n",
       "      <td>0.079500</td>\n",
       "      <td>0.413000</td>\n",
       "      <td>0.452000</td>\n",
       "      <td>0.000000</td>\n",
       "    </tr>\n",
       "    <tr>\n",
       "      <th>25%</th>\n",
       "      <td>0.587000</td>\n",
       "      <td>-0.764250</td>\n",
       "      <td>-0.877500</td>\n",
       "      <td>0.581000</td>\n",
       "      <td>-0.870000</td>\n",
       "      <td>0.676000</td>\n",
       "      <td>-0.659250</td>\n",
       "      <td>-0.885000</td>\n",
       "      <td>0.000000</td>\n",
       "      <td>0.666000</td>\n",
       "      <td>-0.699000</td>\n",
       "      <td>-0.859500</td>\n",
       "      <td>0.000000</td>\n",
       "      <td>0.664750</td>\n",
       "      <td>-0.679250</td>\n",
       "      <td>-0.858000</td>\n",
       "      <td>0.000000</td>\n",
       "      <td>0.619000</td>\n",
       "      <td>-0.707250</td>\n",
       "      <td>-0.869250</td>\n",
       "      <td>0.000000</td>\n",
       "      <td>0.798750</td>\n",
       "      <td>0.850000</td>\n",
       "      <td>0.986000</td>\n",
       "      <td>0.768000</td>\n",
       "      <td>0.672000</td>\n",
       "      <td>0.826000</td>\n",
       "      <td>0.772750</td>\n",
       "      <td>0.000000</td>\n",
       "    </tr>\n",
       "    <tr>\n",
       "      <th>50%</th>\n",
       "      <td>0.846000</td>\n",
       "      <td>-0.009305</td>\n",
       "      <td>-0.016050</td>\n",
       "      <td>0.903500</td>\n",
       "      <td>0.001300</td>\n",
       "      <td>0.891000</td>\n",
       "      <td>0.049500</td>\n",
       "      <td>-0.023500</td>\n",
       "      <td>1.090000</td>\n",
       "      <td>0.891000</td>\n",
       "      <td>-0.004800</td>\n",
       "      <td>-0.030700</td>\n",
       "      <td>1.110000</td>\n",
       "      <td>0.899500</td>\n",
       "      <td>0.045700</td>\n",
       "      <td>0.018800</td>\n",
       "      <td>0.000000</td>\n",
       "      <td>0.877000</td>\n",
       "      <td>0.012900</td>\n",
       "      <td>-0.004700</td>\n",
       "      <td>0.000000</td>\n",
       "      <td>0.898000</td>\n",
       "      <td>0.957000</td>\n",
       "      <td>0.990000</td>\n",
       "      <td>0.922000</td>\n",
       "      <td>0.868000</td>\n",
       "      <td>0.952000</td>\n",
       "      <td>0.877500</td>\n",
       "      <td>1.000000</td>\n",
       "    </tr>\n",
       "    <tr>\n",
       "      <th>75%</th>\n",
       "      <td>1.220000</td>\n",
       "      <td>0.725500</td>\n",
       "      <td>0.837000</td>\n",
       "      <td>1.300000</td>\n",
       "      <td>0.866000</td>\n",
       "      <td>1.160000</td>\n",
       "      <td>0.716000</td>\n",
       "      <td>0.894000</td>\n",
       "      <td>2.170000</td>\n",
       "      <td>1.192500</td>\n",
       "      <td>0.692250</td>\n",
       "      <td>0.855500</td>\n",
       "      <td>2.210000</td>\n",
       "      <td>1.232500</td>\n",
       "      <td>0.717000</td>\n",
       "      <td>0.855000</td>\n",
       "      <td>2.550000</td>\n",
       "      <td>1.220000</td>\n",
       "      <td>0.719000</td>\n",
       "      <td>0.859000</td>\n",
       "      <td>3.100000</td>\n",
       "      <td>1.030000</td>\n",
       "      <td>1.090000</td>\n",
       "      <td>1.030000</td>\n",
       "      <td>1.160000</td>\n",
       "      <td>1.120000</td>\n",
       "      <td>1.140000</td>\n",
       "      <td>1.060000</td>\n",
       "      <td>1.000000</td>\n",
       "    </tr>\n",
       "    <tr>\n",
       "      <th>max</th>\n",
       "      <td>5.330000</td>\n",
       "      <td>2.430000</td>\n",
       "      <td>1.740000</td>\n",
       "      <td>6.260000</td>\n",
       "      <td>1.740000</td>\n",
       "      <td>4.190000</td>\n",
       "      <td>2.960000</td>\n",
       "      <td>1.740000</td>\n",
       "      <td>2.170000</td>\n",
       "      <td>4.800000</td>\n",
       "      <td>2.910000</td>\n",
       "      <td>1.740000</td>\n",
       "      <td>2.210000</td>\n",
       "      <td>4.630000</td>\n",
       "      <td>2.730000</td>\n",
       "      <td>1.740000</td>\n",
       "      <td>2.550000</td>\n",
       "      <td>5.770000</td>\n",
       "      <td>2.490000</td>\n",
       "      <td>1.740000</td>\n",
       "      <td>3.100000</td>\n",
       "      <td>10.600000</td>\n",
       "      <td>5.740000</td>\n",
       "      <td>3.940000</td>\n",
       "      <td>6.220000</td>\n",
       "      <td>5.080000</td>\n",
       "      <td>4.320000</td>\n",
       "      <td>3.500000</td>\n",
       "      <td>1.000000</td>\n",
       "    </tr>\n",
       "  </tbody>\n",
       "</table>\n",
       "</div>"
      ],
      "text/plain": [
       "         lepton pT   lepton eta   lepton phi  missing energy magnitude  missing energy phi     jet 1 pt    jet 1 eta    jet 1 phi  jet 1 b-tag     jet 2 pt    jet 2 eta    jet 2 phi  jet 2 b-tag     jet 3 pt    jet 3 eta    jet 3 phi  jet 3 b-tag     jet 4 pt    jet 4 eta    jet 4 phi  jet 4 b-tag         m_jj        m_jjj         m_lv        m_jlv         m_bb        m_wbb       m_wwbb        class\n",
       "count  5000.000000  5000.000000  5000.000000               5000.000000         5000.000000  5000.000000  5000.000000  5000.000000  5000.000000  5000.000000  5000.000000  5000.000000  5000.000000  5000.000000  5000.000000  5000.000000  5000.000000  5000.000000  5000.000000  5000.000000  5000.000000  5000.000000  5000.000000  5000.000000  5000.000000  5000.000000  5000.000000  5000.000000  5000.000000\n",
       "mean      0.978645    -0.014280    -0.018956                  1.005793            0.002528     0.980390     0.025014    -0.007104     0.993678     0.988659    -0.010310    -0.006926     1.006922     0.997004     0.018817     0.003952     1.011994     0.982806     0.005201     0.003349     1.007810     1.038431     1.027201     1.054719     1.023094     0.958464     1.033432     0.960494     0.524600\n",
       "std       0.547025     1.011927     0.997945                  0.591907            1.003337     0.463677     1.002018     1.014559     1.028920     0.476462     1.007983     1.002177     1.045206     0.471681     1.007824     0.999656     1.200416     0.497681     1.007999     1.008904     1.400846     0.619460     0.353984     0.173243     0.427141     0.495720     0.352966     0.306057     0.499444\n",
       "min       0.275000    -2.410000    -1.740000                  0.010000           -1.740000     0.170000    -2.920000    -1.740000     0.000000     0.198000    -2.910000    -1.740000     0.000000     0.265000    -2.720000    -1.740000     0.000000     0.366000    -2.500000    -1.740000     0.000000     0.151000     0.443000     0.339000     0.371000     0.079500     0.413000     0.452000     0.000000\n",
       "25%       0.587000    -0.764250    -0.877500                  0.581000           -0.870000     0.676000    -0.659250    -0.885000     0.000000     0.666000    -0.699000    -0.859500     0.000000     0.664750    -0.679250    -0.858000     0.000000     0.619000    -0.707250    -0.869250     0.000000     0.798750     0.850000     0.986000     0.768000     0.672000     0.826000     0.772750     0.000000\n",
       "50%       0.846000    -0.009305    -0.016050                  0.903500            0.001300     0.891000     0.049500    -0.023500     1.090000     0.891000    -0.004800    -0.030700     1.110000     0.899500     0.045700     0.018800     0.000000     0.877000     0.012900    -0.004700     0.000000     0.898000     0.957000     0.990000     0.922000     0.868000     0.952000     0.877500     1.000000\n",
       "75%       1.220000     0.725500     0.837000                  1.300000            0.866000     1.160000     0.716000     0.894000     2.170000     1.192500     0.692250     0.855500     2.210000     1.232500     0.717000     0.855000     2.550000     1.220000     0.719000     0.859000     3.100000     1.030000     1.090000     1.030000     1.160000     1.120000     1.140000     1.060000     1.000000\n",
       "max       5.330000     2.430000     1.740000                  6.260000            1.740000     4.190000     2.960000     1.740000     2.170000     4.800000     2.910000     1.740000     2.210000     4.630000     2.730000     1.740000     2.550000     5.770000     2.490000     1.740000     3.100000    10.600000     5.740000     3.940000     6.220000     5.080000     4.320000     3.500000     1.000000"
      ]
     },
     "metadata": {},
     "output_type": "display_data"
    }
   ],
   "source": [
    "display(data_train.head())\n",
    "display(data_train.describe())"
   ]
  },
  {
   "cell_type": "code",
   "execution_count": 415,
   "metadata": {
    "button": false,
    "deletable": false,
    "editable": false,
    "new_sheet": false,
    "run_control": {
     "read_only": false
    }
   },
   "outputs": [],
   "source": [
    "# Split into NumPy arrays\n",
    "X_train = data_train.iloc[:, data_train.columns != 'class'].values\n",
    "y_train = data_train['class'].values\n",
    "X_test = data_test.iloc[:, data_test.columns != 'class'].values\n",
    "y_test = data_test['class'].values"
   ]
  },
  {
   "cell_type": "code",
   "execution_count": null,
   "metadata": {},
   "outputs": [],
   "source": []
  },
  {
   "cell_type": "markdown",
   "metadata": {
    "deletable": false,
    "editable": false
   },
   "source": [
    "## Contents\n",
    "- [Question 1 [20pts]: A Single Model](#Question-1-[20pts]:-A-Single-Model) \n",
    "- [Question 2 [25pts]: Bagging](#Question-2-[25pts]:-Bagging) \n",
    "- [Question 3 [20pts]: Random Forests](#Question-3-[20pts]:-Random-Forests) \n",
    "- [Question 4 [20pts]: Boosting](#Question-4-[20pts]:-Boosting) \n",
    "- [Question 5 [15pts]: Understanding](#Question-5-[15pts]:-Understanding) "
   ]
  },
  {
   "cell_type": "markdown",
   "metadata": {
    "button": false,
    "deletable": false,
    "editable": false,
    "new_sheet": false,
    "run_control": {
     "read_only": false
    }
   },
   "source": [
    "### <div class='exercise'>Question 1 [20pts]: A Single Model</div>\n",
    "[▲ Return to contents](#Contents)\n",
    "<div class='exercise'>\n",
    "    \n",
    "We start by fitting a basic model, which will serve as our baseline model -- a model that we can use as a starting point and can reasonably compare to other models. We will pick a decision tree as our baseline model, and we will later include bagging, random forests, and boosting. We want a fair comparison, so it is important to keep important aspects of the experiments consistent (e.g., the training/dev/testing data). We will tune the decision tree using cross-validation (of course). We will tune the maximum tree depth; we refer to this hyper-parameter as \"depth\" for simplicity.\n",
    "\n",
    "Since we will only use tree-based methods in this homework, we do not need to standardize or normalize the predictors/independent variables. \n",
    "\n",
    "**1.1** In this problem, we will observe how both tree-depth and cross-validation affect our ability to accurately model data. Specifically, using tree depths from 1 to 20 (inclusive):\n",
    "- fit a decision tree to the **training** set\n",
    "- evaluate on the **training** set (i.e., `.score()`), while storing the scores in a variable named `train_scores`\n",
    "- using cross-validation, evaluate on the **training** set while storing the mean and +/- 2 standard deviations in variables named `cvmeans` and `cvstds`, respectively.\n",
    "\n",
    "Now that we have these informative scores, let us plot them. Specifically, for each tree-depth (x-axis) plot on the y-axis: (a) the initial, non-cross-validation training scores; and (b) a shaded region that illustrates cross-validations' estimated mean +/- 2 standard deviations. (c) set the limits on the y-axis to focus on the cross-validation performance.\n",
    "\n",
    "*Hint:* use `plt.fill_between()` to shade the region.\n",
    "    \n",
    "**1.2** Using the cross-validation experiments from above, select a depth you deem most appropriate for using on future, unseen data, and justify your choice. Then, using this depth, report the classification accuracy on the **test** set. Store the training and testing accuracies in variables named `best_cv_tree_train_score` and `best_cv_tree_test_score`, respectively, which we will refer to in later questions.\n",
    "\n",
    "**1.3** What is the name of the mechanism by which limiting the tree's depth avoids over-fitting? What is one downside of limiting the tree depth? \n",
    "    \n",
    "</div>"
   ]
  },
  {
   "cell_type": "markdown",
   "metadata": {
    "button": false,
    "deletable": false,
    "editable": false,
    "new_sheet": false,
    "run_control": {
     "read_only": false
    }
   },
   "source": [
    "## Answers"
   ]
  },
  {
   "cell_type": "markdown",
   "metadata": {
    "autograde": "1.1",
    "button": false,
    "deletable": false,
    "editable": false,
    "new_sheet": false,
    "run_control": {
     "read_only": false
    }
   },
   "source": [
    "<div class='exercise-r'>  \n",
    " \n",
    "**1.1** In this problem, we will observe how both tree-depth and cross-validation affect our ability to accurately model data. Specifically, using tree depths from 1 to 20 (inclusive):\n",
    " - fit a decision tree to the **training** set\n",
    " - evaluate on the **training** set (i.e., `.score()`), while storing the scores in a variable named `train_scores`\n",
    " - using cross-validation, evaluate on the **training** set while storing the mean and +/- 2 standard deviations in variables named `cvmeans` and `cvstds`, respectively.\n",
    " \n",
    " Now that we have these informative scores, let us plot them. Specifically, for each tree-depth (x-axis) plot on the y-axis: (a) the initial, non-cross-validation training scores; and (b) a shaded region that illustrates cross-validations' estimated mean +/- 2 standard deviations. (c) set the limits on the y-axis to focus on the cross-validation performance.\n",
    " \n",
    " *Hint:* use `plt.fill_between()` to shade the region.\n",
    " \n",
    " </div>"
   ]
  },
  {
   "cell_type": "code",
   "execution_count": 416,
   "metadata": {
    "deletable": false
   },
   "outputs": [],
   "source": [
    "depths = list(range(1, 21))\n",
    "train_scores = []\n",
    "cvmeans = []\n",
    "cvstds = []\n",
    "\n",
    "def calc_meanstd(X_train, y_train, depths):\n",
    "    \n",
    "    for i in depths:\n",
    "        dtree = DecisionTreeClassifier(max_depth=i)\n",
    "        scores = cross_val_score(estimator=dtree, X=X_train, y=y_train, cv=5)\n",
    "        cvmeans.append(scores.mean())\n",
    "        cvstds.append(scores.std())\n",
    "        train_scores.append(dtree.fit(X_train,y_train).score(X_train,y_train))\n",
    "            \n",
    "    return cvmeans, cvstds, train_scores\n",
    "\n",
    "cvmeans, cvstds, train_scores= calc_meanstd(X_train, y_train, depths)"
   ]
  },
  {
   "cell_type": "code",
   "execution_count": 417,
   "metadata": {
    "deletable": false
   },
   "outputs": [
    {
     "data": {
      "image/png": "[encoded data removed]",
      "text/plain": [
       "<Figure size 432x288 with 1 Axes>"
      ]
     },
     "metadata": {},
     "output_type": "display_data"
    }
   ],
   "source": [
    "cvmeans = np.array(cvmeans)\n",
    "cvstds = np.array(cvstds)\n",
    "plt.plot(depths, cvmeans, '*-', label=\"Mean CV\")\n",
    "plt.fill_between(depths, (cvmeans - (2*cvstds)), cvmeans + 2*cvstds, alpha=0.3)\n",
    "ylim = plt.ylim()\n",
    "plt.plot(depths, train_scores, '-+', label=\"Train\")\n",
    "plt.legend()\n",
    "plt.title(\"Accuracy vs Tree Depth\")\n",
    "plt.ylabel(\"Accuracy\")\n",
    "plt.xlabel(\"Max Depth\")\n",
    "plt.xticks(depths);"
   ]
  },
  {
   "cell_type": "markdown",
   "metadata": {
    "autograde": "1.2",
    "button": false,
    "deletable": false,
    "editable": false,
    "new_sheet": false,
    "run_control": {
     "read_only": false
    }
   },
   "source": [
    "<div class='exercise-r'>  \n",
    " \n",
    "**1.2** Using the cross-validation experiments from above, select a depth you deem most appropriate for using on future, unseen data, and justify your choice. Then, using this depth, report the classification accuracy on the **test** set. Store the training and testing accuracies in variables named `best_cv_tree_train_score` and `best_cv_tree_test_score`, respectively, which we will refer to in later questions.\n",
    " \n",
    " </div>"
   ]
  },
  {
   "cell_type": "code",
   "execution_count": 418,
   "metadata": {},
   "outputs": [],
   "source": [
    "depth = 1\n",
    "dtree = DecisionTreeClassifier(max_depth=depth)\n",
    "dtree.fit(X_train,y_train)\n",
    "single_tree_train_score = dtree.score(X_train,y_train)\n",
    "single_tree_test_score = dtree.score(X_test,y_test)\n",
    "\n",
    "training_acc = []\n",
    "test_acc = []\n",
    "\n",
    "training_acc.append(single_tree_train_score)\n",
    "test_acc.append(single_tree_test_score)"
   ]
  },
  {
   "cell_type": "code",
   "execution_count": 419,
   "metadata": {
    "deletable": false
   },
   "outputs": [],
   "source": [
    "#chosen max depth = 5 -> greatest score for the mean scores of the cv sets.\n",
    "depth = 5\n",
    "dtree = DecisionTreeClassifier(max_depth=depth)\n",
    "dtree.fit(X_train,y_train)\n",
    "best_cv_tree_train_score = dtree.score(X_train,y_train)\n",
    "best_cv_tree_test_score = dtree.score(X_test,y_test)\n"
   ]
  },
  {
   "cell_type": "code",
   "execution_count": 420,
   "metadata": {
    "button": false,
    "deletable": false,
    "editable": false,
    "jupyter": {
     "outputs_hidden": false
    },
    "new_sheet": false,
    "run_control": {
     "read_only": false
    }
   },
   "outputs": [
    {
     "data": {
      "text/plain": [
       "(0.6812, 0.6482)"
      ]
     },
     "execution_count": 420,
     "metadata": {},
     "output_type": "execute_result"
    }
   ],
   "source": [
    "best_cv_tree_train_score , best_cv_tree_test_score"
   ]
  },
  {
   "cell_type": "code",
   "execution_count": 421,
   "metadata": {},
   "outputs": [
    {
     "data": {
      "text/plain": [
       "DecisionTreeClassifier(max_depth=5)"
      ]
     },
     "metadata": {},
     "output_type": "display_data"
    }
   ],
   "source": [
    "display(dtree)"
   ]
  },
  {
   "cell_type": "code",
   "execution_count": 422,
   "metadata": {
    "deletable": false
   },
   "outputs": [
    {
     "name": "stdout",
     "output_type": "stream",
     "text": [
      "train accuracy best cv:  0.6812\n",
      "test accuracy best cv:  0.6482\n"
     ]
    }
   ],
   "source": [
    "print(\"train accuracy best cv: \", best_cv_tree_train_score )\n",
    "print(\"test accuracy best cv: \",  best_cv_tree_test_score)\n",
    "\n",
    "training_acc.append(best_cv_tree_train_score)\n",
    "test_acc.append(best_cv_tree_test_score)"
   ]
  },
  {
   "cell_type": "markdown",
   "metadata": {
    "autograde": "1.3",
    "button": false,
    "deletable": false,
    "editable": false,
    "new_sheet": false,
    "run_control": {
     "read_only": false
    }
   },
   "source": [
    "<div class='exercise-r'>  \n",
    " \n",
    "**1.3** What is the name of the mechanism by which limiting the tree's depth avoids over-fitting? What is one downside of limiting the tree depth?\n",
    " \n",
    " </div>"
   ]
  },
  {
   "cell_type": "markdown",
   "metadata": {
    "deletable": false
   },
   "source": [
    "The stopping condition is the mechanism by which we limit the trees depth and avoid overfitting. The stopping condition tells us how many splits each portion of of our tree is allowed to have or number of branches. By limiting the number of branches, we create a more general model, but reduce the complexity of our model. For certain models we may want more or less branches depending on the correlations and size of the data set. \n",
    "\n",
    "Another method for doing this could be pruning. This would consist of growing the tree out long and then cutting or pruning it back to a subtree. "
   ]
  },
  {
   "cell_type": "markdown",
   "metadata": {
    "button": false,
    "deletable": false,
    "editable": false,
    "new_sheet": false,
    "run_control": {
     "read_only": false
    }
   },
   "source": [
    "### <div class='exercise'>Question 2 [25pts]: Bagging</div>\n",
    "[▲ Return to contents](#Contents)\n",
    "\n",
    "<div class='exercise'>\n",
    "Bagging is the technique of building the same model on multiple bootstrap samples from the data and combining each model's prediction to get an overall classification. In this question, we build an example by hand and study how the number of bootstrapped datasets impacts the resulting classification accuracy.\n",
    "\n",
    "\n",
    "\n",
    "**2.1** Using decision trees and the previous question's data, choose a tree depth that WILL overfit the training set. What evidence leads you to believe that this depth overfits? Assign your choice to a variable named `tree_depth`. (You may want to explore different settings for this value in the problems below.)\n",
    "\n",
    "**2.2** Create 55 bootstrapped replications of the original training data and fit a decision tree to each (using the tree depth you just chose in 2.1). Record each of the 55 trees' predictions. In particular, produce a dataset like those shown below, where each row is either a training and testing observation (depending on the partition of data at hand), and each column is one of the 55 trees. Each entry within a (row, col) is the corresponding tree's prediction for that observation.\n",
    "\n",
    "Store these results as `bagging_train_df` and `bagging_test_df`. Don't worry about visualizing these results yet.\n",
    "\n",
    "**2.3**  _Aggregate_ all 55 _bootstrapped_ models to get a combined prediction for each training and test point: predict a 1 if and only if a majority of the models predict that example to be from class 1. Assign the bagging test accuracy to a variable named `bagging_accuracy_test`. What accuracy does this *bagging* model achieve on the test set? Write an assertion that verifies that this test set accuracy is at least as good as the accuracy for the model you fit in Question 1.\n",
    "\n",
    "**2.4** We want to know how the number of bootstraps affects our bagging ensemble's performance. Use the `running_predictions()` function (given below) to get the model's accuracy score when using only $N$ of the bootstrapped models, where $N \\in [1, 2, 3, ..., 55]$. Make a plot that illustrates the accuracy on the training set and testing set, as a function of the number of bootstraps (vary $N$ from 1 to 55). \n",
    "**Use the depth from 2.1** \n",
    "\n",
    "On your plot, also include horizontal lines for two baselines:\n",
    "- the test accuracy of the best model from question 1\n",
    "- the test accuracy of a single tree with the tree depth you chose in 2.1, trained on the full training set.\n",
    "\n",
    "**2.5** Referring to your graph from 2.4, compare the performance of bagging against the baseline of a single `tree_depth` tree. Explain the differences you see.\n",
    "\n",
    "**2.6** Bagging and limiting tree depth both affect how much the model overfits. Compare and contrast these two approaches. Your answer should refer to your graph in 2.4 and may duplicate something you said in your answer to 2.5.\n",
    "\n",
    "**2.7**: In what ways might our bagging classifier be overfitting the data? In what ways might it be underfitting?\n",
    "\n",
    "**Hints**\n",
    "- Use `resample()` from `sklearn` to easily bootstrap the $x$ and $y$ data.\n",
    "- use `np.mean()` to easily test for majority. If a majority of models vote 1, what does that imply about the mean?\n",
    "    \n",
    "</div>"
   ]
  },
  {
   "cell_type": "markdown",
   "metadata": {
    "button": false,
    "deletable": false,
    "editable": false,
    "new_sheet": false,
    "run_control": {
     "read_only": false
    }
   },
   "source": [
    "## Answers"
   ]
  },
  {
   "cell_type": "markdown",
   "metadata": {
    "autograde": "2.1",
    "button": false,
    "deletable": false,
    "editable": false,
    "new_sheet": false,
    "run_control": {
     "read_only": false
    }
   },
   "source": [
    "<div class='exercise-r'>  \n",
    " \n",
    "**2.1** Using decision trees and the previous question's data, choose a tree depth that WILL overfit the training set. What evidence leads you to believe that this depth overfits? Assign your choice to a variable named `tree_depth`. (You may want to explore different settings for this value in the problems below.)\n",
    " \n",
    " </div>"
   ]
  },
  {
   "cell_type": "code",
   "execution_count": 423,
   "metadata": {
    "deletable": false
   },
   "outputs": [],
   "source": [
    "tree_depth = 18\n"
   ]
  },
  {
   "cell_type": "markdown",
   "metadata": {
    "deletable": false
   },
   "source": [
    "I know that this value will overfit from the previous graph that I developed in problem 1.2. The accuracy on the training data is 1, which is a high indicator that the data has been overfit as each data point is tailored to a to the fit line. You can also see that the mean cv accuracy for the depth of 18 has gone down significantly from the previously selected ideal depth of 5."
   ]
  },
  {
   "cell_type": "markdown",
   "metadata": {
    "autograde": "2.2",
    "button": false,
    "deletable": false,
    "editable": false,
    "new_sheet": false,
    "run_control": {
     "read_only": false
    }
   },
   "source": [
    "<div class='exercise-r'>  \n",
    " \n",
    "**2.2** Create 55 bootstrapped replications of the original training data and fit a decision tree to each (using the tree depth you just chose in 2.1). Record each of the 55 trees' predictions. In particular, produce a dataset like those shown below, where each row is either a training and testing observation (depending on the partition of data at hand), and each column is one of the 55 trees. Each entry within a (row, col) is the corresponding tree's prediction for that observation.\n",
    " \n",
    " Store these results as `bagging_train_df` and `bagging_test_df`. Don't worry about visualizing these results yet.\n",
    " \n",
    " </div>"
   ]
  },
  {
   "cell_type": "markdown",
   "metadata": {
    "button": false,
    "deletable": false,
    "editable": false,
    "new_sheet": false,
    "run_control": {
     "read_only": false
    }
   },
   "source": [
    "**Structure of `bagging_train_df` and `bagging_test_df`:**\n",
    "\n",
    "`bagging_train`:\n",
    "\n",
    "|     |bootstrap model 1's prediction|bootstrap model 2's prediction|...|bootstrap model 55's prediction|  \n",
    "| --- | --- | --- | --- | --- |\n",
    "|training row 1| binary value | binary value|... |binary value|\n",
    "|training row 2| binary value| binary value|... |binary value|\n",
    "|...| ...| ...|... |... |\n",
    "\n",
    "`bagging_test`:\n",
    "\n",
    "|     |bootstrap model 1's prediction|bootstrap model 2's prediction|...|bootstrap model 55's prediction|\n",
    "| --- | --- | --- | --- | --- |\n",
    "|test row 1| binary value | binary value|... |binary value|\n",
    "|test row 2| binary value| binary value|... |binary value|\n",
    "|...| ...| ...|... |... |\n"
   ]
  },
  {
   "cell_type": "code",
   "execution_count": 424,
   "metadata": {},
   "outputs": [
    {
     "data": {
      "text/plain": [
       "'A function that takes as \\n    \\nInputs:\\n  n_tres\\n  tree_depth \\n  a random_seed (default =0)\\n\\nReturns:\\n  bagging_train dataframe (as described above)\\n  bagging_test dataframe (as described above)\\n  bagging_models every trained model for each bootstrap (you will need this in Q3.2)\\n'"
      ]
     },
     "execution_count": 424,
     "metadata": {},
     "output_type": "execute_result"
    }
   ],
   "source": [
    "    \"\"\"A function that takes as \n",
    "        \n",
    "    Inputs:\n",
    "      n_tres\n",
    "      tree_depth \n",
    "      a random_seed (default =0)\n",
    "    \n",
    "    Returns:\n",
    "      bagging_train dataframe (as described above)\n",
    "      bagging_test dataframe (as described above)\n",
    "      bagging_models every trained model for each bootstrap (you will need this in Q3.2)\n",
    "    \"\"\""
   ]
  },
  {
   "cell_type": "code",
   "execution_count": 425,
   "metadata": {},
   "outputs": [
    {
     "data": {
      "text/plain": [
       "\"bootstrap model 1's prediction\""
      ]
     },
     "execution_count": 425,
     "metadata": {},
     "output_type": "execute_result"
    }
   ],
   "source": [
    "bagging_models = []\n",
    "num_bootstraps = 55\n",
    "indexes_train = [\"training row \"+str(i+1) for i in range(len(X_train))]\n",
    "col = [\"bootstrap model \"+str(i+1) + \"'s prediction\" for i in range(num_bootstraps)]\n",
    "bagging_train = pd.DataFrame(columns = col, index = indexes_train)\n",
    "bagging_train\n",
    "col[0]"
   ]
  },
  {
   "cell_type": "code",
   "execution_count": 426,
   "metadata": {
    "deletable": false
   },
   "outputs": [],
   "source": [
    "def bagger(n_trees: int, tree_depth: int,  random_seed=0) -> (pd.DataFrame, pd.DataFrame, list):\n",
    "    #create df list and col names'\n",
    "    num_bootstraps = 55\n",
    "    indexes_train = [\"training row \"+str(i+1) for i in range(len(X_train))]\n",
    "    indexes_test = [\"testing row \"+str(i+1) for i in range(len(X_test))]\n",
    "    predictions = []\n",
    "    predictions_train =[]\n",
    "    #create dataframes\n",
    "    bagging_train = pd.DataFrame(columns = col, index = indexes_train)\n",
    "    bagging_test = pd.DataFrame(columns = col, index = indexes_test)\n",
    "    bagging_models = []\n",
    "    #bagging_models = pd.DataFrame(columns = cols)\n",
    "    dt_model = DecisionTreeClassifier(max_depth = tree_depth, random_state = 44)\n",
    "\n",
    "    for i in range(num_bootstraps):\n",
    "        #bootstrap\n",
    "        resample_indexes = np.random.choice(np.arange(y_train.shape[0]), size=y_train.shape[0])\n",
    "        X_boot = X_train[resample_indexes]\n",
    "        y_boot = y_train[resample_indexes]\n",
    "        \n",
    "        #create, fit, and predict on model\n",
    "        dt_model.fit(X_boot,y_boot)\n",
    "        pred_train = dt_model.predict(X_train)\n",
    "        pred_test = dt_model.predict(X_test)\n",
    "        \n",
    "        #append to dfs from the y_pred results\n",
    "        #col = [\"bootstrap model \"+str(i+1) +\"'s prediction\"]\n",
    "      \n",
    "        bagging_train[col[i]] = pred_train\n",
    "        bagging_test[col[i]] = pred_test\n",
    "        bagging_models.append(dt_model.tree_.feature[0])\n",
    "        predictions.append(pred_test)\n",
    "        predictions_train.append(pred_train)\n",
    "\n",
    "    bagging_accuracy_train = (np.mean(np.array(predictions_train), axis = 0) > 0.5)*np.ones(len(predictions_train[0]))\n",
    "    bagging_accuracy_test = (np.mean(np.array(predictions), axis = 0) > 0.5)*np.ones(len(predictions[0]))\n",
    "\n",
    "    return bagging_train, bagging_test, bagging_models, bagging_accuracy_test, bagging_accuracy_train, predictions, dt_model"
   ]
  },
  {
   "cell_type": "code",
   "execution_count": 427,
   "metadata": {
    "deletable": false
   },
   "outputs": [],
   "source": [
    "# your code here\n",
    "\n",
    "bagging_train, bagging_test, bagging_models, bagging_accuracy_test, bagging_accuracy_train,  predictions, dt_model = bagger(55,tree_depth)\n"
   ]
  },
  {
   "cell_type": "code",
   "execution_count": 428,
   "metadata": {},
   "outputs": [
    {
     "data": {
      "text/html": [
       "<div>\n",
       "<style scoped>\n",
       "    .dataframe tbody tr th:only-of-type {\n",
       "        vertical-align: middle;\n",
       "    }\n",
       "\n",
       "    .dataframe tbody tr th {\n",
       "        vertical-align: top;\n",
       "    }\n",
       "\n",
       "    .dataframe thead th {\n",
       "        text-align: right;\n",
       "    }\n",
       "</style>\n",
       "<table border=\"1\" class=\"dataframe\">\n",
       "  <thead>\n",
       "    <tr style=\"text-align: right;\">\n",
       "      <th></th>\n",
       "      <th>bootstrap model 1's prediction</th>\n",
       "      <th>bootstrap model 2's prediction</th>\n",
       "      <th>bootstrap model 3's prediction</th>\n",
       "      <th>bootstrap model 4's prediction</th>\n",
       "      <th>bootstrap model 5's prediction</th>\n",
       "      <th>bootstrap model 6's prediction</th>\n",
       "      <th>bootstrap model 7's prediction</th>\n",
       "      <th>bootstrap model 8's prediction</th>\n",
       "      <th>bootstrap model 9's prediction</th>\n",
       "      <th>bootstrap model 10's prediction</th>\n",
       "      <th>bootstrap model 11's prediction</th>\n",
       "      <th>bootstrap model 12's prediction</th>\n",
       "      <th>bootstrap model 13's prediction</th>\n",
       "      <th>bootstrap model 14's prediction</th>\n",
       "      <th>bootstrap model 15's prediction</th>\n",
       "      <th>bootstrap model 16's prediction</th>\n",
       "      <th>bootstrap model 17's prediction</th>\n",
       "      <th>bootstrap model 18's prediction</th>\n",
       "      <th>bootstrap model 19's prediction</th>\n",
       "      <th>bootstrap model 20's prediction</th>\n",
       "      <th>bootstrap model 21's prediction</th>\n",
       "      <th>bootstrap model 22's prediction</th>\n",
       "      <th>bootstrap model 23's prediction</th>\n",
       "      <th>bootstrap model 24's prediction</th>\n",
       "      <th>bootstrap model 25's prediction</th>\n",
       "      <th>bootstrap model 26's prediction</th>\n",
       "      <th>bootstrap model 27's prediction</th>\n",
       "      <th>bootstrap model 28's prediction</th>\n",
       "      <th>bootstrap model 29's prediction</th>\n",
       "      <th>bootstrap model 30's prediction</th>\n",
       "      <th>bootstrap model 31's prediction</th>\n",
       "      <th>bootstrap model 32's prediction</th>\n",
       "      <th>bootstrap model 33's prediction</th>\n",
       "      <th>bootstrap model 34's prediction</th>\n",
       "      <th>bootstrap model 35's prediction</th>\n",
       "      <th>bootstrap model 36's prediction</th>\n",
       "      <th>bootstrap model 37's prediction</th>\n",
       "      <th>bootstrap model 38's prediction</th>\n",
       "      <th>bootstrap model 39's prediction</th>\n",
       "      <th>bootstrap model 40's prediction</th>\n",
       "      <th>bootstrap model 41's prediction</th>\n",
       "      <th>bootstrap model 42's prediction</th>\n",
       "      <th>bootstrap model 43's prediction</th>\n",
       "      <th>bootstrap model 44's prediction</th>\n",
       "      <th>bootstrap model 45's prediction</th>\n",
       "      <th>bootstrap model 46's prediction</th>\n",
       "      <th>bootstrap model 47's prediction</th>\n",
       "      <th>bootstrap model 48's prediction</th>\n",
       "      <th>bootstrap model 49's prediction</th>\n",
       "      <th>bootstrap model 50's prediction</th>\n",
       "      <th>bootstrap model 51's prediction</th>\n",
       "      <th>bootstrap model 52's prediction</th>\n",
       "      <th>bootstrap model 53's prediction</th>\n",
       "      <th>bootstrap model 54's prediction</th>\n",
       "      <th>bootstrap model 55's prediction</th>\n",
       "    </tr>\n",
       "  </thead>\n",
       "  <tbody>\n",
       "    <tr>\n",
       "      <th>training row 1</th>\n",
       "      <td>0.0</td>\n",
       "      <td>1.0</td>\n",
       "      <td>1.0</td>\n",
       "      <td>1.0</td>\n",
       "      <td>1.0</td>\n",
       "      <td>1.0</td>\n",
       "      <td>1.0</td>\n",
       "      <td>0.0</td>\n",
       "      <td>1.0</td>\n",
       "      <td>1.0</td>\n",
       "      <td>1.0</td>\n",
       "      <td>1.0</td>\n",
       "      <td>0.0</td>\n",
       "      <td>1.0</td>\n",
       "      <td>1.0</td>\n",
       "      <td>1.0</td>\n",
       "      <td>1.0</td>\n",
       "      <td>0.0</td>\n",
       "      <td>1.0</td>\n",
       "      <td>1.0</td>\n",
       "      <td>1.0</td>\n",
       "      <td>1.0</td>\n",
       "      <td>1.0</td>\n",
       "      <td>1.0</td>\n",
       "      <td>1.0</td>\n",
       "      <td>1.0</td>\n",
       "      <td>1.0</td>\n",
       "      <td>1.0</td>\n",
       "      <td>1.0</td>\n",
       "      <td>1.0</td>\n",
       "      <td>1.0</td>\n",
       "      <td>1.0</td>\n",
       "      <td>1.0</td>\n",
       "      <td>1.0</td>\n",
       "      <td>0.0</td>\n",
       "      <td>1.0</td>\n",
       "      <td>0.0</td>\n",
       "      <td>0.0</td>\n",
       "      <td>1.0</td>\n",
       "      <td>0.0</td>\n",
       "      <td>1.0</td>\n",
       "      <td>1.0</td>\n",
       "      <td>1.0</td>\n",
       "      <td>1.0</td>\n",
       "      <td>1.0</td>\n",
       "      <td>1.0</td>\n",
       "      <td>0.0</td>\n",
       "      <td>1.0</td>\n",
       "      <td>0.0</td>\n",
       "      <td>1.0</td>\n",
       "      <td>1.0</td>\n",
       "      <td>1.0</td>\n",
       "      <td>1.0</td>\n",
       "      <td>1.0</td>\n",
       "      <td>1.0</td>\n",
       "    </tr>\n",
       "    <tr>\n",
       "      <th>training row 2</th>\n",
       "      <td>1.0</td>\n",
       "      <td>1.0</td>\n",
       "      <td>1.0</td>\n",
       "      <td>0.0</td>\n",
       "      <td>0.0</td>\n",
       "      <td>0.0</td>\n",
       "      <td>1.0</td>\n",
       "      <td>0.0</td>\n",
       "      <td>0.0</td>\n",
       "      <td>1.0</td>\n",
       "      <td>1.0</td>\n",
       "      <td>1.0</td>\n",
       "      <td>1.0</td>\n",
       "      <td>1.0</td>\n",
       "      <td>1.0</td>\n",
       "      <td>1.0</td>\n",
       "      <td>0.0</td>\n",
       "      <td>1.0</td>\n",
       "      <td>1.0</td>\n",
       "      <td>1.0</td>\n",
       "      <td>1.0</td>\n",
       "      <td>0.0</td>\n",
       "      <td>1.0</td>\n",
       "      <td>0.0</td>\n",
       "      <td>1.0</td>\n",
       "      <td>0.0</td>\n",
       "      <td>1.0</td>\n",
       "      <td>1.0</td>\n",
       "      <td>1.0</td>\n",
       "      <td>1.0</td>\n",
       "      <td>0.0</td>\n",
       "      <td>1.0</td>\n",
       "      <td>1.0</td>\n",
       "      <td>1.0</td>\n",
       "      <td>1.0</td>\n",
       "      <td>1.0</td>\n",
       "      <td>1.0</td>\n",
       "      <td>1.0</td>\n",
       "      <td>0.0</td>\n",
       "      <td>1.0</td>\n",
       "      <td>1.0</td>\n",
       "      <td>1.0</td>\n",
       "      <td>1.0</td>\n",
       "      <td>1.0</td>\n",
       "      <td>0.0</td>\n",
       "      <td>1.0</td>\n",
       "      <td>1.0</td>\n",
       "      <td>1.0</td>\n",
       "      <td>1.0</td>\n",
       "      <td>1.0</td>\n",
       "      <td>1.0</td>\n",
       "      <td>1.0</td>\n",
       "      <td>1.0</td>\n",
       "      <td>1.0</td>\n",
       "      <td>0.0</td>\n",
       "    </tr>\n",
       "    <tr>\n",
       "      <th>training row 3</th>\n",
       "      <td>0.0</td>\n",
       "      <td>1.0</td>\n",
       "      <td>0.0</td>\n",
       "      <td>1.0</td>\n",
       "      <td>1.0</td>\n",
       "      <td>0.0</td>\n",
       "      <td>1.0</td>\n",
       "      <td>0.0</td>\n",
       "      <td>1.0</td>\n",
       "      <td>1.0</td>\n",
       "      <td>1.0</td>\n",
       "      <td>1.0</td>\n",
       "      <td>1.0</td>\n",
       "      <td>1.0</td>\n",
       "      <td>0.0</td>\n",
       "      <td>1.0</td>\n",
       "      <td>1.0</td>\n",
       "      <td>1.0</td>\n",
       "      <td>0.0</td>\n",
       "      <td>1.0</td>\n",
       "      <td>1.0</td>\n",
       "      <td>1.0</td>\n",
       "      <td>0.0</td>\n",
       "      <td>1.0</td>\n",
       "      <td>0.0</td>\n",
       "      <td>1.0</td>\n",
       "      <td>1.0</td>\n",
       "      <td>1.0</td>\n",
       "      <td>1.0</td>\n",
       "      <td>1.0</td>\n",
       "      <td>1.0</td>\n",
       "      <td>1.0</td>\n",
       "      <td>1.0</td>\n",
       "      <td>1.0</td>\n",
       "      <td>0.0</td>\n",
       "      <td>1.0</td>\n",
       "      <td>1.0</td>\n",
       "      <td>1.0</td>\n",
       "      <td>1.0</td>\n",
       "      <td>0.0</td>\n",
       "      <td>1.0</td>\n",
       "      <td>1.0</td>\n",
       "      <td>1.0</td>\n",
       "      <td>1.0</td>\n",
       "      <td>1.0</td>\n",
       "      <td>1.0</td>\n",
       "      <td>0.0</td>\n",
       "      <td>1.0</td>\n",
       "      <td>1.0</td>\n",
       "      <td>1.0</td>\n",
       "      <td>1.0</td>\n",
       "      <td>1.0</td>\n",
       "      <td>1.0</td>\n",
       "      <td>1.0</td>\n",
       "      <td>1.0</td>\n",
       "    </tr>\n",
       "    <tr>\n",
       "      <th>training row 4</th>\n",
       "      <td>1.0</td>\n",
       "      <td>1.0</td>\n",
       "      <td>0.0</td>\n",
       "      <td>1.0</td>\n",
       "      <td>1.0</td>\n",
       "      <td>0.0</td>\n",
       "      <td>1.0</td>\n",
       "      <td>1.0</td>\n",
       "      <td>1.0</td>\n",
       "      <td>1.0</td>\n",
       "      <td>1.0</td>\n",
       "      <td>1.0</td>\n",
       "      <td>0.0</td>\n",
       "      <td>1.0</td>\n",
       "      <td>1.0</td>\n",
       "      <td>1.0</td>\n",
       "      <td>0.0</td>\n",
       "      <td>1.0</td>\n",
       "      <td>0.0</td>\n",
       "      <td>1.0</td>\n",
       "      <td>1.0</td>\n",
       "      <td>1.0</td>\n",
       "      <td>1.0</td>\n",
       "      <td>1.0</td>\n",
       "      <td>1.0</td>\n",
       "      <td>1.0</td>\n",
       "      <td>1.0</td>\n",
       "      <td>1.0</td>\n",
       "      <td>1.0</td>\n",
       "      <td>0.0</td>\n",
       "      <td>1.0</td>\n",
       "      <td>1.0</td>\n",
       "      <td>1.0</td>\n",
       "      <td>1.0</td>\n",
       "      <td>1.0</td>\n",
       "      <td>1.0</td>\n",
       "      <td>1.0</td>\n",
       "      <td>0.0</td>\n",
       "      <td>1.0</td>\n",
       "      <td>0.0</td>\n",
       "      <td>1.0</td>\n",
       "      <td>1.0</td>\n",
       "      <td>1.0</td>\n",
       "      <td>0.0</td>\n",
       "      <td>1.0</td>\n",
       "      <td>0.0</td>\n",
       "      <td>0.0</td>\n",
       "      <td>1.0</td>\n",
       "      <td>1.0</td>\n",
       "      <td>1.0</td>\n",
       "      <td>0.0</td>\n",
       "      <td>1.0</td>\n",
       "      <td>1.0</td>\n",
       "      <td>1.0</td>\n",
       "      <td>1.0</td>\n",
       "    </tr>\n",
       "    <tr>\n",
       "      <th>training row 5</th>\n",
       "      <td>0.0</td>\n",
       "      <td>1.0</td>\n",
       "      <td>0.0</td>\n",
       "      <td>0.0</td>\n",
       "      <td>0.0</td>\n",
       "      <td>1.0</td>\n",
       "      <td>0.0</td>\n",
       "      <td>0.0</td>\n",
       "      <td>0.0</td>\n",
       "      <td>0.0</td>\n",
       "      <td>1.0</td>\n",
       "      <td>0.0</td>\n",
       "      <td>0.0</td>\n",
       "      <td>0.0</td>\n",
       "      <td>0.0</td>\n",
       "      <td>0.0</td>\n",
       "      <td>1.0</td>\n",
       "      <td>1.0</td>\n",
       "      <td>1.0</td>\n",
       "      <td>1.0</td>\n",
       "      <td>0.0</td>\n",
       "      <td>0.0</td>\n",
       "      <td>0.0</td>\n",
       "      <td>0.0</td>\n",
       "      <td>0.0</td>\n",
       "      <td>1.0</td>\n",
       "      <td>0.0</td>\n",
       "      <td>0.0</td>\n",
       "      <td>1.0</td>\n",
       "      <td>0.0</td>\n",
       "      <td>1.0</td>\n",
       "      <td>0.0</td>\n",
       "      <td>0.0</td>\n",
       "      <td>0.0</td>\n",
       "      <td>1.0</td>\n",
       "      <td>1.0</td>\n",
       "      <td>0.0</td>\n",
       "      <td>0.0</td>\n",
       "      <td>0.0</td>\n",
       "      <td>0.0</td>\n",
       "      <td>0.0</td>\n",
       "      <td>0.0</td>\n",
       "      <td>0.0</td>\n",
       "      <td>0.0</td>\n",
       "      <td>0.0</td>\n",
       "      <td>0.0</td>\n",
       "      <td>0.0</td>\n",
       "      <td>0.0</td>\n",
       "      <td>0.0</td>\n",
       "      <td>0.0</td>\n",
       "      <td>0.0</td>\n",
       "      <td>0.0</td>\n",
       "      <td>0.0</td>\n",
       "      <td>1.0</td>\n",
       "      <td>0.0</td>\n",
       "    </tr>\n",
       "    <tr>\n",
       "      <th>...</th>\n",
       "      <td>...</td>\n",
       "      <td>...</td>\n",
       "      <td>...</td>\n",
       "      <td>...</td>\n",
       "      <td>...</td>\n",
       "      <td>...</td>\n",
       "      <td>...</td>\n",
       "      <td>...</td>\n",
       "      <td>...</td>\n",
       "      <td>...</td>\n",
       "      <td>...</td>\n",
       "      <td>...</td>\n",
       "      <td>...</td>\n",
       "      <td>...</td>\n",
       "      <td>...</td>\n",
       "      <td>...</td>\n",
       "      <td>...</td>\n",
       "      <td>...</td>\n",
       "      <td>...</td>\n",
       "      <td>...</td>\n",
       "      <td>...</td>\n",
       "      <td>...</td>\n",
       "      <td>...</td>\n",
       "      <td>...</td>\n",
       "      <td>...</td>\n",
       "      <td>...</td>\n",
       "      <td>...</td>\n",
       "      <td>...</td>\n",
       "      <td>...</td>\n",
       "      <td>...</td>\n",
       "      <td>...</td>\n",
       "      <td>...</td>\n",
       "      <td>...</td>\n",
       "      <td>...</td>\n",
       "      <td>...</td>\n",
       "      <td>...</td>\n",
       "      <td>...</td>\n",
       "      <td>...</td>\n",
       "      <td>...</td>\n",
       "      <td>...</td>\n",
       "      <td>...</td>\n",
       "      <td>...</td>\n",
       "      <td>...</td>\n",
       "      <td>...</td>\n",
       "      <td>...</td>\n",
       "      <td>...</td>\n",
       "      <td>...</td>\n",
       "      <td>...</td>\n",
       "      <td>...</td>\n",
       "      <td>...</td>\n",
       "      <td>...</td>\n",
       "      <td>...</td>\n",
       "      <td>...</td>\n",
       "      <td>...</td>\n",
       "      <td>...</td>\n",
       "    </tr>\n",
       "    <tr>\n",
       "      <th>training row 4996</th>\n",
       "      <td>1.0</td>\n",
       "      <td>1.0</td>\n",
       "      <td>1.0</td>\n",
       "      <td>0.0</td>\n",
       "      <td>1.0</td>\n",
       "      <td>1.0</td>\n",
       "      <td>0.0</td>\n",
       "      <td>1.0</td>\n",
       "      <td>1.0</td>\n",
       "      <td>1.0</td>\n",
       "      <td>1.0</td>\n",
       "      <td>1.0</td>\n",
       "      <td>1.0</td>\n",
       "      <td>0.0</td>\n",
       "      <td>1.0</td>\n",
       "      <td>1.0</td>\n",
       "      <td>1.0</td>\n",
       "      <td>1.0</td>\n",
       "      <td>1.0</td>\n",
       "      <td>1.0</td>\n",
       "      <td>1.0</td>\n",
       "      <td>1.0</td>\n",
       "      <td>1.0</td>\n",
       "      <td>1.0</td>\n",
       "      <td>1.0</td>\n",
       "      <td>1.0</td>\n",
       "      <td>1.0</td>\n",
       "      <td>1.0</td>\n",
       "      <td>1.0</td>\n",
       "      <td>1.0</td>\n",
       "      <td>1.0</td>\n",
       "      <td>1.0</td>\n",
       "      <td>1.0</td>\n",
       "      <td>1.0</td>\n",
       "      <td>1.0</td>\n",
       "      <td>1.0</td>\n",
       "      <td>1.0</td>\n",
       "      <td>1.0</td>\n",
       "      <td>1.0</td>\n",
       "      <td>1.0</td>\n",
       "      <td>1.0</td>\n",
       "      <td>1.0</td>\n",
       "      <td>1.0</td>\n",
       "      <td>1.0</td>\n",
       "      <td>1.0</td>\n",
       "      <td>1.0</td>\n",
       "      <td>1.0</td>\n",
       "      <td>1.0</td>\n",
       "      <td>0.0</td>\n",
       "      <td>1.0</td>\n",
       "      <td>1.0</td>\n",
       "      <td>1.0</td>\n",
       "      <td>1.0</td>\n",
       "      <td>1.0</td>\n",
       "      <td>1.0</td>\n",
       "    </tr>\n",
       "    <tr>\n",
       "      <th>training row 4997</th>\n",
       "      <td>1.0</td>\n",
       "      <td>1.0</td>\n",
       "      <td>1.0</td>\n",
       "      <td>1.0</td>\n",
       "      <td>1.0</td>\n",
       "      <td>0.0</td>\n",
       "      <td>1.0</td>\n",
       "      <td>1.0</td>\n",
       "      <td>1.0</td>\n",
       "      <td>1.0</td>\n",
       "      <td>1.0</td>\n",
       "      <td>1.0</td>\n",
       "      <td>0.0</td>\n",
       "      <td>1.0</td>\n",
       "      <td>1.0</td>\n",
       "      <td>1.0</td>\n",
       "      <td>1.0</td>\n",
       "      <td>1.0</td>\n",
       "      <td>1.0</td>\n",
       "      <td>1.0</td>\n",
       "      <td>1.0</td>\n",
       "      <td>1.0</td>\n",
       "      <td>1.0</td>\n",
       "      <td>1.0</td>\n",
       "      <td>1.0</td>\n",
       "      <td>1.0</td>\n",
       "      <td>1.0</td>\n",
       "      <td>1.0</td>\n",
       "      <td>1.0</td>\n",
       "      <td>0.0</td>\n",
       "      <td>1.0</td>\n",
       "      <td>1.0</td>\n",
       "      <td>1.0</td>\n",
       "      <td>1.0</td>\n",
       "      <td>1.0</td>\n",
       "      <td>1.0</td>\n",
       "      <td>1.0</td>\n",
       "      <td>1.0</td>\n",
       "      <td>1.0</td>\n",
       "      <td>1.0</td>\n",
       "      <td>0.0</td>\n",
       "      <td>1.0</td>\n",
       "      <td>1.0</td>\n",
       "      <td>1.0</td>\n",
       "      <td>1.0</td>\n",
       "      <td>1.0</td>\n",
       "      <td>1.0</td>\n",
       "      <td>0.0</td>\n",
       "      <td>1.0</td>\n",
       "      <td>1.0</td>\n",
       "      <td>1.0</td>\n",
       "      <td>0.0</td>\n",
       "      <td>1.0</td>\n",
       "      <td>1.0</td>\n",
       "      <td>1.0</td>\n",
       "    </tr>\n",
       "    <tr>\n",
       "      <th>training row 4998</th>\n",
       "      <td>1.0</td>\n",
       "      <td>1.0</td>\n",
       "      <td>1.0</td>\n",
       "      <td>1.0</td>\n",
       "      <td>1.0</td>\n",
       "      <td>1.0</td>\n",
       "      <td>1.0</td>\n",
       "      <td>1.0</td>\n",
       "      <td>1.0</td>\n",
       "      <td>1.0</td>\n",
       "      <td>1.0</td>\n",
       "      <td>1.0</td>\n",
       "      <td>1.0</td>\n",
       "      <td>1.0</td>\n",
       "      <td>1.0</td>\n",
       "      <td>0.0</td>\n",
       "      <td>1.0</td>\n",
       "      <td>1.0</td>\n",
       "      <td>1.0</td>\n",
       "      <td>0.0</td>\n",
       "      <td>1.0</td>\n",
       "      <td>0.0</td>\n",
       "      <td>1.0</td>\n",
       "      <td>1.0</td>\n",
       "      <td>1.0</td>\n",
       "      <td>1.0</td>\n",
       "      <td>1.0</td>\n",
       "      <td>1.0</td>\n",
       "      <td>0.0</td>\n",
       "      <td>1.0</td>\n",
       "      <td>1.0</td>\n",
       "      <td>1.0</td>\n",
       "      <td>1.0</td>\n",
       "      <td>1.0</td>\n",
       "      <td>1.0</td>\n",
       "      <td>1.0</td>\n",
       "      <td>1.0</td>\n",
       "      <td>0.0</td>\n",
       "      <td>1.0</td>\n",
       "      <td>1.0</td>\n",
       "      <td>1.0</td>\n",
       "      <td>1.0</td>\n",
       "      <td>1.0</td>\n",
       "      <td>1.0</td>\n",
       "      <td>1.0</td>\n",
       "      <td>1.0</td>\n",
       "      <td>0.0</td>\n",
       "      <td>1.0</td>\n",
       "      <td>1.0</td>\n",
       "      <td>1.0</td>\n",
       "      <td>1.0</td>\n",
       "      <td>1.0</td>\n",
       "      <td>1.0</td>\n",
       "      <td>1.0</td>\n",
       "      <td>0.0</td>\n",
       "    </tr>\n",
       "    <tr>\n",
       "      <th>training row 4999</th>\n",
       "      <td>1.0</td>\n",
       "      <td>1.0</td>\n",
       "      <td>1.0</td>\n",
       "      <td>1.0</td>\n",
       "      <td>0.0</td>\n",
       "      <td>1.0</td>\n",
       "      <td>1.0</td>\n",
       "      <td>1.0</td>\n",
       "      <td>1.0</td>\n",
       "      <td>1.0</td>\n",
       "      <td>0.0</td>\n",
       "      <td>1.0</td>\n",
       "      <td>1.0</td>\n",
       "      <td>1.0</td>\n",
       "      <td>1.0</td>\n",
       "      <td>1.0</td>\n",
       "      <td>0.0</td>\n",
       "      <td>1.0</td>\n",
       "      <td>1.0</td>\n",
       "      <td>1.0</td>\n",
       "      <td>1.0</td>\n",
       "      <td>1.0</td>\n",
       "      <td>1.0</td>\n",
       "      <td>1.0</td>\n",
       "      <td>1.0</td>\n",
       "      <td>0.0</td>\n",
       "      <td>1.0</td>\n",
       "      <td>1.0</td>\n",
       "      <td>1.0</td>\n",
       "      <td>1.0</td>\n",
       "      <td>1.0</td>\n",
       "      <td>1.0</td>\n",
       "      <td>1.0</td>\n",
       "      <td>1.0</td>\n",
       "      <td>0.0</td>\n",
       "      <td>1.0</td>\n",
       "      <td>1.0</td>\n",
       "      <td>0.0</td>\n",
       "      <td>0.0</td>\n",
       "      <td>1.0</td>\n",
       "      <td>1.0</td>\n",
       "      <td>0.0</td>\n",
       "      <td>1.0</td>\n",
       "      <td>1.0</td>\n",
       "      <td>1.0</td>\n",
       "      <td>1.0</td>\n",
       "      <td>1.0</td>\n",
       "      <td>1.0</td>\n",
       "      <td>1.0</td>\n",
       "      <td>1.0</td>\n",
       "      <td>1.0</td>\n",
       "      <td>1.0</td>\n",
       "      <td>1.0</td>\n",
       "      <td>1.0</td>\n",
       "      <td>1.0</td>\n",
       "    </tr>\n",
       "    <tr>\n",
       "      <th>training row 5000</th>\n",
       "      <td>1.0</td>\n",
       "      <td>1.0</td>\n",
       "      <td>1.0</td>\n",
       "      <td>1.0</td>\n",
       "      <td>1.0</td>\n",
       "      <td>1.0</td>\n",
       "      <td>1.0</td>\n",
       "      <td>1.0</td>\n",
       "      <td>0.0</td>\n",
       "      <td>1.0</td>\n",
       "      <td>1.0</td>\n",
       "      <td>1.0</td>\n",
       "      <td>1.0</td>\n",
       "      <td>0.0</td>\n",
       "      <td>1.0</td>\n",
       "      <td>1.0</td>\n",
       "      <td>1.0</td>\n",
       "      <td>1.0</td>\n",
       "      <td>1.0</td>\n",
       "      <td>1.0</td>\n",
       "      <td>1.0</td>\n",
       "      <td>1.0</td>\n",
       "      <td>1.0</td>\n",
       "      <td>1.0</td>\n",
       "      <td>1.0</td>\n",
       "      <td>1.0</td>\n",
       "      <td>1.0</td>\n",
       "      <td>1.0</td>\n",
       "      <td>1.0</td>\n",
       "      <td>1.0</td>\n",
       "      <td>1.0</td>\n",
       "      <td>1.0</td>\n",
       "      <td>1.0</td>\n",
       "      <td>1.0</td>\n",
       "      <td>0.0</td>\n",
       "      <td>1.0</td>\n",
       "      <td>1.0</td>\n",
       "      <td>1.0</td>\n",
       "      <td>1.0</td>\n",
       "      <td>1.0</td>\n",
       "      <td>1.0</td>\n",
       "      <td>0.0</td>\n",
       "      <td>1.0</td>\n",
       "      <td>1.0</td>\n",
       "      <td>1.0</td>\n",
       "      <td>1.0</td>\n",
       "      <td>1.0</td>\n",
       "      <td>1.0</td>\n",
       "      <td>1.0</td>\n",
       "      <td>1.0</td>\n",
       "      <td>1.0</td>\n",
       "      <td>1.0</td>\n",
       "      <td>1.0</td>\n",
       "      <td>1.0</td>\n",
       "      <td>1.0</td>\n",
       "    </tr>\n",
       "  </tbody>\n",
       "</table>\n",
       "<p>5000 rows × 55 columns</p>\n",
       "</div>"
      ],
      "text/plain": [
       "                   bootstrap model 1's prediction  bootstrap model 2's prediction  bootstrap model 3's prediction  bootstrap model 4's prediction  bootstrap model 5's prediction  bootstrap model 6's prediction  bootstrap model 7's prediction  bootstrap model 8's prediction  bootstrap model 9's prediction  bootstrap model 10's prediction  bootstrap model 11's prediction  bootstrap model 12's prediction  bootstrap model 13's prediction  bootstrap model 14's prediction  bootstrap model 15's prediction  bootstrap model 16's prediction  bootstrap model 17's prediction  bootstrap model 18's prediction  bootstrap model 19's prediction  bootstrap model 20's prediction  bootstrap model 21's prediction  bootstrap model 22's prediction  bootstrap model 23's prediction  bootstrap model 24's prediction  bootstrap model 25's prediction  bootstrap model 26's prediction  bootstrap model 27's prediction  bootstrap model 28's prediction  bootstrap model 29's prediction  bootstrap model 30's prediction  bootstrap model 31's prediction  bootstrap model 32's prediction  bootstrap model 33's prediction  bootstrap model 34's prediction  bootstrap model 35's prediction  bootstrap model 36's prediction  bootstrap model 37's prediction  bootstrap model 38's prediction  bootstrap model 39's prediction  bootstrap model 40's prediction  bootstrap model 41's prediction  bootstrap model 42's prediction  bootstrap model 43's prediction  bootstrap model 44's prediction  bootstrap model 45's prediction  \\\n",
       "training row 1                                0.0                             1.0                             1.0                             1.0                             1.0                             1.0                             1.0                             0.0                             1.0                              1.0                              1.0                              1.0                              0.0                              1.0                              1.0                              1.0                              1.0                              0.0                              1.0                              1.0                              1.0                              1.0                              1.0                              1.0                              1.0                              1.0                              1.0                              1.0                              1.0                              1.0                              1.0                              1.0                              1.0                              1.0                              0.0                              1.0                              0.0                              0.0                              1.0                              0.0                              1.0                              1.0                              1.0                              1.0                              1.0   \n",
       "training row 2                                1.0                             1.0                             1.0                             0.0                             0.0                             0.0                             1.0                             0.0                             0.0                              1.0                              1.0                              1.0                              1.0                              1.0                              1.0                              1.0                              0.0                              1.0                              1.0                              1.0                              1.0                              0.0                              1.0                              0.0                              1.0                              0.0                              1.0                              1.0                              1.0                              1.0                              0.0                              1.0                              1.0                              1.0                              1.0                              1.0                              1.0                              1.0                              0.0                              1.0                              1.0                              1.0                              1.0                              1.0                              0.0   \n",
       "training row 3                                0.0                             1.0                             0.0                             1.0                             1.0                             0.0                             1.0                             0.0                             1.0                              1.0                              1.0                              1.0                              1.0                              1.0                              0.0                              1.0                              1.0                              1.0                              0.0                              1.0                              1.0                              1.0                              0.0                              1.0                              0.0                              1.0                              1.0                              1.0                              1.0                              1.0                              1.0                              1.0                              1.0                              1.0                              0.0                              1.0                              1.0                              1.0                              1.0                              0.0                              1.0                              1.0                              1.0                              1.0                              1.0   \n",
       "training row 4                                1.0                             1.0                             0.0                             1.0                             1.0                             0.0                             1.0                             1.0                             1.0                              1.0                              1.0                              1.0                              0.0                              1.0                              1.0                              1.0                              0.0                              1.0                              0.0                              1.0                              1.0                              1.0                              1.0                              1.0                              1.0                              1.0                              1.0                              1.0                              1.0                              0.0                              1.0                              1.0                              1.0                              1.0                              1.0                              1.0                              1.0                              0.0                              1.0                              0.0                              1.0                              1.0                              1.0                              0.0                              1.0   \n",
       "training row 5                                0.0                             1.0                             0.0                             0.0                             0.0                             1.0                             0.0                             0.0                             0.0                              0.0                              1.0                              0.0                              0.0                              0.0                              0.0                              0.0                              1.0                              1.0                              1.0                              1.0                              0.0                              0.0                              0.0                              0.0                              0.0                              1.0                              0.0                              0.0                              1.0                              0.0                              1.0                              0.0                              0.0                              0.0                              1.0                              1.0                              0.0                              0.0                              0.0                              0.0                              0.0                              0.0                              0.0                              0.0                              0.0   \n",
       "...                                           ...                             ...                             ...                             ...                             ...                             ...                             ...                             ...                             ...                              ...                              ...                              ...                              ...                              ...                              ...                              ...                              ...                              ...                              ...                              ...                              ...                              ...                              ...                              ...                              ...                              ...                              ...                              ...                              ...                              ...                              ...                              ...                              ...                              ...                              ...                              ...                              ...                              ...                              ...                              ...                              ...                              ...                              ...                              ...                              ...   \n",
       "training row 4996                             1.0                             1.0                             1.0                             0.0                             1.0                             1.0                             0.0                             1.0                             1.0                              1.0                              1.0                              1.0                              1.0                              0.0                              1.0                              1.0                              1.0                              1.0                              1.0                              1.0                              1.0                              1.0                              1.0                              1.0                              1.0                              1.0                              1.0                              1.0                              1.0                              1.0                              1.0                              1.0                              1.0                              1.0                              1.0                              1.0                              1.0                              1.0                              1.0                              1.0                              1.0                              1.0                              1.0                              1.0                              1.0   \n",
       "training row 4997                             1.0                             1.0                             1.0                             1.0                             1.0                             0.0                             1.0                             1.0                             1.0                              1.0                              1.0                              1.0                              0.0                              1.0                              1.0                              1.0                              1.0                              1.0                              1.0                              1.0                              1.0                              1.0                              1.0                              1.0                              1.0                              1.0                              1.0                              1.0                              1.0                              0.0                              1.0                              1.0                              1.0                              1.0                              1.0                              1.0                              1.0                              1.0                              1.0                              1.0                              0.0                              1.0                              1.0                              1.0                              1.0   \n",
       "training row 4998                             1.0                             1.0                             1.0                             1.0                             1.0                             1.0                             1.0                             1.0                             1.0                              1.0                              1.0                              1.0                              1.0                              1.0                              1.0                              0.0                              1.0                              1.0                              1.0                              0.0                              1.0                              0.0                              1.0                              1.0                              1.0                              1.0                              1.0                              1.0                              0.0                              1.0                              1.0                              1.0                              1.0                              1.0                              1.0                              1.0                              1.0                              0.0                              1.0                              1.0                              1.0                              1.0                              1.0                              1.0                              1.0   \n",
       "training row 4999                             1.0                             1.0                             1.0                             1.0                             0.0                             1.0                             1.0                             1.0                             1.0                              1.0                              0.0                              1.0                              1.0                              1.0                              1.0                              1.0                              0.0                              1.0                              1.0                              1.0                              1.0                              1.0                              1.0                              1.0                              1.0                              0.0                              1.0                              1.0                              1.0                              1.0                              1.0                              1.0                              1.0                              1.0                              0.0                              1.0                              1.0                              0.0                              0.0                              1.0                              1.0                              0.0                              1.0                              1.0                              1.0   \n",
       "training row 5000                             1.0                             1.0                             1.0                             1.0                             1.0                             1.0                             1.0                             1.0                             0.0                              1.0                              1.0                              1.0                              1.0                              0.0                              1.0                              1.0                              1.0                              1.0                              1.0                              1.0                              1.0                              1.0                              1.0                              1.0                              1.0                              1.0                              1.0                              1.0                              1.0                              1.0                              1.0                              1.0                              1.0                              1.0                              0.0                              1.0                              1.0                              1.0                              1.0                              1.0                              1.0                              0.0                              1.0                              1.0                              1.0   \n",
       "\n",
       "                   bootstrap model 46's prediction  bootstrap model 47's prediction  bootstrap model 48's prediction  bootstrap model 49's prediction  bootstrap model 50's prediction  bootstrap model 51's prediction  bootstrap model 52's prediction  bootstrap model 53's prediction  bootstrap model 54's prediction  bootstrap model 55's prediction  \n",
       "training row 1                                 1.0                              0.0                              1.0                              0.0                              1.0                              1.0                              1.0                              1.0                              1.0                              1.0  \n",
       "training row 2                                 1.0                              1.0                              1.0                              1.0                              1.0                              1.0                              1.0                              1.0                              1.0                              0.0  \n",
       "training row 3                                 1.0                              0.0                              1.0                              1.0                              1.0                              1.0                              1.0                              1.0                              1.0                              1.0  \n",
       "training row 4                                 0.0                              0.0                              1.0                              1.0                              1.0                              0.0                              1.0                              1.0                              1.0                              1.0  \n",
       "training row 5                                 0.0                              0.0                              0.0                              0.0                              0.0                              0.0                              0.0                              0.0                              1.0                              0.0  \n",
       "...                                            ...                              ...                              ...                              ...                              ...                              ...                              ...                              ...                              ...                              ...  \n",
       "training row 4996                              1.0                              1.0                              1.0                              0.0                              1.0                              1.0                              1.0                              1.0                              1.0                              1.0  \n",
       "training row 4997                              1.0                              1.0                              0.0                              1.0                              1.0                              1.0                              0.0                              1.0                              1.0                              1.0  \n",
       "training row 4998                              1.0                              0.0                              1.0                              1.0                              1.0                              1.0                              1.0                              1.0                              1.0                              0.0  \n",
       "training row 4999                              1.0                              1.0                              1.0                              1.0                              1.0                              1.0                              1.0                              1.0                              1.0                              1.0  \n",
       "training row 5000                              1.0                              1.0                              1.0                              1.0                              1.0                              1.0                              1.0                              1.0                              1.0                              1.0  \n",
       "\n",
       "[5000 rows x 55 columns]"
      ]
     },
     "execution_count": 428,
     "metadata": {},
     "output_type": "execute_result"
    }
   ],
   "source": [
    "bagging_train"
   ]
  },
  {
   "cell_type": "markdown",
   "metadata": {
    "autograde": "2.3",
    "button": false,
    "deletable": false,
    "editable": false,
    "new_sheet": false,
    "run_control": {
     "read_only": false
    }
   },
   "source": [
    "<div class='exercise-r'>  \n",
    " \n",
    "**2.3**  _Aggregate_ all 55 _bootstrapped_ models to get a combined prediction for each training and test point: predict a 1 if and only if a majority of the models predict that example to be from class 1. Assign the bagging test accuracy to a variable named `bagging_accuracy_test`. What accuracy does this *bagging* model achieve on the test set? Write an assertion that verifies that this test set accuracy is at least as good as the accuracy for the model you fit in Question 1.\n",
    " \n",
    " </div>"
   ]
  },
  {
   "cell_type": "code",
   "execution_count": 429,
   "metadata": {
    "deletable": false
   },
   "outputs": [
    {
     "name": "stdout",
     "output_type": "stream",
     "text": [
      "Accuracy with Bootstrapped Aggregation is  69.02000000000001%\n",
      "Accuracy with Bootstrapped Aggregation is  99.83999999999999%\n"
     ]
    }
   ],
   "source": [
    "test_bagging_accuracy = accuracy_score(bagging_accuracy_test, y_test)\n",
    "print(f'Accuracy with Bootstrapped Aggregation is  {test_bagging_accuracy*100}%')\n",
    "train_bagging_accuracy = accuracy_score(bagging_accuracy_train, y_train)\n",
    "print(f'Accuracy with Bootstrapped Aggregation is  {train_bagging_accuracy*100}%')"
   ]
  },
  {
   "cell_type": "markdown",
   "metadata": {},
   "source": [
    "The accuracy I received was 4% greater than what I got in my basic model earlier. 68 is greater than 64 (what do you want in terms of an assertion, this seems like an obvious comparison)"
   ]
  },
  {
   "cell_type": "markdown",
   "metadata": {
    "autograde": "2.4",
    "button": false,
    "deletable": false,
    "editable": false,
    "new_sheet": false,
    "run_control": {
     "read_only": false
    }
   },
   "source": [
    "<div class='exercise-r'>  \n",
    " \n",
    "**2.4** We want to know how the number of bootstraps affects our bagging ensemble's performance. Use the `running_predictions()` function (given below) to get the model's accuracy score when using only $N$ of the bootstrapped models, where $N \\in [1, 2, 3, ..., 55]$. Make a plot that illustrates the accuracy on the training set and testing set, as a function of the number of bootstraps (vary $N$ from 1 to 55).\n",
    " **Use the depth from 2.1**\n",
    " \n",
    " On your plot, also include horizontal lines for two baselines:\n",
    " - the test accuracy of the best model from question 1\n",
    " - the test accuracy of a single tree with the tree depth you chose in 2.1, trained on the full training set.\n",
    " \n",
    " </div>"
   ]
  },
  {
   "cell_type": "code",
   "execution_count": 430,
   "metadata": {
    "button": false,
    "deletable": false,
    "editable": false,
    "jupyter": {
     "outputs_hidden": true
    },
    "new_sheet": false,
    "run_control": {
     "read_only": false
    }
   },
   "outputs": [],
   "source": [
    "def running_predictions(prediction_dataset: np.ndarray, targets: np.ndarray) -> np.ndarray:\n",
    "    \"\"\"A function to predict examples' class via the majority among trees (ties are predicted as 0)\n",
    "    \n",
    "    Inputs:\n",
    "      prediction_dataset - a (n_examples by n_sub_models) dataset (not a dataframe), where each entry [i,j] is sub-model j's prediction\n",
    "          for example i\n",
    "      targets - the true class labels\n",
    "    \n",
    "    Returns:\n",
    "      a vector where vec[i] is the model's accuracy when using just the first i+1 sub-models\n",
    "    \"\"\"\n",
    "    \n",
    "    n_trees = prediction_dataset.shape[1]\n",
    "    \n",
    "    # find the running percentage of models voting 1 as more models are considered\n",
    "    running_percent_1s = np.cumsum(prediction_dataset, axis=1)/np.arange(1,n_trees+1)\n",
    "    \n",
    "    # predict 1 when the running average is above 0.5\n",
    "    running_conclusions = running_percent_1s > 0.5\n",
    "    \n",
    "    # check whether the running predictions match the targets\n",
    "    running_correctnesss = running_conclusions == targets.reshape(-1,1)\n",
    "    \n",
    "    return np.mean(running_correctnesss, axis=0)\n",
    "    # returns a 1-d series of the accuracy of using the first n trees to predict the targets"
   ]
  },
  {
   "cell_type": "code",
   "execution_count": 431,
   "metadata": {
    "deletable": false
   },
   "outputs": [],
   "source": [
    "accuracy_test = running_predictions(bagging_test, y_test)\n",
    "accuracy_train = running_predictions(bagging_train, y_train)\n",
    "training_acc.append(accuracy_train[54])\n",
    "test_acc.append(accuracy_test[54])"
   ]
  },
  {
   "cell_type": "code",
   "execution_count": 432,
   "metadata": {},
   "outputs": [
    {
     "data": {
      "image/png": "[encoded data removed]",
      "text/plain": [
       "<Figure size 720x576 with 1 Axes>"
      ]
     },
     "metadata": {},
     "output_type": "display_data"
    }
   ],
   "source": [
    "n = np.linspace(1,55,55).astype(int)\n",
    "acc = []\n",
    "#for n_i in n:\n",
    "#    acc.append(np.mean(prediction_by_bagging(X_train, y_train, X_test, n_i)==y_test))\n",
    "plt.figure(figsize=(10,8))\n",
    "plt.plot(n,accuracy_test,alpha=0.7,linewidth=3,color='#50AEA4', label='Accurcay Test')\n",
    "plt.plot(n,accuracy_train,alpha=0.7,linewidth=3,color='#80eb34', label='Accuracy Train')\n",
    "plt.axhline(y=best_cv_tree_test_score, color='#8132a8', label ='Prob 1 accuracy')\n",
    "\n",
    "plt.title('Effects of Aggregated Bagging ',fontsize=24)\n",
    "plt.xlabel('Number of Trees',fontsize=16)\n",
    "plt.ylabel('Accuracy',fontsize=16)\n",
    "plt.xticks(fontsize=12)\n",
    "plt.yticks(fontsize=12)\n",
    "plt.legend(loc='best',fontsize=12)\n",
    "plt.show()"
   ]
  },
  {
   "cell_type": "markdown",
   "metadata": {
    "autograde": "2.5",
    "button": false,
    "deletable": false,
    "editable": false,
    "new_sheet": false,
    "run_control": {
     "read_only": false
    }
   },
   "source": [
    "<div class='exercise-r'>  \n",
    " \n",
    "**2.5** Referring to your graph from 2.4, compare the performance of bagging against the baseline of a single `tree_depth` tree. Explain the differences you see.\n",
    " \n",
    " </div>"
   ]
  },
  {
   "cell_type": "markdown",
   "metadata": {
    "deletable": false
   },
   "source": [
    "The tree_depth of 1 performed pretty well when compared to the lower levels of bagging. We can also see diminishing returns from larger numbers of trees in our aggregated bagging method. We surpass the accuracy of our first single tree model around 10 bagging iterations and top out on accuracy around 30 trees. "
   ]
  },
  {
   "cell_type": "markdown",
   "metadata": {
    "autograde": "2.6",
    "button": false,
    "deletable": false,
    "editable": false,
    "new_sheet": false,
    "run_control": {
     "read_only": false
    }
   },
   "source": [
    "<div class='exercise-r'>  \n",
    " \n",
    "**2.6** Bagging and limiting tree depth both affect how much the model overfits. Compare and contrast these two approaches. Your answer should refer to your graph in 2.4 and may duplicate something you said in your answer to 2.5.\n",
    " \n",
    " </div>"
   ]
  },
  {
   "cell_type": "markdown",
   "metadata": {
    "deletable": false
   },
   "source": [
    "It seems like there is a sweet spot to hit for both of these and you could ultimately optimize tree depth first then bagging as we did in this exercise to increase your overall model accuracy. It appears harder to overfit with bagging than with tree depth. We see our graph taper to a horizontal line for our test accuracy in 2.4 rather than dip back down where as we see a dip back down with tree depth. "
   ]
  },
  {
   "cell_type": "markdown",
   "metadata": {
    "autograde": "2.7",
    "button": false,
    "deletable": false,
    "editable": false,
    "new_sheet": false,
    "run_control": {
     "read_only": false
    }
   },
   "source": [
    "<div class='exercise-r'>  \n",
    " \n",
    "**2.7**: In what ways might our bagging classifier be overfitting the data? In what ways might it be underfitting?\n",
    " \n",
    " **Hints**\n",
    " - Use `resample()` from `sklearn` to easily bootstrap the $x$ and $y$ data.\n",
    " - use `np.mean()` to easily test for majority. If a majority of models vote 1, what does that imply about the mean?\n",
    " \n",
    " </div>"
   ]
  },
  {
   "cell_type": "markdown",
   "metadata": {
    "deletable": false
   },
   "source": [
    "From the graph above, it is hard to see evidence of much of an exagerated overfitting in a way that then effects the test outcome. It is clear that it does end up fitting to the train data to a nearly 100% accuracy which would be an overfit, but this doesn't effect the overall accuracy on the test set much since we are just further aligning the set number of boundaries, rather than extending and creating new boundaries. In this sense I don't see how we could truely overfit to the point where we impact the test data significantly. In terms of underfitting, when we aren't training enough samples, we are effectively training on a set of smaller and less representative data sets, thus we need to increase the number of bagging iterations."
   ]
  },
  {
   "cell_type": "markdown",
   "metadata": {
    "button": false,
    "deletable": false,
    "editable": false,
    "new_sheet": false,
    "run_control": {
     "read_only": false
    }
   },
   "source": [
    "### <div class='exercise'>Question 3 [20pts]: Random Forests</div>\n",
    "[▲ Return to contents](#Contents)\n",
    "\n",
    "<div class='exercise'>\n",
    "Random Forests are closely related to the bagging model we built by hand in question 2. In this question, we compare our by-hand results with the results of using `RandomForestClassifier` directly.\n",
    "\n",
    "\n",
    "**3.1**  Fit a `RandomForestClassifier` to the original `X_train` data using the same tree depth and number of trees you used in Question 2.2. Set the number of features to use when looking for the best split to be  `sqrt(total_number of features)`. Evaluate its accuracy on the test set and assign it to a variable name `random_forest_test_score`.\n",
    "\n",
    "**3.2** Among all of the decision trees you fit in the bagging process, how many times is each feature used as the top/first node? How about for each tree in the random forest you just fit? Assign the answers to these questions to two pandas Series called `top_predictors_bagging` and `top_predictors_rf`, and display them on the screen.\n",
    "\n",
    "Explain:\n",
    "* What about the process of training the Random Forest causes this difference?\n",
    "* What implication does this observation have on the accuracy of bagging vs Random Forest?\n",
    "\n",
    "**Hint**: A decision tree's top feature is stored in `model.tree_.feature[0]`. A random forest object stores its decision trees in its `.estimators_` attribute.\n",
    "\n",
    "**3.3**: Make a Pandas table of the training and test accuracy for the following models and name it `results_df`:\n",
    "\n",
    "- Single tree with the best depth chosen by cross-validation (from Question 1)\n",
    "- A single overfit tree trained on all data (from Question 2, using the depth you chose there)\n",
    "- Bagging 55 such trees (from Question 2)\n",
    "- A Random Forest of 55 such trees (from Question 3.1)\n",
    "\n",
    "(see below for the expected structure)  \n",
    "\n",
    "(This problem should not require fitting any new models, though you may need to go back and store the accuracies from models you fit previously.)\n",
    "\n",
    "What is the relative performance of each model on the training set? On the test set? Comment on how these relationships make sense (or don't make sense) in light of how each model treats the bias-variance trade-off.\n",
    "\n",
    "</div>"
   ]
  },
  {
   "cell_type": "markdown",
   "metadata": {
    "button": false,
    "deletable": false,
    "editable": false,
    "new_sheet": false,
    "run_control": {
     "read_only": false
    }
   },
   "source": []
  },
  {
   "cell_type": "markdown",
   "metadata": {
    "button": false,
    "deletable": false,
    "editable": false,
    "new_sheet": false,
    "run_control": {
     "read_only": false
    }
   },
   "source": [
    "## Answers"
   ]
  },
  {
   "cell_type": "markdown",
   "metadata": {
    "autograde": "3.1",
    "button": false,
    "deletable": false,
    "editable": false,
    "new_sheet": false,
    "run_control": {
     "read_only": false
    }
   },
   "source": [
    "<div class='exercise-r'>  \n",
    " \n",
    "**3.1**  Fit a `RandomForestClassifier` to the original `X_train` data using the same tree depth and number of trees you used in Question 2.2. Set the number of features to use when looking for the best split to be  `sqrt(total_number of features)`. Evaluate its accuracy on the test set and assign it to a variable name `random_forest_test_score`.\n",
    " \n",
    " </div>"
   ]
  },
  {
   "cell_type": "code",
   "execution_count": 433,
   "metadata": {
    "deletable": false
   },
   "outputs": [
    {
     "name": "stdout",
     "output_type": "stream",
     "text": [
      "Random Forest: Accuracy, Training Set : 99.96%\n",
      "Random Forest: Accuracy, Testing Set :  69.46%\n"
     ]
    }
   ],
   "source": [
    "# your code here\n",
    "#random forrest default applies the sqrt features \n",
    "model = RandomForestClassifier(max_depth=tree_depth)\n",
    "model.fit(X_train, y_train)\n",
    "#Predict\n",
    "y_pred_train = model.predict(X_train)\n",
    "y_pred_test = model.predict(X_test)\n",
    "\n",
    "#Perfromance Evaluation\n",
    "acc_random_forest_training = accuracy_score(y_train, y_pred_train)*100\n",
    "acc_random_forest_testing = accuracy_score(y_test, y_pred_test)*100\n",
    "\n",
    "print(\"Random Forest: Accuracy, Training Set : {:0.2f}%\".format(acc_random_forest_training))\n",
    "print(\"Random Forest: Accuracy, Testing Set :  {:0.2f}%\".format(acc_random_forest_testing))\n",
    "\n",
    "training_acc.append(acc_random_forest_training)\n",
    "test_acc.append(acc_random_forest_testing)\n"
   ]
  },
  {
   "cell_type": "code",
   "execution_count": 434,
   "metadata": {},
   "outputs": [],
   "source": [
    "random_forest_test_score = acc_random_forest_testing"
   ]
  },
  {
   "cell_type": "markdown",
   "metadata": {
    "autograde": "3.2",
    "button": false,
    "deletable": false,
    "editable": false,
    "new_sheet": false,
    "run_control": {
     "read_only": false
    }
   },
   "source": [
    "<div class='exercise-r'>  \n",
    " \n",
    "**3.2** Among all of the decision trees you fit in the bagging process, how many times is each feature used as the top/first node? How about for each tree in the random forest you just fit? Assign the answers to these questions to two pandas Series called `top_predictors_bagging` and `top_predictors_rf`, and display them on the screen.\n",
    " \n",
    " Explain:\n",
    " * What about the process of training the Random Forest causes this difference?\n",
    " * What implication does this observation have on the accuracy of bagging vs Random Forest?\n",
    " \n",
    " **Hint**: A decision tree's top feature is stored in `model.tree_.feature[0]`. A random forest object stores its decision trees in its `.estimators_` attribute.\n",
    " \n",
    " </div>"
   ]
  },
  {
   "cell_type": "code",
   "execution_count": 435,
   "metadata": {},
   "outputs": [
    {
     "data": {
      "image/png": "[encoded data removed]",
      "text/plain": [
       "<Figure size 720x864 with 1 Axes>"
      ]
     },
     "metadata": {},
     "output_type": "display_data"
    }
   ],
   "source": [
    "#incomplete\n",
    "feature_importance = model.feature_importances_\n",
    "feature_importance = 100.0 * (feature_importance / feature_importance.max())\n",
    "sorted_idx = np.argsort(feature_importance)\n",
    "pos = np.arange(sorted_idx.shape[0]) + .5\n",
    "#Plot\n",
    "plt.figure(figsize=(10,12))\n",
    "plt.barh(pos, feature_importance[sorted_idx], align='center')\n",
    "plt.yticks(pos, data_train.columns[sorted_idx])\n",
    "plt.xlabel('Relative Importance')\n",
    "plt.title('Variable Importance')\n",
    "plt.show()\n",
    "#top_predictors_bagging = pd.Series()\n",
    "#top_predictors_rf = pd.Series()"
   ]
  },
  {
   "cell_type": "code",
   "execution_count": 436,
   "metadata": {},
   "outputs": [
    {
     "name": "stderr",
     "output_type": "stream",
     "text": [
      "/Users/stevenmorse/opt/anaconda3/envs/cs109a_3_7/lib/python3.7/site-packages/ipykernel_launcher.py:1: DeprecationWarning: The default dtype for empty Series will be 'object' instead of 'float64' in a future version. Specify a dtype explicitly to silence this warning.\n",
      "  \"\"\"Entry point for launching an IPython kernel.\n"
     ]
    }
   ],
   "source": [
    "top_predictors_rf = pd.Series()\n",
    "top_predictors_rf = pos\n"
   ]
  },
  {
   "cell_type": "code",
   "execution_count": 437,
   "metadata": {
    "deletable": false
   },
   "outputs": [
    {
     "data": {
      "image/png": "[encoded data removed]",
      "text/plain": [
       "<Figure size 720x864 with 1 Axes>"
      ]
     },
     "metadata": {},
     "output_type": "display_data"
    },
    {
     "name": "stderr",
     "output_type": "stream",
     "text": [
      "/Users/stevenmorse/opt/anaconda3/envs/cs109a_3_7/lib/python3.7/site-packages/ipykernel_launcher.py:14: DeprecationWarning: The default dtype for empty Series will be 'object' instead of 'float64' in a future version. Specify a dtype explicitly to silence this warning.\n",
      "  \n"
     ]
    }
   ],
   "source": [
    "#incomplete\n",
    "feature_importance = dt_model.feature_importances_\n",
    "feature_importance = 100.0 * (feature_importance / feature_importance.max())\n",
    "sorted_idx = np.argsort(feature_importance)\n",
    "pos = np.arange(sorted_idx.shape[0]) + .5\n",
    "\n",
    "#Plot\n",
    "plt.figure(figsize=(10,12))\n",
    "plt.barh(pos, feature_importance[sorted_idx], align='center')\n",
    "plt.yticks(pos, data_train.columns[sorted_idx])\n",
    "plt.xlabel('Relative Importance')\n",
    "plt.title('Variable Importance Random Forest')\n",
    "plt.show()\n",
    "top_predictors_bagging = pd.Series()\n",
    "top_predictors_bagging = pos"
   ]
  },
  {
   "cell_type": "code",
   "execution_count": null,
   "metadata": {},
   "outputs": [],
   "source": []
  },
  {
   "cell_type": "markdown",
   "metadata": {
    "deletable": false
   },
   "source": [
    "What about the process of training the Random Forest causes this difference?\n",
    "The standard decision tree is more chunked in the graphing or flatly spread vs the random forest which has a more flowing slope. The decision tree seems to favor certain chunks of variables over others from the data and put much more weight in them. The reason for this is related to the way the data is selected for the tree. In Random forest a random selection of characteristics are pulled where as in the regular decision tree model we just use the entire set. This seems to weight certain factors in the decision tree much higher except the absolute tail where as the random forrest seems to go a better job of focusing on the weighting less generally and getting a more accuracte reading on each piece due to the aggregation.\n",
    "\n",
    "What implication does this observation have on the accuracy of bagging vs Random Forest?\n",
    "Since random forest is better able to generalize over a large set of factors, we are able to get a more accurate responese than the decision tree. Decision trees remain more easy to interpret however than the random forest which needs to average the other trees. \n",
    "\n"
   ]
  },
  {
   "cell_type": "markdown",
   "metadata": {
    "autograde": "3.3",
    "button": false,
    "deletable": false,
    "editable": false,
    "new_sheet": false,
    "run_control": {
     "read_only": false
    }
   },
   "source": [
    "<div class='exercise-r'>  \n",
    " \n",
    "**3.3**: Make a Pandas table of the training and test accuracy for the following models and name it `results_df`:\n",
    " \n",
    " - Single tree with the best depth chosen by cross-validation (from Question 1)\n",
    " - A single overfit tree trained on all data (from Question 2, using the depth you chose there)\n",
    " - Bagging 55 such trees (from Question 2)\n",
    " - A Random Forest of 55 such trees (from Question 3.1)\n",
    " \n",
    " (see below for the expected structure)\n",
    " \n",
    " (This problem should not require fitting any new models, though you may need to go back and store the accuracies from models you fit previously.)\n",
    " \n",
    " What is the relative performance of each model on the training set? On the test set? Comment on how these relationships make sense (or don't make sense) in light of how each model treats the bias-variance trade-off.\n",
    " \n",
    " </div>"
   ]
  },
  {
   "cell_type": "markdown",
   "metadata": {
    "button": false,
    "deletable": false,
    "editable": false,
    "new_sheet": false,
    "run_control": {
     "read_only": false
    }
   },
   "source": [
    "Fill in the following table.\n",
    "\n",
    "\n",
    "| classifier | training accuracy | test accuracy |\n",
    "| --- | --- | --- |\n",
    "| single tree with best depth chosen by CV | | |\n",
    "| single depth-X tree | | |\n",
    "| bagging 55 depth-X trees | | |\n",
    "| Random Forest of 55 depth-X trees | | |"
   ]
  },
  {
   "cell_type": "code",
   "execution_count": 438,
   "metadata": {},
   "outputs": [
    {
     "data": {
      "text/plain": [
       "[0.6036, 0.6812, 0.9984, 99.96000000000001]"
      ]
     },
     "metadata": {},
     "output_type": "display_data"
    },
    {
     "data": {
      "text/plain": [
       "[0.6132, 0.6482, 0.6902, 69.46]"
      ]
     },
     "metadata": {},
     "output_type": "display_data"
    }
   ],
   "source": [
    "\n",
    "display(training_acc)\n",
    "display(test_acc)"
   ]
  },
  {
   "cell_type": "code",
   "execution_count": 439,
   "metadata": {
    "deletable": false
   },
   "outputs": [
    {
     "data": {
      "text/html": [
       "<div>\n",
       "<style scoped>\n",
       "    .dataframe tbody tr th:only-of-type {\n",
       "        vertical-align: middle;\n",
       "    }\n",
       "\n",
       "    .dataframe tbody tr th {\n",
       "        vertical-align: top;\n",
       "    }\n",
       "\n",
       "    .dataframe thead th {\n",
       "        text-align: right;\n",
       "    }\n",
       "</style>\n",
       "<table border=\"1\" class=\"dataframe\">\n",
       "  <thead>\n",
       "    <tr style=\"text-align: right;\">\n",
       "      <th></th>\n",
       "      <th>classifier</th>\n",
       "      <th>training accuracy</th>\n",
       "      <th>test accuracy</th>\n",
       "    </tr>\n",
       "  </thead>\n",
       "  <tbody>\n",
       "    <tr>\n",
       "      <th>0</th>\n",
       "      <td>single tree with best depth chosen by CV</td>\n",
       "      <td>0.6036</td>\n",
       "      <td>0.6132</td>\n",
       "    </tr>\n",
       "    <tr>\n",
       "      <th>1</th>\n",
       "      <td>single depth-X tree</td>\n",
       "      <td>0.6812</td>\n",
       "      <td>0.6482</td>\n",
       "    </tr>\n",
       "    <tr>\n",
       "      <th>2</th>\n",
       "      <td>bagging 55 depth-X trees</td>\n",
       "      <td>0.9984</td>\n",
       "      <td>0.6902</td>\n",
       "    </tr>\n",
       "    <tr>\n",
       "      <th>3</th>\n",
       "      <td>Random Forest of 55 depth-X trees</td>\n",
       "      <td>99.9600</td>\n",
       "      <td>69.4600</td>\n",
       "    </tr>\n",
       "  </tbody>\n",
       "</table>\n",
       "</div>"
      ],
      "text/plain": [
       "                                 classifier  training accuracy  test accuracy\n",
       "0  single tree with best depth chosen by CV             0.6036         0.6132\n",
       "1                       single depth-X tree             0.6812         0.6482\n",
       "2                  bagging 55 depth-X trees             0.9984         0.6902\n",
       "3         Random Forest of 55 depth-X trees            99.9600        69.4600"
      ]
     },
     "metadata": {},
     "output_type": "display_data"
    }
   ],
   "source": [
    "\n",
    "ind = ['single tree with best depth chosen by CV', 'single depth-X tree', 'bagging 55 depth-X trees', 'Random Forest of 55 depth-X trees']\n",
    "results_df = pd.DataFrame()\n",
    "results_df['classifier']  = ind\n",
    "results_df['training accuracy'] = training_acc\n",
    "results_df['test accuracy'] = test_acc\n",
    "\n",
    "display(results_df)"
   ]
  },
  {
   "cell_type": "markdown",
   "metadata": {
    "deletable": false
   },
   "source": [
    "What is the relative performance of each model on the training set? \n",
    "The performance of the single tree is low for the train and test, but the two results are very similar. The same can be said with the single depth tree where the results are relatively similar. This is due to a lack of overfitting on each of these models as they are relatively simple and not very deep. However when we chose the depth of 18 and performed bagging we see much higher signs of overfitting with how close the training accuracy is to a 100% fit. While the last two models in this table did overfit, this overfitting sign of the perfect train accuracy is due more in part to the bagging process which doesn't have the same corresponding effect of overfitting passed on to the test accuracy that you would expect if we were instead just progressively increasing the depth of the trees."
   ]
  },
  {
   "cell_type": "markdown",
   "metadata": {
    "button": false,
    "deletable": false,
    "editable": false,
    "new_sheet": false,
    "run_control": {
     "read_only": false
    }
   },
   "source": [
    "### <div class='exercise'>Question 4 [20pts]: Boosting</div>\n",
    "[▲ Return to contents](#Contents)\n",
    "\n",
    "<div class='exercise'>\n",
    "In this question, we explore a different kind of ensemble method, boosting. Each new model is trained on a dataset weighted towards observations that the current model predicts incorrectly. \n",
    "\n",
    "We will focus on the AdaBoost flavor of boosting and examine the ensemble model's accuracy as the algorithm adds more estimators (iterations) to the ensemble.\n",
    "\n",
    "**4.1** We will motivate AdaBoost by noticing patterns in the errors that a single classifier makes. Fit `tree1`, a decision tree with depth 3, to the training data. \n",
    "Report the train and test accuracies. For each predictor, make a plot that compares two distributions: the values of that predictor for observations that `tree1` classifies correctly, and the values of that predictor for observations that `tree1` classifies incorrectly. Do you notice any predictors for which the distributions are clearly different?\n",
    "    \n",
    "*Hints*:\n",
    "- If you have `fig, axs = plt.subplots(...)`, then `axs.ravel()` gives a list of each plot in reading order.\n",
    "- [`sns.kdeplot`](https://seaborn.pydata.org/generated/seaborn.kdeplot.html) takes `ax` and `label` parameters.\n",
    "\n",
    "**4.2** The following code (see below) attempts to implement a simplified version of boosting using just two classifiers (described below). However, it has both stylistic and functionality flaws:\n",
    "1. Imagine that you are a grader for a Data Science class; write a comment for the student who submitted this code.\n",
    "2. Imagine that you're the TF writing the solutions; make an excellent example implementation.\n",
    "3. Use your corrected code to compare the performance of `tree1` and the boosted algorithm on both the training and test set.\n",
    "\n",
    "**4.3** Now, let us use the sklearn implementation of AdaBoost: Use `AdaBoostClassifier` to fit another ensemble to `X_train`. Use a decision tree of depth 3 as the base learner and a learning rate 0.05, and run the boosting for 800 iterations. Make a plot of the effect of the number of estimators/iterations on the model's train and test accuracy.\n",
    "\n",
    "*Hint*: The `staged_score` method provides the accuracy numbers you'll need. You'll need to use `list()` to convert the \"generator\" it returns into an ordinary list.\n",
    "\n",
    "**4.4** Repeat the plot above for a base learner with depth of (1, 2, 3, 4). What trends do you see in the training and test accuracy?\n",
    "\n",
    "(It's okay if your code re-fits the depth-3 classifier instead of reusing the results from the previous problem.)\n",
    "\n",
    "**4.5** Based on the plot you just made, what combination of base learner depth and the number of iterations seems optimal? Why? How does the performance of this model compare with the performance of the ensembles you considered above?\n",
    "</div>"
   ]
  },
  {
   "cell_type": "markdown",
   "metadata": {
    "button": false,
    "deletable": false,
    "editable": false,
    "new_sheet": false,
    "run_control": {
     "read_only": false
    }
   },
   "source": [
    "## Answers"
   ]
  },
  {
   "cell_type": "markdown",
   "metadata": {
    "autograde": "4.1",
    "button": false,
    "deletable": false,
    "editable": false,
    "new_sheet": false,
    "run_control": {
     "read_only": false
    }
   },
   "source": [
    "<div class='exercise-r'>  \n",
    " \n",
    "**4.1** We will motivate AdaBoost by noticing patterns in the errors that a single classifier makes. Fit `tree1`, a decision tree with depth 3, to the training data.\n",
    " Report the train and test accuracies. For each predictor, make a plot that compares two distributions: the values of that predictor for observations that `tree1` classifies correctly, and the values of that predictor for observations that `tree1` classifies incorrectly. Do you notice any predictors for which the distributions are clearly different?\n",
    " \n",
    " *Hints*:\n",
    " - If you have `fig, axs = plt.subplots(...)`, then `axs.ravel()` gives a list of each plot in reading order.\n",
    " - [`sns.kdeplot`](https://seaborn.pydata.org/generated/seaborn.kdeplot.html) takes `ax` and `label` parameters.\n",
    " \n",
    " </div>"
   ]
  },
  {
   "cell_type": "code",
   "execution_count": 440,
   "metadata": {
    "deletable": false
   },
   "outputs": [
    {
     "name": "stdout",
     "output_type": "stream",
     "text": [
      "tree1 accuracy train = 64.18%\n",
      "tree1 accuracy test = 64.42%\n"
     ]
    }
   ],
   "source": [
    "#decision tree classifier\n",
    "tree1 = DecisionTreeClassifier(max_depth = 3)\n",
    "tree1.fit(X_train, y_train)\n",
    "tree1_acc_train = tree1.score(X_train, y_train)\n",
    "tree1_acc_test = tree1.score(X_test, y_test)\n",
    "print(f'tree1 accuracy train = {tree1_acc_train*100}%')\n",
    "print(f'tree1 accuracy test = {tree1_acc_test*100}%')\n"
   ]
  },
  {
   "cell_type": "code",
   "execution_count": null,
   "metadata": {},
   "outputs": [],
   "source": []
  },
  {
   "cell_type": "code",
   "execution_count": null,
   "metadata": {
    "deletable": false
   },
   "outputs": [],
   "source": [
    "X_train_trans = X_train.transpose()\n",
    "X_train_trans = X_train.transpose()\n",
    "\n",
    "proba_1 = tree1.predict_proba(X_train)[:,1]\n",
    "proba_0 = tree1.predict_proba(X_train)[:,0]\n",
    "#plot values of proba_1 and proba_0 with linspace 55 to get the requested chart - this didn't work \n",
    "\n",
    "tree1.predict_proba(X_train)\n",
    "\n",
    "a = np.linspace(1,5000, 5000)\n",
    "\n",
    "fig, (ax1, ax2, ax3) = plt.subplots(3)\n",
    "fig.suptitle('Predictors Observations Probabilities')\n",
    "\n",
    "ax1.set_title('probaboility correct')\n",
    "ax1.set_xlabel('probability point')\n",
    "ax1.set_ylabel('occurence rate')\n",
    "\n",
    "sns.kdeplot(ax = ax1, data=proba_0)\n",
    "fig.subplots_adjust(hspace=2)\n",
    "\n",
    "ax2.set_title('probability incorrect')\n",
    "ax2.set_xlabel('probability point')\n",
    "ax2.set_ylabel('occurence rate')\n",
    "\n",
    "sns.kdeplot(ax = ax2, data=proba_1)\n",
    "proba_1.shape\n",
    "\n",
    "#I'm not really sure what I'm doing wrong here\n",
    "ax3.plot(a,proba_1)\n"
   ]
  },
  {
   "cell_type": "code",
   "execution_count": null,
   "metadata": {},
   "outputs": [],
   "source": []
  },
  {
   "cell_type": "markdown",
   "metadata": {
    "deletable": false
   },
   "source": [
    "Ran out of time a bit here. Maybe one of the most stressful weeks ever at Harvard with the election and also Leave of Absence decisions being mismanaged by my college. Apologies for this section being unfinished. "
   ]
  },
  {
   "cell_type": "markdown",
   "metadata": {
    "autograde": "4.2",
    "button": false,
    "deletable": false,
    "editable": false,
    "new_sheet": false,
    "run_control": {
     "read_only": false
    }
   },
   "source": [
    "<div class='exercise-r'>  \n",
    " \n",
    "**4.2** The following code (see below) attempts to implement a simplified version of boosting using just two classifiers (described below). However, it has both stylistic and functionality flaws:\n",
    " 1. Imagine that you are a grader for a Data Science class; write a comment for the student who submitted this code.\n",
    " 2. Imagine that you're the TF writing the solutions; make an excellent example implementation.\n",
    " 3. Use your corrected code to compare the performance of `tree1` and the boosted algorithm on both the training and test set.\n",
    " \n",
    " </div>"
   ]
  },
  {
   "cell_type": "markdown",
   "metadata": {
    "button": false,
    "deletable": false,
    "editable": false,
    "new_sheet": false,
    "run_control": {
     "read_only": false
    }
   },
   "source": [
    "The intended functionality is the following:\n",
    "1. Fit `tree1`, a decision tree with max depth 3.\n",
    "2. Construct an array of sample weights. Give a weight of 1 to samples that `tree1` classified correctly, and 2 to samples that `tree1` misclassified.\n",
    "3. Fit `tree2`, another depth-3 decision tree, using those sample weights.\n",
    "4. To predict, compute the probabilities that `tree1` and `tree2` each assign to the positive class. Take the average of those two probabilities as the prediction probability."
   ]
  },
  {
   "cell_type": "code",
   "execution_count": 443,
   "metadata": {
    "button": false,
    "deletable": false,
    "editable": false,
    "jupyter": {
     "outputs_hidden": false
    },
    "new_sheet": false,
    "run_control": {
     "read_only": false
    }
   },
   "outputs": [
    {
     "name": "stdout",
     "output_type": "stream",
     "text": [
      "tree1 accuracy: 0.3582\n",
      "Boosted accuracy: 0.0008\n",
      "Boosted accuracy: 0.002\n"
     ]
    }
   ],
   "source": [
    "def boostmeup(X, y):\n",
    "    tree = DecisionTreeClassifier(max_depth=3)\n",
    "    tree1 = tree.fit(X, y)\n",
    "    sample_weight = np.ones(len(X_train))\n",
    "    q = 0\n",
    "    for idx in range(len(X_train)):\n",
    "          if tree1.predict([X_train[idx]]) != y_train[idx]:\n",
    "             sample_weight[idx] = sample_weight[idx] * 2\n",
    "             q = q + 1\n",
    "    print(\"tree1 accuracy:\", q / len(X_train))\n",
    "    tree2 = tree.fit(X_train, y_train, sample_weight=sample_weight)\n",
    "    \n",
    "# Train\n",
    "    q = 0\n",
    "    for idx in range(len(X_train)):\n",
    "        t1p = tree1.predict_proba([X_train[idx]])[0][1]\n",
    "        t2p = tree2.predict_proba([X_train[idx]])[0][1]\n",
    "        m = (t1p + t2p) / 2\n",
    "        if m > .5:\n",
    "            if y_train[idx] == True:\n",
    "                q = q + 0\n",
    "            else:\n",
    "                q = q + 1\n",
    "        else:\n",
    "            if y_train[idx] == True:\n",
    "                q = q + 1\n",
    "            else:\n",
    "                q = 0\n",
    "    print(\"Boosted accuracy:\", q / len(X_train))\n",
    "\n",
    "# Test\n",
    "    q = 0\n",
    "    for idx in range(len(X_test)):\n",
    "        t1p = tree1.predict_proba([X_test[idx]])[0][1]\n",
    "        t2p = tree2.predict_proba([X_test[idx]])[0][1]\n",
    "        m = (t1p + t2p) / 2\n",
    "        if m > .5:\n",
    "            if y_train[idx] == True:\n",
    "                q = q + 0\n",
    "            else:\n",
    "                q = q + 1\n",
    "        else:\n",
    "            if y_train[idx] == True:\n",
    "                q = q + 1\n",
    "            else:\n",
    "                q = 0\n",
    "    print(\"Boosted accuracy:\", q / len(X_test))\n",
    "\n",
    "boostmeup(X_train, y_train)"
   ]
  },
  {
   "cell_type": "markdown",
   "metadata": {
    "deletable": false
   },
   "source": [
    "1. note to student: Please use more comments throughout your process explaining what you are doing. This makes things easier to interpret. Also consider simplifying your for loops as they got quite clunky. The accuracy being so low show be an indicator to you that something is wrong with your method and you need to re-evaluate. You do now need to manually check on each section with y_train when you use predict_proba"
   ]
  },
  {
   "cell_type": "code",
   "execution_count": 447,
   "metadata": {
    "deletable": false
   },
   "outputs": [
    {
     "name": "stdout",
     "output_type": "stream",
     "text": [
      "tree1 accuracy: 0.6418\n",
      "Boosted accuracy train: 0.6867145421903053\n",
      "Boosted accuracy test: 0.4742268041237113\n"
     ]
    }
   ],
   "source": [
    "# your code here\n",
    "def boostmeup(X, y):\n",
    "    tree = DecisionTreeClassifier(max_depth=3)\n",
    "    tree1 = tree.fit(X, y)\n",
    "    q = 0\n",
    "    tree1_accuracy = tree1.score(X_train, y_train)\n",
    "    print(\"tree1 accuracy:\", tree1_accuracy)\n",
    "    tree2 = tree.fit(X_train, y_train)\n",
    "# Train\n",
    "    for idx in X_train:\n",
    "        t1p = tree1.predict_proba([idx])[0][1]\n",
    "        t2p = tree2.predict_proba([idx])[0][1]\n",
    "        m = (t1p + t2p) / 2\n",
    "    print(\"Boosted accuracy train:\", m)\n",
    "\n",
    "# Test\n",
    "    for idx in X_test:\n",
    "        t1p = tree1.predict_proba([idx])[0][1]\n",
    "        t2p = tree2.predict_proba([idx])[0][1]\n",
    "        m = (t1p + t2p) / 2\n",
    "       \n",
    "    print(\"Boosted accuracy test:\", m)   \n",
    "    \n",
    "boostmeup(X_train, y_train)\n",
    "\n"
   ]
  },
  {
   "cell_type": "markdown",
   "metadata": {
    "autograde": "4.3",
    "button": false,
    "deletable": false,
    "editable": false,
    "new_sheet": false,
    "run_control": {
     "read_only": false
    }
   },
   "source": [
    "<div class='exercise-r'>  \n",
    " \n",
    "**4.3** Now, let us use the sklearn implementation of AdaBoost: Use `AdaBoostClassifier` to fit another ensemble to `X_train`. Use a decision tree of depth 3 as the base learner and a learning rate 0.05, and run the boosting for 800 iterations. Make a plot of the effect of the number of estimators/iterations on the model's train and test accuracy.\n",
    " \n",
    " *Hint*: The `staged_score` method provides the accuracy numbers you'll need. You'll need to use `list()` to convert the \"generator\" it returns into an ordinary list.\n",
    " \n",
    " </div>"
   ]
  },
  {
   "cell_type": "code",
   "execution_count": 445,
   "metadata": {
    "deletable": false
   },
   "outputs": [
    {
     "name": "stdout",
     "output_type": "stream",
     "text": [
      "AdaBoost accuracy train = 90.25999999999999%\n",
      "AdaBoost accuracy test = 66.7%\n"
     ]
    }
   ],
   "source": [
    "AdaBoost = AdaBoostClassifier(base_estimator = DecisionTreeClassifier(max_depth=3), n_estimators=800, learning_rate=0.05)\n",
    "AdaBoost.fit(X_train, y_train)\n",
    "Ada_acc_train = AdaBoost.score(X_train,y_train)\n",
    "Ada_acc_test = AdaBoost.score(X_test,y_test)\n",
    "print(f'AdaBoost accuracy train = {Ada_acc_train*100}%')\n",
    "print(f'AdaBoost accuracy test = {Ada_acc_test*100}%')"
   ]
  },
  {
   "cell_type": "code",
   "execution_count": 448,
   "metadata": {},
   "outputs": [
    {
     "name": "stdout",
     "output_type": "stream",
     "text": [
      "done\n"
     ]
    }
   ],
   "source": [
    "Ada_acc_train = []\n",
    "Ada_acc_test = []\n",
    "estimators = 1 \n",
    "for i in range(10):\n",
    "    estimators = (i+1)*80\n",
    "    AdaBoost = AdaBoostClassifier(base_estimator = DecisionTreeClassifier(max_depth=3), n_estimators=estimators, learning_rate=0.05)\n",
    "    AdaBoost.fit(X_train, y_train)\n",
    "    Ada_acc_train.append(AdaBoost.score(X_train,y_train))\n",
    "    Ada_acc_test.append(AdaBoost.score(X_test,y_test))\n",
    "\n",
    "print(\"done\")"
   ]
  },
  {
   "cell_type": "markdown",
   "metadata": {},
   "source": [
    "Note that the above takes forever to run. "
   ]
  },
  {
   "cell_type": "code",
   "execution_count": 449,
   "metadata": {},
   "outputs": [
    {
     "data": {
      "image/png": "[encoded data removed]",
      "text/plain": [
       "<Figure size 720x576 with 1 Axes>"
      ]
     },
     "metadata": {},
     "output_type": "display_data"
    }
   ],
   "source": [
    "n = np.linspace(1,800,10)\n",
    "plt.figure(figsize=(10,8))\n",
    "plt.plot(n,Ada_acc_test,alpha=0.7,linewidth=3,color='#50AEA4', label='Accurcay Test')\n",
    "plt.plot(n,Ada_acc_train,alpha=0.7,linewidth=3,color='#80eb34', label='Accuracy Train')\n",
    "\n",
    "plt.title('Accuracy for various estimator sizes',fontsize=24)\n",
    "plt.xlabel('Number estimators',fontsize=16)\n",
    "plt.ylabel('Accuracy',fontsize=16)\n",
    "plt.xticks(fontsize=12)\n",
    "plt.yticks(fontsize=12)\n",
    "plt.legend(loc='best',fontsize=12)\n",
    "plt.show()"
   ]
  },
  {
   "cell_type": "markdown",
   "metadata": {
    "autograde": "4.4",
    "button": false,
    "deletable": false,
    "editable": false,
    "new_sheet": false,
    "run_control": {
     "read_only": false
    }
   },
   "source": [
    "<div class='exercise-r'>  \n",
    " \n",
    "**4.4** Repeat the plot above for a base learner with depth of (1, 2, 3, 4). What trends do you see in the training and test accuracy?\n",
    " \n",
    " (It's okay if your code re-fits the depth-3 classifier instead of reusing the results from the previous problem.)\n",
    " \n",
    " </div>"
   ]
  },
  {
   "cell_type": "code",
   "execution_count": 450,
   "metadata": {
    "deletable": false
   },
   "outputs": [
    {
     "name": "stdout",
     "output_type": "stream",
     "text": [
      "done\n",
      "done\n",
      "done\n",
      "done\n"
     ]
    }
   ],
   "source": [
    "# your code here\n",
    "Ada_acc_train1 = []\n",
    "Ada_acc_test1 = []\n",
    "estimators = 1 \n",
    "for i in range(10):\n",
    "    estimators = (i+1)*80\n",
    "    AdaBoost = AdaBoostClassifier(base_estimator = DecisionTreeClassifier(max_depth=1), n_estimators=estimators, learning_rate=0.05)\n",
    "    AdaBoost.fit(X_train, y_train)\n",
    "    Ada_acc_train1.append(AdaBoost.score(X_train,y_train))\n",
    "    Ada_acc_test1.append(AdaBoost.score(X_test,y_test))\n",
    "\n",
    "print(\"done\")\n",
    "\n",
    "Ada_acc_train2 = []\n",
    "Ada_acc_test2 = []\n",
    "estimators = 1 \n",
    "for i in range(10):\n",
    "    estimators = (i+1)*80\n",
    "    AdaBoost = AdaBoostClassifier(base_estimator = DecisionTreeClassifier(max_depth=2), n_estimators=estimators, learning_rate=0.05)\n",
    "    AdaBoost.fit(X_train, y_train)\n",
    "    Ada_acc_train2.append(AdaBoost.score(X_train,y_train))\n",
    "    Ada_acc_test2.append(AdaBoost.score(X_test,y_test))\n",
    "\n",
    "print(\"done\")\n",
    "Ada_acc_train3 = []\n",
    "Ada_acc_test3 = []\n",
    "estimators = 1 \n",
    "for i in range(10):\n",
    "    estimators = (i+1)*80\n",
    "    AdaBoost = AdaBoostClassifier(base_estimator = DecisionTreeClassifier(max_depth=3), n_estimators=estimators, learning_rate=0.05)\n",
    "    AdaBoost.fit(X_train, y_train)\n",
    "    Ada_acc_train3.append(AdaBoost.score(X_train,y_train))\n",
    "    Ada_acc_test3.append(AdaBoost.score(X_test,y_test))\n",
    "\n",
    "print(\"done\")\n",
    "Ada_acc_train4 = []\n",
    "Ada_acc_test4 = []\n",
    "estimators = 1 \n",
    "for i in range(10):\n",
    "    estimators = (i+1)*80\n",
    "    AdaBoost = AdaBoostClassifier(base_estimator = DecisionTreeClassifier(max_depth=4), n_estimators=estimators, learning_rate=0.05)\n",
    "    AdaBoost.fit(X_train, y_train)\n",
    "    Ada_acc_train4.append(AdaBoost.score(X_train,y_train))\n",
    "    Ada_acc_test4.append(AdaBoost.score(X_test,y_test))\n",
    "\n",
    "print(\"done\")"
   ]
  },
  {
   "cell_type": "markdown",
   "metadata": {},
   "source": [
    "This also takes a really long time to run. could have done this with less estimators and run faster."
   ]
  },
  {
   "cell_type": "code",
   "execution_count": 451,
   "metadata": {
    "deletable": false
   },
   "outputs": [
    {
     "data": {
      "image/png": "[encoded data removed]",
      "text/plain": [
       "<Figure size 720x576 with 1 Axes>"
      ]
     },
     "metadata": {},
     "output_type": "display_data"
    }
   ],
   "source": [
    "# your code here\n",
    "n = np.linspace(1,800,10)\n",
    "plt.figure(figsize=(10,8))\n",
    "plt.plot(n,Ada_acc_test1,alpha=0.7,linewidth=3,color='#50AEA4', label='Accurcay Test Depth 1')\n",
    "plt.plot(n,Ada_acc_train1,alpha=0.7,linewidth=3,color='#80eb34', label='Accuracy Train Depth 1')\n",
    "plt.plot(n,Ada_acc_test2,alpha=0.7,linewidth=3,color='#eb4034', label='Accurcay Test Depth 2')\n",
    "plt.plot(n,Ada_acc_train2,alpha=0.7,linewidth=3,color='#59032a', label='Accuracy Train Depth 2')\n",
    "plt.plot(n,Ada_acc_test3,alpha=0.7,linewidth=3,color='#eb8c34', label='Accurcay Test Depth 3')\n",
    "plt.plot(n,Ada_acc_train3,alpha=0.7,linewidth=3,color='#34eb8c', label='Accuracy Train Depth 3')\n",
    "plt.plot(n,Ada_acc_test4,alpha=0.7,linewidth=3,color='#4644cf', label='Accurcay Test Depth 4')\n",
    "plt.plot(n,Ada_acc_train4,alpha=0.7,linewidth=3,color='#cdcf44', label='Accuracy Train Depth 4')\n",
    "\n",
    "plt.title('Accuracy for various estimator sizes',fontsize=24)\n",
    "plt.xlabel('Number estimators',fontsize=16)\n",
    "plt.ylabel('Accuracy',fontsize=16)\n",
    "plt.xticks(fontsize=12)\n",
    "plt.yticks(fontsize=12)\n",
    "plt.legend(loc='best',fontsize=12)\n",
    "plt.show()"
   ]
  },
  {
   "cell_type": "markdown",
   "metadata": {
    "deletable": false
   },
   "source": [
    "The data seems to show that a test depth of 3 and 1 estimator to be the best method. It looks like this model begins to overfit quicker as the model depth gets larger (1 and 2 depth) then immediately begins decreasing in accuracy and overfitting with the depth 3 and 4 sets. "
   ]
  },
  {
   "cell_type": "markdown",
   "metadata": {
    "autograde": "4.5",
    "button": false,
    "deletable": false,
    "editable": false,
    "new_sheet": false,
    "run_control": {
     "read_only": false
    }
   },
   "source": [
    "<div class='exercise-r'>  \n",
    " \n",
    "**4.5** Based on the plot you just made, what combination of base learner depth and the number of iterations seems optimal? Why? How does the performance of this model compare with the performance of the ensembles you considered above?\n",
    " </div>"
   ]
  },
  {
   "cell_type": "code",
   "execution_count": 452,
   "metadata": {
    "deletable": false
   },
   "outputs": [
    {
     "data": {
      "text/html": [
       "<div>\n",
       "<style scoped>\n",
       "    .dataframe tbody tr th:only-of-type {\n",
       "        vertical-align: middle;\n",
       "    }\n",
       "\n",
       "    .dataframe tbody tr th {\n",
       "        vertical-align: top;\n",
       "    }\n",
       "\n",
       "    .dataframe thead th {\n",
       "        text-align: right;\n",
       "    }\n",
       "</style>\n",
       "<table border=\"1\" class=\"dataframe\">\n",
       "  <thead>\n",
       "    <tr style=\"text-align: right;\">\n",
       "      <th></th>\n",
       "      <th>classifier</th>\n",
       "      <th>training accuracy</th>\n",
       "      <th>test accuracy</th>\n",
       "    </tr>\n",
       "  </thead>\n",
       "  <tbody>\n",
       "    <tr>\n",
       "      <th>0</th>\n",
       "      <td>single tree with best depth chosen by CV</td>\n",
       "      <td>0.6036</td>\n",
       "      <td>0.6132</td>\n",
       "    </tr>\n",
       "    <tr>\n",
       "      <th>1</th>\n",
       "      <td>single depth-X tree</td>\n",
       "      <td>0.6812</td>\n",
       "      <td>0.6482</td>\n",
       "    </tr>\n",
       "    <tr>\n",
       "      <th>2</th>\n",
       "      <td>bagging 55 depth-X trees</td>\n",
       "      <td>0.9984</td>\n",
       "      <td>0.6902</td>\n",
       "    </tr>\n",
       "    <tr>\n",
       "      <th>3</th>\n",
       "      <td>Random Forest of 55 depth-X trees</td>\n",
       "      <td>99.9600</td>\n",
       "      <td>69.4600</td>\n",
       "    </tr>\n",
       "  </tbody>\n",
       "</table>\n",
       "</div>"
      ],
      "text/plain": [
       "                                 classifier  training accuracy  test accuracy\n",
       "0  single tree with best depth chosen by CV             0.6036         0.6132\n",
       "1                       single depth-X tree             0.6812         0.6482\n",
       "2                  bagging 55 depth-X trees             0.9984         0.6902\n",
       "3         Random Forest of 55 depth-X trees            99.9600        69.4600"
      ]
     },
     "metadata": {},
     "output_type": "display_data"
    },
    {
     "data": {
      "text/plain": [
       "0.701"
      ]
     },
     "execution_count": 452,
     "metadata": {},
     "output_type": "execute_result"
    }
   ],
   "source": [
    "# your code here\n",
    "display(results_df)\n",
    "Ada_acc_test3[0]"
   ]
  },
  {
   "cell_type": "markdown",
   "metadata": {
    "deletable": false
   },
   "source": [
    "The depth 3 tree with 1 estimator seems to perform the best. The accuracy of this is pretty good as it appears to be 70.04%. Not sure if you guys want me to do anything else here? This is considerably better than all of the other models I had except the random forest of 55 depth-X trees which is less than a half of a percent more accurate on the test data than our depth 3 with 1 estimator. Really unclear here if you wanted extra code, couldn't find answers on the chat to this question. "
   ]
  },
  {
   "cell_type": "markdown",
   "metadata": {
    "button": false,
    "deletable": false,
    "editable": false,
    "new_sheet": false,
    "run_control": {
     "read_only": false
    }
   },
   "source": [
    "### <div class='exercise'>Question 5 [15pts]: Understanding</div>\n",
    "[▲ Return to contents](#Contents)\n",
    "<div class='exercise'>\n",
    "This question is intended to evaluate your overall knowledge and understanding of the current material. You may need to refer to lecture notes and other material outside this homework to answer these questions.\n",
    "    \n",
    "\n",
    "**5.1** How do boosting and bagging relate: what is common to both, and what is unique to each?\n",
    "\n",
    "\n",
    "**5.2** Reflect on the overall performance of all of the different classifiers you have seen throughout this assignment. Which performed best? Why do you think that may have happened?\n",
    "\n",
    "**5.3** What is the impact of having too many trees in boosting and in bagging? In which instance is it worse to have too many trees?\n",
    "\n",
    "**5.4** Which technique, boosting or bagging, is better suited to parallelization, where you could have multiple computers working on a problem at the same time?\n",
    "\n",
    "**5.5** Which of these techniques can be extended to regression tasks? How?\n",
    "\n",
    "</div>\n"
   ]
  },
  {
   "cell_type": "markdown",
   "metadata": {
    "button": false,
    "deletable": false,
    "editable": false,
    "new_sheet": false,
    "run_control": {
     "read_only": false
    }
   },
   "source": [
    "## Answers"
   ]
  },
  {
   "cell_type": "markdown",
   "metadata": {
    "autograde": "5.1",
    "button": false,
    "deletable": false,
    "editable": false,
    "new_sheet": false,
    "run_control": {
     "read_only": false
    }
   },
   "source": [
    "<div class='exercise-r'>  \n",
    " \n",
    "**5.1** How do boosting and bagging relate: what is common to both, and what is unique to each?\n",
    " \n",
    " \n",
    " </div>"
   ]
  },
  {
   "cell_type": "markdown",
   "metadata": {
    "deletable": false
   },
   "source": [
    "Boosting and bagging are similar in that they take a series or weaker models and aggregate them into a stronger performing one. \n",
    "Both bagging and boosting take random samples with replacement from the training data.\n",
    "Boosting differs in that bagging works in parallel whil;e boosting instead works in sequence, weighting the results of each randomly selected tree. Boosting takes into consideration its previous models success and decides on a weight for that model dependent on its success. Thus a really well fit model(with a good classification result) will bare more weight than a worse one when it comes time to aggregate the results. "
   ]
  },
  {
   "cell_type": "markdown",
   "metadata": {
    "autograde": "5.2",
    "button": false,
    "deletable": false,
    "editable": false,
    "new_sheet": false,
    "run_control": {
     "read_only": false
    }
   },
   "source": [
    "<div class='exercise-r'>  \n",
    " \n",
    "**5.2** Reflect on the overall performance of all of the different classifiers you have seen throughout this assignment. Which performed best? Why do you think that may have happened?\n",
    " \n",
    " </div>"
   ]
  },
  {
   "cell_type": "markdown",
   "metadata": {
    "deletable": false
   },
   "source": [
    "Overall the results of our AdaBoost classifier and our bagging classifier were nearly identical. This is something that will typically vary form model to model. our RandomForest bagging worked slightly better than our AdaBoost model. Its worth noting that the AdaBoost classifier took significantly more time to run. I think the performance happened in this way since there were modertately important variables that the RandomForest, due to its lack of progressive weighting, couldn't devalue as much as it maybe should have. This can be seen in my charts in 3.2/"
   ]
  },
  {
   "cell_type": "markdown",
   "metadata": {
    "autograde": "5.3",
    "button": false,
    "deletable": false,
    "editable": false,
    "new_sheet": false,
    "run_control": {
     "read_only": false
    }
   },
   "source": [
    "<div class='exercise-r'>  \n",
    " \n",
    "**5.3** What is the impact of having too many trees in boosting and in bagging? In which instance is it worse to have too many trees?\n",
    " \n",
    " </div>"
   ]
  },
  {
   "cell_type": "markdown",
   "metadata": {
    "deletable": false
   },
   "source": [
    "From my answers to 4.4 we can see the effects of increasing the number of trees in AdaBoost. For models with depths greater than 1, we generally saw the accuracy trend down as the number of trees increased. Adding more trees can lead to overfitting in the boosting case. \n",
    "\n",
    "Gernerally for RandomForest/bagging, increasing the number of trees in the ensumble does not increase the risk of overfitting. The number of trees can cause things to become more correlated however and increase the variance. The same is true for both models "
   ]
  },
  {
   "cell_type": "markdown",
   "metadata": {
    "autograde": "5.4",
    "button": false,
    "deletable": false,
    "editable": false,
    "new_sheet": false,
    "run_control": {
     "read_only": false
    }
   },
   "source": [
    "<div class='exercise-r'>  \n",
    " \n",
    "**5.4** Which technique, boosting or bagging, is better suited to parallelization, where you could have multiple computers working on a problem at the same time?\n",
    " \n",
    " </div>"
   ]
  },
  {
   "cell_type": "code",
   "execution_count": null,
   "metadata": {},
   "outputs": [],
   "source": []
  },
  {
   "cell_type": "markdown",
   "metadata": {
    "deletable": false
   },
   "source": [
    "Bagging is definitely more suited for this since it takes random samples that do not have an effect on the next random sample pulled. Boosting on the other hand is sequential. \n",
    "\n"
   ]
  },
  {
   "cell_type": "markdown",
   "metadata": {
    "autograde": "5.5",
    "button": false,
    "deletable": false,
    "editable": false,
    "new_sheet": false,
    "run_control": {
     "read_only": false
    }
   },
   "source": [
    "<div class='exercise-r'>  \n",
    " \n",
    "**5.5** Which of these techniques can be extended to regression tasks? How?\n",
    " \n",
    " </div>"
   ]
  },
  {
   "cell_type": "markdown",
   "metadata": {
    "deletable": false
   },
   "source": [
    "Boosting is more suited for regression tasks. We do this by replacing the error function with the exponential loss function. This gives us differentiable error that we can then apply gradient descent techniques to. "
   ]
  },
  {
   "cell_type": "markdown",
   "metadata": {
    "button": false,
    "deletable": false,
    "editable": false,
    "jupyter": {
     "outputs_hidden": true
    },
    "new_sheet": false,
    "run_control": {
     "read_only": false
    }
   },
   "source": [
    "### End of Notebook"
   ]
  },
  {
   "cell_type": "code",
   "execution_count": null,
   "metadata": {
    "deletable": false,
    "editable": false
   },
   "outputs": [],
   "source": []
  },
  {
   "cell_type": "code",
   "execution_count": null,
   "metadata": {},
   "outputs": [],
   "source": []
  },
  {
   "cell_type": "code",
   "execution_count": null,
   "metadata": {},
   "outputs": [],
   "source": []
  }
 ],
 "metadata": {
  "anaconda-cloud": {},
  "celltoolbar": "Edit Metadata",
  "jupytext": {},
  "kernelspec": {
   "display_name": "Python 3",
   "language": "python",
   "name": "python3"
  },
  "language_info": {
   "codemirror_mode": {
    "name": "ipython",
    "version": 3
   },
   "file_extension": ".py",
   "mimetype": "text/x-python",
   "name": "python",
   "nbconvert_exporter": "python",
   "pygments_lexer": "ipython3",
   "version": "3.8.3"
  },
  "latex_envs": {
   "bibliofile": "biblio.bib",
   "cite_by": "apalike",
   "current_citInitial": 1,
   "eqLabelWithNumbers": true,
   "eqNumInitial": 0
  },
  "pycharm": {
   "stem_cell": {
    "cell_type": "raw",
    "metadata": {
     "collapsed": false
    },
    "source": []
   }
  },
  "toc": {
   "base_numbering": 1,
   "nav_menu": {},
   "number_sections": true,
   "sideBar": true,
   "skip_h1_title": false,
   "title_cell": "Table of Contents",
   "title_sidebar": "Contents",
   "toc_cell": false,
   "toc_position": {},
   "toc_section_display": true,
   "toc_window_display": false
  }
 },
 "nbformat": 4,
 "nbformat_minor": 4
}
