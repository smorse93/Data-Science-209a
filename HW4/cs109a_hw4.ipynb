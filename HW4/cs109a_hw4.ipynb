{
 "cells": [
  {
   "cell_type": "markdown",
   "metadata": {},
   "source": [
    "# <img style=\"float: left; padding-right: 10px; width: 45px\" src=\"https://raw.githubusercontent.com/Harvard-IACS/2018-CS109A/master/content/styles/iacs.png\"> CS109A Introduction to Data Science: \n",
    "## Homework 4: Predicting College Admissions\n",
    "\n",
    "**Harvard University**<br/>\n",
    "**Fall 2020**<br/>\n",
    "**Instructors**: Pavlos Protopapas, Kevin Rader, and Chris Tanner\n",
    "\n",
    "<hr style=\"height:2.4pt\">"
   ]
  },
  {
   "cell_type": "code",
   "execution_count": 5,
   "metadata": {},
   "outputs": [
    {
     "data": {
      "text/html": [
       "<style>\n",
       "blockquote { background: #AEDE94; }\n",
       "h1 { \n",
       "    padding-top: 25px;\n",
       "    padding-bottom: 25px;\n",
       "    text-align: left; \n",
       "    padding-left: 10px;\n",
       "    background-color: #DDDDDD; \n",
       "    color: black;\n",
       "}\n",
       "h2 { \n",
       "    padding-top: 10px;\n",
       "    padding-bottom: 10px;\n",
       "    text-align: left; \n",
       "    padding-left: 5px;\n",
       "    background-color: #EEEEEE; \n",
       "    color: black;\n",
       "}\n",
       "\n",
       "div.exercise {\n",
       "\tbackground-color: #ffcccc;\n",
       "\tborder-color: #E9967A; \t\n",
       "\tborder-left: 5px solid #800080; \n",
       "\tpadding: 0.5em;\n",
       "}\n",
       "\n",
       "div.exercise-r {\n",
       "\tbackground-color: #fce8e8;\n",
       "\tborder-color: #E9967A; \t\n",
       "\tborder-left: 5px solid #800080; \n",
       "\tpadding: 0.5em;\n",
       "}\n",
       "\n",
       "\n",
       "span.sub-q {\n",
       "\tfont-weight: bold;\n",
       "}\n",
       "div.theme {\n",
       "\tbackground-color: #DDDDDD;\n",
       "\tborder-color: #E9967A; \t\n",
       "\tborder-left: 5px solid #800080; \n",
       "\tpadding: 0.5em;\n",
       "\tfont-size: 18pt;\n",
       "}\n",
       "div.gc { \n",
       "\tbackground-color: #AEDE94;\n",
       "\tborder-color: #E9967A; \t \n",
       "\tborder-left: 5px solid #800080; \n",
       "\tpadding: 0.5em;\n",
       "\tfont-size: 12pt;\n",
       "}\n",
       "p.q1 { \n",
       "    padding-top: 5px;\n",
       "    padding-bottom: 5px;\n",
       "    text-align: left; \n",
       "    padding-left: 5px;\n",
       "    background-color: #EEEEEE; \n",
       "    color: black;\n",
       "}\n",
       "header {\n",
       "   padding-top: 35px;\n",
       "    padding-bottom: 35px;\n",
       "    text-align: left; \n",
       "    padding-left: 10px;\n",
       "    background-color: #DDDDDD; \n",
       "    color: black;\n",
       "}\n",
       "</style>\n",
       "\n"
      ],
      "text/plain": [
       "<IPython.core.display.HTML object>"
      ]
     },
     "execution_count": 5,
     "metadata": {},
     "output_type": "execute_result"
    }
   ],
   "source": [
    "#RUN THIS CELL \n",
    "import requests\n",
    "from IPython.core.display import HTML\n",
    "styles = requests.get(\n",
    "    \"https://raw.githubusercontent.com/Harvard-IACS/2018-CS109A/master/content/styles/cs109.css\"\n",
    ").text\n",
    "HTML(styles)"
   ]
  },
  {
   "cell_type": "code",
   "execution_count": 83,
   "metadata": {},
   "outputs": [],
   "source": [
    "%matplotlib inline\n",
    "import math\n",
    "import numpy as np\n",
    "import pandas as pd\n",
    "import seaborn as sns\n",
    "import matplotlib.pyplot as plt\n",
    "\n",
    "from sklearn.model_selection import train_test_split\n",
    "from sklearn.preprocessing import PolynomialFeatures\n",
    "from sklearn.preprocessing import StandardScaler\n",
    "from sklearn.model_selection import cross_validate\n",
    "\n",
    "from sklearn.linear_model import LogisticRegression\n",
    "from sklearn.neighbors import KNeighborsClassifier\n",
    "from sklearn.linear_model import LogisticRegressionCV\n",
    "\n",
    "from sklearn.metrics import accuracy_score\n",
    "from sklearn.metrics import roc_curve\n",
    "from sklearn.metrics import roc_auc_score\n"
   ]
  },
  {
   "cell_type": "markdown",
   "metadata": {},
   "source": [
    "<hr style=\"height:2pt\">\n",
    "\n",
    "### INSTRUCTIONS\n",
    "\n",
    "- **THIS IS AN INDIVIDUAL ASSIGNMENT**. \n",
    "\n",
    "- To submit your assignment follow the instructions given in Canvas.\n",
    "\n",
    "- This assignment **must be done individually**.\n",
    "\n",
    "- Please restart the kernel and run the entire notebook again before you submit.\n",
    "\n",
    "- Running cells out of order is a common pitfall in Jupyter Notebooks. To make sure your code works restart the kernel and run the whole notebook again before you submit. Exceptions should be made for code with a long execution time, of course.\n",
    "- We have tried to include all the libraries you may need to do the assignment in the imports statement at the top of this notebook. We strongly suggest that you use those and not others as we may not be familiar with them.\n",
    "- Please use .head() when viewing data. Do not submit a notebook that is **excessively long**. \n",
    "- In questions that require code to answer, such as \"calculate the $R^2$\", do not just output the value from a cell. Write a `print()` function that includes a reference to the calculated value, **not hardcoded**. For example: \n",
    "```\n",
    "print(f'The R^2 is {R:.4f}')\n",
    "```\n",
    "- Your plots should include clear labels for the $x$ and $y$ axes as well as a descriptive title (\"MSE plot\" is not a descriptive title; \"95 % confidence interval of coefficients of polynomial degree 5\" is).\n",
    "<hr style=\"height:2pt\">"
   ]
  },
  {
   "cell_type": "markdown",
   "metadata": {},
   "source": [
    "## Overview and Data Description\n",
    "\n",
    "### Predicting admissions into elite universities\n",
    "\n",
    "In this problem set we will model the chances of high school students being accepted into two different elite undergraduate colleges (one is elite at least :) ): Harvard and Yale.  The data are provided in the file `data/college_admissions.csv` and were scraped from [collegedata.com](https://www.collegedata.com/) (where applicants volunteer to share their information).  Each observation corresponds to an applicant to one of the two different colleges (note: the same applicant may show up in two rows: once for each college).  The main response is the `admitted` variable (1 = admitted, 0 = denied), and there are are several predictors to consider:\n",
    "\n",
    "- **id**: a unique identifier for the applicant \n",
    "- **test**: a standardized measurement of the applicants highest ACT or SAT combined score (2400 is the maximum). \n",
    "- **ap**: the number of AP tests taken\n",
    "- **avg_ap**: the average score on the AP tests taken (0 if no tests were taken)\n",
    "- **sat_subjects**: the number of SAT subject tests taken\n",
    "- **gpa**: the unweighted GPA of applicant (max of 4.0)\n",
    "- **female**:  a binary indicator for gender: 1 = female, 0 = otherwise \n",
    "- **minority**: a binary indicator for under-represented minority: 1 = minority, 0 = otherwise \n",
    "- **international**: a binary indicator for international status: 1 = international, 0 = US\n",
    "- **sports**: a binary indicator for HS All-American: 1 = all-American athlete, 0 = otherwise\n",
    "- **school**: a categorical variable for school applied to: \"Harvard\" or \"Yale\"\n",
    "- **early_app**: a binary indicator for application type: 1 = early action, 0 = regular\n",
    "- **alumni**:  a binary indicator for parents' alumni status of school: 1 = a parent is an alumnus, 0 = otherwise\n",
    "- **program**: the program applied to by the student with many choices (we will not use this as a predictor)\n",
    "- **add_info**: additional (optional) info provided by applicant (we will not use this as a predictor)\n",
    "\n",
    "The main set of 12 predictors is (note: you may need to modify this list when fitting different models, and your will be replacing the `school` variable with a binary `harvard` variable early in the questions below):\n",
    "\n",
    "```python\n",
    "[\n",
    "    'test','ap','avg_ap','sat_subjects','gpa','female',\n",
    "    'minority','international','sports','school','early_app','alumni'\n",
    "]\n",
    "```\n",
    "\n",
    "Please use this dataset to answer the following questions below.\n",
    "\n",
    "**Important notes:**\n",
    "\n",
    "- **Unless stated otherwise, all logistic regression models should be unregularized (use `penalty=\"none\"`) and include the intercept (which is the default in `sklearn`).**\n",
    "\n",
    "\n",
    "- **When printing your output (e.g. coefficients, accuracy scores, etc.), DO NOT just print numbers without context. Please be certain provide clarifying labels for all printed numbers and limit the number of digits showing after decimals to a reasonable length (e.g. 4 decimal points for coefficients and accuracy scores).**\n",
    "\n",
    "\n",
    "- **Also be sure to practice good data science principles: always use train to do analysis and never touch the test set until the very end.**"
   ]
  },
  {
   "cell_type": "markdown",
   "metadata": {},
   "source": [
    "---"
   ]
  },
  {
   "cell_type": "markdown",
   "metadata": {},
   "source": [
    "<div class='exercise'><b> Question 1 [16 pts]: Data Exploration using train and basic models </b></div>\n",
    "\n",
    "The first step is to split the observations into an approximate 80-20 train-test split.  Below is some code to do this for you (we want to make sure everyone has the same splits). It also prints the dataset's shape before splitting and after splitting. \n",
    "\n",
    "**IMPORTANT:** While a valid argument could be made to scale our predictors here, please **DO NOT** do so **UNTIL** it is requested of you in **question 4.1**.\n",
    "\n",
    "**1.1** What proportion of observations were admitted overall?  What would be the classification accuracy for a baseline \"naive\" model where we classified ALL applicants as either admitted or not admitted using just this overall proportion to make our decision (i.e. we apply the same outcome to all applicants based on this proportion)?\n",
    "\n",
    "\n",
    "**1.2** Create a binary ('dummy') variable named `harvard` that takes on the value 1 if `school == \"Harvard\"` and 0 otherwise. Now, explore the marginal association of each of our 12 predictors with whether or not an applicant is admitted into the college they applied (`admitted`).  Create a separate **visual** for each predictor to investigage their relationship with college admissions.  **Suggestion:** place these 12 visuals in a *matrix* of subplots with 3 columns and 4 rows.\n",
    "\n",
    "**Note:** We will be using our dummified `harvard` predictor instead of `school` throughout the remainder of this problem set.\n",
    "\n",
    "**1.3** Based on the visuals above, which predictor seems to have the most potential for predicting `admitted`? Why do you think this it the best potential single predictor?\n",
    "\n",
    "\n",
    "**1.4** Fit a logistic regression to predict `admitted` from `harvard` (call it `logit1_4`).  Interpret the coefficient estimates: which college is estimated to be easier to get into?  What are the estimated chances of getting into each school?\n",
    "\n",
    "\n",
    "**1.5** Create a contingency table between `admitted` and `harvard`.  Use this table to calculate and confirm the coefficient estimates in the `logit1_4` model (both the intercept and slope).\n",
    "\n",
    "\n",
    "**1.6** Compare the estimated probabilities of being admitted into the schools to the overall acceptance rate (as seen [here](https://www.ivycoach.com/2023-ivy-league-admissions-statistics/)).  Why may what you've observed in this comparison be the case?\n"
   ]
  },
  {
   "cell_type": "code",
   "execution_count": 7,
   "metadata": {},
   "outputs": [
    {
     "name": "stdout",
     "output_type": "stream",
     "text": [
      "(1871, 16)\n",
      "(1496, 16) (375, 16)\n"
     ]
    }
   ],
   "source": [
    "#############################\n",
    "## DO NOT MODIFY THIS CODE ##\n",
    "#############################\n",
    "\n",
    "college = pd.read_csv('data/college_admissions.csv')\n",
    "np.random.seed(121)\n",
    "\n",
    "college_train, college_test, = train_test_split(\n",
    "    college, test_size=0.2,  random_state = 121, shuffle=True, stratify = college['school']\n",
    ")\n",
    "\n",
    "print(college.shape)\n",
    "print(college_train.shape, college_test.shape)"
   ]
  },
  {
   "cell_type": "markdown",
   "metadata": {},
   "source": [
    "Not certain that I'm interpretting this correctly"
   ]
  },
  {
   "cell_type": "markdown",
   "metadata": {
    "autograde": "1.1",
    "cell_id": "0a790850-87c6-4f46-b89e-048a2295c92b",
    "colab_type": "text",
    "id": "IGFtXJmQap2q"
   },
   "source": [
    "<div class='exercise-r'>  \n",
    " \n",
    "**1.1** What proportion of observations were admitted overall?  What would be the classification accuracy for a baseline \"naive\" model where we classified ALL applicants as either admitted or not admitted using just this overall proportion to make our decision (i.e. we apply the same outcome to all applicants based on this proportion)?\n",
    " \n",
    " \n",
    " </div>"
   ]
  },
  {
   "cell_type": "code",
   "execution_count": 44,
   "metadata": {
    "scrolled": true
   },
   "outputs": [
    {
     "data": {
      "text/html": [
       "<div>\n",
       "<style scoped>\n",
       "    .dataframe tbody tr th:only-of-type {\n",
       "        vertical-align: middle;\n",
       "    }\n",
       "\n",
       "    .dataframe tbody tr th {\n",
       "        vertical-align: top;\n",
       "    }\n",
       "\n",
       "    .dataframe thead th {\n",
       "        text-align: right;\n",
       "    }\n",
       "</style>\n",
       "<table border=\"1\" class=\"dataframe\">\n",
       "  <thead>\n",
       "    <tr style=\"text-align: right;\">\n",
       "      <th></th>\n",
       "      <th>id</th>\n",
       "      <th>admitted</th>\n",
       "      <th>test</th>\n",
       "      <th>ap</th>\n",
       "      <th>avg_ap</th>\n",
       "      <th>sat_subjects</th>\n",
       "      <th>gpa</th>\n",
       "      <th>female</th>\n",
       "      <th>minority</th>\n",
       "      <th>international</th>\n",
       "      <th>sports</th>\n",
       "      <th>school</th>\n",
       "      <th>early_app</th>\n",
       "      <th>alumni</th>\n",
       "      <th>program</th>\n",
       "      <th>add_info</th>\n",
       "    </tr>\n",
       "  </thead>\n",
       "  <tbody>\n",
       "    <tr>\n",
       "      <th>584</th>\n",
       "      <td>JTEQOV7ZCB</td>\n",
       "      <td>0</td>\n",
       "      <td>2080</td>\n",
       "      <td>5</td>\n",
       "      <td>4.400000</td>\n",
       "      <td>4</td>\n",
       "      <td>3.90</td>\n",
       "      <td>1</td>\n",
       "      <td>0</td>\n",
       "      <td>0</td>\n",
       "      <td>0</td>\n",
       "      <td>Harvard</td>\n",
       "      <td>1</td>\n",
       "      <td>0</td>\n",
       "      <td>Mechanical Engineering</td>\n",
       "      <td>Swimming 3 years Water Polo 3 years Foreign La...</td>\n",
       "    </tr>\n",
       "    <tr>\n",
       "      <th>1817</th>\n",
       "      <td>I03PV24OHY</td>\n",
       "      <td>1</td>\n",
       "      <td>2190</td>\n",
       "      <td>6</td>\n",
       "      <td>3.666667</td>\n",
       "      <td>3</td>\n",
       "      <td>3.97</td>\n",
       "      <td>1</td>\n",
       "      <td>0</td>\n",
       "      <td>0</td>\n",
       "      <td>0</td>\n",
       "      <td>Yale</td>\n",
       "      <td>0</td>\n",
       "      <td>0</td>\n",
       "      <td>legal studies</td>\n",
       "      <td>horseback riding 5 hrs week year round marchin...</td>\n",
       "    </tr>\n",
       "    <tr>\n",
       "      <th>1308</th>\n",
       "      <td>K42SAOUYJJ</td>\n",
       "      <td>0</td>\n",
       "      <td>2140</td>\n",
       "      <td>2</td>\n",
       "      <td>4.500000</td>\n",
       "      <td>3</td>\n",
       "      <td>3.70</td>\n",
       "      <td>0</td>\n",
       "      <td>0</td>\n",
       "      <td>0</td>\n",
       "      <td>0</td>\n",
       "      <td>Yale</td>\n",
       "      <td>0</td>\n",
       "      <td>0</td>\n",
       "      <td>Film</td>\n",
       "      <td>Lacrosse Film Club Take Action Club NYU Tisch ...</td>\n",
       "    </tr>\n",
       "    <tr>\n",
       "      <th>1336</th>\n",
       "      <td>LODYYSRTYZ</td>\n",
       "      <td>0</td>\n",
       "      <td>2120</td>\n",
       "      <td>6</td>\n",
       "      <td>3.333333</td>\n",
       "      <td>3</td>\n",
       "      <td>4.00</td>\n",
       "      <td>1</td>\n",
       "      <td>0</td>\n",
       "      <td>0</td>\n",
       "      <td>0</td>\n",
       "      <td>Yale</td>\n",
       "      <td>1</td>\n",
       "      <td>0</td>\n",
       "      <td>Biological Sciences</td>\n",
       "      <td>Varsity Orchestra Music Librarian 10 11 12 Vio...</td>\n",
       "    </tr>\n",
       "    <tr>\n",
       "      <th>3</th>\n",
       "      <td>OC717EAKXN</td>\n",
       "      <td>1</td>\n",
       "      <td>2400</td>\n",
       "      <td>5</td>\n",
       "      <td>5.000000</td>\n",
       "      <td>5</td>\n",
       "      <td>4.00</td>\n",
       "      <td>1</td>\n",
       "      <td>0</td>\n",
       "      <td>0</td>\n",
       "      <td>0</td>\n",
       "      <td>Harvard</td>\n",
       "      <td>0</td>\n",
       "      <td>0</td>\n",
       "      <td>Mathematics</td>\n",
       "      <td>NaN</td>\n",
       "    </tr>\n",
       "  </tbody>\n",
       "</table>\n",
       "</div>"
      ],
      "text/plain": [
       "              id  admitted  test  ap    avg_ap  sat_subjects   gpa  female  \\\n",
       "584   JTEQOV7ZCB         0  2080   5  4.400000             4  3.90       1   \n",
       "1817  I03PV24OHY         1  2190   6  3.666667             3  3.97       1   \n",
       "1308  K42SAOUYJJ         0  2140   2  4.500000             3  3.70       0   \n",
       "1336  LODYYSRTYZ         0  2120   6  3.333333             3  4.00       1   \n",
       "3     OC717EAKXN         1  2400   5  5.000000             5  4.00       1   \n",
       "\n",
       "      minority  international  sports   school  early_app  alumni  \\\n",
       "584          0              0       0  Harvard          1       0   \n",
       "1817         0              0       0     Yale          0       0   \n",
       "1308         0              0       0     Yale          0       0   \n",
       "1336         0              0       0     Yale          1       0   \n",
       "3            0              0       0  Harvard          0       0   \n",
       "\n",
       "                     program  \\\n",
       "584   Mechanical Engineering   \n",
       "1817           legal studies   \n",
       "1308                    Film   \n",
       "1336     Biological Sciences   \n",
       "3                Mathematics   \n",
       "\n",
       "                                               add_info  \n",
       "584   Swimming 3 years Water Polo 3 years Foreign La...  \n",
       "1817  horseback riding 5 hrs week year round marchin...  \n",
       "1308  Lacrosse Film Club Take Action Club NYU Tisch ...  \n",
       "1336  Varsity Orchestra Music Librarian 10 11 12 Vio...  \n",
       "3                                                   NaN  "
      ]
     },
     "execution_count": 44,
     "metadata": {},
     "output_type": "execute_result"
    }
   ],
   "source": [
    "college_train.head()"
   ]
  },
  {
   "cell_type": "code",
   "execution_count": 710,
   "metadata": {},
   "outputs": [
    {
     "name": "stdout",
     "output_type": "stream",
     "text": [
      "The percentage of admitted students is: 26.991%\n"
     ]
    }
   ],
   "source": [
    "# your code here\n",
    "admitted = college.loc[college['admitted'] == 1]\n",
    "admitted.head()\n",
    "percent_admitted = 100* len(admitted)/len(college)\n",
    "print(\"The percentage of admitted students is: %5.3f\" %percent_admitted +  \"%\" )"
   ]
  },
  {
   "cell_type": "markdown",
   "metadata": {
    "autograde": "1.2",
    "cell_id": "0a790850-87c6-4f46-b89e-048a2295c92b",
    "colab_type": "text",
    "id": "IGFtXJmQap2q"
   },
   "source": [
    "<div class='exercise-r'>  \n",
    " \n",
    "**1.2** Create a binary ('dummy') variable named `harvard` that takes on the value 1 if `school == \"Harvard\"` and 0 otherwise. Now, explore the marginal association of each of our 12 predictors with whether or not an applicant is admitted into the college they applied (`admitted`).  Create a separate **visual** for each predictor to investigage their relationship with college admissions.  **Suggestion:** place these 12 visuals in a *matrix* of subplots with 3 columns and 4 rows.\n",
    " \n",
    " **Note:** We will be using our dummified `harvard` predictor instead of `school` throughout the remainder of this problem set.\n",
    " \n",
    " </div>"
   ]
  },
  {
   "cell_type": "code",
   "execution_count": 711,
   "metadata": {},
   "outputs": [],
   "source": [
    "college['harvard'] = 0\n",
    "college['yale'] = 0"
   ]
  },
  {
   "cell_type": "code",
   "execution_count": 712,
   "metadata": {
    "scrolled": true
   },
   "outputs": [
    {
     "name": "stderr",
     "output_type": "stream",
     "text": [
      "/Users/stevenmorse/opt/anaconda3/envs/cs109a_3_7/lib/python3.7/site-packages/ipykernel_launcher.py:4: SettingWithCopyWarning: \n",
      "A value is trying to be set on a copy of a slice from a DataFrame\n",
      "\n",
      "See the caveats in the documentation: https://pandas.pydata.org/pandas-docs/stable/user_guide/indexing.html#returning-a-view-versus-a-copy\n",
      "  after removing the cwd from sys.path.\n",
      "/Users/stevenmorse/opt/anaconda3/envs/cs109a_3_7/lib/python3.7/site-packages/ipykernel_launcher.py:6: SettingWithCopyWarning: \n",
      "A value is trying to be set on a copy of a slice from a DataFrame\n",
      "\n",
      "See the caveats in the documentation: https://pandas.pydata.org/pandas-docs/stable/user_guide/indexing.html#returning-a-view-versus-a-copy\n",
      "  \n",
      "/Users/stevenmorse/opt/anaconda3/envs/cs109a_3_7/lib/python3.7/site-packages/ipykernel_launcher.py:9: SettingWithCopyWarning: \n",
      "A value is trying to be set on a copy of a slice from a DataFrame\n",
      "\n",
      "See the caveats in the documentation: https://pandas.pydata.org/pandas-docs/stable/user_guide/indexing.html#returning-a-view-versus-a-copy\n",
      "  if __name__ == '__main__':\n"
     ]
    },
    {
     "data": {
      "text/html": [
       "<div>\n",
       "<style scoped>\n",
       "    .dataframe tbody tr th:only-of-type {\n",
       "        vertical-align: middle;\n",
       "    }\n",
       "\n",
       "    .dataframe tbody tr th {\n",
       "        vertical-align: top;\n",
       "    }\n",
       "\n",
       "    .dataframe thead th {\n",
       "        text-align: right;\n",
       "    }\n",
       "</style>\n",
       "<table border=\"1\" class=\"dataframe\">\n",
       "  <thead>\n",
       "    <tr style=\"text-align: right;\">\n",
       "      <th></th>\n",
       "      <th>id</th>\n",
       "      <th>admitted</th>\n",
       "      <th>test</th>\n",
       "      <th>ap</th>\n",
       "      <th>avg_ap</th>\n",
       "      <th>sat_subjects</th>\n",
       "      <th>gpa</th>\n",
       "      <th>female</th>\n",
       "      <th>minority</th>\n",
       "      <th>international</th>\n",
       "      <th>sports</th>\n",
       "      <th>school</th>\n",
       "      <th>early_app</th>\n",
       "      <th>alumni</th>\n",
       "      <th>program</th>\n",
       "      <th>add_info</th>\n",
       "      <th>harvard</th>\n",
       "      <th>yale</th>\n",
       "    </tr>\n",
       "  </thead>\n",
       "  <tbody>\n",
       "    <tr>\n",
       "      <th>0</th>\n",
       "      <td>W796LITIP9</td>\n",
       "      <td>1</td>\n",
       "      <td>2400</td>\n",
       "      <td>3</td>\n",
       "      <td>5.0</td>\n",
       "      <td>3</td>\n",
       "      <td>3.90</td>\n",
       "      <td>0</td>\n",
       "      <td>0</td>\n",
       "      <td>0</td>\n",
       "      <td>0</td>\n",
       "      <td>Harvard</td>\n",
       "      <td>0</td>\n",
       "      <td>1</td>\n",
       "      <td>NaN</td>\n",
       "      <td>NaN</td>\n",
       "      <td>1</td>\n",
       "      <td>0</td>\n",
       "    </tr>\n",
       "    <tr>\n",
       "      <th>1</th>\n",
       "      <td>WL2QRZQ8X3</td>\n",
       "      <td>1</td>\n",
       "      <td>2400</td>\n",
       "      <td>7</td>\n",
       "      <td>5.0</td>\n",
       "      <td>2</td>\n",
       "      <td>4.00</td>\n",
       "      <td>1</td>\n",
       "      <td>0</td>\n",
       "      <td>0</td>\n",
       "      <td>0</td>\n",
       "      <td>Harvard</td>\n",
       "      <td>0</td>\n",
       "      <td>1</td>\n",
       "      <td>chemistry biology</td>\n",
       "      <td>Tennis 3 years varsity Science Olympiad 3 year...</td>\n",
       "      <td>1</td>\n",
       "      <td>0</td>\n",
       "    </tr>\n",
       "    <tr>\n",
       "      <th>2</th>\n",
       "      <td>WE2YXF12K5</td>\n",
       "      <td>1</td>\n",
       "      <td>2400</td>\n",
       "      <td>1</td>\n",
       "      <td>5.0</td>\n",
       "      <td>1</td>\n",
       "      <td>4.00</td>\n",
       "      <td>1</td>\n",
       "      <td>0</td>\n",
       "      <td>0</td>\n",
       "      <td>0</td>\n",
       "      <td>Harvard</td>\n",
       "      <td>0</td>\n",
       "      <td>0</td>\n",
       "      <td>fjdslkfj</td>\n",
       "      <td>skljdkljkjsdkljfdlklj kljdsfd</td>\n",
       "      <td>1</td>\n",
       "      <td>0</td>\n",
       "    </tr>\n",
       "    <tr>\n",
       "      <th>3</th>\n",
       "      <td>OC717EAKXN</td>\n",
       "      <td>1</td>\n",
       "      <td>2400</td>\n",
       "      <td>5</td>\n",
       "      <td>5.0</td>\n",
       "      <td>5</td>\n",
       "      <td>4.00</td>\n",
       "      <td>1</td>\n",
       "      <td>0</td>\n",
       "      <td>0</td>\n",
       "      <td>0</td>\n",
       "      <td>Harvard</td>\n",
       "      <td>0</td>\n",
       "      <td>0</td>\n",
       "      <td>Mathematics</td>\n",
       "      <td>NaN</td>\n",
       "      <td>1</td>\n",
       "      <td>0</td>\n",
       "    </tr>\n",
       "    <tr>\n",
       "      <th>4</th>\n",
       "      <td>WQVYFGMWO5</td>\n",
       "      <td>1</td>\n",
       "      <td>2400</td>\n",
       "      <td>2</td>\n",
       "      <td>5.0</td>\n",
       "      <td>2</td>\n",
       "      <td>4.00</td>\n",
       "      <td>1</td>\n",
       "      <td>1</td>\n",
       "      <td>0</td>\n",
       "      <td>0</td>\n",
       "      <td>Harvard</td>\n",
       "      <td>0</td>\n",
       "      <td>0</td>\n",
       "      <td>Engineering</td>\n",
       "      <td>President of Junior Engineering Technical Soci...</td>\n",
       "      <td>1</td>\n",
       "      <td>0</td>\n",
       "    </tr>\n",
       "    <tr>\n",
       "      <th>...</th>\n",
       "      <td>...</td>\n",
       "      <td>...</td>\n",
       "      <td>...</td>\n",
       "      <td>...</td>\n",
       "      <td>...</td>\n",
       "      <td>...</td>\n",
       "      <td>...</td>\n",
       "      <td>...</td>\n",
       "      <td>...</td>\n",
       "      <td>...</td>\n",
       "      <td>...</td>\n",
       "      <td>...</td>\n",
       "      <td>...</td>\n",
       "      <td>...</td>\n",
       "      <td>...</td>\n",
       "      <td>...</td>\n",
       "      <td>...</td>\n",
       "      <td>...</td>\n",
       "    </tr>\n",
       "    <tr>\n",
       "      <th>1866</th>\n",
       "      <td>HLEUO8DB67</td>\n",
       "      <td>0</td>\n",
       "      <td>1780</td>\n",
       "      <td>0</td>\n",
       "      <td>0.0</td>\n",
       "      <td>3</td>\n",
       "      <td>3.56</td>\n",
       "      <td>1</td>\n",
       "      <td>0</td>\n",
       "      <td>1</td>\n",
       "      <td>0</td>\n",
       "      <td>Yale</td>\n",
       "      <td>0</td>\n",
       "      <td>0</td>\n",
       "      <td>Economics Neuroscience</td>\n",
       "      <td>Varsity Softball 12th Varsity Soccer 12th STUC...</td>\n",
       "      <td>0</td>\n",
       "      <td>1</td>\n",
       "    </tr>\n",
       "    <tr>\n",
       "      <th>1867</th>\n",
       "      <td>E9IJXXQY56</td>\n",
       "      <td>0</td>\n",
       "      <td>1760</td>\n",
       "      <td>1</td>\n",
       "      <td>4.0</td>\n",
       "      <td>3</td>\n",
       "      <td>3.60</td>\n",
       "      <td>0</td>\n",
       "      <td>1</td>\n",
       "      <td>0</td>\n",
       "      <td>0</td>\n",
       "      <td>Yale</td>\n",
       "      <td>0</td>\n",
       "      <td>0</td>\n",
       "      <td>Physics</td>\n",
       "      <td>swimming track helped build new hindu temple e...</td>\n",
       "      <td>0</td>\n",
       "      <td>1</td>\n",
       "    </tr>\n",
       "    <tr>\n",
       "      <th>1868</th>\n",
       "      <td>TYWGSZLUYL</td>\n",
       "      <td>0</td>\n",
       "      <td>1570</td>\n",
       "      <td>0</td>\n",
       "      <td>0.0</td>\n",
       "      <td>0</td>\n",
       "      <td>3.85</td>\n",
       "      <td>1</td>\n",
       "      <td>0</td>\n",
       "      <td>0</td>\n",
       "      <td>0</td>\n",
       "      <td>Yale</td>\n",
       "      <td>0</td>\n",
       "      <td>0</td>\n",
       "      <td>Psychology</td>\n",
       "      <td>Hospital volunteer animal shelter volunteer Do...</td>\n",
       "      <td>0</td>\n",
       "      <td>1</td>\n",
       "    </tr>\n",
       "    <tr>\n",
       "      <th>1869</th>\n",
       "      <td>92PKBXGP9Y</td>\n",
       "      <td>0</td>\n",
       "      <td>1520</td>\n",
       "      <td>0</td>\n",
       "      <td>0.0</td>\n",
       "      <td>2</td>\n",
       "      <td>3.48</td>\n",
       "      <td>1</td>\n",
       "      <td>1</td>\n",
       "      <td>0</td>\n",
       "      <td>0</td>\n",
       "      <td>Yale</td>\n",
       "      <td>0</td>\n",
       "      <td>0</td>\n",
       "      <td>Biomedical Engineering</td>\n",
       "      <td>Native American Club 3 years 2011 12 2013 curr...</td>\n",
       "      <td>0</td>\n",
       "      <td>1</td>\n",
       "    </tr>\n",
       "    <tr>\n",
       "      <th>1870</th>\n",
       "      <td>74KN6V27DC</td>\n",
       "      <td>0</td>\n",
       "      <td>1200</td>\n",
       "      <td>0</td>\n",
       "      <td>0.0</td>\n",
       "      <td>0</td>\n",
       "      <td>4.00</td>\n",
       "      <td>1</td>\n",
       "      <td>1</td>\n",
       "      <td>0</td>\n",
       "      <td>0</td>\n",
       "      <td>Yale</td>\n",
       "      <td>0</td>\n",
       "      <td>0</td>\n",
       "      <td>Pre Medicine</td>\n",
       "      <td>Music Band member as a baritone sax player sin...</td>\n",
       "      <td>0</td>\n",
       "      <td>1</td>\n",
       "    </tr>\n",
       "  </tbody>\n",
       "</table>\n",
       "<p>1871 rows × 18 columns</p>\n",
       "</div>"
      ],
      "text/plain": [
       "              id  admitted  test  ap  avg_ap  sat_subjects   gpa  female  \\\n",
       "0     W796LITIP9         1  2400   3     5.0             3  3.90       0   \n",
       "1     WL2QRZQ8X3         1  2400   7     5.0             2  4.00       1   \n",
       "2     WE2YXF12K5         1  2400   1     5.0             1  4.00       1   \n",
       "3     OC717EAKXN         1  2400   5     5.0             5  4.00       1   \n",
       "4     WQVYFGMWO5         1  2400   2     5.0             2  4.00       1   \n",
       "...          ...       ...   ...  ..     ...           ...   ...     ...   \n",
       "1866  HLEUO8DB67         0  1780   0     0.0             3  3.56       1   \n",
       "1867  E9IJXXQY56         0  1760   1     4.0             3  3.60       0   \n",
       "1868  TYWGSZLUYL         0  1570   0     0.0             0  3.85       1   \n",
       "1869  92PKBXGP9Y         0  1520   0     0.0             2  3.48       1   \n",
       "1870  74KN6V27DC         0  1200   0     0.0             0  4.00       1   \n",
       "\n",
       "      minority  international  sports   school  early_app  alumni  \\\n",
       "0            0              0       0  Harvard          0       1   \n",
       "1            0              0       0  Harvard          0       1   \n",
       "2            0              0       0  Harvard          0       0   \n",
       "3            0              0       0  Harvard          0       0   \n",
       "4            1              0       0  Harvard          0       0   \n",
       "...        ...            ...     ...      ...        ...     ...   \n",
       "1866         0              1       0     Yale          0       0   \n",
       "1867         1              0       0     Yale          0       0   \n",
       "1868         0              0       0     Yale          0       0   \n",
       "1869         1              0       0     Yale          0       0   \n",
       "1870         1              0       0     Yale          0       0   \n",
       "\n",
       "                     program  \\\n",
       "0                        NaN   \n",
       "1          chemistry biology   \n",
       "2                   fjdslkfj   \n",
       "3                Mathematics   \n",
       "4                Engineering   \n",
       "...                      ...   \n",
       "1866  Economics Neuroscience   \n",
       "1867                 Physics   \n",
       "1868              Psychology   \n",
       "1869  Biomedical Engineering   \n",
       "1870            Pre Medicine   \n",
       "\n",
       "                                               add_info  harvard  yale  \n",
       "0                                                   NaN        1     0  \n",
       "1     Tennis 3 years varsity Science Olympiad 3 year...        1     0  \n",
       "2                         skljdkljkjsdkljfdlklj kljdsfd        1     0  \n",
       "3                                                   NaN        1     0  \n",
       "4     President of Junior Engineering Technical Soci...        1     0  \n",
       "...                                                 ...      ...   ...  \n",
       "1866  Varsity Softball 12th Varsity Soccer 12th STUC...        0     1  \n",
       "1867  swimming track helped build new hindu temple e...        0     1  \n",
       "1868  Hospital volunteer animal shelter volunteer Do...        0     1  \n",
       "1869  Native American Club 3 years 2011 12 2013 curr...        0     1  \n",
       "1870  Music Band member as a baritone sax player sin...        0     1  \n",
       "\n",
       "[1871 rows x 18 columns]"
      ]
     },
     "execution_count": 712,
     "metadata": {},
     "output_type": "execute_result"
    }
   ],
   "source": [
    "for ind in college.index: \n",
    "   \n",
    "    if college['school'][ind]==\"Harvard\":\n",
    "        college['harvard'][ind] = 1\n",
    "    else:\n",
    "        college['harvard'][ind] = 0   \n",
    "    \n",
    "        if college['school'][ind]==\"Yale\":\n",
    "            college['yale'][ind] = 1\n",
    "        else:\n",
    "            college['yale'][ind] = 0   \n",
    "\n",
    "college"
   ]
  },
  {
   "cell_type": "code",
   "execution_count": 713,
   "metadata": {},
   "outputs": [],
   "source": [
    "college_train, college_test, = train_test_split(\n",
    "    college, test_size=0.2,  random_state = 121, shuffle=True, stratify = college['school']\n",
    ")"
   ]
  },
  {
   "cell_type": "code",
   "execution_count": 714,
   "metadata": {},
   "outputs": [
    {
     "data": {
      "text/plain": [
       "<seaborn.axisgrid.FacetGrid at 0x7fa001831750>"
      ]
     },
     "execution_count": 714,
     "metadata": {},
     "output_type": "execute_result"
    },
    {
     "data": {
      "image/png": "[encoded data removed]",
      "text/plain": [
       "<Figure size 360x360 with 1 Axes>"
      ]
     },
     "metadata": {
      "needs_background": "light"
     },
     "output_type": "display_data"
    },
    {
     "data": {
      "image/png": "[encoded data removed]",
      "text/plain": [
       "<Figure size 360x360 with 1 Axes>"
      ]
     },
     "metadata": {
      "needs_background": "light"
     },
     "output_type": "display_data"
    },
    {
     "data": {
      "image/png": "[encoded data removed]",
      "text/plain": [
       "<Figure size 360x360 with 1 Axes>"
      ]
     },
     "metadata": {
      "needs_background": "light"
     },
     "output_type": "display_data"
    },
    {
     "data": {
      "image/png": "[encoded data removed]",
      "text/plain": [
       "<Figure size 360x360 with 1 Axes>"
      ]
     },
     "metadata": {
      "needs_background": "light"
     },
     "output_type": "display_data"
    },
    {
     "data": {
      "image/png": "[encoded data removed]",
      "text/plain": [
       "<Figure size 360x360 with 1 Axes>"
      ]
     },
     "metadata": {
      "needs_background": "light"
     },
     "output_type": "display_data"
    },
    {
     "data": {
      "image/png": "[encoded data removed]",
      "text/plain": [
       "<Figure size 360x360 with 1 Axes>"
      ]
     },
     "metadata": {
      "needs_background": "light"
     },
     "output_type": "display_data"
    },
    {
     "data": {
      "image/png": "[encoded data removed]",
      "text/plain": [
       "<Figure size 360x360 with 1 Axes>"
      ]
     },
     "metadata": {
      "needs_background": "light"
     },
     "output_type": "display_data"
    },
    {
     "data": {
      "image/png": "[encoded data removed]",
      "text/plain": [
       "<Figure size 360x360 with 1 Axes>"
      ]
     },
     "metadata": {
      "needs_background": "light"
     },
     "output_type": "display_data"
    },
    {
     "data": {
      "image/png": "[encoded data removed]",
      "text/plain": [
       "<Figure size 360x360 with 1 Axes>"
      ]
     },
     "metadata": {
      "needs_background": "light"
     },
     "output_type": "display_data"
    },
    {
     "data": {
      "image/png": "[encoded data removed]",
      "text/plain": [
       "<Figure size 360x360 with 1 Axes>"
      ]
     },
     "metadata": {
      "needs_background": "light"
     },
     "output_type": "display_data"
    },
    {
     "data": {
      "image/png": "[encoded data removed]",
      "text/plain": [
       "<Figure size 360x360 with 1 Axes>"
      ]
     },
     "metadata": {
      "needs_background": "light"
     },
     "output_type": "display_data"
    },
    {
     "data": {
      "image/png": "[encoded data removed]",
      "text/plain": [
       "<Figure size 360x360 with 1 Axes>"
      ]
     },
     "metadata": {
      "needs_background": "light"
     },
     "output_type": "display_data"
    }
   ],
   "source": [
    "# your code here\n",
    "\n",
    "#fig = plt.figure(figsize = (24,24))\n",
    "#fig.subplots_adjust(hspace=0.4, wspace=0.4)\n",
    "\n",
    "predictors = [\n",
    "    'test','ap','avg_ap','sat_subjects','gpa','female',\n",
    "    'minority','international','sports','school','early_app','alumni']\n",
    "plots = [2,4]\n",
    "bar = [1,3]\n",
    "\n",
    "#ax = fig.add_subplot(4, 3, 1)\n",
    "    \n",
    "sns.catplot(x = \"admitted\", y = \"test\", data = college[['admitted','test']])\n",
    "sns.catplot(x=\"admitted\", y=\"ap\",  kind=\"box\", data=college[['admitted','ap']])\n",
    "sns.catplot(x = \"admitted\", y = \"avg_ap\", data = college[['admitted','avg_ap']])    \n",
    "sns.catplot(x=\"admitted\", y=\"sat_subjects\",  kind=\"box\", data=college[['admitted','sat_subjects']])\n",
    "sns.catplot(x = \"admitted\", y = \"gpa\", data =college[['admitted','gpa']])    \n",
    "sns.catplot(x = \"admitted\", y = \"female\", kind = \"bar\", order = [1,0],  data = college[['admitted','female']])    \n",
    "sns.catplot(x = \"admitted\", y = \"minority\", kind = \"bar\", order = [1,0],  data = college[['admitted','minority']])    \n",
    "sns.catplot(x = \"admitted\", y = \"international\", kind = \"bar\", order = [1,0],  data = college[['admitted','international']])    \n",
    "sns.catplot(x = \"admitted\", y = \"sports\", kind = \"bar\", order = [1,0],  data = college[['admitted','sports']])    \n",
    "sns.catplot(x = \"admitted\", y = \"school\", kind = \"bar\", order = [1,0],  data = college[['admitted','school']])    \n",
    "sns.catplot(x = \"admitted\", y = \"early_app\", kind = \"bar\", order = [1,0],  data = college[['admitted','early_app']])    \n",
    "sns.catplot(x = \"admitted\", y = \"alumni\", kind = \"bar\", order = [1,0],  data = college[['admitted','alumni']])    \n",
    "\n"
   ]
  },
  {
   "cell_type": "code",
   "execution_count": null,
   "metadata": {
    "scrolled": true
   },
   "outputs": [],
   "source": []
  },
  {
   "cell_type": "markdown",
   "metadata": {
    "autograde": "1.3",
    "cell_id": "0a790850-87c6-4f46-b89e-048a2295c92b",
    "colab_type": "text",
    "id": "IGFtXJmQap2q"
   },
   "source": [
    "<div class='exercise-r'>  \n",
    " \n",
    "**1.3** Based on the visuals above, which predictor seems to have the most potential for predicting `admitted`? Why do you think this it the best potential single predictor?\n",
    " \n",
    " \n",
    " </div>"
   ]
  },
  {
   "cell_type": "markdown",
   "metadata": {},
   "source": [
    "**INTERPRETATION:**"
   ]
  },
  {
   "cell_type": "markdown",
   "metadata": {},
   "source": [
    "test seems to be the most important. This is likely a good predictor since it is the most standardized method for which an applications team can judge a student. "
   ]
  },
  {
   "cell_type": "markdown",
   "metadata": {
    "autograde": "1.4",
    "cell_id": "0a790850-87c6-4f46-b89e-048a2295c92b",
    "colab_type": "text",
    "id": "IGFtXJmQap2q"
   },
   "source": [
    "<div class='exercise-r'>  \n",
    " \n",
    "**1.4** Fit a logistic regression to predict `admitted` from `harvard` (call it `logit1_4`).  Interpret the coefficient estimates: which college is estimated to be easier to get into?  What are the estimated chances of getting into each school?\n",
    " \n",
    " \n",
    " </div>"
   ]
  },
  {
   "cell_type": "code",
   "execution_count": 715,
   "metadata": {},
   "outputs": [],
   "source": [
    "features_harvard = ['admitted','test','ap','avg_ap','sat_subjects','gpa','female',\n",
    "    'minority','international','sports','early_app','alumni','harvard']\n",
    "\n",
    "features_yale = ['admitted','test','ap','avg_ap','sat_subjects','gpa','female',\n",
    "    'minority','international','sports','early_app','alumni','yale']\n",
    "features_harvard_yale = ['admitted','test','ap','avg_ap','sat_subjects','gpa','female',\n",
    "    'minority','international','sports','early_app','alumni','harvard','yale']\n",
    "\n",
    "#train\n",
    "accept_train = college_train[['admitted','test','ap','avg_ap','sat_subjects','gpa','female',\n",
    "    'minority','international','sports','early_app','alumni','harvard','yale']]\n",
    "harvard_train_orig = accept_train[accept_train['harvard'] == 1]\n",
    "yale_train_orig = accept_train[accept_train['yale'] == 1]\n",
    "\n",
    "\n",
    "#test\n",
    "accept_test = college_test[['admitted','test','ap','avg_ap','sat_subjects','gpa','female',\n",
    "    'minority','international','sports','early_app','alumni','harvard','yale']]\n",
    "harvard_test_orig = accept_test[accept_test['harvard'] == 1]\n",
    "yale_test_orig = accept_test[accept_test['yale'] == 1]\n",
    "\n",
    "\n",
    "#standardize\n",
    "scaler_harvard = StandardScaler().fit(harvard_train_orig[features_harvard])\n",
    "scaler_yale = StandardScaler().fit(yale_train_orig[features_yale])\n",
    "scaler_harvard_yale = StandardScaler().fit(college_train[features_harvard_yale])\n",
    "\n",
    "# This converts our matrices into numpy matrices\n",
    "harvard_train_np = scaler_harvard.transform(harvard_train_orig[features_harvard])\n",
    "harvard_test_np = scaler_harvard.transform(harvard_test_orig[features_harvard])\n",
    "\n",
    "hy_train_np = scaler_harvard_yale.transform(college_train[features_harvard_yale])\n",
    "hy_test_np = scaler_harvard_yale.transform(college_test[features_harvard_yale])\n",
    "\n",
    "yale_train_np = scaler_yale.transform(yale_train_orig[features_yale])\n",
    "yale_test_np = scaler_yale.transform(yale_test_orig[features_yale])\n",
    "\n",
    "# Making the numpy matrices pandas dataframes\n",
    "harvard_train = pd.DataFrame(harvard_train_np, columns = features_harvard)\n",
    "harvard_test = pd.DataFrame(harvard_test_np, columns = features_harvard)\n",
    "\n",
    "yale_train = pd.DataFrame(yale_train_np, columns = features_yale)\n",
    "yale_test = pd.DataFrame(yale_test_np, columns = features_yale)\n",
    "\n",
    "hy_train = pd.DataFrame(hy_train_np, columns = features_harvard_yale)\n",
    "hy_test = pd.DataFrame(hy_test_np, columns = features_harvard_yale)\n",
    "   \n",
    "\n",
    "#fix admitted\n",
    "for row in yale_train.index:\n",
    "    if yale_train['admitted'][row] > 1:\n",
    "        yale_train['admitted'][row] = 1\n",
    "    else:\n",
    "        yale_train['admitted'][row] = 0\n",
    "\n",
    "#not sure why harvard isn't working here\n",
    "\n",
    "for row in harvard_train.index:\n",
    "    if harvard_train['admitted'][row] > 1:\n",
    "        harvard_train['admitted'][row] = 1\n",
    "    else:\n",
    "        harvard_train['admitted'][row] = 0\n",
    "#dfg\n",
    "for row in yale_test.index:\n",
    "    if yale_test['admitted'][row] > 1:\n",
    "        yale_test['admitted'][row] = 1\n",
    "    else:\n",
    "        yale_test['admitted'][row] = 0\n",
    "\n",
    "#not sure why harvard isn't working here\n",
    "\n",
    "for row in harvard_test.index:\n",
    "    if harvard_test['admitted'][row] > 1:\n",
    "        harvard_test['admitted'][row] = 1\n",
    "    else:\n",
    "        harvard_test['admitted'][row] = 0        \n",
    "#random\n",
    "       \n",
    "for row in hy_train.index:\n",
    "    if hy_train['admitted'][row] > 0:\n",
    "        hy_train['admitted'][row] = 1\n",
    "    else:\n",
    "        hy_train['admitted'][row] = 0        \n",
    "#dfg    \n",
    "\n",
    "for row in hy_test.index:\n",
    "    if hy_test['admitted'][row] > 0:\n",
    "        hy_test['admitted'][row] = 1\n",
    "    else:\n",
    "        hy_test['admitted'][row] = 0  \n",
    "        \n"
   ]
  },
  {
   "cell_type": "code",
   "execution_count": 716,
   "metadata": {
    "scrolled": true
   },
   "outputs": [
    {
     "data": {
      "text/html": [
       "<div>\n",
       "<style scoped>\n",
       "    .dataframe tbody tr th:only-of-type {\n",
       "        vertical-align: middle;\n",
       "    }\n",
       "\n",
       "    .dataframe tbody tr th {\n",
       "        vertical-align: top;\n",
       "    }\n",
       "\n",
       "    .dataframe thead th {\n",
       "        text-align: right;\n",
       "    }\n",
       "</style>\n",
       "<table border=\"1\" class=\"dataframe\">\n",
       "  <thead>\n",
       "    <tr style=\"text-align: right;\">\n",
       "      <th></th>\n",
       "      <th>admitted</th>\n",
       "      <th>test</th>\n",
       "      <th>ap</th>\n",
       "      <th>avg_ap</th>\n",
       "      <th>sat_subjects</th>\n",
       "      <th>gpa</th>\n",
       "      <th>female</th>\n",
       "      <th>minority</th>\n",
       "      <th>international</th>\n",
       "      <th>sports</th>\n",
       "      <th>early_app</th>\n",
       "      <th>alumni</th>\n",
       "      <th>harvard</th>\n",
       "      <th>yale</th>\n",
       "    </tr>\n",
       "  </thead>\n",
       "  <tbody>\n",
       "    <tr>\n",
       "      <th>0</th>\n",
       "      <td>0.0</td>\n",
       "      <td>-0.149930</td>\n",
       "      <td>1.098976</td>\n",
       "      <td>0.358355</td>\n",
       "      <td>0.880745</td>\n",
       "      <td>0.610095</td>\n",
       "      <td>1.0</td>\n",
       "      <td>-0.510216</td>\n",
       "      <td>-0.253005</td>\n",
       "      <td>-0.189766</td>\n",
       "      <td>2.155292</td>\n",
       "      <td>-0.228121</td>\n",
       "      <td>-1.049344</td>\n",
       "      <td>1.049344</td>\n",
       "    </tr>\n",
       "    <tr>\n",
       "      <th>1</th>\n",
       "      <td>0.0</td>\n",
       "      <td>-2.737367</td>\n",
       "      <td>-0.615828</td>\n",
       "      <td>-0.131932</td>\n",
       "      <td>0.880745</td>\n",
       "      <td>0.108169</td>\n",
       "      <td>1.0</td>\n",
       "      <td>1.959955</td>\n",
       "      <td>-0.253005</td>\n",
       "      <td>-0.189766</td>\n",
       "      <td>2.155292</td>\n",
       "      <td>-0.228121</td>\n",
       "      <td>-1.049344</td>\n",
       "      <td>1.049344</td>\n",
       "    </tr>\n",
       "    <tr>\n",
       "      <th>2</th>\n",
       "      <td>0.0</td>\n",
       "      <td>-0.561568</td>\n",
       "      <td>-0.615828</td>\n",
       "      <td>0.162241</td>\n",
       "      <td>0.105233</td>\n",
       "      <td>0.610095</td>\n",
       "      <td>1.0</td>\n",
       "      <td>-0.510216</td>\n",
       "      <td>-0.253005</td>\n",
       "      <td>-0.189766</td>\n",
       "      <td>-0.463974</td>\n",
       "      <td>-0.228121</td>\n",
       "      <td>0.952976</td>\n",
       "      <td>-0.952976</td>\n",
       "    </tr>\n",
       "    <tr>\n",
       "      <th>3</th>\n",
       "      <td>0.0</td>\n",
       "      <td>-0.032319</td>\n",
       "      <td>-1.473230</td>\n",
       "      <td>-2.191139</td>\n",
       "      <td>-0.670278</td>\n",
       "      <td>0.610095</td>\n",
       "      <td>-1.0</td>\n",
       "      <td>1.959955</td>\n",
       "      <td>3.952496</td>\n",
       "      <td>-0.189766</td>\n",
       "      <td>-0.463974</td>\n",
       "      <td>-0.228121</td>\n",
       "      <td>-1.049344</td>\n",
       "      <td>1.049344</td>\n",
       "    </tr>\n",
       "    <tr>\n",
       "      <th>4</th>\n",
       "      <td>0.0</td>\n",
       "      <td>1.026178</td>\n",
       "      <td>0.241574</td>\n",
       "      <td>0.750585</td>\n",
       "      <td>0.105233</td>\n",
       "      <td>-0.393757</td>\n",
       "      <td>1.0</td>\n",
       "      <td>-0.510216</td>\n",
       "      <td>-0.253005</td>\n",
       "      <td>-0.189766</td>\n",
       "      <td>-0.463974</td>\n",
       "      <td>-0.228121</td>\n",
       "      <td>0.952976</td>\n",
       "      <td>-0.952976</td>\n",
       "    </tr>\n",
       "  </tbody>\n",
       "</table>\n",
       "</div>"
      ],
      "text/plain": [
       "   admitted      test        ap    avg_ap  sat_subjects       gpa  female  \\\n",
       "0       0.0 -0.149930  1.098976  0.358355      0.880745  0.610095     1.0   \n",
       "1       0.0 -2.737367 -0.615828 -0.131932      0.880745  0.108169     1.0   \n",
       "2       0.0 -0.561568 -0.615828  0.162241      0.105233  0.610095     1.0   \n",
       "3       0.0 -0.032319 -1.473230 -2.191139     -0.670278  0.610095    -1.0   \n",
       "4       0.0  1.026178  0.241574  0.750585      0.105233 -0.393757     1.0   \n",
       "\n",
       "   minority  international    sports  early_app    alumni   harvard      yale  \n",
       "0 -0.510216      -0.253005 -0.189766   2.155292 -0.228121 -1.049344  1.049344  \n",
       "1  1.959955      -0.253005 -0.189766   2.155292 -0.228121 -1.049344  1.049344  \n",
       "2 -0.510216      -0.253005 -0.189766  -0.463974 -0.228121  0.952976 -0.952976  \n",
       "3  1.959955       3.952496 -0.189766  -0.463974 -0.228121 -1.049344  1.049344  \n",
       "4 -0.510216      -0.253005 -0.189766  -0.463974 -0.228121  0.952976 -0.952976  "
      ]
     },
     "execution_count": 716,
     "metadata": {},
     "output_type": "execute_result"
    }
   ],
   "source": [
    "hy_test.head()"
   ]
  },
  {
   "cell_type": "code",
   "execution_count": null,
   "metadata": {},
   "outputs": [],
   "source": []
  },
  {
   "cell_type": "code",
   "execution_count": 717,
   "metadata": {},
   "outputs": [
    {
     "name": "stdout",
     "output_type": "stream",
     "text": [
      "The coefficients for the harvard logistic regression model are: [[ 0.91340071 -0.30041764  0.26458648 -0.21461031  0.09702263  0.09824653\n",
      "   0.27622305  0.14473778  0.21985063  0.03924397  0.19658303]]\n",
      "The coefficients for the yale logistic regression model are: [[ 0.62480907  0.0610891  -0.09775765  0.01864398  0.13588521 -0.04946762\n",
      "   0.49464562  0.06936585  0.2226719   0.23664156  0.09334614]]\n",
      "The harvard acceptance rate is: 28.746%\n",
      "The yale acceptance rate is: 25.056%\n",
      "74.23469387755102\n"
     ]
    }
   ],
   "source": [
    "# your code here\n",
    "\n",
    "#Training\n",
    "model_logistic_harvard = LogisticRegression(C=100).fit(harvard_train[['test','ap','avg_ap','sat_subjects','gpa','female','minority','international','sports','early_app','alumni']], harvard_train['admitted'])\n",
    "model_logistic_yale = LogisticRegression(C=100).fit(yale_train[['test','ap','avg_ap','sat_subjects','gpa','female','minority','international','sports','early_app','alumni']], yale_train['admitted'])\n",
    "\n",
    "logit1_4 = model_logistic_harvard\n",
    "\n",
    "#Predict\n",
    "harvard_pred_train = model_logistic_harvard.predict(harvard_train[['test','ap','avg_ap','sat_subjects','gpa','female',\n",
    "'minority','international','sports','early_app','alumni']])\n",
    "yale_pred_train = model_logistic_yale.predict(yale_train[['test','ap','avg_ap','sat_subjects','gpa','female',\n",
    "'minority','international','sports','early_app','alumni']])\n",
    "\n",
    "#print coef\n",
    "print(\"The coefficients for the harvard logistic regression model are:\", model_logistic_harvard.coef_ )\n",
    "print(\"The coefficients for the yale logistic regression model are:\", model_logistic_yale.coef_ )\n",
    "\n",
    "#count of accepted students for each \n",
    "h_admitted_count = len(college[(college['harvard'] == 1) & (college['admitted']==1)])\n",
    "h_total_count = len(college[college['harvard'] ==1])\n",
    "h_acceptance_rate = 100*(h_admitted_count / h_total_count)\n",
    "\n",
    "y_admitted_count = len(college[(college['yale'] == 1) & (college['admitted']==1)])\n",
    "y_total_count = len(college[college['yale'] ==1])\n",
    "y_acceptance_rate = 100*(y_admitted_count / y_total_count)\n",
    "\n",
    "#print acceptance rate\n",
    "print(\"The harvard acceptance rate is: %5.3f\" %h_acceptance_rate +  \"%\" )\n",
    "print(\"The yale acceptance rate is: %5.3f\" %y_acceptance_rate +  \"%\" )\n",
    "\n",
    "accuracy_score_train = logit1_4.score(harvard_train[['test','ap','avg_ap','sat_subjects','gpa','female',\n",
    "'minority','international','sports','early_app','alumni']], harvard_train['admitted'])*100\n",
    "print(accuracy_score_train)"
   ]
  },
  {
   "cell_type": "code",
   "execution_count": null,
   "metadata": {},
   "outputs": [],
   "source": []
  },
  {
   "cell_type": "code",
   "execution_count": null,
   "metadata": {},
   "outputs": [],
   "source": []
  },
  {
   "cell_type": "markdown",
   "metadata": {},
   "source": [
    "**INTERPRETATION:**"
   ]
  },
  {
   "cell_type": "markdown",
   "metadata": {},
   "source": [
    "Acceptance rate is one way to look at the challenge of gettting into the school. In this sense, it is harder to get into Yale. However, our coefficients tell a more complex story. The coefficients show that certain aspects of a candidate have a strong bearing on their overall likelihood of getting into the school. You need a higher test score to get into harvard from the weighting placed on that by our coefficients. Yale takes things like being a minority more importantly than harvard."
   ]
  },
  {
   "cell_type": "markdown",
   "metadata": {
    "autograde": "1.5",
    "cell_id": "0a790850-87c6-4f46-b89e-048a2295c92b",
    "colab_type": "text",
    "id": "IGFtXJmQap2q"
   },
   "source": [
    "<div class='exercise-r'>  \n",
    " \n",
    "**1.5** Create a contingency table between `admitted` and `harvard`.  Use this table to calculate and confirm the coefficient estimates in the `logit1_4` model (both the intercept and slope).\n",
    " \n",
    " \n",
    " </div>"
   ]
  },
  {
   "cell_type": "code",
   "execution_count": 718,
   "metadata": {},
   "outputs": [
    {
     "name": "stdout",
     "output_type": "stream",
     "text": [
      "harvard   0.0\n",
      "admitted     \n",
      "0.0       567\n",
      "1.0       217\n",
      "The percent chance of getting into harvard is 27.679%\n"
     ]
    }
   ],
   "source": [
    "# your code here\n",
    "data_crosstab = pd.crosstab(harvard_train['admitted'],  \n",
    "                            harvard_train['harvard'], \n",
    "                                margins = False) \n",
    "print(data_crosstab) \n",
    "\n",
    "a = 217/(567+ 217)*100\n",
    "print(\"The percent chance of getting into harvard is %5.3f\" %a + \"%\")"
   ]
  },
  {
   "cell_type": "markdown",
   "metadata": {},
   "source": [
    "This shows a slightly lower percentage chance of getting in, but very similar, only .1% different."
   ]
  },
  {
   "cell_type": "markdown",
   "metadata": {
    "autograde": "1.6",
    "cell_id": "0a790850-87c6-4f46-b89e-048a2295c92b",
    "colab_type": "text",
    "id": "IGFtXJmQap2q"
   },
   "source": [
    "<div class='exercise-r'>  \n",
    "    \n",
    "**1.6** Compare the estimated probabilities of being admitted into the schools to the overall acceptance rate (as seen [here](https://www.ivycoach.com/2023-ivy-league-admissions-statistics/)).  Why may what you've observed in this comparison be the case?\n",
    "</div>"
   ]
  },
  {
   "cell_type": "markdown",
   "metadata": {},
   "source": [
    "**INTERPRETATION:**"
   ]
  },
  {
   "cell_type": "markdown",
   "metadata": {},
   "source": [
    "Acceptance rates in our data set are much higher than the actual rates. The data we are leveraging is volunteered data. Maybe students are less likely to offer up their college board data if they are less confident that they'll get into the school? I think there are a lot of potential reasons to guess why this could happen although it seems impossible to me to know what the difference is without digging into the source of our data. "
   ]
  },
  {
   "cell_type": "markdown",
   "metadata": {},
   "source": [
    "---"
   ]
  },
  {
   "cell_type": "markdown",
   "metadata": {},
   "source": [
    "<div class='exercise'><b> Question 2 [18 pts]: Interpretable Modeling </b></div>\n",
    "\n",
    "**2.1** Fit a logistic regression model to predict `admitted` from `test` alone (call it `logit2_1`).  Print out the coefficient estimates (both intercept and slope) along with the classification accuracies for this model (on both train and test data). \n",
    "\n",
    "**2.2** What are the estimated chances of an applicant being admitted with an *average* `test` score of 2200?  What about if they had a perfect test score of 2400?  What test score would be needed to have a 50-50 chance of being admitted?\n",
    "\n",
    "**2.3**  Fit a logistic regression model to predict `admitted` from `test` and `avg_ap` (call it `logit2_3`).  Print out the coefficient estimates (both intercept and slope) along with the classification accuracies for this model (on both train and test data). \n",
    "\n",
    "**2.4** Interpret the coefficient estimates in `logit2_3` (not the intercept) and compare the coefficient estimate for `test` to the one from `logit2_1`.  Why has this estimate changed?\n",
    "\n",
    "**Hint:** You may want to inspect the relationship between `test` and `avg_ap` to help get a better sense for what might be happening here.\n",
    "\n",
    "**2.5** Interpret and compare the classification accuracies for the two models (`logit2_1` and `logit2_3`).  Explain why these accuracies are the same or different, and what about the data makes these accuracies so similar of different? \n"
   ]
  },
  {
   "cell_type": "markdown",
   "metadata": {
    "autograde": "2.1",
    "cell_id": "0a790850-87c6-4f46-b89e-048a2295c92b",
    "colab_type": "text",
    "id": "IGFtXJmQap2q"
   },
   "source": [
    "<div class='exercise-r'>  \n",
    " \n",
    "**2.1** Fit a logistic regression model to predict `admitted` from `test` alone (call it `logit2_1`).  Print out the coefficient estimates (both intercept and slope) along with the classification accuracies for this model (on both train and test data).\n",
    " \n",
    " </div>"
   ]
  },
  {
   "cell_type": "code",
   "execution_count": 719,
   "metadata": {},
   "outputs": [],
   "source": [
    "harvard_train = harvard_train_orig[['harvard', 'test', 'ap', 'avg_ap', 'gpa', 'female', 'minority', 'admitted']]\n",
    "harvard_test = harvard_test_orig[['harvard', 'test', 'ap', 'avg_ap', 'gpa', 'female', 'minority', 'admitted']]\n"
   ]
  },
  {
   "cell_type": "code",
   "execution_count": 720,
   "metadata": {},
   "outputs": [
    {
     "name": "stdout",
     "output_type": "stream",
     "text": [
      "The intercept and coefficient for the harvard logistic regression model are: [-2.29470386e-07] [[-0.00041835]]\n",
      "The classification accuracy for the train model is: 72.321 %\n",
      "The classification accuracy for the test model is: 67.005 %\n"
     ]
    }
   ],
   "source": [
    "#logistic regression trained from just the test alone\n",
    "test_logistic_harvard = LogisticRegression(penalty='none', max_iter = 5000).fit(harvard_train[['test']], harvard_train['admitted'])\n",
    "#test_logistic_yale = LogisticRegression(C=100).fit(yale_train_orig[['test']], yale_train['admitted'])\n",
    "\n",
    "logit2_1 = test_logistic_harvard\n",
    "\n",
    "#predict based off model\n",
    "y_pred_train = logit2_1.predict(harvard_train[['test']])\n",
    "y_pred_test = logit2_1.predict(harvard_test[['test']])\n",
    "\n",
    "#measure accuracy\n",
    "accuracy_score_train = logit2_1.score(harvard_train[['test']], harvard_train['admitted'])*100\n",
    "accuracy_score_test = logit2_1.score(harvard_test[['test']], harvard_test['admitted'])*100\n",
    "\n",
    "\n",
    "print(\"The intercept and coefficient for the harvard logistic regression model are:\",test_logistic_harvard.intercept_ , test_logistic_harvard.coef_ )\n",
    "\n",
    "#print(\"The intercept and coefficient for the yale logistic regression model are:\", test_logistic_yale.intercept_, test_logistic_yale.coef_ )\n",
    "print(\"The classification accuracy for the train model is: %5.3f\" %accuracy_score_train, \"%\")\n",
    "print(\"The classification accuracy for the test model is: %5.3f\" %accuracy_score_test, \"%\")\n",
    "\n"
   ]
  },
  {
   "cell_type": "markdown",
   "metadata": {
    "autograde": "2.2",
    "cell_id": "0a790850-87c6-4f46-b89e-048a2295c92b",
    "colab_type": "text",
    "id": "IGFtXJmQap2q"
   },
   "source": [
    "<div class='exercise-r'>  \n",
    " \n",
    "**2.2** What are the estimated chances of an applicant being admitted with an *average* `test` score of 2200?  What about if they had a perfect test score of 2400?  What test score would be needed to have a 50-50 chance of being admitted?\n",
    " \n",
    " </div>"
   ]
  },
  {
   "cell_type": "code",
   "execution_count": 721,
   "metadata": {},
   "outputs": [],
   "source": [
    "def standardization(x, data):\n",
    "    z = ((x - float(data.mean()))/(float(data.std())))\n",
    "    \n",
    "    return z"
   ]
  },
  {
   "cell_type": "code",
   "execution_count": 722,
   "metadata": {},
   "outputs": [],
   "source": [
    "def unstandardize(z, data):\n",
    "    x = (z* float(data.std()) + float(data.mean()) )\n",
    "    \n",
    "    return x"
   ]
  },
  {
   "cell_type": "code",
   "execution_count": 723,
   "metadata": {},
   "outputs": [
    {
     "name": "stdout",
     "output_type": "stream",
     "text": [
      "chances with 2200 test score: 28.488%\n",
      "chances with 2400 test score: 26.815%\n",
      "The 50/50 point occurs at a score of: 2183.076\n"
     ]
    }
   ],
   "source": [
    "# your code here\n",
    "\n",
    "b0 = logit2_1.intercept_\n",
    "b1 = logit2_1.coef_\n",
    "\n",
    "stand_22 = standardization(2200,harvard_train_orig[['test']])\n",
    "stand_24 = standardization(2400,harvard_train_orig[['test']])\n",
    "\n",
    "\n",
    "a = (1/(1+ math.exp(-(b1* 2200 - b0 ))))*100\n",
    "print(\"chances with 2200 test score: %5.3f\"  %a  +   \"%\")\n",
    "b = (1/(1+ math.exp(-(b1* 2400 - b0 ))))*100\n",
    "print(\"chances with 2400 test score: %5.3f\"  %b  +   \"%\")\n",
    "\n",
    "#calc 50/50\n",
    "z = b0/b1 \n",
    "x = unstandardize(z, harvard_train_orig[['test']])\n",
    "\n",
    "print(\"The 50/50 point occurs at a score of: %7.3f\" %x)\n"
   ]
  },
  {
   "cell_type": "markdown",
   "metadata": {},
   "source": [
    "*Your answer here*\n",
    "Not sure why the results I got seem to be so unrepresentative and honestly reversed. Things worked when I standardized the data which I think was the main issue?\n",
    "chances with 2400 test score: 26.815%\n",
    "The 50/50 point occurs at a score of: 2183.076\n",
    "\n",
    "when I standardized I got the following\n",
    "\n",
    "chances with 2200 test score: 75.954%\n",
    "chances with 2400 test score: 88.131%\n",
    "The 50/50 point occurs at a score of: 1930.886"
   ]
  },
  {
   "cell_type": "markdown",
   "metadata": {},
   "source": [
    "**Interpretation:**"
   ]
  },
  {
   "cell_type": "markdown",
   "metadata": {
    "autograde": "2.3",
    "cell_id": "0a790850-87c6-4f46-b89e-048a2295c92b",
    "colab_type": "text",
    "id": "IGFtXJmQap2q"
   },
   "source": [
    "<div class='exercise-r'>  \n",
    " \n",
    "**2.3**  Fit a logistic regression model to predict `admitted` from `test` and `avg_ap` (call it `logit2_3`).  Print out the coefficient estimates (both intercept and slope) along with the classification accuracies for this model (on both train and test data).\n",
    " \n",
    " </div>"
   ]
  },
  {
   "cell_type": "code",
   "execution_count": 724,
   "metadata": {},
   "outputs": [],
   "source": [
    "harvard_train = harvard_train_orig[['harvard', 'test', 'ap', 'avg_ap', 'gpa', 'female', 'minority', 'admitted']]\n",
    "harvard_test = harvard_test_orig[['harvard', 'test', 'ap', 'avg_ap', 'gpa', 'female', 'minority', 'admitted']]\n"
   ]
  },
  {
   "cell_type": "code",
   "execution_count": 725,
   "metadata": {},
   "outputs": [
    {
     "name": "stdout",
     "output_type": "stream",
     "text": [
      "The intercept and coefficient for the harvard logistic regression model are: [-10.51078464] [[ 0.00435934 -0.0223982 ]]\n",
      "The classification accuracy for the train model is: 72.321 %\n",
      "The classification accuracy for the test model is: 67.005 %\n"
     ]
    }
   ],
   "source": [
    "# your code here\n",
    "#logistic regression trained from just the test alone\n",
    "logit2_3 = LogisticRegression(penalty='none', max_iter = 5000).fit(harvard_train[['test','avg_ap']], harvard_train_orig['admitted'])\n",
    "#test_logistic_yale = LogisticRegression(C=100).fit(yale_train_orig[['test']], yale_train['admitted'])\n",
    "\n",
    "\n",
    "\n",
    "#predict based off model\n",
    "y_pred_train = logit2_3.predict(harvard_train[['test','avg_ap']])\n",
    "y_pred_test = logit2_3.predict(harvard_test[['test','avg_ap']])\n",
    "\n",
    "#measure accuracy\n",
    "accuracy_score_train = accuracy_score(harvard_train['admitted'], y_pred_train)*100\n",
    "accuracy_score_test = accuracy_score(harvard_test['admitted'], y_pred_test)*100\n",
    "\n",
    "\n",
    "print(\"The intercept and coefficient for the harvard logistic regression model are:\",logit2_3.intercept_ , logit2_3.coef_ )\n",
    "\n",
    "#print(\"The intercept and coefficient for the yale logistic regression model are:\", test_logistic_yale.intercept_, test_logistic_yale.coef_ )\n",
    "print(\"The classification accuracy for the train model is: %5.3f\" %accuracy_score_train, \"%\")\n",
    "print(\"The classification accuracy for the test model is: %5.3f\" %accuracy_score_test, \"%\")\n"
   ]
  },
  {
   "cell_type": "markdown",
   "metadata": {
    "autograde": "2.4",
    "cell_id": "0a790850-87c6-4f46-b89e-048a2295c92b",
    "colab_type": "text",
    "id": "IGFtXJmQap2q"
   },
   "source": [
    "<div class='exercise-r'>  \n",
    " \n",
    "**2.4** Interpret the coefficient estimates in `logit2_3` (not the intercept) and compare the coefficient estimate for `test` to the one from `logit2_1`.  Why has this estimate changed?\n",
    " \n",
    " **Hint:** You may want to inspect the relationship between `test` and `avg_ap` to help get a better sense for what might be happening here.\n",
    " \n",
    " </div>"
   ]
  },
  {
   "cell_type": "code",
   "execution_count": 726,
   "metadata": {},
   "outputs": [
    {
     "name": "stdout",
     "output_type": "stream",
     "text": [
      "0.75237062\n",
      "chances with 2200 test score and ap avg of 4: 99.997%\n",
      "chances with 2400 test score and ap avg of 4: 99.999%\n"
     ]
    }
   ],
   "source": [
    "# your code here\n",
    "\n",
    "b0 = logit2_3.intercept_\n",
    "b1 =   0.75237062\n",
    "b2 = -0.0383941\n",
    "\n",
    "print(b1)\n",
    "\n",
    "stand_22 = standardization(2200,harvard_train_orig[['test']])\n",
    "stand_24 = standardization(2400,harvard_train_orig[['test']])\n",
    "stand_ap = standardization(5,harvard_train_orig[['avg_ap']])\n",
    "\n",
    "\n",
    "a = (1/(1+ math.exp(-(b1* stand_22 + b2*stand_ap - b0 ))))*100\n",
    "print(\"chances with 2200 test score and ap avg of 4: %5.3f\"  %a  +   \"%\")\n",
    "b = (1/(1+ math.exp(-(b1* stand_24 + b2*stand_ap - b0 ))))*100\n",
    "print(\"chances with 2400 test score and ap avg of 4: %5.3f\"  %b  +   \"%\")\n"
   ]
  },
  {
   "cell_type": "code",
   "execution_count": 727,
   "metadata": {},
   "outputs": [
    {
     "data": {
      "text/plain": [
       "Text(0.5, 1.0, 'test scores vs avg ap')"
      ]
     },
     "execution_count": 727,
     "metadata": {},
     "output_type": "execute_result"
    },
    {
     "data": {
      "image/png": "[encoded data removed]",
      "text/plain": [
       "<Figure size 432x288 with 1 Axes>"
      ]
     },
     "metadata": {
      "needs_background": "light"
     },
     "output_type": "display_data"
    }
   ],
   "source": [
    "plt.plot(harvard_train_orig[['test']], harvard_train_orig[['avg_ap']],'ok', markersize = 3, alpha = .2)\n",
    "plt.axis()\n",
    "\n",
    "plt.xlabel('test scores')\n",
    "plt.ylabel('avg_ap')\n",
    "plt.title('test scores vs avg ap')"
   ]
  },
  {
   "cell_type": "markdown",
   "metadata": {},
   "source": [
    "**INTERPRETATION:**\n"
   ]
  },
  {
   "cell_type": "markdown",
   "metadata": {},
   "source": [
    "*Your answer here*\n",
    "The estimates have changed quite a bit. My coefficient for the test group got larger and the avg_ap coef is larger than the one for test. Test is still more important to the admission probability since the scale of the test numbers is much larger than those of the avg_ap scores. You can see that there appears to be some collinearity at play between test and avg_ap."
   ]
  },
  {
   "cell_type": "markdown",
   "metadata": {
    "autograde": "2.5",
    "cell_id": "0a790850-87c6-4f46-b89e-048a2295c92b",
    "colab_type": "text",
    "id": "IGFtXJmQap2q"
   },
   "source": [
    "<div class='exercise-r'>  \n",
    "    \n",
    "**2.5** Interpret and compare the classification accuracies for the two models (`logit2_1` and `logit2_3`).  Explain why these accuracies are the same or different, and what about the data makes these accuracies so similar of different?\n",
    "</div>"
   ]
  },
  {
   "cell_type": "markdown",
   "metadata": {},
   "source": [
    "**INTERPRETATION:**"
   ]
  },
  {
   "cell_type": "markdown",
   "metadata": {},
   "source": [
    "*Your answer here* I think what would really help us understand these beta values better is to have them scaled so we can better understand them relative to one another. standardization of the data set would be the answer here to making them more interpretable. The accuracies of the two models are the same from 2_1 to 2_3, I think that the collinearity of test scores and avg ap may have some role to play in it, alongside what I am interpretting as a low importance with regard to the weight of avg_ap relative to test in our models when they were generated?"
   ]
  },
  {
   "cell_type": "markdown",
   "metadata": {},
   "source": [
    "---"
   ]
  },
  {
   "cell_type": "markdown",
   "metadata": {},
   "source": [
    "<div class='exercise'><b> Question 3 [30 pts]: Harvard and Yale? </b></div>\n",
    "\n",
    "\n",
    "**3.1** Fit a logistic regression model (call it `logit3_1`) to predict `admitted` from 7 predictors: `['harvard', 'test', 'ap', 'avg_ap', 'gpa', 'female', 'minority']`.  Output and interpret the coefficient estimates for the binary predictors in this model.\n",
    "\n",
    "**Hint:** If you have convergence warnings, increasing the maximum number of iterations to 500 (`max_iter=500`) will likely solve the issue.\n",
    "\n",
    "**3.2** Fit a logistic regression model (call it `logit3_2`) to predict `admitted` from 3 predictors: `['harvard', 'test', 'ap']` along with the 2 interaction terms: `harvard` with `test` and `harvard` with `ap`. Name the columns for these interaction terms something sensible.  Print out the coefficient estimates for this model.\n",
    "\n",
    "**3.3** Simplify and write out mathematically the above model from question 3.2 for 2 applicants: (1) someone who is applying to Harvard and for (2) someone who is applying to Yale (keep `test` and `ap` as the unknown $X$s).  The basic framework given to you below may be helpful:\n",
    "\n",
    "$$ \\ln \\left( \\frac{P(Y=1)}{1-P(Y=1)} \\right) = \\beta_0 + \\beta_1 X_1 + \\dots + \\beta_p X_p $$\n",
    "\n",
    "**Note:** All of your mathematical statements should be written out in your markdown cells [using LaTeX](https://towardsdatascience.com/write-markdown-latex-in-the-jupyter-notebook-10985edb91fd). Do not insert images of handwritten math!\n",
    "\n",
    "**3.4** Determine two classification boundaries mathematically for the model in the previous part (using the estimated coefficients): What range of values of `test` as a function of `ap` would an applicant be predicted to more likely than not be admitted into the college they applied? If a student scored a perfect 2400 on `test`, what is the minimum number of AP tests they should take in order to have a better than 50% chance of being admitted into Harvard?\n",
    "\n",
    "**3.5** Create two separate scatterplots (one for Harvard applicants and one for Yale applicants) with the predictor `test` on the y-axis and `ap` on the x-axis where `admitted` is color-coded and the marker denotes train vs. test data.  Then add the appropriate classification boundary from the previous part.  Compare these two plots (both the location of the boundaries and where the points lie around these boundaries).\n",
    "\n",
    "**Note:** As always, please be certain (a) your plot is titled, (b) everything is clearly labeled, and (c) the plot itself is formatted in a manner that makes it easy to read and interpret.\n",
    "\n",
    "**3.6** Fit a logistic regression model (call it `logit3_6`) to predict `admitted` from 4 predictors: `['harvard', 'test', 'female', 'minority']` along with 2 interaction terms: `harvard` with `female` and `harvard` with `minority`.  Print out the coefficient estimates for this model.\n",
    "\n",
    "**3.7** Interpret the coefficients associated with `female` and `minority` (the two main effects AND the two interaction terms).\n",
    "\n",
    "**3.8** Based on this sample, how does it appear that Harvard and Yale compare in admitting these groups?  Why would it be wrong to take this interpretation as truth?"
   ]
  },
  {
   "cell_type": "markdown",
   "metadata": {
    "autograde": "3.1",
    "cell_id": "0a790850-87c6-4f46-b89e-048a2295c92b",
    "colab_type": "text",
    "id": "IGFtXJmQap2q"
   },
   "source": [
    "<div class='exercise-r'>  \n",
    " \n",
    "**3.1** Fit a logistic regression model (call it `logit3_1`) to predict `admitted` from 7 predictors: `['harvard', 'test', 'ap', 'avg_ap', 'gpa', 'female', 'minority']`.  Output and interpret the coefficient estimates for the binary predictors in this model.\n",
    " \n",
    " **Hint:** If you have convergence warnings, increasing the maximum number of iterations to 500 (`max_iter=500`) will likely solve the issue.\n",
    " \n",
    " </div>"
   ]
  },
  {
   "cell_type": "code",
   "execution_count": 728,
   "metadata": {},
   "outputs": [],
   "source": [
    "hy_train = harvard_train_orig[['harvard', 'test', 'ap', 'avg_ap', 'gpa', 'female', 'minority', 'admitted']]\n",
    "hy_test = harvard_test_orig[['harvard', 'test', 'ap', 'avg_ap', 'gpa', 'female', 'minority', 'admitted']]\n"
   ]
  },
  {
   "cell_type": "code",
   "execution_count": 729,
   "metadata": {},
   "outputs": [
    {
     "name": "stdout",
     "output_type": "stream",
     "text": [
      "The intercept and coefficient for the harvard + yale logistic regression model are: [-6.28698778] [[-6.28698778e+00  4.84923755e-03 -1.17217982e-01  7.14916308e-02\n",
      "   2.11943259e-01  1.57066141e-01  6.07077572e-01]]\n",
      "The classification accuracy for the train model is: 73.087 %\n",
      "The classification accuracy for the test model is: 65.990 %\n"
     ]
    }
   ],
   "source": [
    "# your code here\n",
    "logit3_1 = LogisticRegression(penalty='none', max_iter = 500).fit(hy_train[['harvard', 'test', 'ap', 'avg_ap', 'gpa', 'female',\n",
    "                                            'minority']], hy_train['admitted'])\n",
    "#test_logistic_yale = LogisticRegression(C=100).fit(yale_train_orig[['test']], yale_train['admitted'])\n",
    "\n",
    "\n",
    "#predict based off model\n",
    "y_pred_train = logit3_1.predict(hy_train[['harvard', 'test', 'ap', 'avg_ap', 'gpa', 'female', 'minority']])\n",
    "y_pred_test = logit3_1.predict(hy_test[['harvard', 'test', 'ap', 'avg_ap', 'gpa', 'female', 'minority']])\n",
    "\n",
    "#measure accuracy\n",
    "accuracy_score_train = accuracy_score(hy_train['admitted'], y_pred_train)*100\n",
    "accuracy_score_test = accuracy_score(hy_test['admitted'], y_pred_test)*100\n",
    "\n",
    "\n",
    "print(\"The intercept and coefficient for the harvard + yale logistic regression model are:\",logit3_1.intercept_ , logit3_1.coef_ )\n",
    "\n",
    "#print(\"The intercept and coefficient for the yale logistic regression model are:\", test_logistic_yale.intercept_, test_logistic_yale.coef_ )\n",
    "print(\"The classification accuracy for the train model is: %5.3f\" %accuracy_score_train, \"%\")\n",
    "print(\"The classification accuracy for the test model is: %5.3f\" %accuracy_score_test, \"%\")\n"
   ]
  },
  {
   "cell_type": "markdown",
   "metadata": {},
   "source": []
  },
  {
   "cell_type": "markdown",
   "metadata": {},
   "source": [
    "**INTERPRETATION:**"
   ]
  },
  {
   "cell_type": "markdown",
   "metadata": {},
   "source": [
    "If we standardized our data it would be much easier to compare the effects of all of our betas. Speaking to the two binary predictors minority and female (excluding harvard here) it seems that the chances of being admitted increase for both positives states (being female or a minority) and that being a minority has about 4 times the weight of being female. \n",
    "\n",
    "accuracy seems to have gone down slightly for this model. I'm a bit confused by this as I would have assumed the additional variables would have helped us to predict better. \n"
   ]
  },
  {
   "cell_type": "markdown",
   "metadata": {
    "autograde": "3.2",
    "cell_id": "0a790850-87c6-4f46-b89e-048a2295c92b",
    "colab_type": "text",
    "id": "IGFtXJmQap2q"
   },
   "source": [
    "<div class='exercise-r'>  \n",
    " \n",
    "**3.2** Fit a logistic regression model (call it `logit3_2`) to predict `admitted` from 3 predictors: `['harvard', 'test', 'ap']` along with the 2 interaction terms: `harvard` with `test` and `harvard` with `ap`. Name the columns for these interaction terms something sensible.  Print out the coefficient estimates for this model.\n",
    " \n",
    " </div>"
   ]
  },
  {
   "cell_type": "code",
   "execution_count": 730,
   "metadata": {},
   "outputs": [],
   "source": [
    "#use non-standardized hy_train\n",
    "hy_train = harvard_train_orig[['harvard','test','ap','admitted']]\n",
    "hy_test = harvard_test_orig[['harvard','test','ap','admitted']]\n"
   ]
  },
  {
   "cell_type": "code",
   "execution_count": 731,
   "metadata": {},
   "outputs": [
    {
     "name": "stderr",
     "output_type": "stream",
     "text": [
      "/Users/stevenmorse/opt/anaconda3/envs/cs109a_3_7/lib/python3.7/site-packages/ipykernel_launcher.py:1: SettingWithCopyWarning: \n",
      "A value is trying to be set on a copy of a slice from a DataFrame.\n",
      "Try using .loc[row_indexer,col_indexer] = value instead\n",
      "\n",
      "See the caveats in the documentation: https://pandas.pydata.org/pandas-docs/stable/user_guide/indexing.html#returning-a-view-versus-a-copy\n",
      "  \"\"\"Entry point for launching an IPython kernel.\n",
      "/Users/stevenmorse/opt/anaconda3/envs/cs109a_3_7/lib/python3.7/site-packages/ipykernel_launcher.py:2: SettingWithCopyWarning: \n",
      "A value is trying to be set on a copy of a slice from a DataFrame.\n",
      "Try using .loc[row_indexer,col_indexer] = value instead\n",
      "\n",
      "See the caveats in the documentation: https://pandas.pydata.org/pandas-docs/stable/user_guide/indexing.html#returning-a-view-versus-a-copy\n",
      "  \n",
      "/Users/stevenmorse/opt/anaconda3/envs/cs109a_3_7/lib/python3.7/site-packages/ipykernel_launcher.py:4: SettingWithCopyWarning: \n",
      "A value is trying to be set on a copy of a slice from a DataFrame.\n",
      "Try using .loc[row_indexer,col_indexer] = value instead\n",
      "\n",
      "See the caveats in the documentation: https://pandas.pydata.org/pandas-docs/stable/user_guide/indexing.html#returning-a-view-versus-a-copy\n",
      "  after removing the cwd from sys.path.\n",
      "/Users/stevenmorse/opt/anaconda3/envs/cs109a_3_7/lib/python3.7/site-packages/ipykernel_launcher.py:5: SettingWithCopyWarning: \n",
      "A value is trying to be set on a copy of a slice from a DataFrame.\n",
      "Try using .loc[row_indexer,col_indexer] = value instead\n",
      "\n",
      "See the caveats in the documentation: https://pandas.pydata.org/pandas-docs/stable/user_guide/indexing.html#returning-a-view-versus-a-copy\n",
      "  \"\"\"\n"
     ]
    },
    {
     "data": {
      "text/html": [
       "<div>\n",
       "<style scoped>\n",
       "    .dataframe tbody tr th:only-of-type {\n",
       "        vertical-align: middle;\n",
       "    }\n",
       "\n",
       "    .dataframe tbody tr th {\n",
       "        vertical-align: top;\n",
       "    }\n",
       "\n",
       "    .dataframe thead th {\n",
       "        text-align: right;\n",
       "    }\n",
       "</style>\n",
       "<table border=\"1\" class=\"dataframe\">\n",
       "  <thead>\n",
       "    <tr style=\"text-align: right;\">\n",
       "      <th></th>\n",
       "      <th>harvard</th>\n",
       "      <th>test</th>\n",
       "      <th>ap</th>\n",
       "      <th>admitted</th>\n",
       "      <th>harvard_test</th>\n",
       "      <th>harvard_ap</th>\n",
       "    </tr>\n",
       "  </thead>\n",
       "  <tbody>\n",
       "    <tr>\n",
       "      <th>584</th>\n",
       "      <td>1</td>\n",
       "      <td>2080</td>\n",
       "      <td>5</td>\n",
       "      <td>0</td>\n",
       "      <td>2080</td>\n",
       "      <td>5</td>\n",
       "    </tr>\n",
       "    <tr>\n",
       "      <th>3</th>\n",
       "      <td>1</td>\n",
       "      <td>2400</td>\n",
       "      <td>5</td>\n",
       "      <td>1</td>\n",
       "      <td>2400</td>\n",
       "      <td>5</td>\n",
       "    </tr>\n",
       "    <tr>\n",
       "      <th>383</th>\n",
       "      <td>1</td>\n",
       "      <td>2220</td>\n",
       "      <td>5</td>\n",
       "      <td>0</td>\n",
       "      <td>2220</td>\n",
       "      <td>5</td>\n",
       "    </tr>\n",
       "    <tr>\n",
       "      <th>1601</th>\n",
       "      <td>1</td>\n",
       "      <td>2250</td>\n",
       "      <td>5</td>\n",
       "      <td>1</td>\n",
       "      <td>2250</td>\n",
       "      <td>5</td>\n",
       "    </tr>\n",
       "    <tr>\n",
       "      <th>504</th>\n",
       "      <td>1</td>\n",
       "      <td>2150</td>\n",
       "      <td>2</td>\n",
       "      <td>0</td>\n",
       "      <td>2150</td>\n",
       "      <td>2</td>\n",
       "    </tr>\n",
       "    <tr>\n",
       "      <th>...</th>\n",
       "      <td>...</td>\n",
       "      <td>...</td>\n",
       "      <td>...</td>\n",
       "      <td>...</td>\n",
       "      <td>...</td>\n",
       "      <td>...</td>\n",
       "    </tr>\n",
       "    <tr>\n",
       "      <th>587</th>\n",
       "      <td>1</td>\n",
       "      <td>2080</td>\n",
       "      <td>0</td>\n",
       "      <td>0</td>\n",
       "      <td>2080</td>\n",
       "      <td>0</td>\n",
       "    </tr>\n",
       "    <tr>\n",
       "      <th>368</th>\n",
       "      <td>1</td>\n",
       "      <td>2230</td>\n",
       "      <td>5</td>\n",
       "      <td>0</td>\n",
       "      <td>2230</td>\n",
       "      <td>5</td>\n",
       "    </tr>\n",
       "    <tr>\n",
       "      <th>648</th>\n",
       "      <td>1</td>\n",
       "      <td>2020</td>\n",
       "      <td>0</td>\n",
       "      <td>0</td>\n",
       "      <td>2020</td>\n",
       "      <td>0</td>\n",
       "    </tr>\n",
       "    <tr>\n",
       "      <th>121</th>\n",
       "      <td>1</td>\n",
       "      <td>2340</td>\n",
       "      <td>0</td>\n",
       "      <td>0</td>\n",
       "      <td>2340</td>\n",
       "      <td>0</td>\n",
       "    </tr>\n",
       "    <tr>\n",
       "      <th>1537</th>\n",
       "      <td>1</td>\n",
       "      <td>2380</td>\n",
       "      <td>6</td>\n",
       "      <td>0</td>\n",
       "      <td>2380</td>\n",
       "      <td>6</td>\n",
       "    </tr>\n",
       "  </tbody>\n",
       "</table>\n",
       "<p>784 rows × 6 columns</p>\n",
       "</div>"
      ],
      "text/plain": [
       "      harvard  test  ap  admitted  harvard_test  harvard_ap\n",
       "584         1  2080   5         0          2080           5\n",
       "3           1  2400   5         1          2400           5\n",
       "383         1  2220   5         0          2220           5\n",
       "1601        1  2250   5         1          2250           5\n",
       "504         1  2150   2         0          2150           2\n",
       "...       ...   ...  ..       ...           ...         ...\n",
       "587         1  2080   0         0          2080           0\n",
       "368         1  2230   5         0          2230           5\n",
       "648         1  2020   0         0          2020           0\n",
       "121         1  2340   0         0          2340           0\n",
       "1537        1  2380   6         0          2380           6\n",
       "\n",
       "[784 rows x 6 columns]"
      ]
     },
     "metadata": {},
     "output_type": "display_data"
    },
    {
     "name": "stdout",
     "output_type": "stream",
     "text": [
      "The intercept and coefficient for the harvard + yale logistic regression model are: [-5.51967071] [[-5.51967071e+00  2.34580738e-03 -4.17730452e-02 -4.17730452e-02\n",
      "   2.34580738e-03]]\n",
      "The classification accuracy for the train model is: 73.214 %\n",
      "The classification accuracy for the test model is: 65.990 %\n"
     ]
    }
   ],
   "source": [
    "hy_train['harvard_test'] = hy_train.apply(lambda row: row.harvard * row.test, axis = 1) \n",
    "hy_train['harvard_ap'] = hy_train.apply(lambda row: row.harvard * row.ap, axis = 1) \n",
    "\n",
    "hy_test['harvard_test'] = hy_test.apply(lambda row: row.harvard * row.test, axis = 1) \n",
    "hy_test['harvard_ap'] = hy_test.apply(lambda row: row.harvard * row.ap, axis = 1) \n",
    "\n",
    "display(hy_train)\n",
    "\n",
    "# your code here\n",
    "logit3_2 = LogisticRegression(penalty='none', max_iter = 1000).fit(hy_train[['harvard', 'test', 'ap', \n",
    "                                                    'harvard_ap', 'harvard_test']], hy_train['admitted'])\n",
    "\n",
    "#predict based off model\n",
    "y_pred_train = logit3_2.predict(hy_train[['harvard', 'test', 'ap', 'harvard_ap', 'harvard_test']])\n",
    "y_pred_test = logit3_2.predict(hy_test[['harvard', 'test', 'ap', 'harvard_ap', 'harvard_test']])\n",
    "\n",
    "#measure accuracy\n",
    "accuracy_score_train = accuracy_score(hy_train['admitted'], y_pred_train)*100\n",
    "accuracy_score_test = accuracy_score(hy_test['admitted'], y_pred_test)*100\n",
    "\n",
    "\n",
    "print(\"The intercept and coefficient for the harvard + yale logistic regression model are:\",logit3_2.intercept_ , logit3_2.coef_ )\n",
    "\n",
    "#print(\"The intercept and coefficient for the yale logistic regression model are:\", test_logistic_yale.intercept_, test_logistic_yale.coef_ )\n",
    "print(\"The classification accuracy for the train model is: %5.3f\" %accuracy_score_train, \"%\")\n",
    "print(\"The classification accuracy for the test model is: %5.3f\" %accuracy_score_test, \"%\")\n"
   ]
  },
  {
   "cell_type": "code",
   "execution_count": 732,
   "metadata": {},
   "outputs": [
    {
     "name": "stderr",
     "output_type": "stream",
     "text": [
      "/Users/stevenmorse/opt/anaconda3/envs/cs109a_3_7/lib/python3.7/site-packages/ipykernel_launcher.py:5: SettingWithCopyWarning: \n",
      "A value is trying to be set on a copy of a slice from a DataFrame.\n",
      "Try using .loc[row_indexer,col_indexer] = value instead\n",
      "\n",
      "See the caveats in the documentation: https://pandas.pydata.org/pandas-docs/stable/user_guide/indexing.html#returning-a-view-versus-a-copy\n",
      "  \"\"\"\n",
      "/Users/stevenmorse/opt/anaconda3/envs/cs109a_3_7/lib/python3.7/site-packages/ipykernel_launcher.py:6: SettingWithCopyWarning: \n",
      "A value is trying to be set on a copy of a slice from a DataFrame.\n",
      "Try using .loc[row_indexer,col_indexer] = value instead\n",
      "\n",
      "See the caveats in the documentation: https://pandas.pydata.org/pandas-docs/stable/user_guide/indexing.html#returning-a-view-versus-a-copy\n",
      "  \n",
      "/Users/stevenmorse/opt/anaconda3/envs/cs109a_3_7/lib/python3.7/site-packages/ipykernel_launcher.py:8: SettingWithCopyWarning: \n",
      "A value is trying to be set on a copy of a slice from a DataFrame.\n",
      "Try using .loc[row_indexer,col_indexer] = value instead\n",
      "\n",
      "See the caveats in the documentation: https://pandas.pydata.org/pandas-docs/stable/user_guide/indexing.html#returning-a-view-versus-a-copy\n",
      "  \n",
      "/Users/stevenmorse/opt/anaconda3/envs/cs109a_3_7/lib/python3.7/site-packages/ipykernel_launcher.py:9: SettingWithCopyWarning: \n",
      "A value is trying to be set on a copy of a slice from a DataFrame.\n",
      "Try using .loc[row_indexer,col_indexer] = value instead\n",
      "\n",
      "See the caveats in the documentation: https://pandas.pydata.org/pandas-docs/stable/user_guide/indexing.html#returning-a-view-versus-a-copy\n",
      "  if __name__ == '__main__':\n"
     ]
    },
    {
     "data": {
      "text/html": [
       "<div>\n",
       "<style scoped>\n",
       "    .dataframe tbody tr th:only-of-type {\n",
       "        vertical-align: middle;\n",
       "    }\n",
       "\n",
       "    .dataframe tbody tr th {\n",
       "        vertical-align: top;\n",
       "    }\n",
       "\n",
       "    .dataframe thead th {\n",
       "        text-align: right;\n",
       "    }\n",
       "</style>\n",
       "<table border=\"1\" class=\"dataframe\">\n",
       "  <thead>\n",
       "    <tr style=\"text-align: right;\">\n",
       "      <th></th>\n",
       "      <th>yale</th>\n",
       "      <th>test</th>\n",
       "      <th>ap</th>\n",
       "      <th>admitted</th>\n",
       "      <th>yale_test</th>\n",
       "      <th>yale_ap</th>\n",
       "    </tr>\n",
       "  </thead>\n",
       "  <tbody>\n",
       "    <tr>\n",
       "      <th>1817</th>\n",
       "      <td>1</td>\n",
       "      <td>2190</td>\n",
       "      <td>6</td>\n",
       "      <td>1</td>\n",
       "      <td>2190</td>\n",
       "      <td>6</td>\n",
       "    </tr>\n",
       "    <tr>\n",
       "      <th>1308</th>\n",
       "      <td>1</td>\n",
       "      <td>2140</td>\n",
       "      <td>2</td>\n",
       "      <td>0</td>\n",
       "      <td>2140</td>\n",
       "      <td>2</td>\n",
       "    </tr>\n",
       "    <tr>\n",
       "      <th>1336</th>\n",
       "      <td>1</td>\n",
       "      <td>2120</td>\n",
       "      <td>6</td>\n",
       "      <td>0</td>\n",
       "      <td>2120</td>\n",
       "      <td>6</td>\n",
       "    </tr>\n",
       "    <tr>\n",
       "      <th>908</th>\n",
       "      <td>1</td>\n",
       "      <td>2330</td>\n",
       "      <td>0</td>\n",
       "      <td>0</td>\n",
       "      <td>2330</td>\n",
       "      <td>0</td>\n",
       "    </tr>\n",
       "    <tr>\n",
       "      <th>1768</th>\n",
       "      <td>1</td>\n",
       "      <td>2310</td>\n",
       "      <td>5</td>\n",
       "      <td>0</td>\n",
       "      <td>2310</td>\n",
       "      <td>5</td>\n",
       "    </tr>\n",
       "    <tr>\n",
       "      <th>...</th>\n",
       "      <td>...</td>\n",
       "      <td>...</td>\n",
       "      <td>...</td>\n",
       "      <td>...</td>\n",
       "      <td>...</td>\n",
       "      <td>...</td>\n",
       "    </tr>\n",
       "    <tr>\n",
       "      <th>1344</th>\n",
       "      <td>1</td>\n",
       "      <td>2110</td>\n",
       "      <td>7</td>\n",
       "      <td>0</td>\n",
       "      <td>2110</td>\n",
       "      <td>7</td>\n",
       "    </tr>\n",
       "    <tr>\n",
       "      <th>1383</th>\n",
       "      <td>1</td>\n",
       "      <td>2080</td>\n",
       "      <td>3</td>\n",
       "      <td>1</td>\n",
       "      <td>2080</td>\n",
       "      <td>3</td>\n",
       "    </tr>\n",
       "    <tr>\n",
       "      <th>1520</th>\n",
       "      <td>1</td>\n",
       "      <td>1450</td>\n",
       "      <td>5</td>\n",
       "      <td>0</td>\n",
       "      <td>1450</td>\n",
       "      <td>5</td>\n",
       "    </tr>\n",
       "    <tr>\n",
       "      <th>1070</th>\n",
       "      <td>1</td>\n",
       "      <td>2260</td>\n",
       "      <td>2</td>\n",
       "      <td>1</td>\n",
       "      <td>2260</td>\n",
       "      <td>2</td>\n",
       "    </tr>\n",
       "    <tr>\n",
       "      <th>1114</th>\n",
       "      <td>1</td>\n",
       "      <td>2230</td>\n",
       "      <td>2</td>\n",
       "      <td>0</td>\n",
       "      <td>2230</td>\n",
       "      <td>2</td>\n",
       "    </tr>\n",
       "  </tbody>\n",
       "</table>\n",
       "<p>712 rows × 6 columns</p>\n",
       "</div>"
      ],
      "text/plain": [
       "      yale  test  ap  admitted  yale_test  yale_ap\n",
       "1817     1  2190   6         1       2190        6\n",
       "1308     1  2140   2         0       2140        2\n",
       "1336     1  2120   6         0       2120        6\n",
       "908      1  2330   0         0       2330        0\n",
       "1768     1  2310   5         0       2310        5\n",
       "...    ...   ...  ..       ...        ...      ...\n",
       "1344     1  2110   7         0       2110        7\n",
       "1383     1  2080   3         1       2080        3\n",
       "1520     1  1450   5         0       1450        5\n",
       "1070     1  2260   2         1       2260        2\n",
       "1114     1  2230   2         0       2230        2\n",
       "\n",
       "[712 rows x 6 columns]"
      ]
     },
     "metadata": {},
     "output_type": "display_data"
    },
    {
     "name": "stdout",
     "output_type": "stream",
     "text": [
      "The intercept and coefficient for the harvard + yale logistic regression model are: [-0.00369134] [[-0.00369134 -0.0002947   0.03116918  0.03116918 -0.0002947 ]]\n",
      "The classification accuracy for the train model is: 75.281 %\n",
      "The classification accuracy for the test model is: 73.596 %\n"
     ]
    }
   ],
   "source": [
    "y_train = yale_train_orig[['yale','test','ap','admitted']]\n",
    "y_test = yale_test_orig[['yale','test','ap','admitted']]\n",
    "#recognizing now after the fact that I did not need ot use seperate yale_train_orig and harvard_train_orig\n",
    "\n",
    "y_train['yale_test'] = y_train.apply(lambda row: row.yale * row.test, axis = 1) \n",
    "y_train['yale_ap'] = y_train.apply(lambda row: row.yale * row.ap, axis = 1) \n",
    "\n",
    "y_test['yale_test'] = y_test.apply(lambda row: row.yale * row.test, axis = 1) \n",
    "y_test['yale_ap'] = y_test.apply(lambda row: row.yale * row.ap, axis = 1) \n",
    "\n",
    "display(y_train)\n",
    "\n",
    "logit3_2 = LogisticRegression(penalty='none', max_iter = 1000).fit(y_train[['yale', 'test', 'ap', \n",
    "                                                        'yale_ap', 'yale_test']], y_train['admitted'])\n",
    "#predict based off model\n",
    "y_pred_train = logit3_2.predict(y_train[['yale', 'test', 'ap', 'yale_ap', 'yale_test']])\n",
    "y_pred_test = logit3_2.predict(y_test[['yale', 'test', 'ap', 'yale_ap', 'yale_test']])\n",
    "\n",
    "#measure accuracy\n",
    "accuracy_score_train = accuracy_score(y_train['admitted'], y_pred_train)*100\n",
    "accuracy_score_test = accuracy_score(y_test['admitted'], y_pred_test)*100\n",
    "\n",
    "\n",
    "print(\"The intercept and coefficient for the harvard + yale logistic regression model are:\",logit3_2.intercept_ , logit3_2.coef_ )\n",
    "\n",
    "#print(\"The intercept and coefficient for the yale logistic regression model are:\", test_logistic_yale.intercept_, test_logistic_yale.coef_ )\n",
    "print(\"The classification accuracy for the train model is: %5.3f\" %accuracy_score_train, \"%\")\n",
    "print(\"The classification accuracy for the test model is: %5.3f\" %accuracy_score_test, \"%\")"
   ]
  },
  {
   "cell_type": "markdown",
   "metadata": {
    "autograde": "3.3",
    "cell_id": "0a790850-87c6-4f46-b89e-048a2295c92b",
    "colab_type": "text",
    "id": "IGFtXJmQap2q"
   },
   "source": [
    "<div class='exercise-r'>  \n",
    " \n",
    "**3.3** Simplify and write out mathematically the above model from question 3.2 for 2 applicants: (1) someone who is applying to Harvard and for (2) someone who is applying to Yale (keep `test` and `ap` as the unknown $X$s).  The basic framework given to you below may be helpful:\n",
    " \n",
    " $$ \\ln \\left( \\frac{P(Y=1)}{1-P(Y=1)} \\right) = \\beta_0 + \\beta_1 X_1 + \\dots + \\beta_p X_p $$\n",
    " \n",
    " **Note:** All of your mathematical statements should be written out in your markdown cells [using LaTeX](https://towardsdatascience.com/write-markdown-latex-in-the-jupyter-notebook-10985edb91fd). Do not insert images of handwritten math!\n",
    " \n",
    " </div>"
   ]
  },
  {
   "cell_type": "markdown",
   "metadata": {},
   "source": [
    "**ANSWER:**"
   ]
  },
  {
   "cell_type": "markdown",
   "metadata": {},
   "source": [
    "*Note: mathematical statements should be written using LaTeX.*"
   ]
  },
  {
   "cell_type": "markdown",
   "metadata": {},
   "source": [
    "*Your answer here*\n",
    "for harvard: $$ p =  1/(1+ e^{ -(-5.5197 -5.5197e+00*X1 + 2.35e-03*X2 -4.18e-02*X3 -4.18e-028*X4\n",
    "   + 2.346e-03*X5)} ) $$ \n",
    " \n",
    "The equation for Yale would be nearly identical, the process would to repeat what I did above but instead isolate yale and yale based interaction terms \n",
    "\n",
    "for yale: $$ p =  1/(1+ e^{ -(-0.00369 -0.00369X1 -0.00029X2 +  0.031X3 + 0.031X4 -0.00029X5 ]} ) $$  \n",
    "\n",
    "note that the harvard and yale beta terms are the same as the intercept. This makes sense as we are looking at admissions someone needs to apply to the school in order to be admitted. I tried to reduce as I saw fit with regards to sig figs. Note that the values for the harvard test and harvar_ap (as well as there yale counterparts) are equal in value to the test and avg_ap betas. This is because we are only multiplying them by 1. This becomes more clear upon looking at the dataframe. "
   ]
  },
  {
   "cell_type": "markdown",
   "metadata": {
    "autograde": "3.4",
    "cell_id": "0a790850-87c6-4f46-b89e-048a2295c92b",
    "colab_type": "text",
    "id": "IGFtXJmQap2q"
   },
   "source": [
    "<div class='exercise-r'>  \n",
    " \n",
    "**3.4** Determine two classification boundaries mathematically for the model in the previous part (using the estimated coefficients): What range of values of `test` as a function of `ap` would an applicant be predicted to more likely than not be admitted into the college they applied? If a student scored a perfect 2400 on `test`, what is the minimum number of AP tests they should take in order to have a better than 50% chance of being admitted into Harvard?\n",
    " \n",
    " </div>"
   ]
  },
  {
   "cell_type": "markdown",
   "metadata": {},
   "source": [
    "**ANSWER:**\n",
    "can ignore the intercept and first term since they are identical. \n",
    "X2 = test\n",
    "X3 = ap_avg\n",
    "since beta2 and beta3 are identical to the results we get from the beta 4 and beta 5, we can concern ourselves only with 2X2 and 2X3 simplifying our formula to the following. Since there are two 2's we can distribute them. \n",
    "set p to 0.5 for our first classification boundary. \n",
    "\n",
    "$$ p =  0.5 1/(1+𝑒{−(2.35𝑒−03*2*𝑋2−4.18𝑒−02∗2*𝑋3))} $$\n",
    "$$ 0.5  = 1/(1+𝑒{−2(2.35𝑒−03*𝑋2−4.18𝑒−02*𝑋3))}$$\n",
    "$$1 = 𝑒{−2(2.35𝑒−03*𝑋2−4.18𝑒−02*𝑋3))}$$\n",
    "$$0 = (2.35𝑒−03*𝑋2−4.18𝑒−02*𝑋3)$$\n",
    "$$x3 = (2.35e-03 * 2400)/4.18e-02)$$\n",
    "$$x3 = (2.35e-03 * 2400)/4.18e-02)$$\n",
    "x3 = 134.93\n",
    "This doesn't make any sense, not entirely sure where I went wrong with my math. Its clear that we can't get a score this high in the avg AP. I had a similar conundrum earlier when I was rolling back my math. "
   ]
  },
  {
   "cell_type": "code",
   "execution_count": 733,
   "metadata": {},
   "outputs": [
    {
     "data": {
      "text/plain": [
       "134.9282296650718"
      ]
     },
     "execution_count": 733,
     "metadata": {},
     "output_type": "execute_result"
    }
   ],
   "source": [
    "x3 = (2.35e-03 * 2400)/4.18e-02\n",
    "x3"
   ]
  },
  {
   "cell_type": "markdown",
   "metadata": {},
   "source": [
    "*Your answer here*"
   ]
  },
  {
   "cell_type": "markdown",
   "metadata": {
    "autograde": "3.5",
    "cell_id": "0a790850-87c6-4f46-b89e-048a2295c92b",
    "colab_type": "text",
    "id": "IGFtXJmQap2q"
   },
   "source": [
    "<div class='exercise-r'>  \n",
    " \n",
    "**3.5** Create two separate scatterplots (one for Harvard applicants and one for Yale applicants) with the predictor `test` on the y-axis and `ap` on the x-axis where `admitted` is color-coded and the marker denotes train vs. test data.  Then add the appropriate classification boundary from the previous part.  Compare these two plots (both the location of the boundaries and where the points lie around these boundaries).\n",
    " \n",
    " **Note:** As always, please be certain (a) your plot is titled, (b) everything is clearly labeled, and (c) the plot itself is formatted in a manner that makes it easy to read and interpret.\n",
    " \n",
    " </div>"
   ]
  },
  {
   "cell_type": "code",
   "execution_count": 734,
   "metadata": {},
   "outputs": [
    {
     "data": {
      "image/png": "[encoded data removed]",
      "text/plain": [
       "<Figure size 432x288 with 2 Axes>"
      ]
     },
     "metadata": {
      "needs_background": "light"
     },
     "output_type": "display_data"
    }
   ],
   "source": [
    "#plt.pcolormesh(x1v, x2v, yhat1.reshape(x1v.shape),alpha = 0.05) \n",
    "plt.scatter(harvard_train_orig[['test']],harvard_train_orig[['avg_ap']],c=harvard_train_orig['admitted'], s = 5)\n",
    "plt.xlabel('test scores')\n",
    "plt.ylabel('avg_ap')\n",
    "plt.title('test scores vs avg ap as it relates to admission')\n",
    "plt.colorbar()\n",
    "plt.show()"
   ]
  },
  {
   "cell_type": "markdown",
   "metadata": {},
   "source": [
    "**INTERPRETATION:**"
   ]
  },
  {
   "cell_type": "markdown",
   "metadata": {},
   "source": [
    "My classification boundary does not make logical sense at the moment so I have omitted it from this graph. "
   ]
  },
  {
   "cell_type": "markdown",
   "metadata": {
    "autograde": "3.6",
    "cell_id": "0a790850-87c6-4f46-b89e-048a2295c92b",
    "colab_type": "text",
    "id": "IGFtXJmQap2q"
   },
   "source": [
    "<div class='exercise-r'>  \n",
    " \n",
    "**3.6** Fit a logistic regression model (call it `logit3_6`) to predict `admitted` from 4 predictors: `['harvard', 'test', 'female', 'minority']` along with 2 interaction terms: `harvard` with `female` and `harvard` with `minority`.  Print out the coefficient estimates for this model.\n",
    " \n",
    " </div>"
   ]
  },
  {
   "cell_type": "code",
   "execution_count": 735,
   "metadata": {},
   "outputs": [
    {
     "name": "stderr",
     "output_type": "stream",
     "text": [
      "/Users/stevenmorse/opt/anaconda3/envs/cs109a_3_7/lib/python3.7/site-packages/ipykernel_launcher.py:5: SettingWithCopyWarning: \n",
      "A value is trying to be set on a copy of a slice from a DataFrame.\n",
      "Try using .loc[row_indexer,col_indexer] = value instead\n",
      "\n",
      "See the caveats in the documentation: https://pandas.pydata.org/pandas-docs/stable/user_guide/indexing.html#returning-a-view-versus-a-copy\n",
      "  \"\"\"\n",
      "/Users/stevenmorse/opt/anaconda3/envs/cs109a_3_7/lib/python3.7/site-packages/ipykernel_launcher.py:6: SettingWithCopyWarning: \n",
      "A value is trying to be set on a copy of a slice from a DataFrame.\n",
      "Try using .loc[row_indexer,col_indexer] = value instead\n",
      "\n",
      "See the caveats in the documentation: https://pandas.pydata.org/pandas-docs/stable/user_guide/indexing.html#returning-a-view-versus-a-copy\n",
      "  \n",
      "/Users/stevenmorse/opt/anaconda3/envs/cs109a_3_7/lib/python3.7/site-packages/ipykernel_launcher.py:8: SettingWithCopyWarning: \n",
      "A value is trying to be set on a copy of a slice from a DataFrame.\n",
      "Try using .loc[row_indexer,col_indexer] = value instead\n",
      "\n",
      "See the caveats in the documentation: https://pandas.pydata.org/pandas-docs/stable/user_guide/indexing.html#returning-a-view-versus-a-copy\n",
      "  \n",
      "/Users/stevenmorse/opt/anaconda3/envs/cs109a_3_7/lib/python3.7/site-packages/ipykernel_launcher.py:9: SettingWithCopyWarning: \n",
      "A value is trying to be set on a copy of a slice from a DataFrame.\n",
      "Try using .loc[row_indexer,col_indexer] = value instead\n",
      "\n",
      "See the caveats in the documentation: https://pandas.pydata.org/pandas-docs/stable/user_guide/indexing.html#returning-a-view-versus-a-copy\n",
      "  if __name__ == '__main__':\n"
     ]
    },
    {
     "data": {
      "text/html": [
       "<div>\n",
       "<style scoped>\n",
       "    .dataframe tbody tr th:only-of-type {\n",
       "        vertical-align: middle;\n",
       "    }\n",
       "\n",
       "    .dataframe tbody tr th {\n",
       "        vertical-align: top;\n",
       "    }\n",
       "\n",
       "    .dataframe thead th {\n",
       "        text-align: right;\n",
       "    }\n",
       "</style>\n",
       "<table border=\"1\" class=\"dataframe\">\n",
       "  <thead>\n",
       "    <tr style=\"text-align: right;\">\n",
       "      <th></th>\n",
       "      <th>harvard</th>\n",
       "      <th>test</th>\n",
       "      <th>female</th>\n",
       "      <th>minority</th>\n",
       "      <th>admitted</th>\n",
       "      <th>harvard_female</th>\n",
       "      <th>harvard_minority</th>\n",
       "    </tr>\n",
       "  </thead>\n",
       "  <tbody>\n",
       "    <tr>\n",
       "      <th>584</th>\n",
       "      <td>1</td>\n",
       "      <td>2080</td>\n",
       "      <td>1</td>\n",
       "      <td>0</td>\n",
       "      <td>0</td>\n",
       "      <td>1</td>\n",
       "      <td>0</td>\n",
       "    </tr>\n",
       "    <tr>\n",
       "      <th>3</th>\n",
       "      <td>1</td>\n",
       "      <td>2400</td>\n",
       "      <td>1</td>\n",
       "      <td>0</td>\n",
       "      <td>1</td>\n",
       "      <td>1</td>\n",
       "      <td>0</td>\n",
       "    </tr>\n",
       "    <tr>\n",
       "      <th>383</th>\n",
       "      <td>1</td>\n",
       "      <td>2220</td>\n",
       "      <td>0</td>\n",
       "      <td>0</td>\n",
       "      <td>0</td>\n",
       "      <td>0</td>\n",
       "      <td>0</td>\n",
       "    </tr>\n",
       "    <tr>\n",
       "      <th>1601</th>\n",
       "      <td>1</td>\n",
       "      <td>2250</td>\n",
       "      <td>0</td>\n",
       "      <td>0</td>\n",
       "      <td>1</td>\n",
       "      <td>0</td>\n",
       "      <td>0</td>\n",
       "    </tr>\n",
       "    <tr>\n",
       "      <th>504</th>\n",
       "      <td>1</td>\n",
       "      <td>2150</td>\n",
       "      <td>0</td>\n",
       "      <td>1</td>\n",
       "      <td>0</td>\n",
       "      <td>0</td>\n",
       "      <td>1</td>\n",
       "    </tr>\n",
       "    <tr>\n",
       "      <th>...</th>\n",
       "      <td>...</td>\n",
       "      <td>...</td>\n",
       "      <td>...</td>\n",
       "      <td>...</td>\n",
       "      <td>...</td>\n",
       "      <td>...</td>\n",
       "      <td>...</td>\n",
       "    </tr>\n",
       "    <tr>\n",
       "      <th>587</th>\n",
       "      <td>1</td>\n",
       "      <td>2080</td>\n",
       "      <td>1</td>\n",
       "      <td>0</td>\n",
       "      <td>0</td>\n",
       "      <td>1</td>\n",
       "      <td>0</td>\n",
       "    </tr>\n",
       "    <tr>\n",
       "      <th>368</th>\n",
       "      <td>1</td>\n",
       "      <td>2230</td>\n",
       "      <td>0</td>\n",
       "      <td>0</td>\n",
       "      <td>0</td>\n",
       "      <td>0</td>\n",
       "      <td>0</td>\n",
       "    </tr>\n",
       "    <tr>\n",
       "      <th>648</th>\n",
       "      <td>1</td>\n",
       "      <td>2020</td>\n",
       "      <td>1</td>\n",
       "      <td>0</td>\n",
       "      <td>0</td>\n",
       "      <td>1</td>\n",
       "      <td>0</td>\n",
       "    </tr>\n",
       "    <tr>\n",
       "      <th>121</th>\n",
       "      <td>1</td>\n",
       "      <td>2340</td>\n",
       "      <td>0</td>\n",
       "      <td>0</td>\n",
       "      <td>0</td>\n",
       "      <td>0</td>\n",
       "      <td>0</td>\n",
       "    </tr>\n",
       "    <tr>\n",
       "      <th>1537</th>\n",
       "      <td>1</td>\n",
       "      <td>2380</td>\n",
       "      <td>1</td>\n",
       "      <td>0</td>\n",
       "      <td>0</td>\n",
       "      <td>1</td>\n",
       "      <td>0</td>\n",
       "    </tr>\n",
       "  </tbody>\n",
       "</table>\n",
       "<p>784 rows × 7 columns</p>\n",
       "</div>"
      ],
      "text/plain": [
       "      harvard  test  female  minority  admitted  harvard_female  \\\n",
       "584         1  2080       1         0         0               1   \n",
       "3           1  2400       1         0         1               1   \n",
       "383         1  2220       0         0         0               0   \n",
       "1601        1  2250       0         0         1               0   \n",
       "504         1  2150       0         1         0               0   \n",
       "...       ...   ...     ...       ...       ...             ...   \n",
       "587         1  2080       1         0         0               1   \n",
       "368         1  2230       0         0         0               0   \n",
       "648         1  2020       1         0         0               1   \n",
       "121         1  2340       0         0         0               0   \n",
       "1537        1  2380       1         0         0               1   \n",
       "\n",
       "      harvard_minority  \n",
       "584                  0  \n",
       "3                    0  \n",
       "383                  0  \n",
       "1601                 0  \n",
       "504                  1  \n",
       "...                ...  \n",
       "587                  0  \n",
       "368                  0  \n",
       "648                  0  \n",
       "121                  0  \n",
       "1537                 0  \n",
       "\n",
       "[784 rows x 7 columns]"
      ]
     },
     "metadata": {},
     "output_type": "display_data"
    },
    {
     "name": "stdout",
     "output_type": "stream",
     "text": [
      "The intercept and coefficient for the harvard  logistic regression model are: [-2.29470699e-07] [[-2.29470699e-07 -4.18350715e-04 -9.86132440e-08 -3.77187068e-08]]\n",
      "The classification accuracy for the train model is: 72.321 %\n",
      "The classification accuracy for the test model is: 67.005 %\n"
     ]
    }
   ],
   "source": [
    "# your code here\n",
    "hy_train = harvard_train_orig[['harvard', 'test', 'female', 'minority','admitted']]\n",
    "hy_test = harvard_test_orig[['harvard', 'test', 'female', 'minority', 'admitted']]\n",
    "\n",
    "hy_train['harvard_female'] = hy_train.apply(lambda row: row.harvard * row.female, axis = 1) \n",
    "hy_train['harvard_minority'] = hy_train.apply(lambda row: row.harvard * row.minority, axis = 1) \n",
    "\n",
    "hy_test['harvard_test'] = hy_test.apply(lambda row: row.harvard * row.female, axis = 1) \n",
    "hy_test['harvard_ap'] = hy_test.apply(lambda row: row.harvard * row.minority, axis = 1) \n",
    "\n",
    "display(hy_train)\n",
    "\n",
    "# your code here\n",
    "logit3_6 = LogisticRegression(penalty='none', max_iter = 1000).fit(hy_train[['harvard', 'test', \n",
    "                                                    'female', 'minority']], hy_train['admitted'])\n",
    "\n",
    "#predict based off model\n",
    "y_pred_train = logit3_6.predict(hy_train[['harvard', 'test', 'female', 'minority']])\n",
    "y_pred_test = logit3_6.predict(hy_test[['harvard', 'test', 'female', 'minority']])\n",
    "\n",
    "#measure accuracy\n",
    "accuracy_score_train = accuracy_score(hy_train['admitted'], y_pred_train)*100\n",
    "accuracy_score_test = accuracy_score(hy_test['admitted'], y_pred_test)*100\n",
    "\n",
    "print(\"The intercept and coefficient for the harvard  logistic regression model are:\",logit3_6.intercept_ , logit3_6.coef_ )\n",
    "\n",
    "#print(\"The intercept and coefficient for the yale logistic regression model are:\", test_logistic_yale.intercept_, test_logistic_yale.coef_ )\n",
    "print(\"The classification accuracy for the train model is: %5.3f\" %accuracy_score_train, \"%\")\n",
    "print(\"The classification accuracy for the test model is: %5.3f\" %accuracy_score_test, \"%\")"
   ]
  },
  {
   "cell_type": "markdown",
   "metadata": {
    "autograde": "3.7",
    "cell_id": "0a790850-87c6-4f46-b89e-048a2295c92b",
    "colab_type": "text",
    "id": "IGFtXJmQap2q"
   },
   "source": [
    "<div class='exercise-r'>  \n",
    " \n",
    "**3.7** Interpret the coefficients associated with `female` and `minority` (the two main effects AND the two interaction terms).\n",
    " \n",
    " </div>"
   ]
  },
  {
   "cell_type": "markdown",
   "metadata": {},
   "source": [
    "**INTERPRETATION:**"
   ]
  },
  {
   "cell_type": "markdown",
   "metadata": {},
   "source": [
    "There is really no affect associated here since the interaction terms are only being matched against the harvard term which is binary and a part of the data already. The correlation to our training will always be 0 when harvard is 0 so the interaction doesn't change anything. The two main effects, being the minority and female terms show a minimal effect when compared to the test term, but the model seems to show a positive correlation to being a minority and female. Minority has a higher weight than being female. "
   ]
  },
  {
   "cell_type": "markdown",
   "metadata": {
    "autograde": "3.8",
    "cell_id": "0a790850-87c6-4f46-b89e-048a2295c92b",
    "colab_type": "text",
    "id": "IGFtXJmQap2q"
   },
   "source": [
    "<div class='exercise-r'>  \n",
    "    \n",
    "**3.8** Based on this sample, how does it appear that Harvard and Yale compare in admitting these groups?  Why would it be wrong to take this interpretation as truth?\n",
    "</div>"
   ]
  },
  {
   "cell_type": "code",
   "execution_count": 736,
   "metadata": {},
   "outputs": [
    {
     "name": "stdout",
     "output_type": "stream",
     "text": [
      "The intercept and coefficient for the yale logistic regression model are: [-6.47084081] [[-6.47084081e+00  3.67427147e-03  2.97154728e-02 -5.29198240e-02\n",
      "   9.25971272e-01 -1.52344404e-01  1.24873021e+00]]\n",
      "The classification accuracy for the train model is: 76.404 %\n",
      "The classification accuracy for the test model is: 73.596 %\n"
     ]
    }
   ],
   "source": [
    "y_train = yale_train_orig[['yale', 'test', 'ap', 'avg_ap', 'gpa', 'female',\n",
    "                                            'minority','admitted']]\n",
    "y_test = yale_test_orig[['yale', 'test', 'ap', 'avg_ap', 'gpa', 'female',\n",
    "                                            'minority', 'admitted']]\n",
    "\n",
    "# your code here\n",
    "logit3_8 = LogisticRegression(penalty='none', max_iter = 500).fit(y_train[['yale', 'test', 'ap', 'avg_ap', 'gpa', 'female',\n",
    "                                            'minority']], y_train['admitted'])\n",
    "#test_logistic_yale = LogisticRegression(C=100).fit(yale_train_orig[['test']], yale_train['admitted'])\n",
    "\n",
    "\n",
    "#predict based off model\n",
    "y_pred_train = logit3_8.predict(y_train[['yale', 'test', 'ap', 'avg_ap', 'gpa', 'female', 'minority']])\n",
    "y_pred_test = logit3_8.predict(y_test[['yale', 'test', 'ap', 'avg_ap', 'gpa', 'female', 'minority']])\n",
    "\n",
    "#measure accuracy\n",
    "accuracy_score_train = accuracy_score(y_train['admitted'], y_pred_train)*100\n",
    "accuracy_score_test = accuracy_score(y_test['admitted'], y_pred_test)*100\n",
    "\n",
    "\n",
    "print(\"The intercept and coefficient for the yale logistic regression model are:\",logit3_8.intercept_ , logit3_8.coef_ )\n",
    "\n",
    "#print(\"The intercept and coefficient for the yale logistic regression model are:\", test_logistic_yale.intercept_, test_logistic_yale.coef_ )\n",
    "print(\"The classification accuracy for the train model is: %5.3f\" %accuracy_score_train, \"%\")\n",
    "print(\"The classification accuracy for the test model is: %5.3f\" %accuracy_score_test, \"%\")\n"
   ]
  },
  {
   "cell_type": "markdown",
   "metadata": {},
   "source": [
    "**INTERPRETATION:**"
   ]
  },
  {
   "cell_type": "markdown",
   "metadata": {},
   "source": [
    "*Your answer here*\n",
    "\n",
    "both schools weigh being a minority highly in there admissions process. From the data, it appears this is more beneficial at yale than harvard. It is hard to take this as fact since our model is only 73% accurate. There are also issues with interpretting causation from these two factors. "
   ]
  },
  {
   "cell_type": "markdown",
   "metadata": {},
   "source": [
    "---"
   ]
  },
  {
   "cell_type": "markdown",
   "metadata": {},
   "source": [
    "<div class='exercise'><b> Question 4 [24 pts]: Building Predictive Models for admitted </b></div>\n",
    "\n",
    "**4.1** You were instructed to NOT scale predictors in the prior sections above. The primary reason for this was to focus instead on the interpretability of our logistic regression coefficients. However, as we're sure you noticed, the numeric scale among our different predictors varies greatly (i.e. `test` values are in the 1,000's while others are much, much smaller). In practice, we might want to put our predictors all on a similar scale, particularly for regression and/or distance-based algorithms such as $k$-NN classification. (1) Please explain why scaling under these circumstances might be important. Then, (2) actually apply standardized scaling to all of the **non-binary** predictors in our original set of 12 predictors (for both the training and test sets).\n",
    "\n",
    "**Note:** These scaled predictors should be used instead of the original unscaled versions of the predictors for the remainder of this problem set.\n",
    "\n",
    "**4.2** Fit a well-tuned $k$-NN classification model with main effects of all 12 predictors in it (call it `knn_model`).  Use `ks = [1,3,5,9,15,21,51,71,101,151,201]` and 3-fold cross-validation. Plot, on a single set of axes, your resulting cross-validation mean training and mean validation scores at each value $k$. Then, report your chosen $k$ and the classification accuracy on train and test for your final fitted model.\n",
    "\n",
    "**4.3** Fit the full logistic regression model with main effects of all 12 predictors in it (call it `logit_full`). Print out the coefficient estimates and report the classification accuracy on train and test for this model.\n",
    "\n",
    "**4.4** Fit a well-tuned Lasso-like logistic regression model from all 12 predictors in it (call it `logit_lasso`). Use `Cs = [1e-4,1e-3,1e-2,1e-1,1e0,1e1,1e2,1e3,1e4]` and 3-fold cross-validation.  Print out the coefficient estimates and report the classification accuracy on train and test for this model.\n",
    "\n",
    "**4.5** Which predictors were deemed important in `logit_lasso`?  Which were deemed unimportant? \n",
    "\n",
    "**4.6** Fit a well-tuned Lasso-like logistic regression model with all important predictors from `logit_lasso` and all the 2-way interactions between them (call it `logit_lasso_interact`).  Again use `Cs = [1e-4,1e-3,1e-2,1e-1,1e0,1e1,1e2,1e3,1e4]` and 3-fold cross-validation. Report the classification accuracy on train and test for this model.\n",
    "\n",
    "**4.7** How many of the predictors in our `logit_lasso_interact` model were deemed important and unimportant? (Feel free to just report on the number of them found to be important and unimportant. There is no need to list them all here.)\n",
    "\n",
    "**Hint:** If you have convergence warnings, increasing the maximum number of iterations to 500 (`max_iter=500`) will likely solve the issue."
   ]
  },
  {
   "cell_type": "markdown",
   "metadata": {
    "autograde": "4.1",
    "cell_id": "0a790850-87c6-4f46-b89e-048a2295c92b",
    "colab_type": "text",
    "id": "IGFtXJmQap2q"
   },
   "source": [
    "<div class='exercise-r'>  \n",
    " \n",
    "**4.1** You were instructed to NOT scale predictors in the prior sections above. The primary reason for this was to focus instead on the interpretability of our logistic regression coefficients. However, as we're sure you noticed, the numeric scale among our different predictors varies greatly (i.e. `test` values are in the 1,000's while others are much, much smaller). In practice, we might want to put our predictors all on a similar scale, particularly for regression and/or distance-based algorithms such as $k$-NN classification. (1) Please explain why scaling under these circumstances might be important. Then, (2) actually apply standardized scaling to all of the **non-binary** predictors in our original set of 12 predictors (for both the training and test sets).\n",
    " \n",
    " **Note:** These scaled predictors should be used instead of the original unscaled versions of the predictors for the remainder of this problem set.\n",
    " \n",
    " </div>"
   ]
  },
  {
   "cell_type": "markdown",
   "metadata": {},
   "source": [
    "**INTERPRETATION:**"
   ]
  },
  {
   "cell_type": "markdown",
   "metadata": {},
   "source": [
    "standardization will be important for the interpretability of our coefficients. With the standardization, we will have better insight into beta values relative to one another. "
   ]
  },
  {
   "cell_type": "code",
   "execution_count": 737,
   "metadata": {},
   "outputs": [],
   "source": [
    "# your code here\n",
    "features_harvard = ['admitted','test','ap','avg_ap','sat_subjects','gpa','female',\n",
    "    'minority','international','sports','early_app','alumni','harvard']\n",
    "features_yale = ['admitted','test','ap','avg_ap','sat_subjects','gpa','female',\n",
    "    'minority','international','sports','early_app','alumni','yale']\n",
    "features_harvard_yale = ['admitted','test','ap','avg_ap','sat_subjects','gpa','female',\n",
    "    'minority','international','sports','early_app','alumni','harvard','yale']\n",
    "\n",
    "#train\n",
    "accept_train = college_train[['admitted','test','ap','avg_ap','sat_subjects','gpa','female',\n",
    "    'minority','international','sports','early_app','alumni','harvard','yale']]\n",
    "harvard_train_orig = accept_train[accept_train['harvard'] == 1]\n",
    "yale_train_orig = accept_train[accept_train['yale'] == 1]\n",
    "#test\n",
    "accept_test = college_test[['admitted','test','ap','avg_ap','sat_subjects','gpa','female',\n",
    "    'minority','international','sports','early_app','alumni','harvard','yale']]\n",
    "harvard_test_orig = accept_test[accept_test['harvard'] == 1]\n",
    "yale_test_orig = accept_test[accept_test['yale'] == 1]\n",
    "\n",
    "#standardize\n",
    "scaler_harvard = StandardScaler().fit(harvard_train_orig[features_harvard])\n",
    "\n",
    "# This converts our matrices into numpy matrices\n",
    "harvard_train_np = scaler_harvard.transform(harvard_train_orig[features_harvard])\n",
    "harvard_test_np = scaler_harvard.transform(harvard_test_orig[features_harvard])\n",
    "\n",
    "# Making the numpy matrices pandas dataframes\n",
    "harvard_train = pd.DataFrame(harvard_train_np, columns = features_harvard)\n",
    "harvard_test = pd.DataFrame(harvard_test_np, columns = features_harvard)\n",
    "   \n",
    "#need to remove the scalars from test     \n",
    "\n",
    "#fix binaries (definitly a better way to do this)\n",
    "for row in harvard_train.index:\n",
    "    if harvard_train['admitted'][row] > 1:\n",
    "        harvard_train['admitted'][row] = 1\n",
    "    else:\n",
    "        harvard_train['admitted'][row] = 0\n",
    "    \n",
    "    if harvard_train['female'][row] > 1:\n",
    "        harvard_train['female'][row] = 1\n",
    "    else:\n",
    "        harvard_train['female'][row] = 0\n",
    "    \n",
    "    if harvard_train['minority'][row] > 1:\n",
    "        harvard_train['minority'][row] = 1\n",
    "    else:\n",
    "        harvard_train['minority'][row] = 0\n",
    "        \n",
    "    if harvard_train['sports'][row] > 1:\n",
    "        harvard_train['sports'][row] = 1\n",
    "    else:\n",
    "        harvard_train['sports'][row] = 0\n",
    "    \n",
    "    if harvard_train['alumni'][row] > 1:\n",
    "        harvard_train['alumni'][row] = 1\n",
    "    else:\n",
    "        harvard_train['alumni'][row] = 0\n",
    "        \n",
    "    if harvard_train['early_app'][row] > 1:\n",
    "        harvard_train['early_app'][row] = 1\n",
    "    else:\n",
    "        harvard_train['early_app'][row] = 0\n",
    "    \n",
    "    if harvard_train['harvard'][row] > 1:\n",
    "        harvard_train['harvard'][row] = 1\n",
    "    else:\n",
    "        harvard_train['harvard'][row] = 0\n",
    "        \n",
    "for row in harvard_test.index:\n",
    "    if harvard_test['admitted'][row] > 1:\n",
    "        harvard_test['admitted'][row] = 1\n",
    "    else:\n",
    "        harvard_test['admitted'][row] = 0\n",
    "    \n",
    "    if harvard_test['female'][row] > 1:\n",
    "        harvard_test['female'][row] = 1\n",
    "    else:\n",
    "        harvard_test['female'][row] = 0\n",
    "    \n",
    "    if harvard_test['minority'][row] > 1:\n",
    "        harvard_test['minority'][row] = 1\n",
    "    else:\n",
    "        harvard_test['minority'][row] = 0\n",
    "        \n",
    "    if harvard_test['sports'][row] > 1:\n",
    "        harvard_test['sports'][row] = 1\n",
    "    else:\n",
    "        harvard_test['sports'][row] = 0\n",
    "    \n",
    "    if harvard_test['alumni'][row] > 1:\n",
    "        harvard_test['alumni'][row] = 1\n",
    "    else:\n",
    "        harvard_test['alumni'][row] = 0\n",
    "        \n",
    "    if harvard_test['early_app'][row] > 1:\n",
    "        harvard_test['early_app'][row] = 1\n",
    "    else:\n",
    "        harvard_test['early_app'][row] = 0\n",
    "    \n",
    "    if harvard_test['harvard'][row] > 1:\n",
    "        harvard_test['harvard'][row] = 1\n",
    "    else:\n",
    "        harvard_test['harvard'][row] = 0        \n"
   ]
  },
  {
   "cell_type": "markdown",
   "metadata": {
    "autograde": "4.2",
    "cell_id": "0a790850-87c6-4f46-b89e-048a2295c92b",
    "colab_type": "text",
    "id": "IGFtXJmQap2q"
   },
   "source": [
    "<div class='exercise-r'>  \n",
    " \n",
    "**4.2** Fit a well-tuned $k$-NN classification model with main effects of all 12 predictors in it (call it `knn_model`).  Use `ks = [1,3,5,9,15,21,51,71,101,151,201]` and 3-fold cross-validation. Plot, on a single set of axes, your resulting cross-validation mean training and mean validation scores at each value $k$. Then, report your chosen $k$ and the classification accuracy on train and test for your final fitted model.\n",
    " \n",
    " </div>"
   ]
  },
  {
   "cell_type": "code",
   "execution_count": 738,
   "metadata": {},
   "outputs": [
    {
     "data": {
      "text/html": [
       "<div>\n",
       "<style scoped>\n",
       "    .dataframe tbody tr th:only-of-type {\n",
       "        vertical-align: middle;\n",
       "    }\n",
       "\n",
       "    .dataframe tbody tr th {\n",
       "        vertical-align: top;\n",
       "    }\n",
       "\n",
       "    .dataframe thead th {\n",
       "        text-align: right;\n",
       "    }\n",
       "</style>\n",
       "<table border=\"1\" class=\"dataframe\">\n",
       "  <thead>\n",
       "    <tr style=\"text-align: right;\">\n",
       "      <th></th>\n",
       "      <th>k_value</th>\n",
       "      <th>accuracy_train</th>\n",
       "      <th>accuracy test</th>\n",
       "      <th>mse_train</th>\n",
       "      <th>mse_test</th>\n",
       "    </tr>\n",
       "  </thead>\n",
       "  <tbody>\n",
       "    <tr>\n",
       "      <th>0</th>\n",
       "      <td>1</td>\n",
       "      <td>99.744898</td>\n",
       "      <td>61.421320</td>\n",
       "      <td>0.001914</td>\n",
       "      <td>0.001914</td>\n",
       "    </tr>\n",
       "    <tr>\n",
       "      <th>1</th>\n",
       "      <td>3</td>\n",
       "      <td>81.122449</td>\n",
       "      <td>62.944162</td>\n",
       "      <td>0.195791</td>\n",
       "      <td>0.195791</td>\n",
       "    </tr>\n",
       "    <tr>\n",
       "      <th>2</th>\n",
       "      <td>5</td>\n",
       "      <td>77.933673</td>\n",
       "      <td>67.512690</td>\n",
       "      <td>0.232784</td>\n",
       "      <td>0.232784</td>\n",
       "    </tr>\n",
       "    <tr>\n",
       "      <th>3</th>\n",
       "      <td>9</td>\n",
       "      <td>75.510204</td>\n",
       "      <td>67.512690</td>\n",
       "      <td>0.244264</td>\n",
       "      <td>0.244264</td>\n",
       "    </tr>\n",
       "    <tr>\n",
       "      <th>4</th>\n",
       "      <td>15</td>\n",
       "      <td>74.744898</td>\n",
       "      <td>70.050761</td>\n",
       "      <td>0.256383</td>\n",
       "      <td>0.256383</td>\n",
       "    </tr>\n",
       "    <tr>\n",
       "      <th>5</th>\n",
       "      <td>21</td>\n",
       "      <td>73.979592</td>\n",
       "      <td>68.020305</td>\n",
       "      <td>0.272324</td>\n",
       "      <td>0.272324</td>\n",
       "    </tr>\n",
       "    <tr>\n",
       "      <th>6</th>\n",
       "      <td>51</td>\n",
       "      <td>72.448980</td>\n",
       "      <td>67.005076</td>\n",
       "      <td>0.276785</td>\n",
       "      <td>0.276785</td>\n",
       "    </tr>\n",
       "    <tr>\n",
       "      <th>7</th>\n",
       "      <td>71</td>\n",
       "      <td>72.321429</td>\n",
       "      <td>67.005076</td>\n",
       "      <td>0.276785</td>\n",
       "      <td>0.276785</td>\n",
       "    </tr>\n",
       "    <tr>\n",
       "      <th>8</th>\n",
       "      <td>101</td>\n",
       "      <td>72.321429</td>\n",
       "      <td>67.005076</td>\n",
       "      <td>0.276785</td>\n",
       "      <td>0.276785</td>\n",
       "    </tr>\n",
       "    <tr>\n",
       "      <th>9</th>\n",
       "      <td>151</td>\n",
       "      <td>72.321429</td>\n",
       "      <td>67.005076</td>\n",
       "      <td>0.276785</td>\n",
       "      <td>0.276785</td>\n",
       "    </tr>\n",
       "    <tr>\n",
       "      <th>10</th>\n",
       "      <td>201</td>\n",
       "      <td>72.321429</td>\n",
       "      <td>67.005076</td>\n",
       "      <td>0.276785</td>\n",
       "      <td>0.276785</td>\n",
       "    </tr>\n",
       "  </tbody>\n",
       "</table>\n",
       "</div>"
      ],
      "text/plain": [
       "    k_value  accuracy_train  accuracy test  mse_train  mse_test\n",
       "0         1       99.744898      61.421320   0.001914  0.001914\n",
       "1         3       81.122449      62.944162   0.195791  0.195791\n",
       "2         5       77.933673      67.512690   0.232784  0.232784\n",
       "3         9       75.510204      67.512690   0.244264  0.244264\n",
       "4        15       74.744898      70.050761   0.256383  0.256383\n",
       "5        21       73.979592      68.020305   0.272324  0.272324\n",
       "6        51       72.448980      67.005076   0.276785  0.276785\n",
       "7        71       72.321429      67.005076   0.276785  0.276785\n",
       "8       101       72.321429      67.005076   0.276785  0.276785\n",
       "9       151       72.321429      67.005076   0.276785  0.276785\n",
       "10      201       72.321429      67.005076   0.276785  0.276785"
      ]
     },
     "execution_count": 738,
     "metadata": {},
     "output_type": "execute_result"
    }
   ],
   "source": [
    "np.random.seed(121) # Do not delete or modify this line of code\n",
    "\n",
    "import statistics as st\n",
    "\n",
    "features_12 = ['test','ap','avg_ap','sat_subjects','gpa','female',\n",
    "    'minority','international','sports','early_app','alumni','harvard']\n",
    "\n",
    "cols = ['k_value', 'accuracy_train','accuracy test','mse_train','mse_test']\n",
    "lst = []\n",
    "\n",
    "# your code here\n",
    "ks = [1,3,5,9,15,21,51,71,101,151,201]\n",
    "for i in ks:\n",
    "    #k_folds cross validation\n",
    "    #Training\n",
    "    model_KNN_classifier = KNeighborsClassifier(n_neighbors=i).fit(harvard_train[features_12], harvard_train['admitted'])\n",
    "\n",
    "    y_pred_train = model_KNN_classifier.predict(harvard_train[features_12])\n",
    "    y_pred_test = model_KNN_classifier.predict(harvard_test[features_12])\n",
    "\n",
    "    #Perfromance Evaluation\n",
    "    train_score = accuracy_score( harvard_train['admitted'], y_pred_train)*100\n",
    "    test_score = accuracy_score( harvard_test['admitted'], y_pred_test)*100\n",
    "    \n",
    "    #k-folds cross validation \n",
    "    cross_val = cross_validate(model_KNN_classifier, harvard_train[features_12], harvard_train['admitted'], scoring='neg_mean_squared_error', cv = 3, return_train_score = True)\n",
    "    mse_train = (abs(st.mean(cross_val['train_score'])))\n",
    "    mse_test = (abs(st.mean(cross_val['train_score'])))\n",
    "    \n",
    "    #knn_model\n",
    "    lst.append([i, train_score, test_score, mse_train, mse_test])\n",
    "\n",
    "knn_model = pd.DataFrame(lst, columns = cols)\n",
    "knn_model"
   ]
  },
  {
   "cell_type": "markdown",
   "metadata": {
    "autograde": "4.3",
    "cell_id": "0a790850-87c6-4f46-b89e-048a2295c92b",
    "colab_type": "text",
    "id": "IGFtXJmQap2q"
   },
   "source": [
    "<div class='exercise-r'>  \n",
    " \n",
    "**4.3** Fit the full logistic regression model with main effects of all 12 predictors in it (call it `logit_full`). Print out the coefficient estimates and report the classification accuracy on train and test for this model.\n",
    " \n",
    " </div>"
   ]
  },
  {
   "cell_type": "code",
   "execution_count": 739,
   "metadata": {},
   "outputs": [
    {
     "name": "stdout",
     "output_type": "stream",
     "text": [
      "The intercept and coefficient for the logistic regression model are: [-1.48399883] [[ 0.91360057 -0.30048573  0.2646232  -0.2146571   0.09700987  0.19661451\n",
      "   0.66771244  0.14475777  1.18472905  0.13257774  0.91536641  0.        ]]\n",
      "The classification accuracy for the train model is: 74.235 %\n",
      "The classification accuracy for the test model is: 68.528 %\n"
     ]
    }
   ],
   "source": [
    "cols = ['accuracy_train','accuracy_test','intercept', 'coefficients']\n",
    "\n",
    "logit_full = LogisticRegression(penalty='none', max_iter = 1000).fit(harvard_train[features_12], harvard_train['admitted'])\n",
    "#predict based off model\n",
    "y_pred_train = logit_full.predict(harvard_train[features_12])\n",
    "y_pred_test = logit_full.predict(harvard_test[features_12])\n",
    "\n",
    "#measure accuracy\n",
    "accuracy_score_train = accuracy_score(harvard_train['admitted'], y_pred_train)*100\n",
    "accuracy_score_test = accuracy_score(harvard_test['admitted'], y_pred_test)*100\n",
    "\n",
    "\n",
    "print(\"The intercept and coefficient for the logistic regression model are:\",logit_full.intercept_ , logit_full.coef_ )\n",
    "print(\"The classification accuracy for the train model is: %5.3f\" %accuracy_score_train, \"%\")\n",
    "print(\"The classification accuracy for the test model is: %5.3f\" %accuracy_score_test, \"%\")\n"
   ]
  },
  {
   "cell_type": "markdown",
   "metadata": {
    "autograde": "4.4",
    "cell_id": "0a790850-87c6-4f46-b89e-048a2295c92b",
    "colab_type": "text",
    "id": "IGFtXJmQap2q"
   },
   "source": [
    "<div class='exercise-r'>  \n",
    " \n",
    "**4.4** Fit a well-tuned Lasso-like logistic regression model from all 12 predictors in it (call it `logit_lasso`). Use `Cs = [1e-4,1e-3,1e-2,1e-1,1e0,1e1,1e2,1e3,1e4]` and 3-fold cross-validation.  Print out the coefficient estimates and report the classification accuracy on train and test for this model.\n",
    " \n",
    " </div>"
   ]
  },
  {
   "cell_type": "code",
   "execution_count": 740,
   "metadata": {},
   "outputs": [
    {
     "name": "stdout",
     "output_type": "stream",
     "text": [
      "The regularization parameter C chosen by this model for each class was:\n",
      "\n",
      "\t[1.]\n",
      "\n",
      "The accuracy scores for this model are:\n",
      "\n",
      "\tTrain\t0.7398\n",
      "\tTEST\t0.6701\n",
      "\n",
      "The coefficients for this model by class are:\n",
      "\n",
      "\t\t\t\tclass\n",
      "\t\t\t\t0\t\t1\t\t2\n",
      "\n",
      "\tintercept   \t\t-1.3915\n",
      "\ttest   \t\t0.8758\n",
      "\tap   \t\t-0.2705\n",
      "\tavg_ap   \t\t0.2276\n",
      "\tsat_subjects   \t\t-0.2006\n",
      "\tgpa   \t\t0.0744\n",
      "\tfemale   \t\t0.1488\n",
      "\tminority   \t\t0.5838\n",
      "\tinternational   \t\t0.1271\n",
      "\tsports   \t\t0.9458\n",
      "\tearly_app   \t\t0.0559\n",
      "\talumni   \t\t0.7619\n",
      "\tharvard   \t\t0.0000\n"
     ]
    }
   ],
   "source": [
    "Cs = [1e-4,1e-3,1e-2,1e-1,1e0,1e1,1e2,1e3,1e4]\n",
    "cv = 3\n",
    "penalty = 'l1'\n",
    "solver = 'liblinear'\n",
    "\n",
    "logit_lasso1= LogisticRegressionCV(\n",
    "    Cs=Cs, cv=cv, penalty=penalty, solver='liblinear'\n",
    ").fit(harvard_train[features_12], harvard_train['admitted'])\n",
    "\n",
    "logit_lasso_score_train = logit_lasso1.score(harvard_train[features_12], harvard_train['admitted'])\n",
    "logit_lasso_score_test = logit_lasso1.score(harvard_test[features_12], harvard_test['admitted'])\n",
    "\n",
    "logit_lasso_coefficients = np.hstack(\n",
    "    [logit_lasso1.intercept_.reshape(-1, 1), logit_lasso1.coef_]\n",
    ").T\n",
    "\n",
    "print(\n",
    "    \"The regularization parameter C chosen by this model for each class \"\n",
    "    \"was:\\n\\n\\t{}\\n\\n\"\n",
    "    \"The accuracy scores for this model are:\"\n",
    "    \"\\n\\n\\tTrain\\t{:.4f}\\n\\tTEST\\t{:.4f}\\n\"\n",
    "    .format(logit_lasso1.C_, logit_lasso_score_train, logit_lasso_score_test)\n",
    ")\n",
    "\n",
    "print(\n",
    "    \"The coefficients for this model by class are:\"\n",
    "    \"\\n\\n\\t\\t\\t\\tclass\\n\\t\\t\\t\\t0\\t\\t1\\t\\t2\\n\"\n",
    ")\n",
    "\n",
    "coef_names = [\"intercept\"] + list(harvard_train[features_12].columns)\n",
    "\n",
    "for name, values in zip(coef_names, logit_lasso_coefficients):\n",
    "    coefs_formatted = [\"{:.4f}\".format(val) for val in values]\n",
    "    print(\"\\t{}   \\t\\t{}\".format(name, \"\\t\\t\".join(coefs_formatted)))"
   ]
  },
  {
   "cell_type": "markdown",
   "metadata": {
    "autograde": "4.5",
    "cell_id": "0a790850-87c6-4f46-b89e-048a2295c92b",
    "colab_type": "text",
    "id": "IGFtXJmQap2q"
   },
   "source": [
    "<div class='exercise-r'>  \n",
    " \n",
    "**4.5** Which predictors were deemed important in `logit_lasso`?  Which were deemed unimportant?\n",
    " \n",
    " </div>"
   ]
  },
  {
   "cell_type": "code",
   "execution_count": 741,
   "metadata": {},
   "outputs": [
    {
     "name": "stdout",
     "output_type": "stream",
     "text": [
      "The relatively important predictors are: test, sports, alumni, minority\n",
      "The relatively unimportant predictors are: female,international, early_app, gpa, ap, ap_avg, sat_subjects\n"
     ]
    }
   ],
   "source": [
    "# your code here\n",
    "print(\"The relatively important predictors are: test, sports, alumni, minority\")\n",
    "print(\"The relatively unimportant predictors are: female,international, early_app, gpa, ap, ap_avg, sat_subjects\")\n",
    "  \n"
   ]
  },
  {
   "cell_type": "markdown",
   "metadata": {
    "autograde": "4.6",
    "cell_id": "0a790850-87c6-4f46-b89e-048a2295c92b",
    "colab_type": "text",
    "id": "IGFtXJmQap2q"
   },
   "source": [
    "<div class='exercise-r'>  \n",
    " \n",
    "**4.6** Fit a well-tuned Lasso-like logistic regression model with all important predictors from `logit_lasso` and all the 2-way interactions between them (call it `logit_lasso_interact`).  Again use `Cs = [1e-4,1e-3,1e-2,1e-1,1e0,1e1,1e2,1e3,1e4]` and 3-fold cross-validation. Report the classification accuracy on train and test for this model.\n",
    " \n",
    " </div>"
   ]
  },
  {
   "cell_type": "code",
   "execution_count": 742,
   "metadata": {},
   "outputs": [],
   "source": [
    "# your code here\n",
    "harvard_train['test_sports'] = harvard_train.apply(lambda row: row.test * row.sports, axis = 1) \n",
    "harvard_train['test_alumni'] = harvard_train.apply(lambda row: row.test * row.alumni, axis = 1) \n",
    "harvard_train['test_minority'] = harvard_train.apply(lambda row: row.test * row.minority, axis = 1) \n",
    "harvard_train['sports_alumni'] = harvard_train.apply(lambda row: row.sports * row.alumni, axis = 1)\n",
    "harvard_train['sports_minority'] = harvard_train.apply(lambda row: row.sports * row.minority, axis = 1) \n",
    "harvard_train['alumni_minority'] = harvard_train.apply(lambda row: row.minority * row.alumni, axis = 1) \n",
    "\n",
    "harvard_test['test_sports'] = harvard_train.apply(lambda row: row.test * row.sports, axis = 1) \n",
    "harvard_test['test_alumni'] = harvard_train.apply(lambda row: row.test * row.alumni, axis = 1) \n",
    "harvard_test['test_minority'] = harvard_train.apply(lambda row: row.test * row.minority, axis = 1) \n",
    "harvard_test['sports_alumni'] = harvard_train.apply(lambda row: row.sports * row.alumni, axis = 1)\n",
    "harvard_test['sports_minority'] = harvard_train.apply(lambda row: row.sports * row.minority, axis = 1) \n",
    "harvard_test['alumni_minority'] = harvard_train.apply(lambda row: row.minority * row.alumni, axis = 1) \n",
    "\n",
    "features_mix = ['test', 'sports', 'alumni', 'minority', 'test_sports', 'test_alumni','test_minority',\n",
    "                'sports_alumni', 'sports_minority', 'alumni_minority']"
   ]
  },
  {
   "cell_type": "code",
   "execution_count": 743,
   "metadata": {},
   "outputs": [
    {
     "name": "stdout",
     "output_type": "stream",
     "text": [
      "The regularization parameter C chosen by this model for each class was:\n",
      "\n",
      "\t[1.]\n",
      "\n",
      "The accuracy scores for this model are:\n",
      "\n",
      "\tTrain\t0.7334\n",
      "\tTEST\t0.6802\n",
      "\n",
      "The coefficients for this model by class are:\n",
      "\n",
      "\t\t\t\tclass\n",
      "\t\t\t\t0\t\t1\t\t2\n",
      "\n",
      "\tintercept   \t\t-1.2034\n",
      "\ttest   \t\t0.6663\n",
      "\tsports   \t\t0.9044\n",
      "\talumni   \t\t0.2105\n",
      "\tminority   \t\t0.4354\n",
      "\ttest_sports   \t\t-0.1025\n",
      "\ttest_alumni   \t\t1.3414\n",
      "\ttest_minority   \t\t0.3381\n",
      "\tsports_alumni   \t\t0.0000\n",
      "\tsports_minority   \t\t-0.1008\n",
      "\talumni_minority   \t\t1.1903\n"
     ]
    }
   ],
   "source": [
    "Cs = [1e-4,1e-3,1e-2,1e-1,1e0,1e1,1e2,1e3,1e4]\n",
    "cv = 3\n",
    "penalty = 'l1'\n",
    "solver = 'liblinear'\n",
    "\n",
    "logit_lasso= LogisticRegressionCV(\n",
    "    Cs=Cs, cv=cv, penalty=penalty, solver='liblinear'\n",
    ").fit(harvard_train[features_mix], harvard_train['admitted'])\n",
    "\n",
    "logit_lasso_score_train = logit_lasso.score(harvard_train[features_mix], harvard_train['admitted'])\n",
    "logit_lasso_score_test = logit_lasso.score(harvard_test[features_mix], harvard_test['admitted'])\n",
    "\n",
    "logit_lasso_coefficients = np.hstack(\n",
    "    [logit_lasso.intercept_.reshape(-1, 1), logit_lasso.coef_]\n",
    ").T\n",
    "\n",
    "print(\n",
    "    \"The regularization parameter C chosen by this model for each class \"\n",
    "    \"was:\\n\\n\\t{}\\n\\n\"\n",
    "    \"The accuracy scores for this model are:\"\n",
    "    \"\\n\\n\\tTrain\\t{:.4f}\\n\\tTEST\\t{:.4f}\\n\"\n",
    "    .format(logit_lasso.C_, logit_lasso_score_train, logit_lasso_score_test)\n",
    ")\n",
    "\n",
    "print(\n",
    "    \"The coefficients for this model by class are:\"\n",
    "    \"\\n\\n\\t\\t\\t\\tclass\\n\\t\\t\\t\\t0\\t\\t1\\t\\t2\\n\"\n",
    ")\n",
    "\n",
    "coef_names = [\"intercept\"] + list(harvard_train[features_mix].columns)\n",
    "\n",
    "for name, values in zip(coef_names, logit_lasso_coefficients):\n",
    "    coefs_formatted = [\"{:.4f}\".format(val) for val in values]\n",
    "    print(\"\\t{}   \\t\\t{}\".format(name, \"\\t\\t\".join(coefs_formatted)))"
   ]
  },
  {
   "cell_type": "markdown",
   "metadata": {
    "autograde": "4.7",
    "cell_id": "0a790850-87c6-4f46-b89e-048a2295c92b",
    "colab_type": "text",
    "id": "IGFtXJmQap2q"
   },
   "source": [
    "<div class='exercise-r'>  \n",
    " \n",
    "**4.7** How many of the predictors in our `logit_lasso_interact` model were deemed important and unimportant? (Feel free to just report on the number of them found to be important and unimportant. There is no need to list them all here.)\n",
    " \n",
    " **Hint:** If you have convergence warnings, increasing the maximum number of iterations to 500 (`max_iter=500`) will likely solve the issue.\n",
    " </div>"
   ]
  },
  {
   "cell_type": "code",
   "execution_count": 744,
   "metadata": {},
   "outputs": [
    {
     "name": "stdout",
     "output_type": "stream",
     "text": [
      "I'd say there are 4 that are important. I'm classifying important here as being larger than .5\n"
     ]
    }
   ],
   "source": [
    "# your code here\n",
    "print(\"I'd say there are 4 that are important. I'm classifying important here as being larger than .5\")"
   ]
  },
  {
   "cell_type": "markdown",
   "metadata": {},
   "source": [
    "---"
   ]
  },
  {
   "cell_type": "markdown",
   "metadata": {},
   "source": [
    "<div class='exercise'><b> Question 5 [12 pts]: Evaluating Results </b></div>\n",
    "\n",
    "\n",
    "**5.1** Which of the 4 models in problem 4 perform the best based on classification accuracy?  Which performs the worst? Based on these accuracies, how do these models perform compared to your baseline \"naive\" model back in question 1.1?\n",
    "\n",
    "**5.2** Draw the four ROC curves on the same set of axes using the test data.  How do these ROC curves compare?  Do the ROC curves support that the best model identified in question 5.1 is better than the worst model identified in 5.1?  How do you know?\n",
    "\n",
    "**5.3** Calculate and report AUC for all 4 models.  Do the rankings of these 4 models based on AUC match those for classification accuracy?  Why do you think this is the case?\n",
    "\n",
    "**5.4** If you were to use one of these 4 models to present as a prediction model for the website [collegedata.com](https://www.collegedata.com/), which would you use?  What may be the biggest issue if this was a publicly available tool for college applicants to use to determine their chances of getting into Harvard and/or Yale?\n"
   ]
  },
  {
   "cell_type": "markdown",
   "metadata": {
    "autograde": "5.1",
    "cell_id": "0a790850-87c6-4f46-b89e-048a2295c92b",
    "colab_type": "text",
    "id": "IGFtXJmQap2q"
   },
   "source": [
    "<div class='exercise-r'>  \n",
    " \n",
    "**5.1** Which of the 4 models in problem 4 perform the best based on classification accuracy?  Which performs the worst? Based on these accuracies, how do these models perform compared to your baseline \"naive\" model back in question 1.1?\n",
    " \n",
    " </div>"
   ]
  },
  {
   "cell_type": "code",
   "execution_count": 745,
   "metadata": {},
   "outputs": [],
   "source": [
    "# your code here\n"
   ]
  },
  {
   "cell_type": "markdown",
   "metadata": {},
   "source": [
    "**INTERPRETATION:**"
   ]
  },
  {
   "cell_type": "markdown",
   "metadata": {},
   "source": [
    "I was able to get a test accuracy of 70% from the knn model with k = 15. This was my best accuracy, the worst accuracy was from using all 12 predictors on my lasso_logit model. The K=1 model was technically the worst, but I don't think that's in the spirit of the question. It seems that finding the most important variables and isolating their interactions ia good method in general. knn also had great results. I may have misinterpretted the question in 1.1, but its clear that the sophisticated model performs much better. These models provide us much more insight into what is actually happening and what is being considered in the admissions process when compared to 1.1."
   ]
  },
  {
   "cell_type": "markdown",
   "metadata": {
    "autograde": "5.2",
    "cell_id": "0a790850-87c6-4f46-b89e-048a2295c92b",
    "colab_type": "text",
    "id": "IGFtXJmQap2q"
   },
   "source": [
    "<div class='exercise-r'>  \n",
    " \n",
    "**5.2** Draw the four ROC curves on the same set of axes using the test data.  How do these ROC curves compare?  Do the ROC curves support that the best model identified in question 5.1 is better than the worst model identified in 5.1?  How do you know?\n",
    " \n",
    " </div>"
   ]
  },
  {
   "cell_type": "code",
   "execution_count": 746,
   "metadata": {},
   "outputs": [
    {
     "data": {
      "image/png": "[encoded data removed]",
      "text/plain": [
       "<Figure size 432x288 with 1 Axes>"
      ]
     },
     "metadata": {
      "needs_background": "light"
     },
     "output_type": "display_data"
    }
   ],
   "source": [
    "from sklearn import metrics\n",
    "\n",
    "model_KNN_classifier = KNeighborsClassifier(n_neighbors=15).fit(harvard_train[features_12], harvard_train['admitted'])\n",
    "\n",
    "yhat_logit_lasso1= logit_lasso1.predict_proba(harvard_test[features_12])[:,1]\n",
    "yhat_logit_lasso= logit_lasso.predict_proba(harvard_test[features_mix])[:,1]\n",
    "yhat_logit_full= logit_full.predict_proba(harvard_test[features_12])[:,1]\n",
    "yhat_knn= model_KNN_classifier.predict_proba(harvard_test[features_12])[:,1]\n",
    "\n",
    "#yhat_logit_ridge= logit_ridge.predict_proba(X_test)[:,1]\n",
    "\n",
    "\n",
    "fpr, tpr, thresholds = metrics.roc_curve(harvard_test['admitted'], yhat_logit_lasso)\n",
    "fpr_lasso1, tpr_lasso1, thresholds_lasso1 = metrics.roc_curve(harvard_test['admitted'], yhat_logit_lasso1)\n",
    "fpr_full, tpr_full, thresholds_full = metrics.roc_curve(harvard_test['admitted'], yhat_logit_full)\n",
    "fpr_knn, tpr_knn, thresholds_knn = metrics.roc_curve(harvard_test['admitted'], yhat_knn)\n",
    "\n",
    "#fpr_ridge, tpr_ridge, thresholds_ridge = metrics.roc_curve(y_test, yhat_logit_ridge)\n",
    "\n",
    "x=np.arange(0,100)/100\n",
    "plt.plot(x,x,'--',color=\"gray\",alpha=0.3)\n",
    "plt.plot(fpr,tpr,label=\"logit_lasso\")\n",
    "plt.plot(fpr_lasso1,tpr_lasso1,label=\"logit_lasso1\")\n",
    "plt.plot(fpr_full,tpr_full,label=\"logit_full\")\n",
    "plt.plot(fpr_knn,tpr_knn,label=\"knn k=15\")\n",
    "plt.ylabel(\"True Positive Rate\")\n",
    "plt.xlabel(\"False Positive Rate\")\n",
    "plt.title(\"ROC Curve for Various Predictive Models\")\n",
    "plt.legend()\n",
    "plt.show()"
   ]
  },
  {
   "cell_type": "markdown",
   "metadata": {},
   "source": [
    "**INTERPRETATION:**"
   ]
  },
  {
   "cell_type": "markdown",
   "metadata": {},
   "source": [
    "This chart is pretty challenging to interpret. Its hard to tell which version is best. It is pretty clear that the 4 models are quite similar. Logit lasso looks worse than it performs. I would say this doesn't support my answer from 5.1 since these charts such challengingly indifferentiatable data "
   ]
  },
  {
   "cell_type": "markdown",
   "metadata": {
    "autograde": "5.3",
    "cell_id": "0a790850-87c6-4f46-b89e-048a2295c92b",
    "colab_type": "text",
    "id": "IGFtXJmQap2q"
   },
   "source": [
    "<div class='exercise-r'>  \n",
    " \n",
    "**5.3** Calculate and report AUC for all 4 models.  Do the rankings of these 4 models based on AUC match those for classification accuracy?  Why do you think this is the case?\n",
    " \n",
    " </div>"
   ]
  },
  {
   "cell_type": "code",
   "execution_count": 747,
   "metadata": {},
   "outputs": [
    {
     "name": "stdout",
     "output_type": "stream",
     "text": [
      "0.6365384615384615\n",
      "0.6617715617715618\n",
      "0.664918414918415\n",
      "0.6514568764568766\n"
     ]
    }
   ],
   "source": [
    "# your code here\n",
    "print(metrics.auc(fpr,tpr))\n",
    "print(metrics.auc(fpr_lasso1, tpr_lasso1))\n",
    "print(metrics.auc(fpr_full, tpr_full))\n",
    "print(metrics.auc(fpr_knn, tpr_knn))"
   ]
  },
  {
   "cell_type": "markdown",
   "metadata": {},
   "source": [
    "**INTERPRETATION:**"
   ]
  },
  {
   "cell_type": "markdown",
   "metadata": {},
   "source": [
    "this represents close to what I interpretted from the graph, the area under the graph for the lasso without the interactions had the smallest area underneath. The rest are about what I expected, the area under the graph for the KNN is smaller than I expected. They are close to matching the classification accuracy mix, but just slightly different. I guess this difference can be attributed to the difference in accuracy measurement implimented. I'm not super certain which would be better "
   ]
  },
  {
   "cell_type": "markdown",
   "metadata": {
    "autograde": "5.4",
    "cell_id": "0a790850-87c6-4f46-b89e-048a2295c92b",
    "colab_type": "text",
    "id": "IGFtXJmQap2q"
   },
   "source": [
    "<div class='exercise-r'>  \n",
    "    \n",
    "**5.4** If you were to use one of these 4 models to present as a prediction model for the website [collegedata.com](https://www.collegedata.com/), which would you use?  What may be the biggest issue if this was a publicly available tool for college applicants to use to determine their chances of getting into Harvard and/or Yale?\n",
    "</div>"
   ]
  },
  {
   "cell_type": "markdown",
   "metadata": {},
   "source": [
    "**INTERPRETATION:**"
   ]
  },
  {
   "cell_type": "markdown",
   "metadata": {},
   "source": [
    "I would likely use the knn model. The accuracy was the highest, and aesthetically the smoothness of the graph just looks nice! Terrible reason I know, but aesthetics are meaningful in the marketing world. I'm sure that some of these other ones would work well like lasso full as well. \n",
    "\n",
    "I think the biggest issue would be the argument around affirmative action and the likes that often come up in our society. I'm sure seeign the direct statistics would cause wide spread complaint. From an applicant standpoint, it may also give some people the false idea that they have no chance or others may think there chances are great and put less effort into their appplication. "
   ]
  },
  {
   "cell_type": "code",
   "execution_count": null,
   "metadata": {},
   "outputs": [],
   "source": []
  },
  {
   "cell_type": "code",
   "execution_count": null,
   "metadata": {},
   "outputs": [],
   "source": []
  }
 ],
 "metadata": {
  "kernelspec": {
   "display_name": "Python 3",
   "language": "python",
   "name": "python3"
  },
  "language_info": {
   "codemirror_mode": {
    "name": "ipython",
    "version": 3
   },
   "file_extension": ".py",
   "mimetype": "text/x-python",
   "name": "python",
   "nbconvert_exporter": "python",
   "pygments_lexer": "ipython3",
   "version": "3.7.8"
  }
 },
 "nbformat": 4,
 "nbformat_minor": 4
}
