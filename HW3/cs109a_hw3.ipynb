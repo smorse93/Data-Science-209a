{
 "cells": [
  {
   "cell_type": "markdown",
   "metadata": {
    "deletable": false,
    "editable": false
   },
   "source": [
    "# <img style=\"float: left; padding-right: 10px; width: 45px\" src=\"https://raw.githubusercontent.com/Harvard-IACS/2018-CS109A/master/content/styles/iacs.png\"> CS109A Introduction to Data Science: \n",
    "## Homework 3: Regression Modeling and Bacteria Growing\n",
    "\n",
    "**Harvard University**<br/>\n",
    "**Fall 2020**<br/>\n",
    "**Instructors**: Pavlos Protopapas, Kevin Rader, and Chris Tanner\n",
    "\n",
    "<hr style=\"height:2.4pt\">"
   ]
  },
  {
   "cell_type": "code",
   "execution_count": 604,
   "metadata": {
    "deletable": false,
    "editable": false
   },
   "outputs": [
    {
     "data": {
      "text/html": [
       "<style>\n",
       "blockquote { background: #AEDE94; }\n",
       "h1 { \n",
       "    padding-top: 25px;\n",
       "    padding-bottom: 25px;\n",
       "    text-align: left; \n",
       "    padding-left: 10px;\n",
       "    background-color: #DDDDDD; \n",
       "    color: black;\n",
       "}\n",
       "h2 { \n",
       "    padding-top: 10px;\n",
       "    padding-bottom: 10px;\n",
       "    text-align: left; \n",
       "    padding-left: 5px;\n",
       "    background-color: #EEEEEE; \n",
       "    color: black;\n",
       "}\n",
       "\n",
       "div.exercise {\n",
       "\tbackground-color: #ffcccc;\n",
       "\tborder-color: #E9967A; \t\n",
       "\tborder-left: 5px solid #800080; \n",
       "\tpadding: 0.5em;\n",
       "}\n",
       "\n",
       "div.exercise-r {\n",
       "\tbackground-color: #fce8e8;\n",
       "\tborder-color: #E9967A; \t\n",
       "\tborder-left: 5px solid #800080; \n",
       "\tpadding: 0.5em;\n",
       "}\n",
       "\n",
       "\n",
       "span.sub-q {\n",
       "\tfont-weight: bold;\n",
       "}\n",
       "div.theme {\n",
       "\tbackground-color: #DDDDDD;\n",
       "\tborder-color: #E9967A; \t\n",
       "\tborder-left: 5px solid #800080; \n",
       "\tpadding: 0.5em;\n",
       "\tfont-size: 18pt;\n",
       "}\n",
       "div.gc { \n",
       "\tbackground-color: #AEDE94;\n",
       "\tborder-color: #E9967A; \t \n",
       "\tborder-left: 5px solid #800080; \n",
       "\tpadding: 0.5em;\n",
       "\tfont-size: 12pt;\n",
       "}\n",
       "p.q1 { \n",
       "    padding-top: 5px;\n",
       "    padding-bottom: 5px;\n",
       "    text-align: left; \n",
       "    padding-left: 5px;\n",
       "    background-color: #EEEEEE; \n",
       "    color: black;\n",
       "}\n",
       "header {\n",
       "   padding-top: 35px;\n",
       "    padding-bottom: 35px;\n",
       "    text-align: left; \n",
       "    padding-left: 10px;\n",
       "    background-color: #DDDDDD; \n",
       "    color: black;\n",
       "}\n",
       "</style>\n",
       "\n"
      ],
      "text/plain": [
       "<IPython.core.display.HTML object>"
      ]
     },
     "execution_count": 604,
     "metadata": {},
     "output_type": "execute_result"
    }
   ],
   "source": [
    "#RUN THIS CELL \n",
    "import requests\n",
    "from IPython.core.display import HTML\n",
    "styles = requests.get(\"https://raw.githubusercontent.com/Harvard-IACS/2018-CS109A/master/content/styles/cs109.css\").text\n",
    "HTML(styles)"
   ]
  },
  {
   "cell_type": "markdown",
   "metadata": {
    "cell_id": "3c67b69c-c35a-45ee-88ff-99c701edb0a0",
    "colab_type": "text",
    "deletable": false,
    "editable": false,
    "id": "BlViDCbxVtbG"
   },
   "source": [
    "### Import Libraries"
   ]
  },
  {
   "cell_type": "code",
   "execution_count": 605,
   "metadata": {
    "cell_id": "c81fe721-9f10-4eec-b9a3-3a2534d1c3a2",
    "colab": {
     "base_uri": "https://localhost:8080/",
     "height": 71
    },
    "colab_type": "code",
    "deletable": false,
    "editable": false,
    "id": "aQbflkbDOxbz",
    "outputId": "a93e76ad-1f12-45fa-ec35-7853e450a1ff"
   },
   "outputs": [],
   "source": [
    "%matplotlib inline\n",
    "import math\n",
    "import numpy as np\n",
    "import pandas as pd\n",
    "import seaborn as sns\n",
    "from collections import Counter\n",
    "import matplotlib.pyplot as plt\n",
    "from sklearn.utils import shuffle\n",
    "from sklearn.linear_model import Lasso\n",
    "from sklearn.metrics import mean_squared_error\n",
    "from sklearn.linear_model import LinearRegression\n",
    "from sklearn.model_selection import cross_validate\n",
    "from sklearn.model_selection import train_test_split\n",
    "from sklearn.preprocessing import PolynomialFeatures\n",
    "\n",
    "import warnings"
   ]
  },
  {
   "cell_type": "markdown",
   "metadata": {
    "deletable": false,
    "editable": false
   },
   "source": [
    "<hr style=\"height:2pt\">\n",
    "\n",
    "### INSTRUCTIONS\n",
    "\n",
    "- **THIS IS A TWO-WEEK HOMEWORK**. The material is indeed two-weeks-worth of work, so make sure you start it early!!\n",
    "\n",
    "- To submit your assignment follow the instructions given in Canvas.\n",
    "\n",
    "- This homework can be submitted in pairs.\n",
    "\n",
    "- Please restart the kernel and run the entire notebook again before you submit.\n",
    "\n",
    "- Running cells out of order is a common pitfall in Jupyter Notebooks. To make sure your code works restart the kernel and run the whole notebook again before you submit. Exceptions should be made for code with a long execution time, of course.\n",
    "- We have tried to include all the libraries you may need to do the assignment in the imports statement at the top of this notebook. We strongly suggest that you use those and not others as we may not be familiar with them.\n",
    "- Please use .head() when viewing data. Do not submit a notebook that is **excessively long**. \n",
    "- In questions that require code to answer, such as \"calculate the $R^2$\", do not just output the value from a cell. Write a `print()` function that includes a reference to the calculated value, **not hardcoded**. For example: \n",
    "```\n",
    "print(f'The R^2 is {R:.4f}')\n",
    "```\n",
    "- Your plots should include clear labels for the $x$ and $y$ axes as well as a descriptive title (\"MSE plot\" is not a descriptive title; \"95 % confidence interval of coefficients of polynomial degree 5\" is).\n",
    "<hr style=\"height:2pt\">"
   ]
  },
  {
   "cell_type": "markdown",
   "metadata": {
    "cell_id": "21e9f773-e015-44ec-88c8-7f24b9a8191f",
    "colab_type": "text",
    "deletable": false,
    "editable": false,
    "id": "Uo0FiNThV923"
   },
   "source": [
    "\n",
    "<div class=\"theme\"> Overview and Data Description</div> \n",
    "\n",
    "### Predicting percentage change in multiple bacteria populations given their spreading factor.\n",
    "\n",
    "\n",
    "In this homework, we will mainly explore polynomial regression for \n",
    "predicting a quantitative variable. Specifically, we will build \n",
    "regression models that can predict the percentage change in \n",
    "bacteria population after 4 hours based on their spreading factor. \n",
    "These prediction models can be useful in clustering of a novel bacteria to any class. \n",
    "\n",
    "If the percentage of change in population increases this indicates \n",
    "that the size of the bacteria population is growing. \n",
    "One important factor to note is that the percentage change could be negative. \n",
    "This indicates that within the specified time frame, \n",
    "the population of the bacteria decreases from the original size.\n",
    "\n",
    "The data set for this problem has already been split for you. You will find the train and test data sets in the files `data/bacteria_train.csv` and `data/bacteria_test.csv`, respectively. The first column in each file contains the spreading factor of bacteria populations and the second column gives information about the change in percentage of the population. \n",
    "\n",
    "\n",
    "\n",
    " ### Problem Description\n",
    "Given the bacteria data, we will predict the percentage change in population, giving the spreading factor. For this exercise, we will consider the `Spreading_factor` to be our predictor variable and `Perc_population` to be our response variable. We will fit a polynomial regression model for a specified degree that computes the respective degree predictors to fit a model on the training set, which will be evaluated on the test set. The performance of the models should be evaluated using their $MSE$.\n",
    "\n"
   ]
  },
  {
   "cell_type": "markdown",
   "metadata": {
    "cell_id": "12fa439c-9984-44e4-a4f7-581a3e01d520",
    "colab_type": "text",
    "deletable": false,
    "editable": false,
    "id": "Inn1d2Hv1pIK"
   },
   "source": [
    "<div class='exercise'><b> Question 1:   Data Visualization [10 points total]</b>\n",
    "    \n",
    "**1.1** [6 pts] Generate a scatter plot of the data points in the `bacteria_train.csv` \n",
    "file with the `Spreading factor` on the $X$-axis and the `Percentage change` on the $Y$-axis. Make sure you clearly label the $x$ and $y$ axes and include proper title. \n",
    "\n",
    "**1.2** [4 pts] Based on the graph, is there any discernable relationship between \n",
    "the spreading factor and percentage change in population?\n",
    "    \n",
    "</div>\n"
   ]
  },
  {
   "cell_type": "markdown",
   "metadata": {
    "deletable": false,
    "editable": false
   },
   "source": [
    "### Your Answers"
   ]
  },
  {
   "cell_type": "markdown",
   "metadata": {
    "autograde": "1.1",
    "deletable": false,
    "editable": false
   },
   "source": [
    "<div class='exercise-r'>  \n",
    " \n",
    "**1.1** [6 pts] Generate a scatter plot of the data points in the `bacteria_train.csv`\n",
    " file with the `Spreading factor` on the $X$-axis and the `Percentage change` on the $Y$-axis. Make sure you clearly label the $x$ and $y$ axes and include proper title.\n",
    " \n",
    " </div>"
   ]
  },
  {
   "cell_type": "code",
   "execution_count": 606,
   "metadata": {
    "deletable": false
   },
   "outputs": [],
   "source": [
    "# your code here\n",
    "filename = \"data/bacteria_train.csv\"\n",
    "\n",
    "df = pd.read_csv(filename)\n",
    "\n",
    "df.head()\n",
    "\n",
    "perp = df['Perc_population']\n",
    "spread = df['Spreading_factor']"
   ]
  },
  {
   "cell_type": "code",
   "execution_count": 607,
   "metadata": {
    "deletable": false
   },
   "outputs": [
    {
     "data": {
      "text/plain": [
       "[<matplotlib.lines.Line2D at 0x7fcbf35f6dd0>]"
      ]
     },
     "execution_count": 607,
     "metadata": {},
     "output_type": "execute_result"
    },
    {
     "data": {
      "image/png": "[encoded data removed]",
      "text/plain": [
       "<Figure size 432x288 with 1 Axes>"
      ]
     },
     "metadata": {
      "needs_background": "light"
     },
     "output_type": "display_data"
    }
   ],
   "source": [
    "# your code here\n",
    "fig, ax = plt.subplots()\n",
    "ax.plot(spread,perp,'o')"
   ]
  },
  {
   "cell_type": "markdown",
   "metadata": {
    "autograde": "1.2",
    "cell_id": "9f8a452f-c582-4403-afc7-e15ffe157d46",
    "deletable": false,
    "editable": false
   },
   "source": [
    "<div class='exercise-r'>  \n",
    " \n",
    "**1.2** [4 pts] Based on the graph, is there any discernable relationship between\n",
    " the spreading factor and percentage change in population?\n",
    " \n",
    " </div>"
   ]
  },
  {
   "cell_type": "markdown",
   "metadata": {
    "deletable": false
   },
   "source": [
    "*Your answer here*\n",
    "Yes, there appears to a roughly liner trend line. "
   ]
  },
  {
   "cell_type": "markdown",
   "metadata": {
    "cell_id": "58d06521-c4cf-4304-b68a-595205946e44",
    "deletable": false,
    "editable": false,
    "tags": []
   },
   "source": [
    "<hr style='height:2px'> \n",
    "\n",
    "### Your HW3 Roadmap\n",
    "\n",
    "We will be following this roadmap for the rest of the homework.\n",
    "\n",
    "![](soln-roadmap.png)\n"
   ]
  },
  {
   "cell_type": "markdown",
   "metadata": {
    "cell_id": "5c60cdd3-9885-4ac2-8144-635a481460f4",
    "deletable": false,
    "editable": false,
    "tags": []
   },
   "source": [
    "<div class='exercise'><b> Question 2:   Model Building: Guesstimate the polynomial relationship [10 points total]</b>\n",
    "\n",
    "**2.1** [5 pts] Examine the relationship between the predictor & response variable, and guesstimate the degree of the polynomial regression that may best fit the data.\n",
    "- Create a dictionary called `best_mse_dict` to store the best test MSEs for each type of model. The keys of this dictionary will be the question number, and the values will be the MSE values. So, for this question, you will have `best_mse_dict[\"2,1\"] = ...` .\n",
    "- Fit a polynomial regression on the training set.\n",
    "- Compute and print the mean_squared_error on the test set.\n",
    "- Generate a scatterplot of the data (as in 1.1) and plot your model's predictions in a different color. Make sure to label axes and include a descriptive title. Comment on the fit.\n",
    "- Explain your guesstimation of the degree.\n",
    "\n",
    "**2.2** [5 pts] Compute the confidence intervals for the coefficients. For the model fit above plot the 95% confidence interval of the beta values obtained in the regression model above.\n",
    "- Display the coefficient values of the model fit above.\n",
    "- For each bootstrap store the coefficients of the model as a list\n",
    "- Using the bootstrap list compute the 2.5 and 97.5 confidence points.\n",
    "- Plot the bootstrap data as a histogram of `Value of beta` vs. `Distribution of beta` for each beta value. Each figure should indicate regions of 95% confidence interval. As always, each figure must have appropriate axis labels and title. Use `plt.subplots(...)` to arrange your plots.\n",
    "\n",
    "**Hints**\n",
    "- Bootstrap for entire fraction (100%) of the training data.\n",
    "- Limit the number of bootstraps to 100.\n",
    "    \n",
    "    \n",
    "</div>\n"
   ]
  },
  {
   "cell_type": "markdown",
   "metadata": {
    "deletable": false,
    "editable": false
   },
   "source": [
    "### Answers"
   ]
  },
  {
   "cell_type": "markdown",
   "metadata": {
    "autograde": "2.1",
    "cell_id": "8f9f6e8b-e477-4a40-8a72-b4031b111b56",
    "colab_type": "text",
    "deletable": false,
    "editable": false,
    "id": "Iwnsapke2CYu"
   },
   "source": [
    "<div class='exercise-r'>  \n",
    " \n",
    "**2.1** [5 pts] Examine the relationship between the predictor & response variable, and guesstimate the degree of the polynomial regression that may best fit the data.\n",
    " - Create a dictionary called `best_mse_dict` to store the best test MSEs for each type of model. The keys of this dictionary will be the question number, and the values will be the MSE values. So, for this question, you will have `best_mse_dict[\"2,1\"] = ...` .\n",
    " - Fit a polynomial regression on the training set.\n",
    " - Compute and print the mean_squared_error on the test set.\n",
    " - Generate a scatterplot of the data (as in 1.1) and plot your model's predictions in a different color. Make sure to label axes and include a descriptive title. Comment on the fit.\n",
    " - Explain your guesstimation of the degree.\n",
    " \n",
    " </div>"
   ]
  },
  {
   "cell_type": "code",
   "execution_count": 608,
   "metadata": {
    "deletable": false
   },
   "outputs": [],
   "source": [
    "# Make a global dictionary to save the MSE values\n",
    "# your code here\n",
    "best_mse_dict = {}\n"
   ]
  },
  {
   "cell_type": "code",
   "execution_count": 609,
   "metadata": {
    "deletable": false
   },
   "outputs": [
    {
     "data": {
      "text/html": [
       "<div>\n",
       "<style scoped>\n",
       "    .dataframe tbody tr th:only-of-type {\n",
       "        vertical-align: middle;\n",
       "    }\n",
       "\n",
       "    .dataframe tbody tr th {\n",
       "        vertical-align: top;\n",
       "    }\n",
       "\n",
       "    .dataframe thead th {\n",
       "        text-align: right;\n",
       "    }\n",
       "</style>\n",
       "<table border=\"1\" class=\"dataframe\">\n",
       "  <thead>\n",
       "    <tr style=\"text-align: right;\">\n",
       "      <th></th>\n",
       "      <th>Perc_population</th>\n",
       "      <th>Spreading_factor</th>\n",
       "      <th>Spread_2</th>\n",
       "    </tr>\n",
       "  </thead>\n",
       "  <tbody>\n",
       "    <tr>\n",
       "      <th>0</th>\n",
       "      <td>1.535</td>\n",
       "      <td>0.190708</td>\n",
       "      <td>0.036370</td>\n",
       "    </tr>\n",
       "    <tr>\n",
       "      <th>1</th>\n",
       "      <td>5.555</td>\n",
       "      <td>0.326928</td>\n",
       "      <td>0.106882</td>\n",
       "    </tr>\n",
       "    <tr>\n",
       "      <th>2</th>\n",
       "      <td>-0.277</td>\n",
       "      <td>-0.459699</td>\n",
       "      <td>0.211323</td>\n",
       "    </tr>\n",
       "    <tr>\n",
       "      <th>3</th>\n",
       "      <td>1.724</td>\n",
       "      <td>-0.193013</td>\n",
       "      <td>0.037254</td>\n",
       "    </tr>\n",
       "    <tr>\n",
       "      <th>4</th>\n",
       "      <td>-0.550</td>\n",
       "      <td>-0.835745</td>\n",
       "      <td>0.698470</td>\n",
       "    </tr>\n",
       "  </tbody>\n",
       "</table>\n",
       "</div>"
      ],
      "text/plain": [
       "   Perc_population  Spreading_factor  Spread_2\n",
       "0            1.535          0.190708  0.036370\n",
       "1            5.555          0.326928  0.106882\n",
       "2           -0.277         -0.459699  0.211323\n",
       "3            1.724         -0.193013  0.037254\n",
       "4           -0.550         -0.835745  0.698470"
      ]
     },
     "execution_count": 609,
     "metadata": {},
     "output_type": "execute_result"
    }
   ],
   "source": [
    "# read the data \n",
    "# your code here \n",
    "filename = \"data/bacteria_train.csv\"\n",
    "df_train = pd.read_csv(filename)\n",
    "\n",
    "filename = \"data/bacteria_test.csv\"\n",
    "df_test = pd.read_csv(filename)\n",
    "\n",
    "\n",
    "df_train['Spread_2'] = df_train['Spreading_factor']**2\n",
    "\n",
    "df_train.head()"
   ]
  },
  {
   "cell_type": "code",
   "execution_count": 610,
   "metadata": {
    "deletable": false,
    "scrolled": true
   },
   "outputs": [],
   "source": [
    " # Guesstimate degree of the curve\n",
    "# your code here \n",
    "d = 3\n",
    "x_train = df_train['Spreading_factor'].values\n",
    "x_test = df_test['Spreading_factor'].values\n",
    "\n",
    "x_poly_train = PolynomialFeatures(degree=d).fit_transform(x_train.reshape(-1,1))\n",
    "x_poly_test = PolynomialFeatures(degree=d).fit_transform(x_test.reshape(-1,1))\n",
    "\n",
    "model_poly = LinearRegression(fit_intercept = False).fit(x_poly_train, df_train['Perc_population'])\n",
    "\n",
    "y_pred = model_poly.predict(x_poly_test)\n",
    "\n"
   ]
  },
  {
   "cell_type": "code",
   "execution_count": 611,
   "metadata": {
    "deletable": false
   },
   "outputs": [
    {
     "data": {
      "text/plain": [
       "2.6519056545149615"
      ]
     },
     "metadata": {},
     "output_type": "display_data"
    },
    {
     "data": {
      "text/plain": [
       "{'2.1': 2.6519056545149615}"
      ]
     },
     "execution_count": 611,
     "metadata": {},
     "output_type": "execute_result"
    }
   ],
   "source": [
    "# Compute the mean_squared_error on the test set and name it mse \n",
    "# Add it to best_mse_dict\n",
    "# your code here \n",
    "\n",
    "y_test = df_test['Perc_population'].values\n",
    "\n",
    "y_poly_test = PolynomialFeatures(degree=d).fit_transform(y_test.reshape(-1,1))\n",
    "\n",
    "MSE = mean_squared_error(y_pred, y_test)\n",
    "\n",
    "display(MSE)\n",
    "\n",
    "best_mse_dict['2.1'] = MSE\n",
    "\n",
    "best_mse_dict"
   ]
  },
  {
   "cell_type": "markdown",
   "metadata": {
    "deletable": false
   },
   "source": [
    "# your code here \n",
    "The shape is not super complex, but it looks like it should curve to an extent. I think adding many more degrees will give diminishing returns and added complexity"
   ]
  },
  {
   "cell_type": "markdown",
   "metadata": {
    "autograde": "2.2",
    "cell_id": "cc4960c5-9dad-46a4-a608-02b926bce340",
    "colab_type": "text",
    "deletable": false,
    "editable": false,
    "id": "uZB7o6VR6Nt6"
   },
   "source": [
    "<div class='exercise-r'>  \n",
    " \n",
    "**2.2** [5 pts] Compute the confidence intervals for the coefficients. For the model fit above plot the 95% confidence interval of the beta values obtained in the regression model above.\n",
    " - Display the coefficient values of the model fit above.\n",
    " - For each bootstrap store the coefficients of the model as a list\n",
    " - Using the bootstrap list compute the 2.5 and 97.5 confidence points.\n",
    " - Plot the bootstrap data as a histogram of `Value of beta` vs. `Distribution of beta` for each beta value. Each figure should indicate regions of 95% confidence interval. As always, each figure must have appropriate axis labels and title. Use `plt.subplots(...)` to arrange your plots.\n",
    " \n",
    " **Hints**\n",
    " - Bootstrap for entire fraction (100%) of the training data.\n",
    " - Limit the number of bootstraps to 100.\n",
    " \n",
    " \n",
    " </div>"
   ]
  },
  {
   "cell_type": "code",
   "execution_count": 612,
   "metadata": {
    "deletable": false
   },
   "outputs": [
    {
     "name": "stdout",
     "output_type": "stream",
     "text": [
      "Coefficients:\n",
      "Beta0 : 1.5449914507699216\n",
      "Beta1 : 2.1233800922886013\n",
      "Beta2 : 0.6942221423624271\n",
      "Beta3 : -0.09858653285195634\n"
     ]
    }
   ],
   "source": [
    "# your code here\n",
    "print(\"Coefficients:\")\n",
    "for i in range(d+1):\n",
    "    print(\"Beta\"+str(i),\":\",model_poly.coef_[i])"
   ]
  },
  {
   "cell_type": "code",
   "execution_count": 613,
   "metadata": {
    "deletable": false
   },
   "outputs": [],
   "source": [
    "# your code here\n",
    "bootstrap = []\n",
    "numboot = 100\n",
    "\n",
    "for i in range(numboot):\n",
    "    #sample in random order\n",
    "    df_sample = df_train.sample(frac=1, replace = True)\n",
    "    \n",
    "    #Add polynomial features \n",
    "    x_poly_train = PolynomialFeatures(degree=d).fit_transform(df_sample[['Spreading_factor']].values.reshape(-1,1))\n",
    "    \n",
    "    #fit a multi-degree linear regression line\n",
    "    model_poly = LinearRegression(fit_intercept=False).fit(x_poly_train, df_sample['Perc_population'])\n",
    "\n",
    "    #append to bootstrap\n",
    "    bootstrap.append(model_poly.coef_)"
   ]
  },
  {
   "cell_type": "code",
   "execution_count": 614,
   "metadata": {
    "deletable": false
   },
   "outputs": [
    {
     "data": {
      "image/png": "[encoded data removed]",
      "text/plain": [
       "<Figure size 1296x720 with 3 Axes>"
      ]
     },
     "metadata": {
      "needs_background": "light"
     },
     "output_type": "display_data"
    }
   ],
   "source": [
    "# your code here \n",
    "bootstrap = np.array(bootstrap)\n",
    "\n",
    "fig, ax = plt.subplots(2,2, figsize = (18,10))\n",
    "ax = ax.ravel()\n",
    "for i in range(3):\n",
    "    betavals = bootstrap[:,i]\n",
    "    betavals.sort()\n",
    "    x1 = np.percentile(betavals,2.5)\n",
    "    x2 = np.percentile(betavals,97.5)\n",
    "    x = np.linspace(x1,x2,500)\n",
    "    counts, bins = np.histogram(betavals)\n",
    "    y = counts.max()\n",
    "    ax[i].hist(bootstrap[:,i], bins = 10, color=\"gold\",alpha=0.5,edgecolor='black', linewidth=1)\n",
    "    ax[i].fill_between(x,y, color = 'cornflowerblue',alpha=0.3)\n",
    "    ax[i].set_ylabel(f'Distribution of beta {i}',fontsize=18)\n",
    "    ax[i].set_xlabel(f'Value of beta {i}',fontsize=18)\n",
    "    ax[i].axvline(x = np.mean(betavals), color='r')\n",
    "\n",
    "fig.delaxes(ax[3])\n",
    "fig.suptitle(f'95 % confidence interval of Problem 2.2', fontsize = 24)\n",
    "sns.despine()"
   ]
  },
  {
   "cell_type": "markdown",
   "metadata": {
    "cell_id": "5c60cdd3-9885-4ac2-8144-635a481460f4",
    "deletable": false,
    "editable": false,
    "tags": []
   },
   "source": [
    "<div class='exercise'><b> Question 3:   Use a validation set to find the most promising polynomial relationship [12 points total]</b>\n",
    "\n",
    "**3.1** [4 pts] Take out a small fraction of the training set for **validation**.\n",
    "- Compare degrees up to 30\n",
    "- For each degree of the polynomial\n",
    "     - Fit a polynomial regression on the training set.\n",
    "     - Calculate the mean_squared_error ($MSE$) on the *validation set*.\n",
    "    \n",
    "- Compare the values of the validation set, and select the degree for which the validation error is the least.\n",
    "\n",
    "**Hints**\n",
    "- Manually implement the validation - do not use `sklearn` for this question.\n",
    "\n",
    "**3.2** [4 pts] Now, with the best selected degree, again train the polynomial regression on the **complete training set** (including the small fraction that you took out to make the validation set). \n",
    "Compute and print the $MSE$ on the test set and add it to `best_mse_dict`.\n",
    "\n",
    "\n",
    "**3.3** [4 pts] Generate a scatterplot of the data (as in 1.1) and plot your model's predictions in a different color. Make sure to label axes and include a descriptive title. Comment on how your model fits the data.\n",
    "\n",
    "</div>  \n",
    "                                                                                                                                 "
   ]
  },
  {
   "cell_type": "markdown",
   "metadata": {
    "deletable": false,
    "editable": false
   },
   "source": [
    "### Your Answers"
   ]
  },
  {
   "cell_type": "markdown",
   "metadata": {
    "autograde": "3.1",
    "cell_id": "0a790850-87c6-4f46-b89e-048a2295c92b",
    "colab_type": "text",
    "deletable": false,
    "editable": false,
    "id": "IGFtXJmQap2q"
   },
   "source": [
    "<div class='exercise-r'>  \n",
    " \n",
    "**3.1** [4 pts] Take out a small fraction of the training set for **validation**.\n",
    " - Compare degrees up to 30\n",
    " - For each degree of the polynomial\n",
    " - Fit a polynomial regression on the training set.\n",
    " - Calculate the mean_squared_error ($MSE$) on the *validation set*.\n",
    " \n",
    " - Compare the values of the validation set, and select the degree for which the validation error is the least.\n",
    " \n",
    " **Hints**\n",
    " - Manually implement the validation - do not use `sklearn` for this question.\n",
    " \n",
    " </div>"
   ]
  },
  {
   "cell_type": "code",
   "execution_count": 615,
   "metadata": {
    "deletable": false
   },
   "outputs": [],
   "source": [
    "# your code here\n",
    "MSE_val = []\n",
    "MSE_train = []"
   ]
  },
  {
   "cell_type": "code",
   "execution_count": 616,
   "metadata": {
    "deletable": false
   },
   "outputs": [],
   "source": [
    "# split the train data into train and validation sets \n",
    "# with 80% of the data as the train data and random_state=44\n",
    "# your code here\n",
    "df_train, df_val = train_test_split(df_train, train_size = 0.8, random_state=44)\n"
   ]
  },
  {
   "cell_type": "code",
   "execution_count": 617,
   "metadata": {
    "deletable": false
   },
   "outputs": [],
   "source": [
    "# your code here\n",
    "for i in range(30):\n",
    "    d = i\n",
    "    \n",
    "    x_train = df_train['Spreading_factor'].values\n",
    "    x_val = df_val['Spreading_factor'].values\n",
    "    y_val = df_val['Perc_population']\n",
    "    y_train = df_train['Perc_population']\n",
    "    \n",
    "    x_poly_train = PolynomialFeatures(degree=d).fit_transform(x_train.reshape(-1,1))\n",
    "    x_poly_val = PolynomialFeatures(degree=d).fit_transform(x_val.reshape(-1,1))\n",
    "  \n",
    "    model_poly = LinearRegression(fit_intercept = False).fit(x_poly_train, y_train)\n",
    "\n",
    "    y_pred_train = model_poly.predict(x_poly_train)\n",
    "    y_pred_val = model_poly.predict(x_poly_val)\n",
    "    \n",
    "    MSE_train.append(mean_squared_error(y_pred_train,y_train))\n",
    "    MSE_val.append(mean_squared_error(y_pred_val,y_val))\n",
    "    \n",
    "    \n",
    "\n",
    "    "
   ]
  },
  {
   "cell_type": "code",
   "execution_count": 618,
   "metadata": {
    "deletable": false,
    "scrolled": true
   },
   "outputs": [],
   "source": [
    "# your code here\n"
   ]
  },
  {
   "cell_type": "code",
   "execution_count": 619,
   "metadata": {
    "deletable": false
   },
   "outputs": [
    {
     "name": "stdout",
     "output_type": "stream",
     "text": [
      "Minimum MSE for train index:2.4029325092528415. This occurs at degree:30\n",
      "Minimum MSE for val index:2.7642741851813257. This occurs at degree:16\n"
     ]
    }
   ],
   "source": [
    "# Print the train and validation MSE along with the degree of the best model. \n",
    "# To do this find the degree that gives the lowest MSE.\n",
    "# your code here min_\n",
    "min_train_index = MSE_train.index(min(MSE_train))\n",
    "MSE_train_min = MSE_train[min_train_index]\n",
    "\n",
    "print(f\"Minimum MSE for train index:{MSE_train_min}. This occurs at degree:{min_train_index+1}\")\n",
    "\n",
    "min_val_index = MSE_val.index(min(MSE_val))\n",
    "MSE_val_min = MSE_val[min_val_index]\n",
    "\n",
    "print(f\"Minimum MSE for val index:{MSE_val_min}. This occurs at degree:{min_val_index+1}\")"
   ]
  },
  {
   "cell_type": "markdown",
   "metadata": {
    "autograde": "3.2",
    "cell_id": "0a790850-87c6-4f46-b89e-048a2295c92b",
    "colab_type": "text",
    "deletable": false,
    "editable": false,
    "id": "IGFtXJmQap2q"
   },
   "source": [
    "<div class='exercise-r'>  \n",
    " \n",
    "**3.2** [4 pts] Now, with the best selected degree, again train the polynomial regression on the **complete training set** (including the small fraction that you took out to make the validation set).\n",
    " Compute and print the $MSE$ on the test set and add it to `best_mse_dict`.\n",
    " \n",
    " \n",
    " </div>"
   ]
  },
  {
   "cell_type": "code",
   "execution_count": 620,
   "metadata": {
    "deletable": false
   },
   "outputs": [],
   "source": [
    "# your code here\n",
    "d = 16\n",
    "    \n",
    "x_train = df['Spreading_factor'].values\n",
    "y_train = df['Perc_population']\n",
    "    \n",
    "x_poly_train = PolynomialFeatures(degree=d).fit_transform(x_train.reshape(-1,1))\n",
    "\n",
    "model_poly = LinearRegression(fit_intercept = False).fit(x_poly_train, y_train)\n",
    "\n",
    "y_pred_train = model_poly.predict(x_poly_train)\n",
    "    \n",
    "best_mse_dict[\"3.2\"] = mean_squared_error(y_pred_train,y_train)\n",
    "\n"
   ]
  },
  {
   "cell_type": "code",
   "execution_count": 621,
   "metadata": {
    "deletable": false
   },
   "outputs": [],
   "source": [
    "# your code here\n"
   ]
  },
  {
   "cell_type": "markdown",
   "metadata": {
    "autograde": "3.3",
    "cell_id": "d13f0498-7db8-4008-8209-e99ee4ff6b79",
    "colab_type": "text",
    "deletable": false,
    "editable": false,
    "id": "V0cd6shRfPjq"
   },
   "source": [
    "<div class='exercise-r'>  \n",
    " \n",
    "**3.3** [4 pts] Generate a scatterplot of the data (as in 1.1) and plot your model's predictions in a different color. Make sure to label axes and include a descriptive title. Comment on how your model fits the data.\n",
    " \n",
    " \n",
    " </div>"
   ]
  },
  {
   "cell_type": "code",
   "execution_count": 622,
   "metadata": {},
   "outputs": [],
   "source": [
    "spread = df['Spreading_factor']\n",
    "\n",
    "test_df = pd.DataFrame()\n",
    "\n",
    "test_df[\"x_test_values\"] = spread.values\n",
    "test_df[\"y_test_values\"] = y_pred_train\n",
    "\n",
    "test_df_sort = test_df.sort_values(by='x_test_values')"
   ]
  },
  {
   "cell_type": "code",
   "execution_count": 623,
   "metadata": {
    "deletable": false
   },
   "outputs": [
    {
     "data": {
      "image/png": "[encoded data removed]",
      "text/plain": [
       "<Figure size 864x432 with 1 Axes>"
      ]
     },
     "metadata": {
      "needs_background": "light"
     },
     "output_type": "display_data"
    }
   ],
   "source": [
    "# your code here\n",
    "perp = df['Perc_population']\n",
    "\n",
    "x_train_sort = df.sort_values(['Spreading_factor'])\n",
    "fig, ax = plt.subplots(figsize=(12,6))\n",
    "ax.plot(spread,perp,'o')\n",
    "\n",
    "ax.plot(test_df_sort['x_test_values'], test_df_sort['y_test_values'], 'o', label=r'$prediction values$')\n",
    "ax.set_title(' Lowest MSE graph for Spreading Factor vs Percent Population (y)')\n",
    "ax.set_xlabel('Spreading Factor (x)')\n",
    "ax.set_ylabel('Percent Population (y)')\n",
    "ax.legend();"
   ]
  },
  {
   "cell_type": "markdown",
   "metadata": {},
   "source": []
  },
  {
   "cell_type": "markdown",
   "metadata": {
    "deletable": false
   },
   "source": [
    "*Your answer here*\n",
    "the model seems highly fitted. It is clearly a higher degree fit due to the number of curves. This looks to be fairly representative. "
   ]
  },
  {
   "cell_type": "markdown",
   "metadata": {
    "cell_id": "5c60cdd3-9885-4ac2-8144-635a481460f4",
    "deletable": false,
    "editable": false,
    "tags": []
   },
   "source": [
    "<div class='exercise'><b> Question 4:   Finding the best model by k-fold cross-validation [15 points total]</b>\n",
    "\n",
    "**4.1** [5 pts] In this part we find the best degree of the polynomial regression by running the model on a range of degree values and using k-fold cross validation. Use the `bacteria_train.csv` to train the model and `bacteria_test.csv` to test the model.\n",
    "\n",
    "**Instructions**\n",
    "- Read the train and test csv files.\n",
    "- Assign the predictor and response variables appropriately\n",
    "- Compute polynomial features up to degree 30. \n",
    "- For each degree in this range perform the following:\n",
    "    - Compute the polynomial features for the data.\n",
    "    - Perform k-fold cross validation with k=10\n",
    "    - Compute the polynomial features for the data.\n",
    "    - Compute the $MSE$ of the train and validation data and store in separate lists. \n",
    "- Print the train and validation MSE along with the degree of the best model. To do this find the degree that gives the lowest validation MSE.\n",
    "\n",
    "\n",
    "#### Hints\n",
    "* Use sklearn `cross_validate()` to perform cross validation.\n",
    "\n",
    "**4.2** [5 pts] Fitting the best model on the test data and compute and print the $MSE$ on the test set.\n",
    "\n",
    "**Instructions**\n",
    "- For the best degree computed above, compute the polynomial features for the data in the test csv file.\n",
    "- Train on the entire data from the train csv file and predict on the test data.\n",
    "- Report the $MSE$ for the fitted models on both the training and test sets. Save the **test** MSE in `best_mse_dict`.\n",
    "- Print the coefficients of the model.\n",
    "\n",
    "**Hints**\n",
    "* Sort the $x$ values before making your plots.\n",
    "\n",
    "**4.3** [5 pts] Generate a scatterplot of the data (as in 1.1) and plot your model's predictions in a different color. Make sure to label axes and include a descriptive title. Comment on how your model fits the data and how your model compares relative to the prior best-fit model you generated.\n",
    "    \n",
    "</div>"
   ]
  },
  {
   "cell_type": "markdown",
   "metadata": {
    "deletable": false,
    "editable": false
   },
   "source": [
    "### Your Answers"
   ]
  },
  {
   "cell_type": "markdown",
   "metadata": {
    "autograde": "4.1",
    "cell_id": "e5f47820-486a-4ad4-9a05-261f6cbd1cdd",
    "colab_type": "text",
    "deletable": false,
    "editable": false,
    "id": "EMVwiaUxsPzF"
   },
   "source": [
    "<div class='exercise-r'>  \n",
    " \n",
    "**4.1** [5 pts] In this part we find the best degree of the polynomial regression by running the model on a range of degree values and using k-fold cross validation. Use the `bacteria_train.csv` to train the model and `bacteria_test.csv` to test the model.\n",
    " \n",
    " **Instructions**\n",
    " - Read the train and test csv files.\n",
    " - Assign the predictor and response variables appropriately\n",
    " - Compute polynomial features up to degree 30.\n",
    " - For each degree in this range perform the following:\n",
    " - Compute the polynomial features for the data.\n",
    " - Perform k-fold cross validation with k=10\n",
    " - Compute the polynomial features for the data.\n",
    " - Compute the $MSE$ of the train and validation data and store in separate lists.\n",
    " - Print the train and validation MSE along with the degree of the best model. To do this find the degree that gives the lowest validation MSE.\n",
    " \n",
    " \n",
    " #### Hints\n",
    " * Use sklearn `cross_validate()` to perform cross validation.\n",
    " \n",
    " </div>"
   ]
  },
  {
   "cell_type": "code",
   "execution_count": 625,
   "metadata": {
    "deletable": false
   },
   "outputs": [],
   "source": [
    "# your code here\n",
    "\n",
    "filename = \"data/bacteria_train.csv\"\n",
    "df_train = pd.read_csv(filename)\n",
    "\n",
    "filename = \"data/bacteria_test.csv\"\n",
    "df_test = pd.read_csv(filename)\n",
    "\n",
    "x_train = df_train[['Spreading_factor']]\n",
    "y_train = df_train['Perc_population']\n",
    "x_test = df_test[['Spreading_factor']]\n",
    "y_test = df_test['Perc_population']\n",
    "\n",
    "#assign predict and response \n",
    "x_train_split, x_val = train_test_split(x_train, train_size = .8, random_state = 44)\n",
    "y_train_split, y_val = train_test_split(y_train, train_size = .8, random_state = 44)\n"
   ]
  },
  {
   "cell_type": "code",
   "execution_count": 626,
   "metadata": {
    "deletable": false
   },
   "outputs": [],
   "source": [
    "# your code here\n",
    "import statistics as st\n",
    "\n",
    "lreg = LinearRegression()\n",
    "mse_train = []\n",
    "mse_test = []\n",
    "        \n",
    "def best_degree(x_train_split, y_train_split, degrees):\n",
    "   \n",
    "    for d in range(0,degrees):\n",
    "        #create mse train and test lists \n",
    "    \n",
    "\n",
    "        #compute polynomial features for the data\n",
    "        x_poly_train = PolynomialFeatures(degree=d).fit_transform(x_train_split)\n",
    "        x_poly_val  = PolynomialFeatures(degree=d).fit_transform(x_val)\n",
    "               \n",
    "        #kfolds cross validation \n",
    "        cross_val = cross_validate(lreg, x_poly_train, y_train_split, scoring='neg_mean_squared_error', cv = 10, return_train_score = True)\n",
    "        \n",
    "        #get the MSE average and add to our lists\n",
    "       \n",
    "        mse_train.append(abs(st.mean(cross_val['train_score'])))\n",
    "        mse_test.append(abs(st.mean(cross_val['train_score'])))\n",
    "\n",
    "    return mse_train, mse_test"
   ]
  },
  {
   "cell_type": "code",
   "execution_count": null,
   "metadata": {},
   "outputs": [],
   "source": []
  },
  {
   "cell_type": "raw",
   "metadata": {},
   "source": []
  },
  {
   "cell_type": "code",
   "execution_count": 627,
   "metadata": {
    "deletable": false
   },
   "outputs": [
    {
     "name": "stdout",
     "output_type": "stream",
     "text": [
      "[6.460558430595313, 3.0503094788397442, 2.608504320637253, 2.605410860627301, 2.4894740552816303, 2.4888167976567335, 2.475898578395232, 2.4670166103769127, 2.447585538247003, 2.446819901300334, 2.445796320509796, 2.444516614243786, 2.4433127009280597, 2.437635295128376, 2.4319718751351074, 2.4305518920383467, 2.428211226818908, 2.4271754890388273, 2.4256441979750742, 2.4239439319438225, 2.417849105645133, 2.4164134672913877, 2.415600307028909, 2.412315000379307, 2.407406914511635, 3.1898078267186003, 2.411580693381742, 2.4072456021971345, 2.9951419196796962, 3.3195325345320947]\n"
     ]
    }
   ],
   "source": [
    "# your code here\n",
    "mse_train = []\n",
    "mse_test = []\n",
    "\n",
    "mse_train, mse_test  = best_degree(x_train_split, y_train_split, 30)\n",
    "\n",
    "print(mse_train)"
   ]
  },
  {
   "cell_type": "code",
   "execution_count": 628,
   "metadata": {
    "deletable": false
   },
   "outputs": [
    {
     "name": "stdout",
     "output_type": "stream",
     "text": [
      "[6.010733129570807, 3.2506264467517947, 2.840723400019301, 2.77523442949252, 2.765305902686271, 2.760173440359323, 2.7456658315654963, 2.6704212742616256, 2.582462603855856, 2.5625218523384996, 2.5148301049862787, 2.497823849708598, 2.48641996190063, 2.3989472751029215, 2.3285433116741667, 2.295303117640345, 2.269174731697835, 2.2593761354345134, 2.2499624369537132, 2.2321217445350494, 2.190535055645557, 2.157045321748292, 2.115020410782313, 2.0575797690353035, 2.0003516325365083, 4.323127202274615, 3.0804040556963947, 2.522889961719669, 2.7974897814976707, 3.8866477306860565]\n"
     ]
    }
   ],
   "source": [
    "mse_train = []\n",
    "mse_test = []\n",
    "\n",
    "mse_val_train, mse_val_test  = best_degree(x_val, y_val, 30)\n",
    "print(mse_val_train)"
   ]
  },
  {
   "cell_type": "code",
   "execution_count": 629,
   "metadata": {
    "deletable": false,
    "scrolled": true
   },
   "outputs": [
    {
     "name": "stdout",
     "output_type": "stream",
     "text": [
      "0    24\n",
      "dtype: int64\n",
      "0    24\n",
      "dtype: int64\n",
      "0    24\n",
      "dtype: int64\n",
      "0    24\n",
      "dtype: int64\n"
     ]
    }
   ],
   "source": [
    "from pandas import DataFrame\n",
    "\n",
    "mse_train_df = DataFrame(mse_train)\n",
    "mse_test_df = DataFrame(mse_test)\n",
    "mse_val_train_df = DataFrame(mse_val_train)\n",
    "mse_val_test_df = DataFrame(mse_val_test)\n",
    "\n",
    "print(mse_train_df.idxmin())\n",
    "print(mse_test_df.idxmin())\n",
    "print(mse_val_train_df.idxmin())\n",
    "print(mse_val_test_df.idxmin())"
   ]
  },
  {
   "cell_type": "code",
   "execution_count": null,
   "metadata": {
    "deletable": false
   },
   "outputs": [],
   "source": []
  },
  {
   "cell_type": "markdown",
   "metadata": {
    "autograde": "4.2",
    "cell_id": "8f9f6e8b-e477-4a40-8a72-b4031b111b56",
    "colab_type": "text",
    "deletable": false,
    "editable": false,
    "id": "Iwnsapke2CYu"
   },
   "source": [
    "<div class='exercise-r'>  \n",
    " \n",
    "**4.2** [5 pts] Fitting the best model on the test data and compute and print the $MSE$ on the test set.\n",
    " \n",
    " **Instructions**\n",
    " - For the best degree computed above, compute the polynomial features for the data in the test csv file.\n",
    " - Train on the entire data from the train csv file and predict on the test data.\n",
    " - Report the $MSE$ for the fitted models on both the training and test sets. Save the **test** MSE in `best_mse_dict`.\n",
    " - Print the coefficients of the model.\n",
    " \n",
    " **Hints**\n",
    " * Sort the $x$ values before making your plots.\n",
    " \n",
    " </div>"
   ]
  },
  {
   "cell_type": "code",
   "execution_count": 630,
   "metadata": {
    "deletable": false
   },
   "outputs": [
    {
     "name": "stdout",
     "output_type": "stream",
     "text": [
      "2.4797814368807294\n",
      "2.699129073060968\n"
     ]
    }
   ],
   "source": [
    "#Compute the polynomial features\n",
    "# your code here\n",
    "d = 24\n",
    "x_poly_train = PolynomialFeatures(degree=d).fit_transform(x_train)\n",
    "x_poly_test = PolynomialFeatures(degree=d).fit_transform(x_test)\n",
    "\n",
    "model_poly = LinearRegression(fit_intercept = False).fit(x_poly_train, y_train)\n",
    "\n",
    "y_pred_train = model_poly.predict(x_poly_train)\n",
    "\n",
    "y_pred_test = model_poly.predict(x_poly_test)\n",
    "\n",
    "print(mean_squared_error(y_pred_train,y_train))\n",
    "\n",
    "print(mean_squared_error(y_pred_test,y_test))\n",
    "\n",
    "best_mse_dict[\"4.2\"] = mean_squared_error(y_pred_test,y_test)\n"
   ]
  },
  {
   "cell_type": "code",
   "execution_count": 631,
   "metadata": {
    "deletable": false
   },
   "outputs": [
    {
     "name": "stdout",
     "output_type": "stream",
     "text": [
      "Coefficients:\n"
     ]
    },
    {
     "data": {
      "text/plain": [
       "array([ 1.53378099e+00,  1.18583688e+00, -2.20651375e+00,  7.81947478e+00,\n",
       "        3.10334797e+01,  2.18393883e+01, -1.84672427e+02, -2.18938141e+02,\n",
       "        5.77649596e+02,  5.58067054e+02, -1.03346214e+03, -7.33145000e+02,\n",
       "        1.13975620e+03,  5.77707424e+02, -8.09192326e+02, -2.88317737e+02,\n",
       "        3.76563195e+02,  9.19773615e+01, -1.14150896e+02, -1.81950881e+01,\n",
       "        2.17040327e+01,  2.03444026e+00, -2.34966182e+00, -9.83153863e-02,\n",
       "        1.10478071e-01])"
      ]
     },
     "execution_count": 631,
     "metadata": {},
     "output_type": "execute_result"
    }
   ],
   "source": [
    "# your code here\n",
    "# your code here\n",
    "print(\"Coefficients:\")\n",
    "model_poly.coef_"
   ]
  },
  {
   "cell_type": "code",
   "execution_count": 632,
   "metadata": {
    "deletable": false
   },
   "outputs": [
    {
     "data": {
      "text/plain": [
       "array([ 1.77070602,  2.16534535,  0.32054266,  1.19717201,  0.39590141,\n",
       "        6.16296854,  5.67244855,  1.87805187,  1.86819652,  1.14111493,\n",
       "        3.67988291,  6.27928507,  3.39705656,  1.07524449,  3.37160311,\n",
       "        1.48571   , -0.34304271,  4.06570842,  0.27038321,  6.08740557,\n",
       "        3.27343897,  1.44062392,  0.94309272,  0.40598313,  1.9419766 ,\n",
       "        6.14709939,  1.17426648,  0.80583192,  1.73664457,  6.22722674,\n",
       "        2.74397179,  0.46827959,  1.77070602,  0.08075373,  1.39646676,\n",
       "       -0.03086553,  0.3155403 ,  0.63351249,  2.953623  ,  3.7402837 ,\n",
       "        0.04154946,  1.09980128,  3.77968822,  1.75310404,  2.06638307,\n",
       "        3.46478046,  3.57628104,  0.43617611,  0.21720422,  1.7182883 ,\n",
       "        5.80039342,  4.1974144 ,  0.75244577,  5.9300909 ,  6.19148641,\n",
       "        4.78106493,  0.45951749,  3.07812099,  1.6252741 ,  0.75244577,\n",
       "        6.14709939,  2.28758663,  1.90368527,  0.72502461,  0.91476446,\n",
       "        0.80583192,  0.43975932, -0.70000129,  6.4577372 ,  5.19674915,\n",
       "        1.7670899 ,  4.20700748,  0.75244577,  4.43371552,  0.97861202,\n",
       "        6.08740557,  3.62299071,  2.35118229,  0.5666375 ,  4.4845933 ,\n",
       "        6.23124723,  2.99001291,  0.64354675,  0.41492775,  0.85095009,\n",
       "        6.18573835,  2.74397179,  3.52063727,  2.24855078, -0.23583388,\n",
       "        2.61595509,  1.64825156,  0.45930119,  4.30415169,  3.79578429,\n",
       "        1.16021489,  0.45083572,  3.79578429,  1.07792732,  3.94832223,\n",
       "        2.7367442 ,  1.6593002 ,  2.953623  ,  3.10385248,  3.93951815,\n",
       "        0.38496912,  4.39347409,  0.39226952,  1.57735529,  6.27226734,\n",
       "        5.20877117,  0.39226952,  6.18316903,  5.81160334,  4.04731131,\n",
       "        0.72008034,  1.58139589,  0.05403594, -0.63387825,  6.18573835,\n",
       "        6.18801717,  0.34601658,  0.02992429,  6.27915364,  0.38573389,\n",
       "       -0.23583388,  3.38407355,  0.27639501,  6.35472076,  1.88306251,\n",
       "        1.20167818,  1.87309571,  5.0655504 ,  0.36926549,  1.67086418,\n",
       "        1.68304288,  2.953623  ,  0.76171337,  3.42461473, -0.02647546,\n",
       "        1.44360758,  6.11867952,  2.21022467,  0.67912205,  1.07792732,\n",
       "        3.50895815,  0.64782171,  1.57328534,  0.6832452 ,  4.29433025,\n",
       "        0.45815489,  3.56348156,  0.84471679,  0.93142402,  0.03757626,\n",
       "        0.51816148,  6.03935828,  0.97111528,  5.10102156,  4.32386001,\n",
       "        0.01146111,  4.05649566,  2.56072464,  0.06322425,  5.90935793,\n",
       "        1.78952254,  0.45836022,  1.03903672,  3.87892554,  0.4154148 ,\n",
       "        1.07953109,  0.6092254 ,  5.64853281,  1.77436884,  5.8032725 ,\n",
       "        1.86819652,  3.2678328 ,  0.79925149,  5.41662841,  0.35013421,\n",
       "        0.82987397,  0.58414281,  1.29857059,  0.38500994,  4.99547687,\n",
       "        1.10504124,  0.37513055, -0.10941874,  5.70565267,  0.93122329,\n",
       "        2.63924893,  1.66850612,  5.69619685,  3.09311832,  0.39918172,\n",
       "       -0.47949075,  1.82664832,  0.34914664,  0.39590141,  5.8032725 ,\n",
       "       -0.03342628,  1.41593926,  0.50114444,  1.79740332,  3.73254976,\n",
       "        2.04637001,  0.82629108,  0.93142402,  3.46478046,  2.28758663,\n",
       "        3.13675857,  1.369216  ,  4.8252314 ,  0.43358361,  3.21060756,\n",
       "        1.58340656,  0.19958554,  2.9590011 ,  1.37960806,  0.37330762,\n",
       "        0.37330762,  1.00576263,  0.01782843,  5.23300666,  0.34182536,\n",
       "        3.13983108,  6.15246203, -0.02993282,  0.44037814,  1.66385815,\n",
       "        0.51816148, -0.02017517,  5.666495  ,  3.69466384,  5.66051039,\n",
       "        0.71119243,  1.46667341,  0.45701706,  2.86577924,  3.56348156,\n",
       "        6.02708382,  1.57328534,  1.8633567 ,  3.1687722 ,  0.18091576,\n",
       "        3.47008041,  2.90842179,  3.87042094,  6.2733475 ,  1.68556163,\n",
       "        0.27554403,  0.33470749,  5.66545747, -0.57399925,  2.74397179,\n",
       "        3.77968822,  2.27972739,  0.2743565 ,  0.83541713,  4.39347409,\n",
       "        6.25121603, -0.708536  ,  0.31217484,  3.4015014 ,  1.09010835,\n",
       "        0.80841001,  3.72487076,  3.84515991,  0.79755327,  0.39590141,\n",
       "        0.652358  ,  5.86212609,  1.55449727,  1.41593926,  5.2817142 ,\n",
       "        2.42374856, -0.19987402,  6.06749009,  0.39226952,  5.19674915,\n",
       "        0.73190551, -0.02888628,  5.05378535, -0.19872526,  5.79783964,\n",
       "        2.669893  ,  3.3065099 ,  1.54802279,  1.17426648,  0.42143132,\n",
       "        0.67912205,  2.9025028 ,  1.20615697,  2.94818175,  1.04441208,\n",
       "        2.68501299,  1.24960389,  0.27554403,  6.25410722,  4.83636571,\n",
       "        1.46667341,  0.01254862,  3.32998418,  5.87758904,  1.74972249,\n",
       "        6.049822  ,  0.43358361,  2.91428181,  1.57328534,  6.12509414,\n",
       "        0.74558765,  6.00133532,  5.78905475,  0.14896915,  2.9747786 ,\n",
       "        3.861961  ,  2.99001291,  0.45759105,  3.16600571,  0.34950603,\n",
       "        0.44836955, -0.40275405,  4.08421254,  0.25789587,  1.08636131,\n",
       "        1.05794057,  1.78952254,  0.45619386,  3.16039696,  5.22770962,\n",
       "        4.54637261,  0.45214242,  4.07494432,  6.15246203,  1.48834467,\n",
       "        0.42143132,  2.6622794 ,  0.11372944,  0.43542029,  5.78905475,\n",
       "        0.13871636,  1.75310404,  3.15755232,  3.13675857,  0.23291986,\n",
       "        0.94767923,  2.24855078,  1.65042528, -0.02993282,  4.65134331,\n",
       "        3.02346444,  1.77070602,  1.75310404,  3.23341168,  3.52656829,\n",
       "       -0.708536  ,  0.38631666,  3.25960981,  1.87805187,  2.09375174,\n",
       "        2.80013238,  3.10733734,  0.31606112,  0.56103991,  3.87892554,\n",
       "        2.39141583,  1.64609563,  3.39705656,  5.10102156,  0.65313166,\n",
       "        0.24550349,  0.26883607,  2.92007959,  0.1179438 ,  2.82038484,\n",
       "        1.69329569,  1.73348225,  0.80792941,  0.40968289,  0.09927414,\n",
       "        1.0708469 ,  1.84917146,  0.29951949,  1.35503825,  0.11372944,\n",
       "        3.67257259,  3.56348156,  0.09131329,  2.43993719,  1.69329569,\n",
       "        1.10273579,  0.5560282 ,  0.0766815 ,  2.99986768,  2.82702959,\n",
       "        0.64354675,  0.39016237,  4.52566454,  0.33893191,  1.03381945,\n",
       "        5.71879705,  1.23251906,  0.41980219,  4.98389613,  1.88306251,\n",
       "       -0.14438892,  6.22241475,  4.12154265,  3.14883731,  0.28644506,\n",
       "        0.50114444,  3.17960646, -0.02030117,  0.15934071,  3.22578021,\n",
       "       -0.00978785,  1.57735529,  6.15246203,  0.28205434,  6.24503145,\n",
       "        4.83636571,  3.56348156,  0.50008322])"
      ]
     },
     "execution_count": 632,
     "metadata": {},
     "output_type": "execute_result"
    }
   ],
   "source": [
    "# your code here\n",
    "y_pred_train"
   ]
  },
  {
   "cell_type": "markdown",
   "metadata": {
    "autograde": "4.3",
    "cell_id": "cc4960c5-9dad-46a4-a608-02b926bce340",
    "colab_type": "text",
    "deletable": false,
    "editable": false,
    "id": "uZB7o6VR6Nt6"
   },
   "source": [
    "<div class='exercise-r'>  \n",
    " \n",
    "**4.3** [5 pts] Generate a scatterplot of the data (as in 1.1) and plot your model's predictions in a different color. Make sure to label axes and include a descriptive title. Comment on how your model fits the data and how your model compares relative to the prior best-fit model you generated.\n",
    " \n",
    " </div>"
   ]
  },
  {
   "cell_type": "code",
   "execution_count": 633,
   "metadata": {},
   "outputs": [],
   "source": [
    "test_df = pd.DataFrame()\n",
    "\n",
    "test_df[\"x_test_values\"] =  x_test['Spreading_factor'].values\n",
    "test_df[\"y_test_values\"] = y_pred_test\n",
    "#test_df['x_test_values'] = x_test\n",
    "#test_df['y_test_values'] = y_pred_train\n",
    "\n",
    "test_df_sort = test_df.sort_values(by='x_test_values')"
   ]
  },
  {
   "cell_type": "code",
   "execution_count": 634,
   "metadata": {
    "deletable": false
   },
   "outputs": [
    {
     "data": {
      "image/png": "[encoded data removed]",
      "text/plain": [
       "<Figure size 864x432 with 1 Axes>"
      ]
     },
     "metadata": {
      "needs_background": "light"
     },
     "output_type": "display_data"
    }
   ],
   "source": [
    "# your code here\n",
    "perp = df['Perc_population']\n",
    "spread = df['Spreading_factor']\n",
    "\n",
    "\n",
    "fig, ax = plt.subplots(figsize=(12,6))\n",
    "ax.plot(spread,perp,'o')\n",
    "#sort_spread = spread.sort()\n",
    "ax.plot(x_test , y_test, 'o', label=r'$test values$')\n",
    "ax.plot(x_test , y_pred_test, 'o', label=r'$predicted values$')\n",
    "ax.plot(test_df_sort['x_test_values'] , test_df_sort['y_test_values'], 'k-', label=r'$best fit line$')\n",
    "\n",
    "ax.set_title(' Lowest MSE graph for Spreading Factor vs Percent Population (y)')\n",
    "ax.set_xlabel('Spreading Factor (x)')\n",
    "ax.set_ylabel('Percent Population (y)')\n",
    "ax.legend();"
   ]
  },
  {
   "cell_type": "code",
   "execution_count": null,
   "metadata": {},
   "outputs": [],
   "source": []
  },
  {
   "cell_type": "markdown",
   "metadata": {
    "deletable": false
   },
   "source": [
    "the model looks highly fitted. There is a clear similatrity to the previous model. "
   ]
  },
  {
   "cell_type": "markdown",
   "metadata": {
    "cell_id": "5c60cdd3-9885-4ac2-8144-635a481460f4",
    "deletable": false,
    "editable": false,
    "tags": []
   },
   "source": [
    "<div class='exercise'><b> Question 5:   Finding the most <b>consistent</b> model; use k-fold cross validation along with bootstraps [13 points total]</b>\n",
    "\n",
    "**5.1** [5 pts] In the previous part, we used k-fold cross-validation to find the best model. But how confident are you of your estimated best degree? We have already used bootstraps earlier to estimate the confidence interval of our $\\beta_i$ values. In this segment, we will use *bootstrapping* to test the robustness of our estimation. As before, we use the `bacteria_train.csv` to train the model and `bacteria_test.csv` to test the model.\n",
    "\n",
    "**Instructions**\n",
    "- Read the train and test csv files.\n",
    "- Assign the predictor and response variables appropriately\n",
    "- Select the max degree for computing the polynomial features and number of bootstraps.\n",
    "- Create bootstraps of the data. For each bootstrap perform the following:\n",
    "    - For each degree in the range of max degree perform the following:\n",
    "        - Compute the polynomial features for the data.\n",
    "        - Perform k-fold cross validation with k=10\n",
    "        - Compute the polynomial features for the data.\n",
    "        - Compute the $MSE$ of the train and validation data and store in separate lists. \n",
    "    - Select the degree for which the mean of the k-fold **validation** $MSE$ is the least.\n",
    "    - Store the best degree in a list\n",
    "- Plot a histogram with `Degree of polynomial` on the $x$-axis and `Number of degrees voted best` on the $y$-axis, from the above steps.\n",
    "- The degree voted best the most times can be selected as the best degree\n",
    "- Retrain on the entire test set and report the $MSE$ on the test set.\n",
    "\n",
    "**Hints**\n",
    "- Limit the maximum degree to 50.\n",
    "- Limit the number of bootstraps to 100.\n",
    "- Use sklearn `cross_validate()` to perform cross validation.\n",
    "\n",
    "**5.2** [3 pts] What are your observations? \n",
    "\n",
    "- Why do you see so much variance in the `best_degree` over the bootstraps?\n",
    "- What will you choose as your `best_degree` for the test set? \n",
    "\n",
    "**5.3** [5 pts] Fitting the best model on the test data.\n",
    "\n",
    "**Instructions**\n",
    "- For the best degree computed above, compute the polynomial features for the data in the test csv file.\n",
    "- Train on the entire data from the train csv file and predict on the test data.\n",
    "- Print the MSE of the model on the test data, and save it in `best_mse_dict`\n",
    "- Make a scatter plot of `Spread factor` vs. `Percentage change in population` for your best degree. The figure should have plot of the test prediction from the regression and the actual values on the same figure. Plot the fit curve as well, and comment on how it fits the data, as well as how it compares to prior model fits.\n",
    "- Print the coefficients of the model\n",
    "    \n",
    "    \n",
    "</div>"
   ]
  },
  {
   "cell_type": "markdown",
   "metadata": {
    "deletable": false,
    "editable": false
   },
   "source": [
    "### Your Answers"
   ]
  },
  {
   "cell_type": "markdown",
   "metadata": {
    "autograde": "5.1",
    "cell_id": "0a790850-87c6-4f46-b89e-048a2295c92b",
    "colab_type": "text",
    "deletable": false,
    "editable": false,
    "id": "IGFtXJmQap2q"
   },
   "source": [
    "<div class='exercise-r'>  \n",
    " \n",
    "**5.1** [5 pts] In the previous part, we used k-fold cross-validation to find the best model. But how confident are you of your estimated best degree? We have already used bootstraps earlier to estimate the confidence interval of our $\\beta_i$ values. In this segment, we will use *bootstrapping* to test the robustness of our estimation. As before, we use the `bacteria_train.csv` to train the model and `bacteria_test.csv` to test the model.\n",
    " \n",
    " **Instructions**\n",
    " - Read the train and test csv files.\n",
    " - Assign the predictor and response variables appropriately\n",
    " - Select the max degree for computing the polynomial features and number of bootstraps.\n",
    " - Create bootstraps of the data. For each bootstrap perform the following:\n",
    " - For each degree in the range of max degree perform the following:\n",
    " - Compute the polynomial features for the data.\n",
    " - Perform k-fold cross validation with k=10\n",
    " - Compute the polynomial features for the data.\n",
    " - Compute the $MSE$ of the train and validation data and store in separate lists.\n",
    " - Select the degree for which the mean of the k-fold **validation** $MSE$ is the least.\n",
    " - Store the best degree in a list\n",
    " - Plot a histogram with `Degree of polynomial` on the $x$-axis and `Number of degrees voted best` on the $y$-axis, from the above steps.\n",
    " - The degree voted best the most times can be selected as the best degree\n",
    " - Retrain on the entire test set and report the $MSE$ on the test set.\n",
    " \n",
    " **Hints**\n",
    " - Limit the maximum degree to 50.\n",
    " - Limit the number of bootstraps to 100.\n",
    " - Use sklearn `cross_validate()` to perform cross validation.\n",
    " \n",
    " </div>"
   ]
  },
  {
   "cell_type": "code",
   "execution_count": 635,
   "metadata": {
    "deletable": false
   },
   "outputs": [],
   "source": [
    "# your code here\n",
    "\n",
    "filename = \"data/bacteria_train.csv\"\n",
    "df_train = pd.read_csv(filename)\n",
    "\n",
    "filename = \"data/bacteria_test.csv\"\n",
    "df_test = pd.read_csv(filename)\n",
    "\n",
    "\n",
    "#assign predict and response \n",
    "#x_train_split, x_val = train_test_split(x_train, train_size = .8, random_state = 44)\n",
    "#y_train_split, y_val = train_test_split(y_train, train_size = .8, random_state = 44)\n"
   ]
  },
  {
   "cell_type": "code",
   "execution_count": 636,
   "metadata": {
    "deletable": false
   },
   "outputs": [],
   "source": [
    "# your code here\n",
    "degrees = 50\n",
    "#bootstrap what we did in the last problem\n",
    "bootstrap = []\n",
    "numboot = 100\n",
    "\n",
    "\n",
    "\n",
    "degree_count = []\n",
    "\n",
    "for i in range(numboot):\n",
    "    \n",
    "    training_error = []\n",
    "    validation_error = []\n",
    "    cv_error = []\n",
    "    \n",
    "    df_train_new = df_train.sample(frac=1, replace=True)\n",
    "    x_train_boot = df_train_new[['Spreading_factor']]\n",
    "    y_train_boot = df_train_new['Perc_population']\n",
    "    \n",
    "    #split the data \n",
    "    x_train, x_val, y_train, y_val = train_test_split(x_train_boot, y_train_boot, train_size = 0.8)\n",
    "   \n",
    "    for d in range(degrees):\n",
    "        \n",
    "        #compute polynomial features for the new bootstrap data set \n",
    "        x_poly_train = PolynomialFeatures(degree=d).fit_transform(x_train)\n",
    "        x_poly_val  = PolynomialFeatures(degree=d).fit_transform(x_val)\n",
    "               \n",
    "        \n",
    "        #fit lin reg\n",
    "        linreg = LinearRegression() \n",
    "        linreg.fit(x_poly_train, y_train)\n",
    "\n",
    "        #kfolds cross validation \n",
    "        cross_val_mse = cross_validate(linreg, x_poly_train, y_train_split, scoring='neg_mean_squared_error', cv = 10, return_train_score = True)\n",
    "                \n",
    "        #get cv error\n",
    "        cross_val_error = abs(np.mean(cross_val_mse['train_score']))\n",
    "        \n",
    "        cv_error.append(cross_val_error)\n",
    "        \n",
    "        #get predictions for the bootstraped fot data\n",
    "        y_train_new_pred = linreg.predict(x_poly_train)\n",
    "        y_val_new_pred = linreg.predict(x_poly_val)\n",
    "        \n",
    "        \n",
    "        #calculate errors\n",
    "        train_err = mean_squared_error(y_train_new_pred, y_train)\n",
    "        val_err = mean_squared_error(y_train_new_pred, y_train)\n",
    "        \n",
    "        training_error.append(train_err)\n",
    "        validation_error.append(val_err)\n",
    "                \n",
    "        #get the MSE average and add to our lists       \n",
    "    \n",
    "    #get mean of kfold validation mean \n",
    "    degree_count.append(validation_error.index(min(validation_error)))\n",
    "\n",
    "    "
   ]
  },
  {
   "cell_type": "code",
   "execution_count": 637,
   "metadata": {
    "deletable": false
   },
   "outputs": [
    {
     "data": {
      "text/plain": [
       "Text(0, 0.5, 'Number of degrees voted best')"
      ]
     },
     "execution_count": 637,
     "metadata": {},
     "output_type": "execute_result"
    },
    {
     "data": {
      "image/png": "[encoded data removed]",
      "text/plain": [
       "<Figure size 432x288 with 1 Axes>"
      ]
     },
     "metadata": {
      "needs_background": "light"
     },
     "output_type": "display_data"
    }
   ],
   "source": [
    "#plot histogram with mse_val_boot\n",
    "plt.hist(degree_count,bins=50, label = 'number of times a degere had lowest validation error', align = 'left',edgecolor='k')\n",
    "plt.xlabel('Degree of polynomial')\n",
    "plt.ylabel('Number of degrees voted best')"
   ]
  },
  {
   "cell_type": "markdown",
   "metadata": {
    "autograde": "5.2",
    "cell_id": "8f9f6e8b-e477-4a40-8a72-b4031b111b56",
    "colab_type": "text",
    "deletable": false,
    "editable": false,
    "id": "Iwnsapke2CYu"
   },
   "source": [
    "<div class='exercise-r'>  \n",
    " \n",
    "**5.2** [3 pts] What are your observations?\n",
    " \n",
    " - Why do you see so much variance in the `best_degree` over the bootstraps?\n",
    " - What will you choose as your `best_degree` for the test set?\n",
    " \n",
    " </div>"
   ]
  },
  {
   "cell_type": "markdown",
   "metadata": {
    "deletable": false
   },
   "source": [
    "34 was my best degree, since we are looking at such high degree models, the variation between their mean squared error is quite small. Thus as we take various samples, the model accuracy can spread over a range that producess fairly similar lines. \n",
    "\n",
    "something is clearly wrong here. The degree is definitely too large and I just got a worse answer than before.See problem 5.3 seems like my best degree should be a lower degree and that I am overfitting. \n"
   ]
  },
  {
   "cell_type": "markdown",
   "metadata": {
    "autograde": "5.3",
    "cell_id": "8f9f6e8b-e477-4a40-8a72-b4031b111b56",
    "colab_type": "text",
    "deletable": false,
    "editable": false,
    "id": "Iwnsapke2CYu"
   },
   "source": [
    "<div class='exercise-r'>  \n",
    " \n",
    "**5.3** [5 pts] Fitting the best model on the test data.\n",
    " \n",
    " **Instructions**\n",
    " - For the best degree computed above, compute the polynomial features for the data in the test csv file.\n",
    " - Train on the entire data from the train csv file and predict on the test data.\n",
    " - Print the MSE of the model on the test data, and save it in `best_mse_dict`\n",
    " - Make a scatter plot of `Spread factor` vs. `Percentage change in population` for your best degree. The figure should have plot of the test prediction from the regression and the actual values on the same figure. Plot the fit curve as well, and comment on how it fits the data, as well as how it compares to prior model fits.\n",
    " - Print the coefficients of the model\n",
    " \n",
    " \n",
    " </div>"
   ]
  },
  {
   "cell_type": "code",
   "execution_count": 641,
   "metadata": {
    "deletable": false
   },
   "outputs": [],
   "source": [
    "# your code here\n",
    "x_train = df_train[['Spreading_factor']]\n",
    "x_test = df_test[['Spreading_factor']]\n",
    "\n",
    "y_train = df_train['Perc_population']\n",
    "y_test = df_test['Perc_population']"
   ]
  },
  {
   "cell_type": "code",
   "execution_count": 642,
   "metadata": {
    "deletable": false
   },
   "outputs": [],
   "source": [
    "# Select the best degree from the above exercise\n",
    "\n",
    "# your code here\n",
    "\n",
    "d = 34\n"
   ]
  },
  {
   "cell_type": "code",
   "execution_count": 643,
   "metadata": {
    "deletable": false
   },
   "outputs": [],
   "source": [
    "#Compute the polynomial features\n",
    "# your code here\n",
    "x_poly_train = PolynomialFeatures(degree=d).fit_transform(x_train)\n",
    "x_poly_test = PolynomialFeatures(degree=d).fit_transform(x_test)\n",
    "\n",
    "linreg = LinearRegression() \n",
    "linreg.fit(x_poly_train, y_train)\n",
    "\n",
    "y_pred = linreg.predict(x_poly_test)"
   ]
  },
  {
   "cell_type": "code",
   "execution_count": 644,
   "metadata": {
    "deletable": false
   },
   "outputs": [
    {
     "name": "stdout",
     "output_type": "stream",
     "text": [
      "2.860931308607866\n"
     ]
    }
   ],
   "source": [
    "# your code here\n",
    "MSE = mean_squared_error(y_pred, y_test)\n",
    "print(MSE)\n"
   ]
  },
  {
   "cell_type": "code",
   "execution_count": 645,
   "metadata": {
    "deletable": false
   },
   "outputs": [],
   "source": [
    "# your code here\n",
    "best_mse_dict[\"5.3\"] = MSE"
   ]
  },
  {
   "cell_type": "code",
   "execution_count": 646,
   "metadata": {
    "deletable": false
   },
   "outputs": [
    {
     "data": {
      "text/plain": [
       "array([ 2.01884414e+02,  7.30311132e+00, -3.63959242e+01, -2.63812731e+02,\n",
       "        8.13176481e+02,  4.00249592e+03, -7.17212191e+03, -2.80325148e+04,\n",
       "        3.27721283e+04,  1.12233719e+05, -8.89456837e+04, -2.86500833e+05,\n",
       "        1.54635236e+05,  4.97203382e+05, -1.78854068e+05, -6.10855804e+05,\n",
       "        1.38228238e+05,  5.45131872e+05, -6.77964604e+04, -3.58679356e+05,\n",
       "        1.60115053e+04,  1.75019240e+05,  3.31763012e+03, -6.31325741e+04,\n",
       "       -4.45182306e+03,  1.66035700e+04,  1.87444666e+03, -3.09316196e+03,\n",
       "       -4.58215673e+02,  3.86572782e+02,  6.87131331e+01, -2.90605841e+01,\n",
       "       -5.89503759e+00,  9.92985479e-01,  2.22735048e-01])"
      ]
     },
     "execution_count": 646,
     "metadata": {},
     "output_type": "execute_result"
    }
   ],
   "source": [
    "# your code here\n",
    "linreg.coef_"
   ]
  },
  {
   "cell_type": "code",
   "execution_count": 647,
   "metadata": {},
   "outputs": [
    {
     "data": {
      "image/png": "[encoded data removed]",
      "text/plain": [
       "<Figure size 864x432 with 1 Axes>"
      ]
     },
     "metadata": {
      "needs_background": "light"
     },
     "output_type": "display_data"
    }
   ],
   "source": [
    "test_df = pd.DataFrame()\n",
    "\n",
    "test_df[\"x_test_values\"] =  x_test['Spreading_factor'].values\n",
    "test_df[\"y_test_values\"] = y_pred\n",
    "\n",
    "\n",
    "test_df_sort = test_df.sort_values(by='x_test_values')\n",
    "\n",
    "\n",
    "spread = df['Spreading_factor']\n",
    "\n",
    "\n",
    "fig, ax = plt.subplots(figsize=(12,6))\n",
    "ax.plot(spread,perp,'o')\n",
    "#sort_spread = spread.sort()\n",
    "ax.plot(x_test , y_test, 'o', label=r'$test values$')\n",
    "ax.plot(x_test , y_pred, 'o', label=r'$predicted values$')\n",
    "ax.plot(test_df_sort['x_test_values'] , test_df_sort['y_test_values'], 'k-', label=r'$best fit line$')\n",
    "\n",
    "ax.set_title(' Lowest MSE graph for Spreading Factor vs Percent Population (y)')\n",
    "ax.set_xlabel('Spreading Factor (x)')\n",
    "ax.set_ylabel('Percent Population (y)')\n",
    "ax.legend();"
   ]
  },
  {
   "cell_type": "markdown",
   "metadata": {
    "deletable": false
   },
   "source": [
    "*Your answer here*\n",
    "Not sure what happened with my last value, but other than that value, things look a bit more fitted than my previous model. Data points and predictions are highly fitted. "
   ]
  },
  {
   "cell_type": "markdown",
   "metadata": {
    "cell_id": "8a32aef5-65a6-426d-a7ca-1f6fd63b3b16",
    "deletable": false,
    "editable": false
   },
   "source": [
    "<div class='exercise'><b> Question 6:   Improving model consistency [30 points total]</b>\n",
    "\n",
    "In the previous sections, we compared many polynomial models to find the best degree. For each model of degree $n$, we considered all polynomial coefficients *up to* **degree `n`** using `Polynomial_features`. In this section $n=30$, and our **best model** can be chosen from any possible combination of the **30** degrees chosen.\n",
    "\n",
    "For eg. a model with degrees `1,2,4,6`\n",
    "\n",
    "The total number of such possible models is $2^{30}\\approx10^9$ and searching through all of them would be laborious and computationally inefficient. Instead, we can use $Lasso$ Regularization which *switches off* highly unstable degree coefficients and gives us the most efficient solution.\n",
    "\n",
    "**6.1** [10 pts] Find the best hyper-parameter `alpha`\n",
    "\n",
    "First, we will use `cross_validation` to find the the best regularization parameter `alpha`. As before, we use the `bacteria_train.csv` for cross validation.\n",
    "\n",
    "**NOTE**: You are free to experiment with the values of alpha. Our suggestion is to use in powers of 10 from $10^{-3}$ to $10^{3}$\n",
    "\n",
    "#### Instructions\n",
    "- Read the train csv file.\n",
    "- Assign the predictor and response variables appropriately\n",
    "- Select the max degree of the polynomial, and make a list of `alpha` values\n",
    "- For each value of `alpha`:\n",
    "    - Compute the polynomial features for the data.\n",
    "    - Create a `Lasso` regularization model with the value of `alpha`\n",
    "    - Perform k-fold cross validation with k=10 using `Lasso` as model.\n",
    "    - Compute and print the $MSE$ of the train and validation data and store in separate lists. \n",
    "- Select the `alpha` for which the mean of the k-fold $MSE$ is the least.\n",
    "- Store the previously selected values as `best_alpha` & print it.\n",
    "\n",
    "\n",
    "#### Hints\n",
    "- Limit the maximum degree to 30.\n",
    "- Take at least three different values of alpha.\n",
    "- Use sklearn `cross_validate()` to perform cross validation.\n",
    "\n",
    "**6.2** [10 pts] Find the most significant degrees.\n",
    "\n",
    "From the previous section, you will now have the `best_alpha` hyperparameter. Now, we will use this to find the most significant degrees over a given number of bootstraps. What we mean by the above is this:\n",
    "\n",
    "For each bootstrap of the data, you will get some degrees that are **significant** $(\\mid\\beta_i\\mid \\gt 0.1)$. You would like to see which degree coefficients are significant over several such iterations.\n",
    "\n",
    "As before, we use the `bacteria_train.csv` for cross validation.\n",
    "\n",
    "NOTE: You are free to experiment with the number of bootstraps.\n",
    "\n",
    "**Instructions**\n",
    "- Make a dictionary called `significant_degrees` to store count of degrees for each bootstrap\n",
    "- For each bootstrap:\n",
    "    - Take a sample the dataframe with `frac=1`\n",
    "    - Train a **Lasso** model with the `best_alpha` computed above.\n",
    "    - Find the most significant polynomial coefficients using ($\\mid\\beta_i\\mid \\lt 0.1 $)\n",
    "    - For each significant degree, update the count of that degree in `significant_degrees` \n",
    "- Plot the count of degrees for each bootstrap as a bar plot.\n",
    "\n",
    "\n",
    "#### Hints\n",
    "- Limit the maximum degree to 30.\n",
    "- Take at least three different values of alpha.\n",
    "- Use sklearn `cross_validate()` to perform cross validation.\n",
    "\n",
    "**6.3** [5 pts] Compute and print the MSE on the test set\n",
    "\n",
    "Now, from the previous plot, you can see that only some degrees are consistently significant over several bootstraps. You will now retrain the *L1* regularized model on the entire **training** data and find the test $MSE$\n",
    "\n",
    "#### Instructions\n",
    "\n",
    "- Based on the plot from 6.2, choose the maximum degree of the polynomial you will fit for your final model.\n",
    "- Retrain the *regularized* ***LASSO*** model with your chosen degree on the entire test set and report the $MSE$ on the test set.\n",
    "- Find and print the degrees of the polynomial that have cofficients with absolute value greater than 0.1\n",
    "- Save the test $MSE$ to `best_mse_dict`.\n",
    "\n",
    "**6.4** [5 pts] What are your observations?\n",
    "\n",
    "- Compare your `best_degree` from question 5 with your chosen degree in 6.3 above and comment on the difference.\n",
    "- Which degree coefficients in your best fit model from above are significant? If not all coefficients are significant, why?\n",
    "- Compare your test $MSE$ in this question with the result from question 5. Which one is smaller, and by how much?\n",
    "- Is your current model more reliable than the models in question 5 and prior? On what basis do you claim its robustness?\n",
    "    \n",
    "    \n",
    "</div>"
   ]
  },
  {
   "cell_type": "markdown",
   "metadata": {
    "deletable": false,
    "editable": false
   },
   "source": [
    "### Your Answers"
   ]
  },
  {
   "cell_type": "markdown",
   "metadata": {
    "autograde": "6.1",
    "deletable": false,
    "editable": false
   },
   "source": [
    "<div class='exercise-r'>  \n",
    " \n",
    "**6.1** [10 pts] Find the best hyper-parameter `alpha`\n",
    " \n",
    " First, we will use `cross_validation` to find the the best regularization parameter `alpha`. As before, we use the `bacteria_train.csv` for cross validation.\n",
    " \n",
    " **NOTE**: You are free to experiment with the values of alpha. Our suggestion is to use in powers of 10 from $10^{-3}$ to $10^{3}$\n",
    " \n",
    " #### Instructions\n",
    " - Read the train csv file.\n",
    " - Assign the predictor and response variables appropriately\n",
    " - Select the max degree of the polynomial, and make a list of `alpha` values\n",
    " - For each value of `alpha`:\n",
    " - Compute the polynomial features for the data.\n",
    " - Create a `Lasso` regularization model with the value of `alpha`\n",
    " - Perform k-fold cross validation with k=10 using `Lasso` as model.\n",
    " - Compute and print the $MSE$ of the train and validation data and store in separate lists.\n",
    " - Select the `alpha` for which the mean of the k-fold $MSE$ is the least.\n",
    " - Store the previously selected values as `best_alpha` & print it.\n",
    " \n",
    " \n",
    " #### Hints\n",
    " - Limit the maximum degree to 30.\n",
    " - Take at least three different values of alpha.\n",
    " - Use sklearn `cross_validate()` to perform cross validation.\n",
    " \n",
    " </div>"
   ]
  },
  {
   "cell_type": "code",
   "execution_count": 648,
   "metadata": {
    "deletable": false
   },
   "outputs": [
    {
     "name": "stdout",
     "output_type": "stream",
     "text": [
      "1e-05\n",
      "0.0001\n"
     ]
    },
    {
     "name": "stderr",
     "output_type": "stream",
     "text": [
      "/Users/stevenmorse/opt/anaconda3/envs/cs109a_3_7/lib/python3.7/site-packages/sklearn/linear_model/_coordinate_descent.py:531: ConvergenceWarning: Objective did not converge. You might want to increase the number of iterations. Duality gap: 414.2167967574844, tolerance: 0.21842717229349115\n",
      "  positive)\n",
      "/Users/stevenmorse/opt/anaconda3/envs/cs109a_3_7/lib/python3.7/site-packages/sklearn/linear_model/_coordinate_descent.py:531: ConvergenceWarning: Objective did not converge. You might want to increase the number of iterations. Duality gap: 384.02165134038364, tolerance: 0.19952388815493421\n",
      "  positive)\n",
      "/Users/stevenmorse/opt/anaconda3/envs/cs109a_3_7/lib/python3.7/site-packages/sklearn/linear_model/_coordinate_descent.py:531: ConvergenceWarning: Objective did not converge. You might want to increase the number of iterations. Duality gap: 378.1663050975062, tolerance: 0.20076678435493422\n",
      "  positive)\n",
      "/Users/stevenmorse/opt/anaconda3/envs/cs109a_3_7/lib/python3.7/site-packages/sklearn/linear_model/_coordinate_descent.py:531: ConvergenceWarning: Objective did not converge. You might want to increase the number of iterations. Duality gap: 379.6424041581172, tolerance: 0.1963700935631579\n",
      "  positive)\n",
      "/Users/stevenmorse/opt/anaconda3/envs/cs109a_3_7/lib/python3.7/site-packages/sklearn/linear_model/_coordinate_descent.py:531: ConvergenceWarning: Objective did not converge. You might want to increase the number of iterations. Duality gap: 379.43521316150793, tolerance: 0.1991633575881579\n",
      "  positive)\n",
      "/Users/stevenmorse/opt/anaconda3/envs/cs109a_3_7/lib/python3.7/site-packages/sklearn/linear_model/_coordinate_descent.py:531: ConvergenceWarning: Objective did not converge. You might want to increase the number of iterations. Duality gap: 346.15743106026883, tolerance: 0.19262545255263158\n",
      "  positive)\n",
      "/Users/stevenmorse/opt/anaconda3/envs/cs109a_3_7/lib/python3.7/site-packages/sklearn/linear_model/_coordinate_descent.py:531: ConvergenceWarning: Objective did not converge. You might want to increase the number of iterations. Duality gap: 373.1758110290001, tolerance: 0.19948080341973684\n",
      "  positive)\n",
      "/Users/stevenmorse/opt/anaconda3/envs/cs109a_3_7/lib/python3.7/site-packages/sklearn/linear_model/_coordinate_descent.py:531: ConvergenceWarning: Objective did not converge. You might want to increase the number of iterations. Duality gap: 383.1237784856786, tolerance: 0.1937584882934211\n",
      "  positive)\n",
      "/Users/stevenmorse/opt/anaconda3/envs/cs109a_3_7/lib/python3.7/site-packages/sklearn/linear_model/_coordinate_descent.py:531: ConvergenceWarning: Objective did not converge. You might want to increase the number of iterations. Duality gap: 354.80584659756755, tolerance: 0.19812477109177634\n",
      "  positive)\n",
      "/Users/stevenmorse/opt/anaconda3/envs/cs109a_3_7/lib/python3.7/site-packages/sklearn/linear_model/_coordinate_descent.py:531: ConvergenceWarning: Objective did not converge. You might want to increase the number of iterations. Duality gap: 354.47583786813914, tolerance: 0.19212063150622952\n",
      "  positive)\n",
      "/Users/stevenmorse/opt/anaconda3/envs/cs109a_3_7/lib/python3.7/site-packages/sklearn/linear_model/_coordinate_descent.py:531: ConvergenceWarning: Objective did not converge. You might want to increase the number of iterations. Duality gap: 385.9685345747134, tolerance: 0.19333929541508196\n",
      "  positive)\n",
      "/Users/stevenmorse/opt/anaconda3/envs/cs109a_3_7/lib/python3.7/site-packages/sklearn/linear_model/_coordinate_descent.py:531: ConvergenceWarning: Objective did not converge. You might want to increase the number of iterations. Duality gap: 414.36671005295966, tolerance: 0.21842717229349115\n",
      "  positive)\n",
      "/Users/stevenmorse/opt/anaconda3/envs/cs109a_3_7/lib/python3.7/site-packages/sklearn/linear_model/_coordinate_descent.py:531: ConvergenceWarning: Objective did not converge. You might want to increase the number of iterations. Duality gap: 384.15736458317747, tolerance: 0.19952388815493421\n",
      "  positive)\n",
      "/Users/stevenmorse/opt/anaconda3/envs/cs109a_3_7/lib/python3.7/site-packages/sklearn/linear_model/_coordinate_descent.py:531: ConvergenceWarning: Objective did not converge. You might want to increase the number of iterations. Duality gap: 378.33913772593013, tolerance: 0.20076678435493422\n",
      "  positive)\n",
      "/Users/stevenmorse/opt/anaconda3/envs/cs109a_3_7/lib/python3.7/site-packages/sklearn/linear_model/_coordinate_descent.py:531: ConvergenceWarning: Objective did not converge. You might want to increase the number of iterations. Duality gap: 379.7833405663961, tolerance: 0.1963700935631579\n",
      "  positive)\n",
      "/Users/stevenmorse/opt/anaconda3/envs/cs109a_3_7/lib/python3.7/site-packages/sklearn/linear_model/_coordinate_descent.py:531: ConvergenceWarning: Objective did not converge. You might want to increase the number of iterations. Duality gap: 379.5935323997442, tolerance: 0.1991633575881579\n",
      "  positive)\n",
      "/Users/stevenmorse/opt/anaconda3/envs/cs109a_3_7/lib/python3.7/site-packages/sklearn/linear_model/_coordinate_descent.py:531: ConvergenceWarning: Objective did not converge. You might want to increase the number of iterations. Duality gap: 346.2742661391666, tolerance: 0.19262545255263158\n",
      "  positive)\n",
      "/Users/stevenmorse/opt/anaconda3/envs/cs109a_3_7/lib/python3.7/site-packages/sklearn/linear_model/_coordinate_descent.py:531: ConvergenceWarning: Objective did not converge. You might want to increase the number of iterations. Duality gap: 373.31105186620346, tolerance: 0.19948080341973684\n",
      "  positive)\n",
      "/Users/stevenmorse/opt/anaconda3/envs/cs109a_3_7/lib/python3.7/site-packages/sklearn/linear_model/_coordinate_descent.py:531: ConvergenceWarning: Objective did not converge. You might want to increase the number of iterations. Duality gap: 383.2566745021742, tolerance: 0.1937584882934211\n",
      "  positive)\n",
      "/Users/stevenmorse/opt/anaconda3/envs/cs109a_3_7/lib/python3.7/site-packages/sklearn/linear_model/_coordinate_descent.py:531: ConvergenceWarning: Objective did not converge. You might want to increase the number of iterations. Duality gap: 354.93950620064254, tolerance: 0.19812477109177634\n",
      "  positive)\n",
      "/Users/stevenmorse/opt/anaconda3/envs/cs109a_3_7/lib/python3.7/site-packages/sklearn/linear_model/_coordinate_descent.py:531: ConvergenceWarning: Objective did not converge. You might want to increase the number of iterations. Duality gap: 354.57950343713725, tolerance: 0.19212063150622952\n",
      "  positive)\n",
      "/Users/stevenmorse/opt/anaconda3/envs/cs109a_3_7/lib/python3.7/site-packages/sklearn/linear_model/_coordinate_descent.py:531: ConvergenceWarning: Objective did not converge. You might want to increase the number of iterations. Duality gap: 386.10865110820185, tolerance: 0.19333929541508196\n",
      "  positive)\n",
      "/Users/stevenmorse/opt/anaconda3/envs/cs109a_3_7/lib/python3.7/site-packages/sklearn/linear_model/_coordinate_descent.py:531: ConvergenceWarning: Objective did not converge. You might want to increase the number of iterations. Duality gap: 415.779381291745, tolerance: 0.21842717229349115\n",
      "  positive)\n",
      "/Users/stevenmorse/opt/anaconda3/envs/cs109a_3_7/lib/python3.7/site-packages/sklearn/linear_model/_coordinate_descent.py:531: ConvergenceWarning: Objective did not converge. You might want to increase the number of iterations. Duality gap: 385.4282688113869, tolerance: 0.19952388815493421\n",
      "  positive)\n",
      "/Users/stevenmorse/opt/anaconda3/envs/cs109a_3_7/lib/python3.7/site-packages/sklearn/linear_model/_coordinate_descent.py:531: ConvergenceWarning: Objective did not converge. You might want to increase the number of iterations. Duality gap: 379.95685440001967, tolerance: 0.20076678435493422\n",
      "  positive)\n",
      "/Users/stevenmorse/opt/anaconda3/envs/cs109a_3_7/lib/python3.7/site-packages/sklearn/linear_model/_coordinate_descent.py:531: ConvergenceWarning: Objective did not converge. You might want to increase the number of iterations. Duality gap: 381.11482051048876, tolerance: 0.1963700935631579\n",
      "  positive)\n",
      "/Users/stevenmorse/opt/anaconda3/envs/cs109a_3_7/lib/python3.7/site-packages/sklearn/linear_model/_coordinate_descent.py:531: ConvergenceWarning: Objective did not converge. You might want to increase the number of iterations. Duality gap: 381.0960503577218, tolerance: 0.1991633575881579\n",
      "  positive)\n",
      "/Users/stevenmorse/opt/anaconda3/envs/cs109a_3_7/lib/python3.7/site-packages/sklearn/linear_model/_coordinate_descent.py:531: ConvergenceWarning: Objective did not converge. You might want to increase the number of iterations. Duality gap: 347.369302498574, tolerance: 0.19262545255263158\n",
      "  positive)\n",
      "/Users/stevenmorse/opt/anaconda3/envs/cs109a_3_7/lib/python3.7/site-packages/sklearn/linear_model/_coordinate_descent.py:531: ConvergenceWarning: Objective did not converge. You might want to increase the number of iterations. Duality gap: 374.57756796619304, tolerance: 0.19948080341973684\n",
      "  positive)\n",
      "/Users/stevenmorse/opt/anaconda3/envs/cs109a_3_7/lib/python3.7/site-packages/sklearn/linear_model/_coordinate_descent.py:531: ConvergenceWarning: Objective did not converge. You might want to increase the number of iterations. Duality gap: 384.5074563284882, tolerance: 0.1937584882934211\n",
      "  positive)\n",
      "/Users/stevenmorse/opt/anaconda3/envs/cs109a_3_7/lib/python3.7/site-packages/sklearn/linear_model/_coordinate_descent.py:531: ConvergenceWarning: Objective did not converge. You might want to increase the number of iterations. Duality gap: 356.2042429683288, tolerance: 0.19812477109177634\n",
      "  positive)\n",
      "/Users/stevenmorse/opt/anaconda3/envs/cs109a_3_7/lib/python3.7/site-packages/sklearn/linear_model/_coordinate_descent.py:531: ConvergenceWarning: Objective did not converge. You might want to increase the number of iterations. Duality gap: 355.5493955786721, tolerance: 0.19212063150622952\n",
      "  positive)\n",
      "/Users/stevenmorse/opt/anaconda3/envs/cs109a_3_7/lib/python3.7/site-packages/sklearn/linear_model/_coordinate_descent.py:531: ConvergenceWarning: Objective did not converge. You might want to increase the number of iterations. Duality gap: 387.4240441444556, tolerance: 0.19333929541508196\n",
      "  positive)\n",
      "/Users/stevenmorse/opt/anaconda3/envs/cs109a_3_7/lib/python3.7/site-packages/sklearn/linear_model/_coordinate_descent.py:531: ConvergenceWarning: Objective did not converge. You might want to increase the number of iterations. Duality gap: 425.8729061168731, tolerance: 0.21842717229349115\n",
      "  positive)\n",
      "/Users/stevenmorse/opt/anaconda3/envs/cs109a_3_7/lib/python3.7/site-packages/sklearn/linear_model/_coordinate_descent.py:531: ConvergenceWarning: Objective did not converge. You might want to increase the number of iterations. Duality gap: 394.2077236670357, tolerance: 0.19952388815493421\n",
      "  positive)\n",
      "/Users/stevenmorse/opt/anaconda3/envs/cs109a_3_7/lib/python3.7/site-packages/sklearn/linear_model/_coordinate_descent.py:531: ConvergenceWarning: Objective did not converge. You might want to increase the number of iterations. Duality gap: 389.7452414560981, tolerance: 0.20076678435493422\n",
      "  positive)\n",
      "/Users/stevenmorse/opt/anaconda3/envs/cs109a_3_7/lib/python3.7/site-packages/sklearn/linear_model/_coordinate_descent.py:531: ConvergenceWarning: Objective did not converge. You might want to increase the number of iterations. Duality gap: 390.4711103890687, tolerance: 0.1963700935631579\n",
      "  positive)\n"
     ]
    },
    {
     "name": "stdout",
     "output_type": "stream",
     "text": [
      "0.001\n",
      "0.01\n"
     ]
    },
    {
     "name": "stderr",
     "output_type": "stream",
     "text": [
      "/Users/stevenmorse/opt/anaconda3/envs/cs109a_3_7/lib/python3.7/site-packages/sklearn/linear_model/_coordinate_descent.py:531: ConvergenceWarning: Objective did not converge. You might want to increase the number of iterations. Duality gap: 390.89144970438764, tolerance: 0.1991633575881579\n",
      "  positive)\n",
      "/Users/stevenmorse/opt/anaconda3/envs/cs109a_3_7/lib/python3.7/site-packages/sklearn/linear_model/_coordinate_descent.py:531: ConvergenceWarning: Objective did not converge. You might want to increase the number of iterations. Duality gap: 356.6982869444771, tolerance: 0.19262545255263158\n",
      "  positive)\n",
      "/Users/stevenmorse/opt/anaconda3/envs/cs109a_3_7/lib/python3.7/site-packages/sklearn/linear_model/_coordinate_descent.py:531: ConvergenceWarning: Objective did not converge. You might want to increase the number of iterations. Duality gap: 383.5302152264138, tolerance: 0.19948080341973684\n",
      "  positive)\n",
      "/Users/stevenmorse/opt/anaconda3/envs/cs109a_3_7/lib/python3.7/site-packages/sklearn/linear_model/_coordinate_descent.py:531: ConvergenceWarning: Objective did not converge. You might want to increase the number of iterations. Duality gap: 394.11471224842757, tolerance: 0.1937584882934211\n",
      "  positive)\n",
      "/Users/stevenmorse/opt/anaconda3/envs/cs109a_3_7/lib/python3.7/site-packages/sklearn/linear_model/_coordinate_descent.py:531: ConvergenceWarning: Objective did not converge. You might want to increase the number of iterations. Duality gap: 365.96381245812097, tolerance: 0.19812477109177634\n",
      "  positive)\n",
      "/Users/stevenmorse/opt/anaconda3/envs/cs109a_3_7/lib/python3.7/site-packages/sklearn/linear_model/_coordinate_descent.py:531: ConvergenceWarning: Objective did not converge. You might want to increase the number of iterations. Duality gap: 364.3125931728131, tolerance: 0.19212063150622952\n",
      "  positive)\n",
      "/Users/stevenmorse/opt/anaconda3/envs/cs109a_3_7/lib/python3.7/site-packages/sklearn/linear_model/_coordinate_descent.py:531: ConvergenceWarning: Objective did not converge. You might want to increase the number of iterations. Duality gap: 396.46007698962, tolerance: 0.19333929541508196\n",
      "  positive)\n",
      "/Users/stevenmorse/opt/anaconda3/envs/cs109a_3_7/lib/python3.7/site-packages/sklearn/linear_model/_coordinate_descent.py:531: ConvergenceWarning: Objective did not converge. You might want to increase the number of iterations. Duality gap: 463.72285645108667, tolerance: 0.21842717229349115\n",
      "  positive)\n",
      "/Users/stevenmorse/opt/anaconda3/envs/cs109a_3_7/lib/python3.7/site-packages/sklearn/linear_model/_coordinate_descent.py:531: ConvergenceWarning: Objective did not converge. You might want to increase the number of iterations. Duality gap: 427.96044809394425, tolerance: 0.19952388815493421\n",
      "  positive)\n",
      "/Users/stevenmorse/opt/anaconda3/envs/cs109a_3_7/lib/python3.7/site-packages/sklearn/linear_model/_coordinate_descent.py:531: ConvergenceWarning: Objective did not converge. You might want to increase the number of iterations. Duality gap: 421.73909340214885, tolerance: 0.20076678435493422\n",
      "  positive)\n"
     ]
    },
    {
     "name": "stdout",
     "output_type": "stream",
     "text": [
      "0.05\n"
     ]
    },
    {
     "name": "stderr",
     "output_type": "stream",
     "text": [
      "/Users/stevenmorse/opt/anaconda3/envs/cs109a_3_7/lib/python3.7/site-packages/sklearn/linear_model/_coordinate_descent.py:531: ConvergenceWarning: Objective did not converge. You might want to increase the number of iterations. Duality gap: 424.6671019583625, tolerance: 0.1963700935631579\n",
      "  positive)\n",
      "/Users/stevenmorse/opt/anaconda3/envs/cs109a_3_7/lib/python3.7/site-packages/sklearn/linear_model/_coordinate_descent.py:531: ConvergenceWarning: Objective did not converge. You might want to increase the number of iterations. Duality gap: 423.5717350768982, tolerance: 0.1991633575881579\n",
      "  positive)\n",
      "/Users/stevenmorse/opt/anaconda3/envs/cs109a_3_7/lib/python3.7/site-packages/sklearn/linear_model/_coordinate_descent.py:531: ConvergenceWarning: Objective did not converge. You might want to increase the number of iterations. Duality gap: 393.4306187346732, tolerance: 0.19262545255263158\n",
      "  positive)\n",
      "/Users/stevenmorse/opt/anaconda3/envs/cs109a_3_7/lib/python3.7/site-packages/sklearn/linear_model/_coordinate_descent.py:531: ConvergenceWarning: Objective did not converge. You might want to increase the number of iterations. Duality gap: 417.8934369813907, tolerance: 0.19948080341973684\n",
      "  positive)\n",
      "/Users/stevenmorse/opt/anaconda3/envs/cs109a_3_7/lib/python3.7/site-packages/sklearn/linear_model/_coordinate_descent.py:531: ConvergenceWarning: Objective did not converge. You might want to increase the number of iterations. Duality gap: 429.4799802289182, tolerance: 0.1937584882934211\n",
      "  positive)\n",
      "/Users/stevenmorse/opt/anaconda3/envs/cs109a_3_7/lib/python3.7/site-packages/sklearn/linear_model/_coordinate_descent.py:531: ConvergenceWarning: Objective did not converge. You might want to increase the number of iterations. Duality gap: 401.80366241471114, tolerance: 0.19812477109177634\n",
      "  positive)\n",
      "/Users/stevenmorse/opt/anaconda3/envs/cs109a_3_7/lib/python3.7/site-packages/sklearn/linear_model/_coordinate_descent.py:531: ConvergenceWarning: Objective did not converge. You might want to increase the number of iterations. Duality gap: 398.5567900894586, tolerance: 0.19212063150622952\n",
      "  positive)\n",
      "/Users/stevenmorse/opt/anaconda3/envs/cs109a_3_7/lib/python3.7/site-packages/sklearn/linear_model/_coordinate_descent.py:531: ConvergenceWarning: Objective did not converge. You might want to increase the number of iterations. Duality gap: 429.2883337532217, tolerance: 0.19333929541508196\n",
      "  positive)\n",
      "/Users/stevenmorse/opt/anaconda3/envs/cs109a_3_7/lib/python3.7/site-packages/sklearn/linear_model/_coordinate_descent.py:531: ConvergenceWarning: Objective did not converge. You might want to increase the number of iterations. Duality gap: 504.97876978524505, tolerance: 0.21842717229349115\n",
      "  positive)\n",
      "/Users/stevenmorse/opt/anaconda3/envs/cs109a_3_7/lib/python3.7/site-packages/sklearn/linear_model/_coordinate_descent.py:531: ConvergenceWarning: Objective did not converge. You might want to increase the number of iterations. Duality gap: 464.6404372280241, tolerance: 0.19952388815493421\n",
      "  positive)\n",
      "/Users/stevenmorse/opt/anaconda3/envs/cs109a_3_7/lib/python3.7/site-packages/sklearn/linear_model/_coordinate_descent.py:531: ConvergenceWarning: Objective did not converge. You might want to increase the number of iterations. Duality gap: 457.49771440502667, tolerance: 0.20076678435493422\n",
      "  positive)\n"
     ]
    },
    {
     "name": "stdout",
     "output_type": "stream",
     "text": [
      "0.1\n",
      "0.5\n"
     ]
    },
    {
     "name": "stderr",
     "output_type": "stream",
     "text": [
      "/Users/stevenmorse/opt/anaconda3/envs/cs109a_3_7/lib/python3.7/site-packages/sklearn/linear_model/_coordinate_descent.py:531: ConvergenceWarning: Objective did not converge. You might want to increase the number of iterations. Duality gap: 461.5530889134628, tolerance: 0.1963700935631579\n",
      "  positive)\n",
      "/Users/stevenmorse/opt/anaconda3/envs/cs109a_3_7/lib/python3.7/site-packages/sklearn/linear_model/_coordinate_descent.py:531: ConvergenceWarning: Objective did not converge. You might want to increase the number of iterations. Duality gap: 459.7565908611598, tolerance: 0.1991633575881579\n",
      "  positive)\n",
      "/Users/stevenmorse/opt/anaconda3/envs/cs109a_3_7/lib/python3.7/site-packages/sklearn/linear_model/_coordinate_descent.py:531: ConvergenceWarning: Objective did not converge. You might want to increase the number of iterations. Duality gap: 431.64658195689697, tolerance: 0.19262545255263158\n",
      "  positive)\n",
      "/Users/stevenmorse/opt/anaconda3/envs/cs109a_3_7/lib/python3.7/site-packages/sklearn/linear_model/_coordinate_descent.py:531: ConvergenceWarning: Objective did not converge. You might want to increase the number of iterations. Duality gap: 455.7443528074732, tolerance: 0.19948080341973684\n",
      "  positive)\n",
      "/Users/stevenmorse/opt/anaconda3/envs/cs109a_3_7/lib/python3.7/site-packages/sklearn/linear_model/_coordinate_descent.py:531: ConvergenceWarning: Objective did not converge. You might want to increase the number of iterations. Duality gap: 466.9294631056125, tolerance: 0.1937584882934211\n",
      "  positive)\n",
      "/Users/stevenmorse/opt/anaconda3/envs/cs109a_3_7/lib/python3.7/site-packages/sklearn/linear_model/_coordinate_descent.py:531: ConvergenceWarning: Objective did not converge. You might want to increase the number of iterations. Duality gap: 439.67786817371854, tolerance: 0.19812477109177634\n",
      "  positive)\n",
      "/Users/stevenmorse/opt/anaconda3/envs/cs109a_3_7/lib/python3.7/site-packages/sklearn/linear_model/_coordinate_descent.py:531: ConvergenceWarning: Objective did not converge. You might want to increase the number of iterations. Duality gap: 435.51755855810876, tolerance: 0.19212063150622952\n",
      "  positive)\n",
      "/Users/stevenmorse/opt/anaconda3/envs/cs109a_3_7/lib/python3.7/site-packages/sklearn/linear_model/_coordinate_descent.py:531: ConvergenceWarning: Objective did not converge. You might want to increase the number of iterations. Duality gap: 466.1418863533165, tolerance: 0.19333929541508196\n",
      "  positive)\n",
      "/Users/stevenmorse/opt/anaconda3/envs/cs109a_3_7/lib/python3.7/site-packages/sklearn/linear_model/_coordinate_descent.py:531: ConvergenceWarning: Objective did not converge. You might want to increase the number of iterations. Duality gap: 699.9014285916162, tolerance: 0.21842717229349115\n",
      "  positive)\n",
      "/Users/stevenmorse/opt/anaconda3/envs/cs109a_3_7/lib/python3.7/site-packages/sklearn/linear_model/_coordinate_descent.py:531: ConvergenceWarning: Objective did not converge. You might want to increase the number of iterations. Duality gap: 640.2696030018321, tolerance: 0.19952388815493421\n",
      "  positive)\n",
      "/Users/stevenmorse/opt/anaconda3/envs/cs109a_3_7/lib/python3.7/site-packages/sklearn/linear_model/_coordinate_descent.py:531: ConvergenceWarning: Objective did not converge. You might want to increase the number of iterations. Duality gap: 628.8649618450761, tolerance: 0.20076678435493422\n",
      "  positive)\n",
      "/Users/stevenmorse/opt/anaconda3/envs/cs109a_3_7/lib/python3.7/site-packages/sklearn/linear_model/_coordinate_descent.py:531: ConvergenceWarning: Objective did not converge. You might want to increase the number of iterations. Duality gap: 634.1033489388172, tolerance: 0.1963700935631579\n",
      "  positive)\n",
      "/Users/stevenmorse/opt/anaconda3/envs/cs109a_3_7/lib/python3.7/site-packages/sklearn/linear_model/_coordinate_descent.py:531: ConvergenceWarning: Objective did not converge. You might want to increase the number of iterations. Duality gap: 628.1780234461448, tolerance: 0.1991633575881579\n",
      "  positive)\n",
      "/Users/stevenmorse/opt/anaconda3/envs/cs109a_3_7/lib/python3.7/site-packages/sklearn/linear_model/_coordinate_descent.py:531: ConvergenceWarning: Objective did not converge. You might want to increase the number of iterations. Duality gap: 611.248491978567, tolerance: 0.19262545255263158\n",
      "  positive)\n",
      "/Users/stevenmorse/opt/anaconda3/envs/cs109a_3_7/lib/python3.7/site-packages/sklearn/linear_model/_coordinate_descent.py:531: ConvergenceWarning: Objective did not converge. You might want to increase the number of iterations. Duality gap: 634.6010708649685, tolerance: 0.19948080341973684\n",
      "  positive)\n",
      "/Users/stevenmorse/opt/anaconda3/envs/cs109a_3_7/lib/python3.7/site-packages/sklearn/linear_model/_coordinate_descent.py:531: ConvergenceWarning: Objective did not converge. You might want to increase the number of iterations. Duality gap: 646.5913922681175, tolerance: 0.1937584882934211\n",
      "  positive)\n",
      "/Users/stevenmorse/opt/anaconda3/envs/cs109a_3_7/lib/python3.7/site-packages/sklearn/linear_model/_coordinate_descent.py:531: ConvergenceWarning: Objective did not converge. You might want to increase the number of iterations. Duality gap: 617.1872311100177, tolerance: 0.19812477109177634\n",
      "  positive)\n",
      "/Users/stevenmorse/opt/anaconda3/envs/cs109a_3_7/lib/python3.7/site-packages/sklearn/linear_model/_coordinate_descent.py:531: ConvergenceWarning: Objective did not converge. You might want to increase the number of iterations. Duality gap: 610.2520801295641, tolerance: 0.19212063150622952\n",
      "  positive)\n",
      "/Users/stevenmorse/opt/anaconda3/envs/cs109a_3_7/lib/python3.7/site-packages/sklearn/linear_model/_coordinate_descent.py:531: ConvergenceWarning: Objective did not converge. You might want to increase the number of iterations. Duality gap: 643.4665945963399, tolerance: 0.19333929541508196\n",
      "  positive)\n",
      "/Users/stevenmorse/opt/anaconda3/envs/cs109a_3_7/lib/python3.7/site-packages/sklearn/linear_model/_coordinate_descent.py:531: ConvergenceWarning: Objective did not converge. You might want to increase the number of iterations. Duality gap: 766.589960861318, tolerance: 0.21842717229349115\n",
      "  positive)\n",
      "/Users/stevenmorse/opt/anaconda3/envs/cs109a_3_7/lib/python3.7/site-packages/sklearn/linear_model/_coordinate_descent.py:531: ConvergenceWarning: Objective did not converge. You might want to increase the number of iterations. Duality gap: 702.146690130768, tolerance: 0.19952388815493421\n",
      "  positive)\n",
      "/Users/stevenmorse/opt/anaconda3/envs/cs109a_3_7/lib/python3.7/site-packages/sklearn/linear_model/_coordinate_descent.py:531: ConvergenceWarning: Objective did not converge. You might want to increase the number of iterations. Duality gap: 688.0323422946173, tolerance: 0.20076678435493422\n",
      "  positive)\n",
      "/Users/stevenmorse/opt/anaconda3/envs/cs109a_3_7/lib/python3.7/site-packages/sklearn/linear_model/_coordinate_descent.py:531: ConvergenceWarning: Objective did not converge. You might want to increase the number of iterations. Duality gap: 690.7249222819589, tolerance: 0.1963700935631579\n",
      "  positive)\n",
      "/Users/stevenmorse/opt/anaconda3/envs/cs109a_3_7/lib/python3.7/site-packages/sklearn/linear_model/_coordinate_descent.py:531: ConvergenceWarning: Objective did not converge. You might want to increase the number of iterations. Duality gap: 684.0787105813939, tolerance: 0.1991633575881579\n",
      "  positive)\n",
      "/Users/stevenmorse/opt/anaconda3/envs/cs109a_3_7/lib/python3.7/site-packages/sklearn/linear_model/_coordinate_descent.py:531: ConvergenceWarning: Objective did not converge. You might want to increase the number of iterations. Duality gap: 670.1913670515079, tolerance: 0.19262545255263158\n",
      "  positive)\n",
      "/Users/stevenmorse/opt/anaconda3/envs/cs109a_3_7/lib/python3.7/site-packages/sklearn/linear_model/_coordinate_descent.py:531: ConvergenceWarning: Objective did not converge. You might want to increase the number of iterations. Duality gap: 697.3604092842901, tolerance: 0.19948080341973684\n",
      "  positive)\n",
      "/Users/stevenmorse/opt/anaconda3/envs/cs109a_3_7/lib/python3.7/site-packages/sklearn/linear_model/_coordinate_descent.py:531: ConvergenceWarning: Objective did not converge. You might want to increase the number of iterations. Duality gap: 707.7775412022011, tolerance: 0.1937584882934211\n",
      "  positive)\n",
      "/Users/stevenmorse/opt/anaconda3/envs/cs109a_3_7/lib/python3.7/site-packages/sklearn/linear_model/_coordinate_descent.py:531: ConvergenceWarning: Objective did not converge. You might want to increase the number of iterations. Duality gap: 676.6337674252978, tolerance: 0.19812477109177634\n",
      "  positive)\n",
      "/Users/stevenmorse/opt/anaconda3/envs/cs109a_3_7/lib/python3.7/site-packages/sklearn/linear_model/_coordinate_descent.py:531: ConvergenceWarning: Objective did not converge. You might want to increase the number of iterations. Duality gap: 668.6355507592646, tolerance: 0.19212063150622952\n",
      "  positive)\n",
      "/Users/stevenmorse/opt/anaconda3/envs/cs109a_3_7/lib/python3.7/site-packages/sklearn/linear_model/_coordinate_descent.py:531: ConvergenceWarning: Objective did not converge. You might want to increase the number of iterations. Duality gap: 706.1997709164817, tolerance: 0.19333929541508196\n",
      "  positive)\n",
      "/Users/stevenmorse/opt/anaconda3/envs/cs109a_3_7/lib/python3.7/site-packages/sklearn/linear_model/_coordinate_descent.py:531: ConvergenceWarning: Objective did not converge. You might want to increase the number of iterations. Duality gap: 809.778084452943, tolerance: 0.21842717229349115\n",
      "  positive)\n",
      "/Users/stevenmorse/opt/anaconda3/envs/cs109a_3_7/lib/python3.7/site-packages/sklearn/linear_model/_coordinate_descent.py:531: ConvergenceWarning: Objective did not converge. You might want to increase the number of iterations. Duality gap: 741.7552738583846, tolerance: 0.19952388815493421\n",
      "  positive)\n",
      "/Users/stevenmorse/opt/anaconda3/envs/cs109a_3_7/lib/python3.7/site-packages/sklearn/linear_model/_coordinate_descent.py:531: ConvergenceWarning: Objective did not converge. You might want to increase the number of iterations. Duality gap: 727.5099899824044, tolerance: 0.20076678435493422\n",
      "  positive)\n",
      "/Users/stevenmorse/opt/anaconda3/envs/cs109a_3_7/lib/python3.7/site-packages/sklearn/linear_model/_coordinate_descent.py:531: ConvergenceWarning: Objective did not converge. You might want to increase the number of iterations. Duality gap: 728.3113239813396, tolerance: 0.1963700935631579\n",
      "  positive)\n",
      "/Users/stevenmorse/opt/anaconda3/envs/cs109a_3_7/lib/python3.7/site-packages/sklearn/linear_model/_coordinate_descent.py:531: ConvergenceWarning: Objective did not converge. You might want to increase the number of iterations. Duality gap: 722.3464953761861, tolerance: 0.1991633575881579\n",
      "  positive)\n",
      "/Users/stevenmorse/opt/anaconda3/envs/cs109a_3_7/lib/python3.7/site-packages/sklearn/linear_model/_coordinate_descent.py:531: ConvergenceWarning: Objective did not converge. You might want to increase the number of iterations. Duality gap: 708.3184298540989, tolerance: 0.19262545255263158\n",
      "  positive)\n",
      "/Users/stevenmorse/opt/anaconda3/envs/cs109a_3_7/lib/python3.7/site-packages/sklearn/linear_model/_coordinate_descent.py:531: ConvergenceWarning: Objective did not converge. You might want to increase the number of iterations. Duality gap: 739.041668218866, tolerance: 0.19948080341973684\n",
      "  positive)\n",
      "/Users/stevenmorse/opt/anaconda3/envs/cs109a_3_7/lib/python3.7/site-packages/sklearn/linear_model/_coordinate_descent.py:531: ConvergenceWarning: Objective did not converge. You might want to increase the number of iterations. Duality gap: 744.7279052823329, tolerance: 0.1937584882934211\n",
      "  positive)\n"
     ]
    },
    {
     "name": "stdout",
     "output_type": "stream",
     "text": [
      "1\n",
      "2\n",
      "5\n"
     ]
    },
    {
     "name": "stderr",
     "output_type": "stream",
     "text": [
      "/Users/stevenmorse/opt/anaconda3/envs/cs109a_3_7/lib/python3.7/site-packages/sklearn/linear_model/_coordinate_descent.py:531: ConvergenceWarning: Objective did not converge. You might want to increase the number of iterations. Duality gap: 715.0378043621255, tolerance: 0.19812477109177634\n",
      "  positive)\n",
      "/Users/stevenmorse/opt/anaconda3/envs/cs109a_3_7/lib/python3.7/site-packages/sklearn/linear_model/_coordinate_descent.py:531: ConvergenceWarning: Objective did not converge. You might want to increase the number of iterations. Duality gap: 706.3365957266345, tolerance: 0.19212063150622952\n",
      "  positive)\n",
      "/Users/stevenmorse/opt/anaconda3/envs/cs109a_3_7/lib/python3.7/site-packages/sklearn/linear_model/_coordinate_descent.py:531: ConvergenceWarning: Objective did not converge. You might want to increase the number of iterations. Duality gap: 745.104140318254, tolerance: 0.19333929541508196\n",
      "  positive)\n",
      "/Users/stevenmorse/opt/anaconda3/envs/cs109a_3_7/lib/python3.7/site-packages/sklearn/linear_model/_coordinate_descent.py:531: ConvergenceWarning: Objective did not converge. You might want to increase the number of iterations. Duality gap: 859.2514844424782, tolerance: 0.21842717229349115\n",
      "  positive)\n",
      "/Users/stevenmorse/opt/anaconda3/envs/cs109a_3_7/lib/python3.7/site-packages/sklearn/linear_model/_coordinate_descent.py:531: ConvergenceWarning: Objective did not converge. You might want to increase the number of iterations. Duality gap: 788.1982610299788, tolerance: 0.19952388815493421\n",
      "  positive)\n",
      "/Users/stevenmorse/opt/anaconda3/envs/cs109a_3_7/lib/python3.7/site-packages/sklearn/linear_model/_coordinate_descent.py:531: ConvergenceWarning: Objective did not converge. You might want to increase the number of iterations. Duality gap: 775.0533897060498, tolerance: 0.20076678435493422\n",
      "  positive)\n",
      "/Users/stevenmorse/opt/anaconda3/envs/cs109a_3_7/lib/python3.7/site-packages/sklearn/linear_model/_coordinate_descent.py:531: ConvergenceWarning: Objective did not converge. You might want to increase the number of iterations. Duality gap: 771.9357198211455, tolerance: 0.1963700935631579\n",
      "  positive)\n",
      "/Users/stevenmorse/opt/anaconda3/envs/cs109a_3_7/lib/python3.7/site-packages/sklearn/linear_model/_coordinate_descent.py:531: ConvergenceWarning: Objective did not converge. You might want to increase the number of iterations. Duality gap: 765.6318584559431, tolerance: 0.1991633575881579\n",
      "  positive)\n",
      "/Users/stevenmorse/opt/anaconda3/envs/cs109a_3_7/lib/python3.7/site-packages/sklearn/linear_model/_coordinate_descent.py:531: ConvergenceWarning: Objective did not converge. You might want to increase the number of iterations. Duality gap: 752.4597432892697, tolerance: 0.19262545255263158\n",
      "  positive)\n",
      "/Users/stevenmorse/opt/anaconda3/envs/cs109a_3_7/lib/python3.7/site-packages/sklearn/linear_model/_coordinate_descent.py:531: ConvergenceWarning: Objective did not converge. You might want to increase the number of iterations. Duality gap: 785.0096040352951, tolerance: 0.19948080341973684\n",
      "  positive)\n",
      "/Users/stevenmorse/opt/anaconda3/envs/cs109a_3_7/lib/python3.7/site-packages/sklearn/linear_model/_coordinate_descent.py:531: ConvergenceWarning: Objective did not converge. You might want to increase the number of iterations. Duality gap: 785.4657573085373, tolerance: 0.1937584882934211\n",
      "  positive)\n",
      "/Users/stevenmorse/opt/anaconda3/envs/cs109a_3_7/lib/python3.7/site-packages/sklearn/linear_model/_coordinate_descent.py:531: ConvergenceWarning: Objective did not converge. You might want to increase the number of iterations. Duality gap: 761.9953309896622, tolerance: 0.19812477109177634\n",
      "  positive)\n",
      "/Users/stevenmorse/opt/anaconda3/envs/cs109a_3_7/lib/python3.7/site-packages/sklearn/linear_model/_coordinate_descent.py:531: ConvergenceWarning: Objective did not converge. You might want to increase the number of iterations. Duality gap: 748.4363294963712, tolerance: 0.19212063150622952\n",
      "  positive)\n",
      "/Users/stevenmorse/opt/anaconda3/envs/cs109a_3_7/lib/python3.7/site-packages/sklearn/linear_model/_coordinate_descent.py:531: ConvergenceWarning: Objective did not converge. You might want to increase the number of iterations. Duality gap: 787.274308623568, tolerance: 0.19333929541508196\n",
      "  positive)\n"
     ]
    },
    {
     "name": "stdout",
     "output_type": "stream",
     "text": [
      "10\n",
      "20\n",
      "2.5359670767827005\n"
     ]
    },
    {
     "name": "stderr",
     "output_type": "stream",
     "text": [
      "/Users/stevenmorse/opt/anaconda3/envs/cs109a_3_7/lib/python3.7/site-packages/sklearn/linear_model/_coordinate_descent.py:531: ConvergenceWarning: Objective did not converge. You might want to increase the number of iterations. Duality gap: 886.6007605222682, tolerance: 0.21842717229349115\n",
      "  positive)\n",
      "/Users/stevenmorse/opt/anaconda3/envs/cs109a_3_7/lib/python3.7/site-packages/sklearn/linear_model/_coordinate_descent.py:531: ConvergenceWarning: Objective did not converge. You might want to increase the number of iterations. Duality gap: 814.7915267558503, tolerance: 0.19952388815493421\n",
      "  positive)\n",
      "/Users/stevenmorse/opt/anaconda3/envs/cs109a_3_7/lib/python3.7/site-packages/sklearn/linear_model/_coordinate_descent.py:531: ConvergenceWarning: Objective did not converge. You might want to increase the number of iterations. Duality gap: 802.5201251897388, tolerance: 0.20076678435493422\n",
      "  positive)\n",
      "/Users/stevenmorse/opt/anaconda3/envs/cs109a_3_7/lib/python3.7/site-packages/sklearn/linear_model/_coordinate_descent.py:531: ConvergenceWarning: Objective did not converge. You might want to increase the number of iterations. Duality gap: 796.261260261702, tolerance: 0.1963700935631579\n",
      "  positive)\n",
      "/Users/stevenmorse/opt/anaconda3/envs/cs109a_3_7/lib/python3.7/site-packages/sklearn/linear_model/_coordinate_descent.py:531: ConvergenceWarning: Objective did not converge. You might want to increase the number of iterations. Duality gap: 792.8676792104534, tolerance: 0.1991633575881579\n",
      "  positive)\n",
      "/Users/stevenmorse/opt/anaconda3/envs/cs109a_3_7/lib/python3.7/site-packages/sklearn/linear_model/_coordinate_descent.py:531: ConvergenceWarning: Objective did not converge. You might want to increase the number of iterations. Duality gap: 776.5119513945687, tolerance: 0.19262545255263158\n",
      "  positive)\n",
      "/Users/stevenmorse/opt/anaconda3/envs/cs109a_3_7/lib/python3.7/site-packages/sklearn/linear_model/_coordinate_descent.py:531: ConvergenceWarning: Objective did not converge. You might want to increase the number of iterations. Duality gap: 812.6420550177667, tolerance: 0.19948080341973684\n",
      "  positive)\n",
      "/Users/stevenmorse/opt/anaconda3/envs/cs109a_3_7/lib/python3.7/site-packages/sklearn/linear_model/_coordinate_descent.py:531: ConvergenceWarning: Objective did not converge. You might want to increase the number of iterations. Duality gap: 807.9468958317128, tolerance: 0.1937584882934211\n",
      "  positive)\n",
      "/Users/stevenmorse/opt/anaconda3/envs/cs109a_3_7/lib/python3.7/site-packages/sklearn/linear_model/_coordinate_descent.py:531: ConvergenceWarning: Objective did not converge. You might want to increase the number of iterations. Duality gap: 790.5467012458587, tolerance: 0.19812477109177634\n",
      "  positive)\n",
      "/Users/stevenmorse/opt/anaconda3/envs/cs109a_3_7/lib/python3.7/site-packages/sklearn/linear_model/_coordinate_descent.py:531: ConvergenceWarning: Objective did not converge. You might want to increase the number of iterations. Duality gap: 771.411608751551, tolerance: 0.19212063150622952\n",
      "  positive)\n",
      "/Users/stevenmorse/opt/anaconda3/envs/cs109a_3_7/lib/python3.7/site-packages/sklearn/linear_model/_coordinate_descent.py:531: ConvergenceWarning: Objective did not converge. You might want to increase the number of iterations. Duality gap: 810.6113534662378, tolerance: 0.19333929541508196\n",
      "  positive)\n",
      "/Users/stevenmorse/opt/anaconda3/envs/cs109a_3_7/lib/python3.7/site-packages/sklearn/linear_model/_coordinate_descent.py:531: ConvergenceWarning: Objective did not converge. You might want to increase the number of iterations. Duality gap: 920.5830408209537, tolerance: 0.21842717229349115\n",
      "  positive)\n",
      "/Users/stevenmorse/opt/anaconda3/envs/cs109a_3_7/lib/python3.7/site-packages/sklearn/linear_model/_coordinate_descent.py:531: ConvergenceWarning: Objective did not converge. You might want to increase the number of iterations. Duality gap: 845.4582864389922, tolerance: 0.19952388815493421\n",
      "  positive)\n",
      "/Users/stevenmorse/opt/anaconda3/envs/cs109a_3_7/lib/python3.7/site-packages/sklearn/linear_model/_coordinate_descent.py:531: ConvergenceWarning: Objective did not converge. You might want to increase the number of iterations. Duality gap: 833.9011280853955, tolerance: 0.20076678435493422\n",
      "  positive)\n",
      "/Users/stevenmorse/opt/anaconda3/envs/cs109a_3_7/lib/python3.7/site-packages/sklearn/linear_model/_coordinate_descent.py:531: ConvergenceWarning: Objective did not converge. You might want to increase the number of iterations. Duality gap: 827.2439153884005, tolerance: 0.1963700935631579\n",
      "  positive)\n",
      "/Users/stevenmorse/opt/anaconda3/envs/cs109a_3_7/lib/python3.7/site-packages/sklearn/linear_model/_coordinate_descent.py:531: ConvergenceWarning: Objective did not converge. You might want to increase the number of iterations. Duality gap: 827.2839182656139, tolerance: 0.1991633575881579\n",
      "  positive)\n",
      "/Users/stevenmorse/opt/anaconda3/envs/cs109a_3_7/lib/python3.7/site-packages/sklearn/linear_model/_coordinate_descent.py:531: ConvergenceWarning: Objective did not converge. You might want to increase the number of iterations. Duality gap: 807.070988743848, tolerance: 0.19262545255263158\n",
      "  positive)\n",
      "/Users/stevenmorse/opt/anaconda3/envs/cs109a_3_7/lib/python3.7/site-packages/sklearn/linear_model/_coordinate_descent.py:531: ConvergenceWarning: Objective did not converge. You might want to increase the number of iterations. Duality gap: 845.5377021724491, tolerance: 0.19948080341973684\n",
      "  positive)\n",
      "/Users/stevenmorse/opt/anaconda3/envs/cs109a_3_7/lib/python3.7/site-packages/sklearn/linear_model/_coordinate_descent.py:531: ConvergenceWarning: Objective did not converge. You might want to increase the number of iterations. Duality gap: 832.8748371506917, tolerance: 0.1937584882934211\n",
      "  positive)\n",
      "/Users/stevenmorse/opt/anaconda3/envs/cs109a_3_7/lib/python3.7/site-packages/sklearn/linear_model/_coordinate_descent.py:531: ConvergenceWarning: Objective did not converge. You might want to increase the number of iterations. Duality gap: 820.9390246865778, tolerance: 0.19812477109177634\n",
      "  positive)\n",
      "/Users/stevenmorse/opt/anaconda3/envs/cs109a_3_7/lib/python3.7/site-packages/sklearn/linear_model/_coordinate_descent.py:531: ConvergenceWarning: Objective did not converge. You might want to increase the number of iterations. Duality gap: 799.9647757116038, tolerance: 0.19212063150622952\n",
      "  positive)\n",
      "/Users/stevenmorse/opt/anaconda3/envs/cs109a_3_7/lib/python3.7/site-packages/sklearn/linear_model/_coordinate_descent.py:531: ConvergenceWarning: Objective did not converge. You might want to increase the number of iterations. Duality gap: 836.5921253106566, tolerance: 0.19333929541508196\n",
      "  positive)\n"
     ]
    }
   ],
   "source": [
    "# Train data\n",
    "# your code here\n",
    "filename = \"data/bacteria_train.csv\"\n",
    "df_train = pd.read_csv(filename)\n",
    "\n",
    "x_train, x_val = train_test_split(df_train[['Spreading_factor']], train_size = .8, random_state = 44)\n",
    "y_train, y_val = train_test_split(df_train['Perc_population'], train_size = .8, random_state = 44)\n",
    "\n",
    "alpha = [0.00001, 0.0001, 0.001, 0.01, 0.05, 0.1, 0.5, 1, 2, 5, 10, 20]\n",
    "\n",
    "cross_val_error_train = []\n",
    "cross_val_error_val = []\n",
    "\n",
    "degree_max = 24\n",
    "\n",
    "mse_train = []\n",
    "mse_val = []\n",
    "\n",
    "#polynomialfeatures\n",
    "x_poly_train = PolynomialFeatures(degree=d).fit_transform(x_train)\n",
    "x_poly_val  = PolynomialFeatures(degree=d).fit_transform(x_val)\n",
    "\n",
    "for a in alpha:\n",
    "    print(a)\n",
    "    #lasso regression\n",
    "    lasso_reg = Lasso(alpha = a, max_iter = 1000).fit(x_poly_train, y_train)\n",
    "\n",
    "    #_pred_train = lasso_reg.predict(x_poly_train)\n",
    "    #y_pred_val = lasso_reg.predict(x_poly_val)\n",
    "\n",
    "    #cv using k-folds and lasso regression model and get mse\n",
    "    cross_val = cross_validate(lasso_reg, x_poly_train, y_train, scoring='neg_mean_squared_error', cv = 10, return_train_score = True)\n",
    "    #cross_val_error_train.append(abs(np.mean(cross_val_mse_train['train_score'])))\n",
    "    #cross_val_error_val.append(-\n",
    "    mse_train.append(-cross_val['train_score'].mean())\n",
    "    mse_val.append(-cross_val['test_score'].mean())\n",
    "        \n",
    "\n",
    "#mse for the train and validation\n",
    "print(min(mse_val))\n"
   ]
  },
  {
   "cell_type": "code",
   "execution_count": 649,
   "metadata": {
    "deletable": false
   },
   "outputs": [],
   "source": [
    "# Bootstrap first & then find the best regularization coefficient\n",
    "# your code here\n",
    "best_alpha = 0.01"
   ]
  },
  {
   "cell_type": "markdown",
   "metadata": {
    "autograde": "6.2",
    "deletable": false,
    "editable": false
   },
   "source": [
    "<div class='exercise-r'>  \n",
    " \n",
    "**6.2** [10 pts] Find the most significant degrees.\n",
    " \n",
    " From the previous section, you will now have the `best_alpha` hyperparameter. Now, we will use this to find the most significant degrees over a given number of bootstraps. What we mean by the above is this:\n",
    " \n",
    " For each bootstrap of the data, you will get some degrees that are **significant** $(\\mid\\beta_i\\mid \\gt 0.1)$. You would like to see which degree coefficients are significant over several such iterations.\n",
    " \n",
    " As before, we use the `bacteria_train.csv` for cross validation.\n",
    " \n",
    " NOTE: You are free to experiment with the number of bootstraps.\n",
    " \n",
    " **Instructions**\n",
    " - Make a dictionary called `significant_degrees` to store count of degrees for each bootstrap\n",
    " - For each bootstrap:\n",
    " - Take a sample the dataframe with `frac=1`\n",
    " - Train a **Lasso** model with the `best_alpha` computed above.\n",
    " - Find the most significant polynomial coefficients using ($\\mid\\beta_i\\mid \\lt 0.1 $)\n",
    " - For each significant degree, update the count of that degree in `significant_degrees`\n",
    " - Plot the count of degrees for each bootstrap as a bar plot.\n",
    " \n",
    " \n",
    " #### Hints\n",
    " - Limit the maximum degree to 30.\n",
    " - Take at least three different values of alpha.\n",
    " - Use sklearn `cross_validate()` to perform cross validation.\n",
    " \n",
    " </div>"
   ]
  },
  {
   "cell_type": "code",
   "execution_count": 650,
   "metadata": {
    "deletable": false
   },
   "outputs": [
    {
     "name": "stderr",
     "output_type": "stream",
     "text": [
      "/Users/stevenmorse/opt/anaconda3/envs/cs109a_3_7/lib/python3.7/site-packages/sklearn/linear_model/_coordinate_descent.py:531: ConvergenceWarning: Objective did not converge. You might want to increase the number of iterations. Duality gap: 474.90658390219505, tolerance: 0.225475516060355\n",
      "  positive)\n",
      "/Users/stevenmorse/opt/anaconda3/envs/cs109a_3_7/lib/python3.7/site-packages/sklearn/linear_model/_coordinate_descent.py:531: ConvergenceWarning: Objective did not converge. You might want to increase the number of iterations. Duality gap: 444.01549463800455, tolerance: 0.22083422477781064\n",
      "  positive)\n",
      "/Users/stevenmorse/opt/anaconda3/envs/cs109a_3_7/lib/python3.7/site-packages/sklearn/linear_model/_coordinate_descent.py:531: ConvergenceWarning: Objective did not converge. You might want to increase the number of iterations. Duality gap: 448.26014652868264, tolerance: 0.20528287375887577\n",
      "  positive)\n",
      "/Users/stevenmorse/opt/anaconda3/envs/cs109a_3_7/lib/python3.7/site-packages/sklearn/linear_model/_coordinate_descent.py:531: ConvergenceWarning: Objective did not converge. You might want to increase the number of iterations. Duality gap: 420.0800267406409, tolerance: 0.22500899905680477\n",
      "  positive)\n",
      "/Users/stevenmorse/opt/anaconda3/envs/cs109a_3_7/lib/python3.7/site-packages/sklearn/linear_model/_coordinate_descent.py:531: ConvergenceWarning: Objective did not converge. You might want to increase the number of iterations. Duality gap: 371.5400539363569, tolerance: 0.19974431159644973\n",
      "  positive)\n",
      "/Users/stevenmorse/opt/anaconda3/envs/cs109a_3_7/lib/python3.7/site-packages/sklearn/linear_model/_coordinate_descent.py:531: ConvergenceWarning: Objective did not converge. You might want to increase the number of iterations. Duality gap: 401.3341778566733, tolerance: 0.23147935714201182\n",
      "  positive)\n",
      "/Users/stevenmorse/opt/anaconda3/envs/cs109a_3_7/lib/python3.7/site-packages/sklearn/linear_model/_coordinate_descent.py:531: ConvergenceWarning: Objective did not converge. You might want to increase the number of iterations. Duality gap: 369.67797449420084, tolerance: 0.23514568017426038\n",
      "  positive)\n",
      "/Users/stevenmorse/opt/anaconda3/envs/cs109a_3_7/lib/python3.7/site-packages/sklearn/linear_model/_coordinate_descent.py:531: ConvergenceWarning: Objective did not converge. You might want to increase the number of iterations. Duality gap: 450.14122019971063, tolerance: 0.2500846573349112\n",
      "  positive)\n",
      "/Users/stevenmorse/opt/anaconda3/envs/cs109a_3_7/lib/python3.7/site-packages/sklearn/linear_model/_coordinate_descent.py:531: ConvergenceWarning: Objective did not converge. You might want to increase the number of iterations. Duality gap: 506.00696777927544, tolerance: 0.2280890981470414\n",
      "  positive)\n",
      "/Users/stevenmorse/opt/anaconda3/envs/cs109a_3_7/lib/python3.7/site-packages/sklearn/linear_model/_coordinate_descent.py:531: ConvergenceWarning: Objective did not converge. You might want to increase the number of iterations. Duality gap: 495.06216331082607, tolerance: 0.23405597167958578\n",
      "  positive)\n",
      "/Users/stevenmorse/opt/anaconda3/envs/cs109a_3_7/lib/python3.7/site-packages/sklearn/linear_model/_coordinate_descent.py:531: ConvergenceWarning: Objective did not converge. You might want to increase the number of iterations. Duality gap: 453.47557540387163, tolerance: 0.2393591875242604\n",
      "  positive)\n",
      "/Users/stevenmorse/opt/anaconda3/envs/cs109a_3_7/lib/python3.7/site-packages/sklearn/linear_model/_coordinate_descent.py:531: ConvergenceWarning: Objective did not converge. You might want to increase the number of iterations. Duality gap: 443.9746062789577, tolerance: 0.20666331030295856\n",
      "  positive)\n",
      "/Users/stevenmorse/opt/anaconda3/envs/cs109a_3_7/lib/python3.7/site-packages/sklearn/linear_model/_coordinate_descent.py:531: ConvergenceWarning: Objective did not converge. You might want to increase the number of iterations. Duality gap: 414.2536457190878, tolerance: 0.22142793940000002\n",
      "  positive)\n",
      "/Users/stevenmorse/opt/anaconda3/envs/cs109a_3_7/lib/python3.7/site-packages/sklearn/linear_model/_coordinate_descent.py:531: ConvergenceWarning: Objective did not converge. You might want to increase the number of iterations. Duality gap: 447.4773072754451, tolerance: 0.22116879508875736\n",
      "  positive)\n",
      "/Users/stevenmorse/opt/anaconda3/envs/cs109a_3_7/lib/python3.7/site-packages/sklearn/linear_model/_coordinate_descent.py:531: ConvergenceWarning: Objective did not converge. You might want to increase the number of iterations. Duality gap: 428.1995375984461, tolerance: 0.21242482425680473\n",
      "  positive)\n",
      "/Users/stevenmorse/opt/anaconda3/envs/cs109a_3_7/lib/python3.7/site-packages/sklearn/linear_model/_coordinate_descent.py:531: ConvergenceWarning: Objective did not converge. You might want to increase the number of iterations. Duality gap: 426.1567512332725, tolerance: 0.23470797871508878\n",
      "  positive)\n",
      "/Users/stevenmorse/opt/anaconda3/envs/cs109a_3_7/lib/python3.7/site-packages/sklearn/linear_model/_coordinate_descent.py:531: ConvergenceWarning: Objective did not converge. You might want to increase the number of iterations. Duality gap: 424.89285350101335, tolerance: 0.22311879105680474\n",
      "  positive)\n",
      "/Users/stevenmorse/opt/anaconda3/envs/cs109a_3_7/lib/python3.7/site-packages/sklearn/linear_model/_coordinate_descent.py:531: ConvergenceWarning: Objective did not converge. You might want to increase the number of iterations. Duality gap: 436.8963953612161, tolerance: 0.21195716106065088\n",
      "  positive)\n",
      "/Users/stevenmorse/opt/anaconda3/envs/cs109a_3_7/lib/python3.7/site-packages/sklearn/linear_model/_coordinate_descent.py:531: ConvergenceWarning: Objective did not converge. You might want to increase the number of iterations. Duality gap: 405.99579413298665, tolerance: 0.23245389488757398\n",
      "  positive)\n",
      "/Users/stevenmorse/opt/anaconda3/envs/cs109a_3_7/lib/python3.7/site-packages/sklearn/linear_model/_coordinate_descent.py:531: ConvergenceWarning: Objective did not converge. You might want to increase the number of iterations. Duality gap: 507.92385680682514, tolerance: 0.250748339295858\n",
      "  positive)\n",
      "/Users/stevenmorse/opt/anaconda3/envs/cs109a_3_7/lib/python3.7/site-packages/sklearn/linear_model/_coordinate_descent.py:531: ConvergenceWarning: Objective did not converge. You might want to increase the number of iterations. Duality gap: 438.8292920582908, tolerance: 0.22581257332189344\n",
      "  positive)\n",
      "/Users/stevenmorse/opt/anaconda3/envs/cs109a_3_7/lib/python3.7/site-packages/sklearn/linear_model/_coordinate_descent.py:531: ConvergenceWarning: Objective did not converge. You might want to increase the number of iterations. Duality gap: 482.7737487258569, tolerance: 0.24174708320857988\n",
      "  positive)\n",
      "/Users/stevenmorse/opt/anaconda3/envs/cs109a_3_7/lib/python3.7/site-packages/sklearn/linear_model/_coordinate_descent.py:531: ConvergenceWarning: Objective did not converge. You might want to increase the number of iterations. Duality gap: 419.38949430955034, tolerance: 0.2336566222204142\n",
      "  positive)\n",
      "/Users/stevenmorse/opt/anaconda3/envs/cs109a_3_7/lib/python3.7/site-packages/sklearn/linear_model/_coordinate_descent.py:531: ConvergenceWarning: Objective did not converge. You might want to increase the number of iterations. Duality gap: 471.7984428400178, tolerance: 0.23730965696449705\n",
      "  positive)\n",
      "/Users/stevenmorse/opt/anaconda3/envs/cs109a_3_7/lib/python3.7/site-packages/sklearn/linear_model/_coordinate_descent.py:531: ConvergenceWarning: Objective did not converge. You might want to increase the number of iterations. Duality gap: 425.2278806235454, tolerance: 0.20385058583550295\n",
      "  positive)\n",
      "/Users/stevenmorse/opt/anaconda3/envs/cs109a_3_7/lib/python3.7/site-packages/sklearn/linear_model/_coordinate_descent.py:531: ConvergenceWarning: Objective did not converge. You might want to increase the number of iterations. Duality gap: 417.59357036701243, tolerance: 0.21943303295887578\n",
      "  positive)\n",
      "/Users/stevenmorse/opt/anaconda3/envs/cs109a_3_7/lib/python3.7/site-packages/sklearn/linear_model/_coordinate_descent.py:531: ConvergenceWarning: Objective did not converge. You might want to increase the number of iterations. Duality gap: 447.0131913408586, tolerance: 0.20111544616449706\n",
      "  positive)\n",
      "/Users/stevenmorse/opt/anaconda3/envs/cs109a_3_7/lib/python3.7/site-packages/sklearn/linear_model/_coordinate_descent.py:531: ConvergenceWarning: Objective did not converge. You might want to increase the number of iterations. Duality gap: 375.0122973210525, tolerance: 0.19775781585088764\n",
      "  positive)\n",
      "/Users/stevenmorse/opt/anaconda3/envs/cs109a_3_7/lib/python3.7/site-packages/sklearn/linear_model/_coordinate_descent.py:531: ConvergenceWarning: Objective did not converge. You might want to increase the number of iterations. Duality gap: 435.36572530596067, tolerance: 0.23793907651272195\n",
      "  positive)\n",
      "/Users/stevenmorse/opt/anaconda3/envs/cs109a_3_7/lib/python3.7/site-packages/sklearn/linear_model/_coordinate_descent.py:531: ConvergenceWarning: Objective did not converge. You might want to increase the number of iterations. Duality gap: 454.56889259473604, tolerance: 0.20470945775295857\n",
      "  positive)\n"
     ]
    },
    {
     "name": "stderr",
     "output_type": "stream",
     "text": [
      "/Users/stevenmorse/opt/anaconda3/envs/cs109a_3_7/lib/python3.7/site-packages/sklearn/linear_model/_coordinate_descent.py:531: ConvergenceWarning: Objective did not converge. You might want to increase the number of iterations. Duality gap: 371.47800084441934, tolerance: 0.22112350534349112\n",
      "  positive)\n",
      "/Users/stevenmorse/opt/anaconda3/envs/cs109a_3_7/lib/python3.7/site-packages/sklearn/linear_model/_coordinate_descent.py:531: ConvergenceWarning: Objective did not converge. You might want to increase the number of iterations. Duality gap: 435.85578009052955, tolerance: 0.22326982929733724\n",
      "  positive)\n",
      "/Users/stevenmorse/opt/anaconda3/envs/cs109a_3_7/lib/python3.7/site-packages/sklearn/linear_model/_coordinate_descent.py:531: ConvergenceWarning: Objective did not converge. You might want to increase the number of iterations. Duality gap: 453.8277848402359, tolerance: 0.22959228511627222\n",
      "  positive)\n",
      "/Users/stevenmorse/opt/anaconda3/envs/cs109a_3_7/lib/python3.7/site-packages/sklearn/linear_model/_coordinate_descent.py:531: ConvergenceWarning: Objective did not converge. You might want to increase the number of iterations. Duality gap: 423.0478073572024, tolerance: 0.21136900358343197\n",
      "  positive)\n",
      "/Users/stevenmorse/opt/anaconda3/envs/cs109a_3_7/lib/python3.7/site-packages/sklearn/linear_model/_coordinate_descent.py:531: ConvergenceWarning: Objective did not converge. You might want to increase the number of iterations. Duality gap: 409.3144526823222, tolerance: 0.22136781539999997\n",
      "  positive)\n",
      "/Users/stevenmorse/opt/anaconda3/envs/cs109a_3_7/lib/python3.7/site-packages/sklearn/linear_model/_coordinate_descent.py:531: ConvergenceWarning: Objective did not converge. You might want to increase the number of iterations. Duality gap: 508.3695360016076, tolerance: 0.22736423489497043\n",
      "  positive)\n",
      "/Users/stevenmorse/opt/anaconda3/envs/cs109a_3_7/lib/python3.7/site-packages/sklearn/linear_model/_coordinate_descent.py:531: ConvergenceWarning: Objective did not converge. You might want to increase the number of iterations. Duality gap: 413.4478365277978, tolerance: 0.21510119388047333\n",
      "  positive)\n",
      "/Users/stevenmorse/opt/anaconda3/envs/cs109a_3_7/lib/python3.7/site-packages/sklearn/linear_model/_coordinate_descent.py:531: ConvergenceWarning: Objective did not converge. You might want to increase the number of iterations. Duality gap: 401.636363976894, tolerance: 0.1863364835127219\n",
      "  positive)\n",
      "/Users/stevenmorse/opt/anaconda3/envs/cs109a_3_7/lib/python3.7/site-packages/sklearn/linear_model/_coordinate_descent.py:531: ConvergenceWarning: Objective did not converge. You might want to increase the number of iterations. Duality gap: 404.7806274926393, tolerance: 0.21503607730680474\n",
      "  positive)\n",
      "/Users/stevenmorse/opt/anaconda3/envs/cs109a_3_7/lib/python3.7/site-packages/sklearn/linear_model/_coordinate_descent.py:531: ConvergenceWarning: Objective did not converge. You might want to increase the number of iterations. Duality gap: 469.77723567088486, tolerance: 0.22337420318106513\n",
      "  positive)\n",
      "/Users/stevenmorse/opt/anaconda3/envs/cs109a_3_7/lib/python3.7/site-packages/sklearn/linear_model/_coordinate_descent.py:531: ConvergenceWarning: Objective did not converge. You might want to increase the number of iterations. Duality gap: 343.9859952782104, tolerance: 0.20079079947573966\n",
      "  positive)\n",
      "/Users/stevenmorse/opt/anaconda3/envs/cs109a_3_7/lib/python3.7/site-packages/sklearn/linear_model/_coordinate_descent.py:531: ConvergenceWarning: Objective did not converge. You might want to increase the number of iterations. Duality gap: 487.28590451251296, tolerance: 0.22259390985088753\n",
      "  positive)\n",
      "/Users/stevenmorse/opt/anaconda3/envs/cs109a_3_7/lib/python3.7/site-packages/sklearn/linear_model/_coordinate_descent.py:531: ConvergenceWarning: Objective did not converge. You might want to increase the number of iterations. Duality gap: 526.3725572212553, tolerance: 0.22137309428047333\n",
      "  positive)\n",
      "/Users/stevenmorse/opt/anaconda3/envs/cs109a_3_7/lib/python3.7/site-packages/sklearn/linear_model/_coordinate_descent.py:531: ConvergenceWarning: Objective did not converge. You might want to increase the number of iterations. Duality gap: 319.528577433409, tolerance: 0.2124898374464497\n",
      "  positive)\n",
      "/Users/stevenmorse/opt/anaconda3/envs/cs109a_3_7/lib/python3.7/site-packages/sklearn/linear_model/_coordinate_descent.py:531: ConvergenceWarning: Objective did not converge. You might want to increase the number of iterations. Duality gap: 395.10802571134104, tolerance: 0.19914457049497042\n",
      "  positive)\n",
      "/Users/stevenmorse/opt/anaconda3/envs/cs109a_3_7/lib/python3.7/site-packages/sklearn/linear_model/_coordinate_descent.py:531: ConvergenceWarning: Objective did not converge. You might want to increase the number of iterations. Duality gap: 419.1929836010224, tolerance: 0.19192500755650888\n",
      "  positive)\n",
      "/Users/stevenmorse/opt/anaconda3/envs/cs109a_3_7/lib/python3.7/site-packages/sklearn/linear_model/_coordinate_descent.py:531: ConvergenceWarning: Objective did not converge. You might want to increase the number of iterations. Duality gap: 390.2299511343898, tolerance: 0.2296182762689349\n",
      "  positive)\n",
      "/Users/stevenmorse/opt/anaconda3/envs/cs109a_3_7/lib/python3.7/site-packages/sklearn/linear_model/_coordinate_descent.py:531: ConvergenceWarning: Objective did not converge. You might want to increase the number of iterations. Duality gap: 366.05149162650287, tolerance: 0.21483186455029582\n",
      "  positive)\n",
      "/Users/stevenmorse/opt/anaconda3/envs/cs109a_3_7/lib/python3.7/site-packages/sklearn/linear_model/_coordinate_descent.py:531: ConvergenceWarning: Objective did not converge. You might want to increase the number of iterations. Duality gap: 435.47043012915566, tolerance: 0.20946842514911243\n",
      "  positive)\n",
      "/Users/stevenmorse/opt/anaconda3/envs/cs109a_3_7/lib/python3.7/site-packages/sklearn/linear_model/_coordinate_descent.py:531: ConvergenceWarning: Objective did not converge. You might want to increase the number of iterations. Duality gap: 364.16784805329075, tolerance: 0.22139283715029592\n",
      "  positive)\n",
      "/Users/stevenmorse/opt/anaconda3/envs/cs109a_3_7/lib/python3.7/site-packages/sklearn/linear_model/_coordinate_descent.py:531: ConvergenceWarning: Objective did not converge. You might want to increase the number of iterations. Duality gap: 424.41079609925595, tolerance: 0.20091281984142012\n",
      "  positive)\n",
      "/Users/stevenmorse/opt/anaconda3/envs/cs109a_3_7/lib/python3.7/site-packages/sklearn/linear_model/_coordinate_descent.py:531: ConvergenceWarning: Objective did not converge. You might want to increase the number of iterations. Duality gap: 467.635983971307, tolerance: 0.21364410866420117\n",
      "  positive)\n",
      "/Users/stevenmorse/opt/anaconda3/envs/cs109a_3_7/lib/python3.7/site-packages/sklearn/linear_model/_coordinate_descent.py:531: ConvergenceWarning: Objective did not converge. You might want to increase the number of iterations. Duality gap: 372.4733596354151, tolerance: 0.21545158269733725\n",
      "  positive)\n",
      "/Users/stevenmorse/opt/anaconda3/envs/cs109a_3_7/lib/python3.7/site-packages/sklearn/linear_model/_coordinate_descent.py:531: ConvergenceWarning: Objective did not converge. You might want to increase the number of iterations. Duality gap: 411.72084771116033, tolerance: 0.19579879560857988\n",
      "  positive)\n",
      "/Users/stevenmorse/opt/anaconda3/envs/cs109a_3_7/lib/python3.7/site-packages/sklearn/linear_model/_coordinate_descent.py:531: ConvergenceWarning: Objective did not converge. You might want to increase the number of iterations. Duality gap: 441.39383667351814, tolerance: 0.2190428688887574\n",
      "  positive)\n",
      "/Users/stevenmorse/opt/anaconda3/envs/cs109a_3_7/lib/python3.7/site-packages/sklearn/linear_model/_coordinate_descent.py:531: ConvergenceWarning: Objective did not converge. You might want to increase the number of iterations. Duality gap: 463.8136881243535, tolerance: 0.21278677212781064\n",
      "  positive)\n",
      "/Users/stevenmorse/opt/anaconda3/envs/cs109a_3_7/lib/python3.7/site-packages/sklearn/linear_model/_coordinate_descent.py:531: ConvergenceWarning: Objective did not converge. You might want to increase the number of iterations. Duality gap: 476.63075106416306, tolerance: 0.2294561474603551\n",
      "  positive)\n",
      "/Users/stevenmorse/opt/anaconda3/envs/cs109a_3_7/lib/python3.7/site-packages/sklearn/linear_model/_coordinate_descent.py:531: ConvergenceWarning: Objective did not converge. You might want to increase the number of iterations. Duality gap: 435.9032536051779, tolerance: 0.24443353639644977\n",
      "  positive)\n",
      "/Users/stevenmorse/opt/anaconda3/envs/cs109a_3_7/lib/python3.7/site-packages/sklearn/linear_model/_coordinate_descent.py:531: ConvergenceWarning: Objective did not converge. You might want to increase the number of iterations. Duality gap: 441.7180395118984, tolerance: 0.2186407259065089\n",
      "  positive)\n",
      "/Users/stevenmorse/opt/anaconda3/envs/cs109a_3_7/lib/python3.7/site-packages/sklearn/linear_model/_coordinate_descent.py:531: ConvergenceWarning: Objective did not converge. You might want to increase the number of iterations. Duality gap: 401.33021402209044, tolerance: 0.21819444842011831\n",
      "  positive)\n",
      "/Users/stevenmorse/opt/anaconda3/envs/cs109a_3_7/lib/python3.7/site-packages/sklearn/linear_model/_coordinate_descent.py:531: ConvergenceWarning: Objective did not converge. You might want to increase the number of iterations. Duality gap: 407.30947606686084, tolerance: 0.21547610345798818\n",
      "  positive)\n",
      "/Users/stevenmorse/opt/anaconda3/envs/cs109a_3_7/lib/python3.7/site-packages/sklearn/linear_model/_coordinate_descent.py:531: ConvergenceWarning: Objective did not converge. You might want to increase the number of iterations. Duality gap: 443.82305029755696, tolerance: 0.2217902399778106\n",
      "  positive)\n",
      "/Users/stevenmorse/opt/anaconda3/envs/cs109a_3_7/lib/python3.7/site-packages/sklearn/linear_model/_coordinate_descent.py:531: ConvergenceWarning: Objective did not converge. You might want to increase the number of iterations. Duality gap: 440.26898391736944, tolerance: 0.23040840138343197\n",
      "  positive)\n"
     ]
    },
    {
     "name": "stderr",
     "output_type": "stream",
     "text": [
      "/Users/stevenmorse/opt/anaconda3/envs/cs109a_3_7/lib/python3.7/site-packages/sklearn/linear_model/_coordinate_descent.py:531: ConvergenceWarning: Objective did not converge. You might want to increase the number of iterations. Duality gap: 405.6553877324349, tolerance: 0.2044889437991124\n",
      "  positive)\n",
      "/Users/stevenmorse/opt/anaconda3/envs/cs109a_3_7/lib/python3.7/site-packages/sklearn/linear_model/_coordinate_descent.py:531: ConvergenceWarning: Objective did not converge. You might want to increase the number of iterations. Duality gap: 459.65939138485373, tolerance: 0.2236262524547337\n",
      "  positive)\n",
      "/Users/stevenmorse/opt/anaconda3/envs/cs109a_3_7/lib/python3.7/site-packages/sklearn/linear_model/_coordinate_descent.py:531: ConvergenceWarning: Objective did not converge. You might want to increase the number of iterations. Duality gap: 406.9620318498676, tolerance: 0.2172389594689349\n",
      "  positive)\n",
      "/Users/stevenmorse/opt/anaconda3/envs/cs109a_3_7/lib/python3.7/site-packages/sklearn/linear_model/_coordinate_descent.py:531: ConvergenceWarning: Objective did not converge. You might want to increase the number of iterations. Duality gap: 404.9596515349682, tolerance: 0.22158855085\n",
      "  positive)\n",
      "/Users/stevenmorse/opt/anaconda3/envs/cs109a_3_7/lib/python3.7/site-packages/sklearn/linear_model/_coordinate_descent.py:531: ConvergenceWarning: Objective did not converge. You might want to increase the number of iterations. Duality gap: 406.0005259661339, tolerance: 0.21729384210414202\n",
      "  positive)\n",
      "/Users/stevenmorse/opt/anaconda3/envs/cs109a_3_7/lib/python3.7/site-packages/sklearn/linear_model/_coordinate_descent.py:531: ConvergenceWarning: Objective did not converge. You might want to increase the number of iterations. Duality gap: 496.10595757245835, tolerance: 0.23492854771272192\n",
      "  positive)\n",
      "/Users/stevenmorse/opt/anaconda3/envs/cs109a_3_7/lib/python3.7/site-packages/sklearn/linear_model/_coordinate_descent.py:531: ConvergenceWarning: Objective did not converge. You might want to increase the number of iterations. Duality gap: 428.7840257532063, tolerance: 0.21784739022988167\n",
      "  positive)\n",
      "/Users/stevenmorse/opt/anaconda3/envs/cs109a_3_7/lib/python3.7/site-packages/sklearn/linear_model/_coordinate_descent.py:531: ConvergenceWarning: Objective did not converge. You might want to increase the number of iterations. Duality gap: 425.00897801232855, tolerance: 0.22196030105000006\n",
      "  positive)\n",
      "/Users/stevenmorse/opt/anaconda3/envs/cs109a_3_7/lib/python3.7/site-packages/sklearn/linear_model/_coordinate_descent.py:531: ConvergenceWarning: Objective did not converge. You might want to increase the number of iterations. Duality gap: 449.143176657346, tolerance: 0.2162162037387574\n",
      "  positive)\n",
      "/Users/stevenmorse/opt/anaconda3/envs/cs109a_3_7/lib/python3.7/site-packages/sklearn/linear_model/_coordinate_descent.py:531: ConvergenceWarning: Objective did not converge. You might want to increase the number of iterations. Duality gap: 407.6959757504025, tolerance: 0.2175941655162722\n",
      "  positive)\n",
      "/Users/stevenmorse/opt/anaconda3/envs/cs109a_3_7/lib/python3.7/site-packages/sklearn/linear_model/_coordinate_descent.py:531: ConvergenceWarning: Objective did not converge. You might want to increase the number of iterations. Duality gap: 469.2902873819681, tolerance: 0.20977732483934916\n",
      "  positive)\n",
      "/Users/stevenmorse/opt/anaconda3/envs/cs109a_3_7/lib/python3.7/site-packages/sklearn/linear_model/_coordinate_descent.py:531: ConvergenceWarning: Objective did not converge. You might want to increase the number of iterations. Duality gap: 461.1840020598502, tolerance: 0.22162780323195272\n",
      "  positive)\n",
      "/Users/stevenmorse/opt/anaconda3/envs/cs109a_3_7/lib/python3.7/site-packages/sklearn/linear_model/_coordinate_descent.py:531: ConvergenceWarning: Objective did not converge. You might want to increase the number of iterations. Duality gap: 404.5889809880629, tolerance: 0.20708006833372783\n",
      "  positive)\n",
      "/Users/stevenmorse/opt/anaconda3/envs/cs109a_3_7/lib/python3.7/site-packages/sklearn/linear_model/_coordinate_descent.py:531: ConvergenceWarning: Objective did not converge. You might want to increase the number of iterations. Duality gap: 460.3597445660709, tolerance: 0.21885495734349117\n",
      "  positive)\n",
      "/Users/stevenmorse/opt/anaconda3/envs/cs109a_3_7/lib/python3.7/site-packages/sklearn/linear_model/_coordinate_descent.py:531: ConvergenceWarning: Objective did not converge. You might want to increase the number of iterations. Duality gap: 449.9119196738134, tolerance: 0.22140972775502957\n",
      "  positive)\n",
      "/Users/stevenmorse/opt/anaconda3/envs/cs109a_3_7/lib/python3.7/site-packages/sklearn/linear_model/_coordinate_descent.py:531: ConvergenceWarning: Objective did not converge. You might want to increase the number of iterations. Duality gap: 431.8160096305401, tolerance: 0.20374577626183432\n",
      "  positive)\n",
      "/Users/stevenmorse/opt/anaconda3/envs/cs109a_3_7/lib/python3.7/site-packages/sklearn/linear_model/_coordinate_descent.py:531: ConvergenceWarning: Objective did not converge. You might want to increase the number of iterations. Duality gap: 445.65067517426786, tolerance: 0.20957687667721894\n",
      "  positive)\n",
      "/Users/stevenmorse/opt/anaconda3/envs/cs109a_3_7/lib/python3.7/site-packages/sklearn/linear_model/_coordinate_descent.py:531: ConvergenceWarning: Objective did not converge. You might want to increase the number of iterations. Duality gap: 441.15310204723664, tolerance: 0.22744466725000004\n",
      "  positive)\n",
      "/Users/stevenmorse/opt/anaconda3/envs/cs109a_3_7/lib/python3.7/site-packages/sklearn/linear_model/_coordinate_descent.py:531: ConvergenceWarning: Objective did not converge. You might want to increase the number of iterations. Duality gap: 399.6943164108395, tolerance: 0.21064226202603556\n",
      "  positive)\n",
      "/Users/stevenmorse/opt/anaconda3/envs/cs109a_3_7/lib/python3.7/site-packages/sklearn/linear_model/_coordinate_descent.py:531: ConvergenceWarning: Objective did not converge. You might want to increase the number of iterations. Duality gap: 536.6504756154526, tolerance: 0.23261791826183437\n",
      "  positive)\n",
      "/Users/stevenmorse/opt/anaconda3/envs/cs109a_3_7/lib/python3.7/site-packages/sklearn/linear_model/_coordinate_descent.py:531: ConvergenceWarning: Objective did not converge. You might want to increase the number of iterations. Duality gap: 451.0304930720379, tolerance: 0.21174197866656805\n",
      "  positive)\n",
      "/Users/stevenmorse/opt/anaconda3/envs/cs109a_3_7/lib/python3.7/site-packages/sklearn/linear_model/_coordinate_descent.py:531: ConvergenceWarning: Objective did not converge. You might want to increase the number of iterations. Duality gap: 458.2742256885788, tolerance: 0.21831822597278105\n",
      "  positive)\n",
      "/Users/stevenmorse/opt/anaconda3/envs/cs109a_3_7/lib/python3.7/site-packages/sklearn/linear_model/_coordinate_descent.py:531: ConvergenceWarning: Objective did not converge. You might want to increase the number of iterations. Duality gap: 482.9918303291058, tolerance: 0.21959010370650892\n",
      "  positive)\n",
      "/Users/stevenmorse/opt/anaconda3/envs/cs109a_3_7/lib/python3.7/site-packages/sklearn/linear_model/_coordinate_descent.py:531: ConvergenceWarning: Objective did not converge. You might want to increase the number of iterations. Duality gap: 459.813340155322, tolerance: 0.22750224652810658\n",
      "  positive)\n",
      "/Users/stevenmorse/opt/anaconda3/envs/cs109a_3_7/lib/python3.7/site-packages/sklearn/linear_model/_coordinate_descent.py:531: ConvergenceWarning: Objective did not converge. You might want to increase the number of iterations. Duality gap: 435.2251805518715, tolerance: 0.22767751753875742\n",
      "  positive)\n",
      "/Users/stevenmorse/opt/anaconda3/envs/cs109a_3_7/lib/python3.7/site-packages/sklearn/linear_model/_coordinate_descent.py:531: ConvergenceWarning: Objective did not converge. You might want to increase the number of iterations. Duality gap: 476.1897560798979, tolerance: 0.23244921068875743\n",
      "  positive)\n",
      "/Users/stevenmorse/opt/anaconda3/envs/cs109a_3_7/lib/python3.7/site-packages/sklearn/linear_model/_coordinate_descent.py:531: ConvergenceWarning: Objective did not converge. You might want to increase the number of iterations. Duality gap: 383.5601955851421, tolerance: 0.21978276430295857\n",
      "  positive)\n",
      "/Users/stevenmorse/opt/anaconda3/envs/cs109a_3_7/lib/python3.7/site-packages/sklearn/linear_model/_coordinate_descent.py:531: ConvergenceWarning: Objective did not converge. You might want to increase the number of iterations. Duality gap: 381.5806602527663, tolerance: 0.22246554884881659\n",
      "  positive)\n",
      "/Users/stevenmorse/opt/anaconda3/envs/cs109a_3_7/lib/python3.7/site-packages/sklearn/linear_model/_coordinate_descent.py:531: ConvergenceWarning: Objective did not converge. You might want to increase the number of iterations. Duality gap: 462.9721639780592, tolerance: 0.20772192645355028\n",
      "  positive)\n",
      "/Users/stevenmorse/opt/anaconda3/envs/cs109a_3_7/lib/python3.7/site-packages/sklearn/linear_model/_coordinate_descent.py:531: ConvergenceWarning: Objective did not converge. You might want to increase the number of iterations. Duality gap: 373.94431402319003, tolerance: 0.21749519444999998\n",
      "  positive)\n",
      "/Users/stevenmorse/opt/anaconda3/envs/cs109a_3_7/lib/python3.7/site-packages/sklearn/linear_model/_coordinate_descent.py:531: ConvergenceWarning: Objective did not converge. You might want to increase the number of iterations. Duality gap: 537.2222882621041, tolerance: 0.22857878365680478\n",
      "  positive)\n",
      "/Users/stevenmorse/opt/anaconda3/envs/cs109a_3_7/lib/python3.7/site-packages/sklearn/linear_model/_coordinate_descent.py:531: ConvergenceWarning: Objective did not converge. You might want to increase the number of iterations. Duality gap: 392.79158201184094, tolerance: 0.20506355620266273\n",
      "  positive)\n",
      "/Users/stevenmorse/opt/anaconda3/envs/cs109a_3_7/lib/python3.7/site-packages/sklearn/linear_model/_coordinate_descent.py:531: ConvergenceWarning: Objective did not converge. You might want to increase the number of iterations. Duality gap: 455.2168908986969, tolerance: 0.21136938481065087\n",
      "  positive)\n",
      "/Users/stevenmorse/opt/anaconda3/envs/cs109a_3_7/lib/python3.7/site-packages/sklearn/linear_model/_coordinate_descent.py:531: ConvergenceWarning: Objective did not converge. You might want to increase the number of iterations. Duality gap: 400.54907956643433, tolerance: 0.21760796200355031\n",
      "  positive)\n",
      "/Users/stevenmorse/opt/anaconda3/envs/cs109a_3_7/lib/python3.7/site-packages/sklearn/linear_model/_coordinate_descent.py:531: ConvergenceWarning: Objective did not converge. You might want to increase the number of iterations. Duality gap: 435.0153501649663, tolerance: 0.22135390538343197\n",
      "  positive)\n",
      "/Users/stevenmorse/opt/anaconda3/envs/cs109a_3_7/lib/python3.7/site-packages/sklearn/linear_model/_coordinate_descent.py:531: ConvergenceWarning: Objective did not converge. You might want to increase the number of iterations. Duality gap: 534.5991454500082, tolerance: 0.22574638144733733\n",
      "  positive)\n"
     ]
    },
    {
     "name": "stderr",
     "output_type": "stream",
     "text": [
      "/Users/stevenmorse/opt/anaconda3/envs/cs109a_3_7/lib/python3.7/site-packages/sklearn/linear_model/_coordinate_descent.py:531: ConvergenceWarning: Objective did not converge. You might want to increase the number of iterations. Duality gap: 360.0611912857844, tolerance: 0.19860622565\n",
      "  positive)\n",
      "/Users/stevenmorse/opt/anaconda3/envs/cs109a_3_7/lib/python3.7/site-packages/sklearn/linear_model/_coordinate_descent.py:531: ConvergenceWarning: Objective did not converge. You might want to increase the number of iterations. Duality gap: 376.3474906659818, tolerance: 0.21953919455887572\n",
      "  positive)\n",
      "/Users/stevenmorse/opt/anaconda3/envs/cs109a_3_7/lib/python3.7/site-packages/sklearn/linear_model/_coordinate_descent.py:531: ConvergenceWarning: Objective did not converge. You might want to increase the number of iterations. Duality gap: 492.83306115247456, tolerance: 0.20435164185\n",
      "  positive)\n",
      "/Users/stevenmorse/opt/anaconda3/envs/cs109a_3_7/lib/python3.7/site-packages/sklearn/linear_model/_coordinate_descent.py:531: ConvergenceWarning: Objective did not converge. You might want to increase the number of iterations. Duality gap: 377.30246460837566, tolerance: 0.21722377771627221\n",
      "  positive)\n",
      "/Users/stevenmorse/opt/anaconda3/envs/cs109a_3_7/lib/python3.7/site-packages/sklearn/linear_model/_coordinate_descent.py:531: ConvergenceWarning: Objective did not converge. You might want to increase the number of iterations. Duality gap: 433.1504837402464, tolerance: 0.23045369543816566\n",
      "  positive)\n",
      "/Users/stevenmorse/opt/anaconda3/envs/cs109a_3_7/lib/python3.7/site-packages/sklearn/linear_model/_coordinate_descent.py:531: ConvergenceWarning: Objective did not converge. You might want to increase the number of iterations. Duality gap: 475.2795331152537, tolerance: 0.19457670154201184\n",
      "  positive)\n",
      "/Users/stevenmorse/opt/anaconda3/envs/cs109a_3_7/lib/python3.7/site-packages/sklearn/linear_model/_coordinate_descent.py:531: ConvergenceWarning: Objective did not converge. You might want to increase the number of iterations. Duality gap: 407.67731867430456, tolerance: 0.20656912664733731\n",
      "  positive)\n",
      "/Users/stevenmorse/opt/anaconda3/envs/cs109a_3_7/lib/python3.7/site-packages/sklearn/linear_model/_coordinate_descent.py:531: ConvergenceWarning: Objective did not converge. You might want to increase the number of iterations. Duality gap: 389.24617407246745, tolerance: 0.20215091380118344\n",
      "  positive)\n",
      "/Users/stevenmorse/opt/anaconda3/envs/cs109a_3_7/lib/python3.7/site-packages/sklearn/linear_model/_coordinate_descent.py:531: ConvergenceWarning: Objective did not converge. You might want to increase the number of iterations. Duality gap: 423.1024471548229, tolerance: 0.22230671643343194\n",
      "  positive)\n",
      "/Users/stevenmorse/opt/anaconda3/envs/cs109a_3_7/lib/python3.7/site-packages/sklearn/linear_model/_coordinate_descent.py:531: ConvergenceWarning: Objective did not converge. You might want to increase the number of iterations. Duality gap: 387.7460661521139, tolerance: 0.23295737305\n",
      "  positive)\n",
      "/Users/stevenmorse/opt/anaconda3/envs/cs109a_3_7/lib/python3.7/site-packages/sklearn/linear_model/_coordinate_descent.py:531: ConvergenceWarning: Objective did not converge. You might want to increase the number of iterations. Duality gap: 401.41030913358605, tolerance: 0.20006673226183433\n",
      "  positive)\n",
      "/Users/stevenmorse/opt/anaconda3/envs/cs109a_3_7/lib/python3.7/site-packages/sklearn/linear_model/_coordinate_descent.py:531: ConvergenceWarning: Objective did not converge. You might want to increase the number of iterations. Duality gap: 376.02278109619374, tolerance: 0.20778695673727812\n",
      "  positive)\n",
      "/Users/stevenmorse/opt/anaconda3/envs/cs109a_3_7/lib/python3.7/site-packages/sklearn/linear_model/_coordinate_descent.py:531: ConvergenceWarning: Objective did not converge. You might want to increase the number of iterations. Duality gap: 430.973713296595, tolerance: 0.20154265000473373\n",
      "  positive)\n",
      "/Users/stevenmorse/opt/anaconda3/envs/cs109a_3_7/lib/python3.7/site-packages/sklearn/linear_model/_coordinate_descent.py:531: ConvergenceWarning: Objective did not converge. You might want to increase the number of iterations. Duality gap: 399.12436463288014, tolerance: 0.18018014\n",
      "  positive)\n",
      "/Users/stevenmorse/opt/anaconda3/envs/cs109a_3_7/lib/python3.7/site-packages/sklearn/linear_model/_coordinate_descent.py:531: ConvergenceWarning: Objective did not converge. You might want to increase the number of iterations. Duality gap: 428.7960823419216, tolerance: 0.21915345979644973\n",
      "  positive)\n",
      "/Users/stevenmorse/opt/anaconda3/envs/cs109a_3_7/lib/python3.7/site-packages/sklearn/linear_model/_coordinate_descent.py:531: ConvergenceWarning: Objective did not converge. You might want to increase the number of iterations. Duality gap: 488.71843047239554, tolerance: 0.20084932143195267\n",
      "  positive)\n",
      "/Users/stevenmorse/opt/anaconda3/envs/cs109a_3_7/lib/python3.7/site-packages/sklearn/linear_model/_coordinate_descent.py:531: ConvergenceWarning: Objective did not converge. You might want to increase the number of iterations. Duality gap: 423.96394772356604, tolerance: 0.23312634721804734\n",
      "  positive)\n",
      "/Users/stevenmorse/opt/anaconda3/envs/cs109a_3_7/lib/python3.7/site-packages/sklearn/linear_model/_coordinate_descent.py:531: ConvergenceWarning: Objective did not converge. You might want to increase the number of iterations. Duality gap: 443.9736259138884, tolerance: 0.24142873466035505\n",
      "  positive)\n",
      "/Users/stevenmorse/opt/anaconda3/envs/cs109a_3_7/lib/python3.7/site-packages/sklearn/linear_model/_coordinate_descent.py:531: ConvergenceWarning: Objective did not converge. You might want to increase the number of iterations. Duality gap: 370.5044659738724, tolerance: 0.2171546535680473\n",
      "  positive)\n",
      "/Users/stevenmorse/opt/anaconda3/envs/cs109a_3_7/lib/python3.7/site-packages/sklearn/linear_model/_coordinate_descent.py:531: ConvergenceWarning: Objective did not converge. You might want to increase the number of iterations. Duality gap: 398.75327038595015, tolerance: 0.22899367482041427\n",
      "  positive)\n",
      "/Users/stevenmorse/opt/anaconda3/envs/cs109a_3_7/lib/python3.7/site-packages/sklearn/linear_model/_coordinate_descent.py:531: ConvergenceWarning: Objective did not converge. You might want to increase the number of iterations. Duality gap: 426.8934265693129, tolerance: 0.22662450463934908\n",
      "  positive)\n",
      "/Users/stevenmorse/opt/anaconda3/envs/cs109a_3_7/lib/python3.7/site-packages/sklearn/linear_model/_coordinate_descent.py:531: ConvergenceWarning: Objective did not converge. You might want to increase the number of iterations. Duality gap: 400.02052678294586, tolerance: 0.22559686307958582\n",
      "  positive)\n",
      "/Users/stevenmorse/opt/anaconda3/envs/cs109a_3_7/lib/python3.7/site-packages/sklearn/linear_model/_coordinate_descent.py:531: ConvergenceWarning: Objective did not converge. You might want to increase the number of iterations. Duality gap: 369.19650834170454, tolerance: 0.22448694548431955\n",
      "  positive)\n",
      "/Users/stevenmorse/opt/anaconda3/envs/cs109a_3_7/lib/python3.7/site-packages/sklearn/linear_model/_coordinate_descent.py:531: ConvergenceWarning: Objective did not converge. You might want to increase the number of iterations. Duality gap: 396.04932613805767, tolerance: 0.22481120085355039\n",
      "  positive)\n",
      "/Users/stevenmorse/opt/anaconda3/envs/cs109a_3_7/lib/python3.7/site-packages/sklearn/linear_model/_coordinate_descent.py:531: ConvergenceWarning: Objective did not converge. You might want to increase the number of iterations. Duality gap: 472.06021119490447, tolerance: 0.20270658309142012\n",
      "  positive)\n",
      "/Users/stevenmorse/opt/anaconda3/envs/cs109a_3_7/lib/python3.7/site-packages/sklearn/linear_model/_coordinate_descent.py:531: ConvergenceWarning: Objective did not converge. You might want to increase the number of iterations. Duality gap: 383.99769786969557, tolerance: 0.21674740030088765\n",
      "  positive)\n",
      "/Users/stevenmorse/opt/anaconda3/envs/cs109a_3_7/lib/python3.7/site-packages/sklearn/linear_model/_coordinate_descent.py:531: ConvergenceWarning: Objective did not converge. You might want to increase the number of iterations. Duality gap: 426.28693147580054, tolerance: 0.23129761995266274\n",
      "  positive)\n",
      "/Users/stevenmorse/opt/anaconda3/envs/cs109a_3_7/lib/python3.7/site-packages/sklearn/linear_model/_coordinate_descent.py:531: ConvergenceWarning: Objective did not converge. You might want to increase the number of iterations. Duality gap: 405.9863963475706, tolerance: 0.2167751120026627\n",
      "  positive)\n",
      "/Users/stevenmorse/opt/anaconda3/envs/cs109a_3_7/lib/python3.7/site-packages/sklearn/linear_model/_coordinate_descent.py:531: ConvergenceWarning: Objective did not converge. You might want to increase the number of iterations. Duality gap: 430.71037860380375, tolerance: 0.22334508486656807\n",
      "  positive)\n",
      "/Users/stevenmorse/opt/anaconda3/envs/cs109a_3_7/lib/python3.7/site-packages/sklearn/linear_model/_coordinate_descent.py:531: ConvergenceWarning: Objective did not converge. You might want to increase the number of iterations. Duality gap: 504.9481425571732, tolerance: 0.22705596387958582\n",
      "  positive)\n",
      "/Users/stevenmorse/opt/anaconda3/envs/cs109a_3_7/lib/python3.7/site-packages/sklearn/linear_model/_coordinate_descent.py:531: ConvergenceWarning: Objective did not converge. You might want to increase the number of iterations. Duality gap: 412.15321034878076, tolerance: 0.22048991989349112\n",
      "  positive)\n",
      "/Users/stevenmorse/opt/anaconda3/envs/cs109a_3_7/lib/python3.7/site-packages/sklearn/linear_model/_coordinate_descent.py:531: ConvergenceWarning: Objective did not converge. You might want to increase the number of iterations. Duality gap: 410.37207226039874, tolerance: 0.20996255555502957\n",
      "  positive)\n",
      "/Users/stevenmorse/opt/anaconda3/envs/cs109a_3_7/lib/python3.7/site-packages/sklearn/linear_model/_coordinate_descent.py:531: ConvergenceWarning: Objective did not converge. You might want to increase the number of iterations. Duality gap: 362.51841762245454, tolerance: 0.21143152782396457\n",
      "  positive)\n",
      "/Users/stevenmorse/opt/anaconda3/envs/cs109a_3_7/lib/python3.7/site-packages/sklearn/linear_model/_coordinate_descent.py:531: ConvergenceWarning: Objective did not converge. You might want to increase the number of iterations. Duality gap: 437.53536720757376, tolerance: 0.21148571242603553\n",
      "  positive)\n",
      "/Users/stevenmorse/opt/anaconda3/envs/cs109a_3_7/lib/python3.7/site-packages/sklearn/linear_model/_coordinate_descent.py:531: ConvergenceWarning: Objective did not converge. You might want to increase the number of iterations. Duality gap: 477.8970059358135, tolerance: 0.21301865800739644\n",
      "  positive)\n"
     ]
    },
    {
     "name": "stderr",
     "output_type": "stream",
     "text": [
      "/Users/stevenmorse/opt/anaconda3/envs/cs109a_3_7/lib/python3.7/site-packages/sklearn/linear_model/_coordinate_descent.py:531: ConvergenceWarning: Objective did not converge. You might want to increase the number of iterations. Duality gap: 413.6564733797112, tolerance: 0.235596461104142\n",
      "  positive)\n",
      "/Users/stevenmorse/opt/anaconda3/envs/cs109a_3_7/lib/python3.7/site-packages/sklearn/linear_model/_coordinate_descent.py:531: ConvergenceWarning: Objective did not converge. You might want to increase the number of iterations. Duality gap: 369.6703467380235, tolerance: 0.21810020018964502\n",
      "  positive)\n",
      "/Users/stevenmorse/opt/anaconda3/envs/cs109a_3_7/lib/python3.7/site-packages/sklearn/linear_model/_coordinate_descent.py:531: ConvergenceWarning: Objective did not converge. You might want to increase the number of iterations. Duality gap: 433.1411846540425, tolerance: 0.2177315578795858\n",
      "  positive)\n",
      "/Users/stevenmorse/opt/anaconda3/envs/cs109a_3_7/lib/python3.7/site-packages/sklearn/linear_model/_coordinate_descent.py:531: ConvergenceWarning: Objective did not converge. You might want to increase the number of iterations. Duality gap: 406.27092835306007, tolerance: 0.22341044284260358\n",
      "  positive)\n",
      "/Users/stevenmorse/opt/anaconda3/envs/cs109a_3_7/lib/python3.7/site-packages/sklearn/linear_model/_coordinate_descent.py:531: ConvergenceWarning: Objective did not converge. You might want to increase the number of iterations. Duality gap: 434.9963445642338, tolerance: 0.21843828336568055\n",
      "  positive)\n",
      "/Users/stevenmorse/opt/anaconda3/envs/cs109a_3_7/lib/python3.7/site-packages/sklearn/linear_model/_coordinate_descent.py:531: ConvergenceWarning: Objective did not converge. You might want to increase the number of iterations. Duality gap: 435.1921512740948, tolerance: 0.18200194924142013\n",
      "  positive)\n",
      "/Users/stevenmorse/opt/anaconda3/envs/cs109a_3_7/lib/python3.7/site-packages/sklearn/linear_model/_coordinate_descent.py:531: ConvergenceWarning: Objective did not converge. You might want to increase the number of iterations. Duality gap: 374.38914849894417, tolerance: 0.2058552585470414\n",
      "  positive)\n",
      "/Users/stevenmorse/opt/anaconda3/envs/cs109a_3_7/lib/python3.7/site-packages/sklearn/linear_model/_coordinate_descent.py:531: ConvergenceWarning: Objective did not converge. You might want to increase the number of iterations. Duality gap: 481.009223645787, tolerance: 0.21820047703550297\n",
      "  positive)\n",
      "/Users/stevenmorse/opt/anaconda3/envs/cs109a_3_7/lib/python3.7/site-packages/sklearn/linear_model/_coordinate_descent.py:531: ConvergenceWarning: Objective did not converge. You might want to increase the number of iterations. Duality gap: 392.4554315057358, tolerance: 0.21657920790650884\n",
      "  positive)\n",
      "/Users/stevenmorse/opt/anaconda3/envs/cs109a_3_7/lib/python3.7/site-packages/sklearn/linear_model/_coordinate_descent.py:531: ConvergenceWarning: Objective did not converge. You might want to increase the number of iterations. Duality gap: 436.8184047987835, tolerance: 0.20428803927218936\n",
      "  positive)\n",
      "/Users/stevenmorse/opt/anaconda3/envs/cs109a_3_7/lib/python3.7/site-packages/sklearn/linear_model/_coordinate_descent.py:531: ConvergenceWarning: Objective did not converge. You might want to increase the number of iterations. Duality gap: 425.0971204384824, tolerance: 0.22341220865\n",
      "  positive)\n",
      "/Users/stevenmorse/opt/anaconda3/envs/cs109a_3_7/lib/python3.7/site-packages/sklearn/linear_model/_coordinate_descent.py:531: ConvergenceWarning: Objective did not converge. You might want to increase the number of iterations. Duality gap: 386.6584897740673, tolerance: 0.21659496250798818\n",
      "  positive)\n",
      "/Users/stevenmorse/opt/anaconda3/envs/cs109a_3_7/lib/python3.7/site-packages/sklearn/linear_model/_coordinate_descent.py:531: ConvergenceWarning: Objective did not converge. You might want to increase the number of iterations. Duality gap: 440.31593670243666, tolerance: 0.21116058947721897\n",
      "  positive)\n",
      "/Users/stevenmorse/opt/anaconda3/envs/cs109a_3_7/lib/python3.7/site-packages/sklearn/linear_model/_coordinate_descent.py:531: ConvergenceWarning: Objective did not converge. You might want to increase the number of iterations. Duality gap: 377.0657988692027, tolerance: 0.23571054037396452\n",
      "  positive)\n",
      "/Users/stevenmorse/opt/anaconda3/envs/cs109a_3_7/lib/python3.7/site-packages/sklearn/linear_model/_coordinate_descent.py:531: ConvergenceWarning: Objective did not converge. You might want to increase the number of iterations. Duality gap: 425.65901349205694, tolerance: 0.2361785183008876\n",
      "  positive)\n",
      "/Users/stevenmorse/opt/anaconda3/envs/cs109a_3_7/lib/python3.7/site-packages/sklearn/linear_model/_coordinate_descent.py:531: ConvergenceWarning: Objective did not converge. You might want to increase the number of iterations. Duality gap: 531.9683913567649, tolerance: 0.24415941594201188\n",
      "  positive)\n",
      "/Users/stevenmorse/opt/anaconda3/envs/cs109a_3_7/lib/python3.7/site-packages/sklearn/linear_model/_coordinate_descent.py:531: ConvergenceWarning: Objective did not converge. You might want to increase the number of iterations. Duality gap: 412.981478961577, tolerance: 0.20586962857278104\n",
      "  positive)\n",
      "/Users/stevenmorse/opt/anaconda3/envs/cs109a_3_7/lib/python3.7/site-packages/sklearn/linear_model/_coordinate_descent.py:531: ConvergenceWarning: Objective did not converge. You might want to increase the number of iterations. Duality gap: 330.1996773723934, tolerance: 0.21408418853372782\n",
      "  positive)\n",
      "/Users/stevenmorse/opt/anaconda3/envs/cs109a_3_7/lib/python3.7/site-packages/sklearn/linear_model/_coordinate_descent.py:531: ConvergenceWarning: Objective did not converge. You might want to increase the number of iterations. Duality gap: 418.7638323936298, tolerance: 0.20732398720739648\n",
      "  positive)\n",
      "/Users/stevenmorse/opt/anaconda3/envs/cs109a_3_7/lib/python3.7/site-packages/sklearn/linear_model/_coordinate_descent.py:531: ConvergenceWarning: Objective did not converge. You might want to increase the number of iterations. Duality gap: 376.7990930672193, tolerance: 0.21577076306656806\n",
      "  positive)\n",
      "/Users/stevenmorse/opt/anaconda3/envs/cs109a_3_7/lib/python3.7/site-packages/sklearn/linear_model/_coordinate_descent.py:531: ConvergenceWarning: Objective did not converge. You might want to increase the number of iterations. Duality gap: 484.15149377481197, tolerance: 0.24269197791508879\n",
      "  positive)\n",
      "/Users/stevenmorse/opt/anaconda3/envs/cs109a_3_7/lib/python3.7/site-packages/sklearn/linear_model/_coordinate_descent.py:531: ConvergenceWarning: Objective did not converge. You might want to increase the number of iterations. Duality gap: 429.8039768582646, tolerance: 0.2086108386547337\n",
      "  positive)\n",
      "/Users/stevenmorse/opt/anaconda3/envs/cs109a_3_7/lib/python3.7/site-packages/sklearn/linear_model/_coordinate_descent.py:531: ConvergenceWarning: Objective did not converge. You might want to increase the number of iterations. Duality gap: 403.78646263367443, tolerance: 0.21058357985000004\n",
      "  positive)\n",
      "/Users/stevenmorse/opt/anaconda3/envs/cs109a_3_7/lib/python3.7/site-packages/sklearn/linear_model/_coordinate_descent.py:531: ConvergenceWarning: Objective did not converge. You might want to increase the number of iterations. Duality gap: 450.9759134341859, tolerance: 0.20800880757662724\n",
      "  positive)\n",
      "/Users/stevenmorse/opt/anaconda3/envs/cs109a_3_7/lib/python3.7/site-packages/sklearn/linear_model/_coordinate_descent.py:531: ConvergenceWarning: Objective did not converge. You might want to increase the number of iterations. Duality gap: 452.12830524192026, tolerance: 0.22682658191508873\n",
      "  positive)\n",
      "/Users/stevenmorse/opt/anaconda3/envs/cs109a_3_7/lib/python3.7/site-packages/sklearn/linear_model/_coordinate_descent.py:531: ConvergenceWarning: Objective did not converge. You might want to increase the number of iterations. Duality gap: 353.1921299981503, tolerance: 0.21983203142041421\n",
      "  positive)\n",
      "/Users/stevenmorse/opt/anaconda3/envs/cs109a_3_7/lib/python3.7/site-packages/sklearn/linear_model/_coordinate_descent.py:531: ConvergenceWarning: Objective did not converge. You might want to increase the number of iterations. Duality gap: 430.3682345027201, tolerance: 0.2245445729964497\n",
      "  positive)\n",
      "/Users/stevenmorse/opt/anaconda3/envs/cs109a_3_7/lib/python3.7/site-packages/sklearn/linear_model/_coordinate_descent.py:531: ConvergenceWarning: Objective did not converge. You might want to increase the number of iterations. Duality gap: 459.7705252981219, tolerance: 0.2101289506535503\n",
      "  positive)\n",
      "/Users/stevenmorse/opt/anaconda3/envs/cs109a_3_7/lib/python3.7/site-packages/sklearn/linear_model/_coordinate_descent.py:531: ConvergenceWarning: Objective did not converge. You might want to increase the number of iterations. Duality gap: 401.7519554073262, tolerance: 0.23085138834585797\n",
      "  positive)\n",
      "/Users/stevenmorse/opt/anaconda3/envs/cs109a_3_7/lib/python3.7/site-packages/sklearn/linear_model/_coordinate_descent.py:531: ConvergenceWarning: Objective did not converge. You might want to increase the number of iterations. Duality gap: 417.9830134465869, tolerance: 0.21277747576804731\n",
      "  positive)\n",
      "/Users/stevenmorse/opt/anaconda3/envs/cs109a_3_7/lib/python3.7/site-packages/sklearn/linear_model/_coordinate_descent.py:531: ConvergenceWarning: Objective did not converge. You might want to increase the number of iterations. Duality gap: 468.91025668768236, tolerance: 0.21855665453047338\n",
      "  positive)\n",
      "/Users/stevenmorse/opt/anaconda3/envs/cs109a_3_7/lib/python3.7/site-packages/sklearn/linear_model/_coordinate_descent.py:531: ConvergenceWarning: Objective did not converge. You might want to increase the number of iterations. Duality gap: 416.84096787700395, tolerance: 0.2233011851991125\n",
      "  positive)\n",
      "/Users/stevenmorse/opt/anaconda3/envs/cs109a_3_7/lib/python3.7/site-packages/sklearn/linear_model/_coordinate_descent.py:531: ConvergenceWarning: Objective did not converge. You might want to increase the number of iterations. Duality gap: 365.14950278673257, tolerance: 0.22284926742278105\n",
      "  positive)\n",
      "/Users/stevenmorse/opt/anaconda3/envs/cs109a_3_7/lib/python3.7/site-packages/sklearn/linear_model/_coordinate_descent.py:531: ConvergenceWarning: Objective did not converge. You might want to increase the number of iterations. Duality gap: 413.59194195242236, tolerance: 0.21727343826183435\n",
      "  positive)\n",
      "/Users/stevenmorse/opt/anaconda3/envs/cs109a_3_7/lib/python3.7/site-packages/sklearn/linear_model/_coordinate_descent.py:531: ConvergenceWarning: Objective did not converge. You might want to increase the number of iterations. Duality gap: 380.74479497670615, tolerance: 0.22356807661183434\n",
      "  positive)\n"
     ]
    },
    {
     "name": "stderr",
     "output_type": "stream",
     "text": [
      "/Users/stevenmorse/opt/anaconda3/envs/cs109a_3_7/lib/python3.7/site-packages/sklearn/linear_model/_coordinate_descent.py:531: ConvergenceWarning: Objective did not converge. You might want to increase the number of iterations. Duality gap: 434.6222853756297, tolerance: 0.20406084940000002\n",
      "  positive)\n",
      "/Users/stevenmorse/opt/anaconda3/envs/cs109a_3_7/lib/python3.7/site-packages/sklearn/linear_model/_coordinate_descent.py:531: ConvergenceWarning: Objective did not converge. You might want to increase the number of iterations. Duality gap: 448.24157742726857, tolerance: 0.21164516420029586\n",
      "  positive)\n",
      "/Users/stevenmorse/opt/anaconda3/envs/cs109a_3_7/lib/python3.7/site-packages/sklearn/linear_model/_coordinate_descent.py:531: ConvergenceWarning: Objective did not converge. You might want to increase the number of iterations. Duality gap: 384.78695829429444, tolerance: 0.224534233466568\n",
      "  positive)\n",
      "/Users/stevenmorse/opt/anaconda3/envs/cs109a_3_7/lib/python3.7/site-packages/sklearn/linear_model/_coordinate_descent.py:531: ConvergenceWarning: Objective did not converge. You might want to increase the number of iterations. Duality gap: 461.03332422307733, tolerance: 0.20725688883431953\n",
      "  positive)\n",
      "/Users/stevenmorse/opt/anaconda3/envs/cs109a_3_7/lib/python3.7/site-packages/sklearn/linear_model/_coordinate_descent.py:531: ConvergenceWarning: Objective did not converge. You might want to increase the number of iterations. Duality gap: 413.0512118138185, tolerance: 0.21963581081804737\n",
      "  positive)\n",
      "/Users/stevenmorse/opt/anaconda3/envs/cs109a_3_7/lib/python3.7/site-packages/sklearn/linear_model/_coordinate_descent.py:531: ConvergenceWarning: Objective did not converge. You might want to increase the number of iterations. Duality gap: 367.6166654392211, tolerance: 0.2355038845337278\n",
      "  positive)\n",
      "/Users/stevenmorse/opt/anaconda3/envs/cs109a_3_7/lib/python3.7/site-packages/sklearn/linear_model/_coordinate_descent.py:531: ConvergenceWarning: Objective did not converge. You might want to increase the number of iterations. Duality gap: 454.0646741696947, tolerance: 0.21736333531952662\n",
      "  positive)\n",
      "/Users/stevenmorse/opt/anaconda3/envs/cs109a_3_7/lib/python3.7/site-packages/sklearn/linear_model/_coordinate_descent.py:531: ConvergenceWarning: Objective did not converge. You might want to increase the number of iterations. Duality gap: 404.4121773035034, tolerance: 0.1942394591065089\n",
      "  positive)\n",
      "/Users/stevenmorse/opt/anaconda3/envs/cs109a_3_7/lib/python3.7/site-packages/sklearn/linear_model/_coordinate_descent.py:531: ConvergenceWarning: Objective did not converge. You might want to increase the number of iterations. Duality gap: 417.66519663701297, tolerance: 0.21647277462958578\n",
      "  positive)\n",
      "/Users/stevenmorse/opt/anaconda3/envs/cs109a_3_7/lib/python3.7/site-packages/sklearn/linear_model/_coordinate_descent.py:531: ConvergenceWarning: Objective did not converge. You might want to increase the number of iterations. Duality gap: 459.76832798438653, tolerance: 0.2218507943612426\n",
      "  positive)\n",
      "/Users/stevenmorse/opt/anaconda3/envs/cs109a_3_7/lib/python3.7/site-packages/sklearn/linear_model/_coordinate_descent.py:531: ConvergenceWarning: Objective did not converge. You might want to increase the number of iterations. Duality gap: 451.6488437757405, tolerance: 0.2124918169281066\n",
      "  positive)\n",
      "/Users/stevenmorse/opt/anaconda3/envs/cs109a_3_7/lib/python3.7/site-packages/sklearn/linear_model/_coordinate_descent.py:531: ConvergenceWarning: Objective did not converge. You might want to increase the number of iterations. Duality gap: 428.74953823396476, tolerance: 0.21957866871124262\n",
      "  positive)\n",
      "/Users/stevenmorse/opt/anaconda3/envs/cs109a_3_7/lib/python3.7/site-packages/sklearn/linear_model/_coordinate_descent.py:531: ConvergenceWarning: Objective did not converge. You might want to increase the number of iterations. Duality gap: 442.4998024441536, tolerance: 0.2096771779150888\n",
      "  positive)\n",
      "/Users/stevenmorse/opt/anaconda3/envs/cs109a_3_7/lib/python3.7/site-packages/sklearn/linear_model/_coordinate_descent.py:531: ConvergenceWarning: Objective did not converge. You might want to increase the number of iterations. Duality gap: 419.53003199534294, tolerance: 0.23325087215029586\n",
      "  positive)\n",
      "/Users/stevenmorse/opt/anaconda3/envs/cs109a_3_7/lib/python3.7/site-packages/sklearn/linear_model/_coordinate_descent.py:531: ConvergenceWarning: Objective did not converge. You might want to increase the number of iterations. Duality gap: 426.10495947068677, tolerance: 0.20600344632573966\n",
      "  positive)\n",
      "/Users/stevenmorse/opt/anaconda3/envs/cs109a_3_7/lib/python3.7/site-packages/sklearn/linear_model/_coordinate_descent.py:531: ConvergenceWarning: Objective did not converge. You might want to increase the number of iterations. Duality gap: 405.9319816664427, tolerance: 0.22517264401420123\n",
      "  positive)\n",
      "/Users/stevenmorse/opt/anaconda3/envs/cs109a_3_7/lib/python3.7/site-packages/sklearn/linear_model/_coordinate_descent.py:531: ConvergenceWarning: Objective did not converge. You might want to increase the number of iterations. Duality gap: 416.8434080100612, tolerance: 0.2115283278393491\n",
      "  positive)\n",
      "/Users/stevenmorse/opt/anaconda3/envs/cs109a_3_7/lib/python3.7/site-packages/sklearn/linear_model/_coordinate_descent.py:531: ConvergenceWarning: Objective did not converge. You might want to increase the number of iterations. Duality gap: 427.42767703155477, tolerance: 0.2039644377718935\n",
      "  positive)\n",
      "/Users/stevenmorse/opt/anaconda3/envs/cs109a_3_7/lib/python3.7/site-packages/sklearn/linear_model/_coordinate_descent.py:531: ConvergenceWarning: Objective did not converge. You might want to increase the number of iterations. Duality gap: 441.293589183482, tolerance: 0.20860975219999997\n",
      "  positive)\n",
      "/Users/stevenmorse/opt/anaconda3/envs/cs109a_3_7/lib/python3.7/site-packages/sklearn/linear_model/_coordinate_descent.py:531: ConvergenceWarning: Objective did not converge. You might want to increase the number of iterations. Duality gap: 495.6325631541132, tolerance: 0.22655102424999995\n",
      "  positive)\n",
      "/Users/stevenmorse/opt/anaconda3/envs/cs109a_3_7/lib/python3.7/site-packages/sklearn/linear_model/_coordinate_descent.py:531: ConvergenceWarning: Objective did not converge. You might want to increase the number of iterations. Duality gap: 456.62274106148766, tolerance: 0.20479057032426037\n",
      "  positive)\n",
      "/Users/stevenmorse/opt/anaconda3/envs/cs109a_3_7/lib/python3.7/site-packages/sklearn/linear_model/_coordinate_descent.py:531: ConvergenceWarning: Objective did not converge. You might want to increase the number of iterations. Duality gap: 442.64046672910933, tolerance: 0.21783039614349115\n",
      "  positive)\n",
      "/Users/stevenmorse/opt/anaconda3/envs/cs109a_3_7/lib/python3.7/site-packages/sklearn/linear_model/_coordinate_descent.py:531: ConvergenceWarning: Objective did not converge. You might want to increase the number of iterations. Duality gap: 499.27877714951535, tolerance: 0.2180605597008876\n",
      "  positive)\n",
      "/Users/stevenmorse/opt/anaconda3/envs/cs109a_3_7/lib/python3.7/site-packages/sklearn/linear_model/_coordinate_descent.py:531: ConvergenceWarning: Objective did not converge. You might want to increase the number of iterations. Duality gap: 411.6169457617976, tolerance: 0.21274036152662718\n",
      "  positive)\n",
      "/Users/stevenmorse/opt/anaconda3/envs/cs109a_3_7/lib/python3.7/site-packages/sklearn/linear_model/_coordinate_descent.py:531: ConvergenceWarning: Objective did not converge. You might want to increase the number of iterations. Duality gap: 430.68206302032246, tolerance: 0.20443714659644974\n",
      "  positive)\n",
      "/Users/stevenmorse/opt/anaconda3/envs/cs109a_3_7/lib/python3.7/site-packages/sklearn/linear_model/_coordinate_descent.py:531: ConvergenceWarning: Objective did not converge. You might want to increase the number of iterations. Duality gap: 433.79521200882425, tolerance: 0.21255537223343204\n",
      "  positive)\n",
      "/Users/stevenmorse/opt/anaconda3/envs/cs109a_3_7/lib/python3.7/site-packages/sklearn/linear_model/_coordinate_descent.py:531: ConvergenceWarning: Objective did not converge. You might want to increase the number of iterations. Duality gap: 403.56756366231616, tolerance: 0.21753374665000003\n",
      "  positive)\n",
      "/Users/stevenmorse/opt/anaconda3/envs/cs109a_3_7/lib/python3.7/site-packages/sklearn/linear_model/_coordinate_descent.py:531: ConvergenceWarning: Objective did not converge. You might want to increase the number of iterations. Duality gap: 438.9135744326389, tolerance: 0.22348686581656804\n",
      "  positive)\n",
      "/Users/stevenmorse/opt/anaconda3/envs/cs109a_3_7/lib/python3.7/site-packages/sklearn/linear_model/_coordinate_descent.py:531: ConvergenceWarning: Objective did not converge. You might want to increase the number of iterations. Duality gap: 514.9013915025259, tolerance: 0.23993945621893492\n",
      "  positive)\n",
      "/Users/stevenmorse/opt/anaconda3/envs/cs109a_3_7/lib/python3.7/site-packages/sklearn/linear_model/_coordinate_descent.py:531: ConvergenceWarning: Objective did not converge. You might want to increase the number of iterations. Duality gap: 424.2524046512005, tolerance: 0.22981991005000002\n",
      "  positive)\n",
      "/Users/stevenmorse/opt/anaconda3/envs/cs109a_3_7/lib/python3.7/site-packages/sklearn/linear_model/_coordinate_descent.py:531: ConvergenceWarning: Objective did not converge. You might want to increase the number of iterations. Duality gap: 447.571747750363, tolerance: 0.232406582668935\n",
      "  positive)\n"
     ]
    }
   ],
   "source": [
    "# your code here\n",
    "significant_degrees = {}\n",
    "d = 24\n",
    "bootstrap = []\n",
    "numboot = 200\n",
    "best_alpha = 0.01\n",
    "\n",
    "for i in range(numboot):\n",
    "    \n",
    "    df_train_new = df_train.sample(frac=1, replace=True)\n",
    "    x_train_boot = df_train_new[['Spreading_factor']]\n",
    "    y_train_boot = df_train_new['Perc_population']\n",
    "    \n",
    "    #split the data \n",
    "    x_train, x_val, y_train, y_val = train_test_split(x_train_boot, y_train_boot, train_size = 0.8)\n",
    "   \n",
    "    x_poly_train = PolynomialFeatures(degree=d).fit_transform(x_train)\n",
    "    x_poly_val  = PolynomialFeatures(degree=d).fit_transform(x_val)\n",
    "\n",
    "    lasso_reg = Lasso(alpha = best_alpha, max_iter = 1000).fit(x_poly_train, y_train)\n",
    "\n",
    "    lasso_coef = lasso_reg.coef_\n",
    "   \n",
    "    counter = 0\n",
    "    \n",
    "    for degree in lasso_coef:\n",
    "        if(degree > 0.1):\n",
    "            counter_str = counter\n",
    "            if counter in significant_degrees:\n",
    "                significant_degrees[counter] = 1 + significant_degrees[counter]\n",
    "            else:\n",
    "                significant_degrees[counter] = 1\n",
    "                \n",
    "        counter = counter+1\n",
    "\n",
    "            #print(lasso_coef.index(degree))\n",
    "\n"
   ]
  },
  {
   "cell_type": "code",
   "execution_count": 651,
   "metadata": {
    "deletable": false
   },
   "outputs": [
    {
     "data": {
      "text/plain": [
       "{1: 200, 4: 199, 2: 105, 7: 24, 6: 7, 3: 6, 5: 3}"
      ]
     },
     "metadata": {},
     "output_type": "display_data"
    },
    {
     "data": {
      "text/plain": [
       "Text(0.5, 1.0, 'occurences of significant degrees')"
      ]
     },
     "execution_count": 651,
     "metadata": {},
     "output_type": "execute_result"
    },
    {
     "data": {
      "image/png": "[encoded data removed]",
      "text/plain": [
       "<Figure size 432x288 with 1 Axes>"
      ]
     },
     "metadata": {
      "needs_background": "light"
     },
     "output_type": "display_data"
    }
   ],
   "source": [
    "# your code here\n",
    "\n",
    "display(significant_degrees)\n",
    "\n",
    "keys = significant_degrees.keys()\n",
    "values = significant_degrees.values()\n",
    "plt.bar(keys, values)\n",
    "plt.xlabel('degree')\n",
    "plt.ylabel('occurences')\n",
    "plt.title('occurences of significant degrees')"
   ]
  },
  {
   "cell_type": "code",
   "execution_count": 652,
   "metadata": {},
   "outputs": [
    {
     "data": {
      "text/plain": [
       "24"
      ]
     },
     "execution_count": 652,
     "metadata": {},
     "output_type": "execute_result"
    }
   ],
   "source": [
    "d"
   ]
  },
  {
   "cell_type": "markdown",
   "metadata": {
    "autograde": "6.3",
    "deletable": false,
    "editable": false
   },
   "source": [
    "<div class='exercise-r'>  \n",
    " \n",
    "**6.3** [5 pts] Compute and print the MSE on the test set\n",
    " \n",
    " Now, from the previous plot, you can see that only some degrees are consistently significant over several bootstraps. You will now retrain the *L1* regularized model on the entire **training** data and find the test $MSE$\n",
    " \n",
    " #### Instructions\n",
    " \n",
    " - Based on the plot from 6.2, choose the maximum degree of the polynomial you will fit for your final model.\n",
    " - Retrain the *regularized* ***LASSO*** model with your chosen degree on the entire test set and report the $MSE$ on the test set.\n",
    " - Find and print the degrees of the polynomial that have cofficients with absolute value greater than 0.1\n",
    " - Save the test $MSE$ to `best_mse_dict`.\n",
    " \n",
    " </div>"
   ]
  },
  {
   "cell_type": "code",
   "execution_count": 653,
   "metadata": {
    "deletable": false
   },
   "outputs": [],
   "source": [
    "# your code here\n",
    "d = 7\n",
    "x_train = df_train[['Spreading_factor']]\n",
    "y_train = df_train['Perc_population']\n",
    "\n",
    "x_test = df_test[['Spreading_factor']]\n",
    "y_test = df_test['Perc_population']\n",
    "\n",
    "x_poly_test = PolynomialFeatures(degree=d).fit_transform(x_test)\n",
    "\n",
    "lasso_reg = Lasso(alpha = best_alpha, max_iter = 1000).fit(x_poly_test, y_test)\n",
    "\n",
    "\n",
    "\n",
    "y_pred = lasso_reg.predict(x_poly_test)\n",
    "\n",
    "mse = mean_squared_error(y_pred,y_test)\n",
    "\n",
    "   "
   ]
  },
  {
   "cell_type": "code",
   "execution_count": 654,
   "metadata": {
    "deletable": false
   },
   "outputs": [
    {
     "name": "stdout",
     "output_type": "stream",
     "text": [
      "1\n",
      "2\n",
      "4\n",
      "[ 0.          2.15602543  0.68473931  0.          0.15275623 -0.\n",
      " -0.07747573 -0.01639803]\n"
     ]
    }
   ],
   "source": [
    "# your code here\n",
    "counter = 0\n",
    "for degree in lasso_reg.coef_:\n",
    "    if degree > 0.1:\n",
    "        print(counter)\n",
    "    counter = counter + 1\n",
    "print(lasso_reg.coef_)"
   ]
  },
  {
   "cell_type": "code",
   "execution_count": 655,
   "metadata": {
    "deletable": false
   },
   "outputs": [],
   "source": [
    "# your code here\n",
    "best_mse_dict['6.3'] = mse"
   ]
  },
  {
   "cell_type": "markdown",
   "metadata": {
    "autograde": "6.4",
    "deletable": false,
    "editable": false
   },
   "source": [
    "<div class='exercise-r'>  \n",
    " \n",
    "**6.4** [5 pts] What are your observations?\n",
    " \n",
    " - Compare your `best_degree` from question 5 with your chosen degree in 6.3 above and comment on the difference.\n",
    " - Which degree coefficients in your best fit model from above are significant? If not all coefficients are significant, why?\n",
    " - Compare your test $MSE$ in this question with the result from question 5. Which one is smaller, and by how much?\n",
    " - Is your current model more reliable than the models in question 5 and prior? On what basis do you claim its robustness?\n",
    " \n",
    " \n",
    " </div>"
   ]
  },
  {
   "cell_type": "code",
   "execution_count": 656,
   "metadata": {
    "deletable": false
   },
   "outputs": [
    {
     "data": {
      "text/plain": [
       "{'2.1': 2.6519056545149615,\n",
       " '3.2': 2.490621553056282,\n",
       " '4.2': 2.699129073060968,\n",
       " '5.3': 2.860931308607866,\n",
       " '6.3': 2.546435770273017}"
      ]
     },
     "metadata": {},
     "output_type": "display_data"
    }
   ],
   "source": [
    "display(best_mse_dict)"
   ]
  },
  {
   "cell_type": "markdown",
   "metadata": {
    "deletable": false
   },
   "source": [
    "*Your answer here*"
   ]
  },
  {
   "cell_type": "markdown",
   "metadata": {
    "cell_id": "fe903f84-5847-4e97-95c5-4424e57a375c",
    "deletable": false,
    "editable": false,
    "tags": []
   },
   "source": [
    "<div class='exercise'><b> Question 7:   Analyze your best test MSEs for each sub section of the homework [10 points total]</b></div>\n",
    "\n",
    "**7.1** [4 pts] Convert the `best_mse_dict` dictionary used to store the best MSE values from each section of the homework into a pandas dataframe. \n",
    "\n",
    "- Take a look at how the $MSE$ values have varied throughout the homework and plot these $MSE$ values in a bar chart, including proper labels and title.\n",
    "\n",
    "**7.2** [6 pts] Which model do you think is best, and why? What are some of its drawbacks compared to the other methods you tested? "
   ]
  },
  {
   "cell_type": "markdown",
   "metadata": {
    "deletable": false,
    "editable": false
   },
   "source": [
    "### Your Answers"
   ]
  },
  {
   "cell_type": "markdown",
   "metadata": {
    "autograde": "7.1",
    "deletable": false,
    "editable": false
   },
   "source": [
    "<div class='exercise-r'>  \n",
    " \n",
    "**7.1** [4 pts] Convert the `best_mse_dict` dictionary used to store the best MSE values from each section of the homework into a pandas dataframe.\n",
    " \n",
    " - Take a look at how the $MSE$ values have varied throughout the homework and plot these $MSE$ values in a bar chart, including proper labels and title.\n",
    " \n",
    " </div>"
   ]
  },
  {
   "cell_type": "code",
   "execution_count": 657,
   "metadata": {
    "deletable": false
   },
   "outputs": [
    {
     "data": {
      "text/html": [
       "<div>\n",
       "<style scoped>\n",
       "    .dataframe tbody tr th:only-of-type {\n",
       "        vertical-align: middle;\n",
       "    }\n",
       "\n",
       "    .dataframe tbody tr th {\n",
       "        vertical-align: top;\n",
       "    }\n",
       "\n",
       "    .dataframe thead th {\n",
       "        text-align: right;\n",
       "    }\n",
       "</style>\n",
       "<table border=\"1\" class=\"dataframe\">\n",
       "  <thead>\n",
       "    <tr style=\"text-align: right;\">\n",
       "      <th></th>\n",
       "      <th>MSE</th>\n",
       "    </tr>\n",
       "  </thead>\n",
       "  <tbody>\n",
       "    <tr>\n",
       "      <th>2.1</th>\n",
       "      <td>2.651906</td>\n",
       "    </tr>\n",
       "    <tr>\n",
       "      <th>3.2</th>\n",
       "      <td>2.490622</td>\n",
       "    </tr>\n",
       "    <tr>\n",
       "      <th>4.2</th>\n",
       "      <td>2.699129</td>\n",
       "    </tr>\n",
       "    <tr>\n",
       "      <th>5.3</th>\n",
       "      <td>2.860931</td>\n",
       "    </tr>\n",
       "    <tr>\n",
       "      <th>6.3</th>\n",
       "      <td>2.546436</td>\n",
       "    </tr>\n",
       "  </tbody>\n",
       "</table>\n",
       "</div>"
      ],
      "text/plain": [
       "          MSE\n",
       "2.1  2.651906\n",
       "3.2  2.490622\n",
       "4.2  2.699129\n",
       "5.3  2.860931\n",
       "6.3  2.546436"
      ]
     },
     "metadata": {},
     "output_type": "display_data"
    }
   ],
   "source": [
    "# your code here\n",
    "best_mse_df = pd.DataFrame.from_dict(best_mse_dict, orient = 'index')\n",
    "best_mse_df.columns = ['MSE']\n",
    "display(best_mse_df)"
   ]
  },
  {
   "cell_type": "code",
   "execution_count": 658,
   "metadata": {
    "deletable": false
   },
   "outputs": [
    {
     "data": {
      "text/plain": [
       "Text(0.5, 1.0, 'MSE for different methods')"
      ]
     },
     "execution_count": 658,
     "metadata": {},
     "output_type": "execute_result"
    },
    {
     "data": {
      "image/png": "[encoded data removed]",
      "text/plain": [
       "<Figure size 432x288 with 1 Axes>"
      ]
     },
     "metadata": {
      "needs_background": "light"
     },
     "output_type": "display_data"
    }
   ],
   "source": [
    "# your code here\n",
    "keys = best_mse_dict.keys()\n",
    "values = best_mse_dict.values()\n",
    "plt.bar(keys, values)\n",
    "plt.xlabel('Problem set')\n",
    "plt.ylabel('MSE value')\n",
    "plt.title('MSE for different methods')"
   ]
  },
  {
   "cell_type": "markdown",
   "metadata": {
    "autograde": "7.2",
    "deletable": false,
    "editable": false
   },
   "source": [
    "**7.2** [6 pts] Which model do you think is best, and why? What are some of its drawbacks compared to the other methods you tested?"
   ]
  },
  {
   "cell_type": "markdown",
   "metadata": {
    "deletable": false
   },
   "source": [
    "*Your answer here*\n",
    "\n",
    "I think our final model is likely the best. While I got a better result in 3.2, the number of degrees that I used was somewhat large (16). However, I was able to get a very similar MSE for the last one without using nearly as many polynomial coeficients. I have to imagine this would be helpful if we were training over a much larger data set. "
   ]
  },
  {
   "cell_type": "markdown",
   "metadata": {
    "deletable": false,
    "editable": false
   },
   "source": [
    "#### THE END"
   ]
  }
 ],
 "metadata": {
  "colab": {
   "collapsed_sections": [],
   "name": "Homework2.ipynb",
   "provenance": []
  },
  "deepnote_execution_queue": [
   {
    "cellId": "7925de61-e041-437e-ba6b-b1c3e1b2fb0c",
    "msgId": "81bcbf6f-fa59-42e6-9480-bc996bae8f99",
    "sessionId": "e7116124-0a70-4245-961a-e0041ff25d29"
   },
   {
    "cellId": "32ac05dc-6db8-4c64-8028-4a6e4c16ec1c",
    "msgId": "17b61e3a-31e9-45e0-b1c8-cba828b9a48d",
    "sessionId": "e7116124-0a70-4245-961a-e0041ff25d29"
   },
   {
    "cellId": "9e4ea6c6-2cb0-4aa1-b5bf-67be3a47ac87",
    "msgId": "66b23ef4-2198-4543-a34e-3b998d83f1c7",
    "sessionId": "e7116124-0a70-4245-961a-e0041ff25d29"
   },
   {
    "cellId": "0cdef907-9d0f-4057-a70b-71022017e321",
    "msgId": "125b9c17-7ffa-4214-9ca2-27e9e34df7c7",
    "sessionId": "e7116124-0a70-4245-961a-e0041ff25d29"
   },
   {
    "cellId": "2eefd92c-1d9f-49fe-a7f7-d7f0f4f59e95",
    "msgId": "81a1b165-ee3a-4ab0-afff-99f4dfa74eef",
    "sessionId": "e7116124-0a70-4245-961a-e0041ff25d29"
   },
   {
    "cellId": "40b93f58-240f-49bc-ab9c-a919d74b8e61",
    "msgId": "4b00a64e-a71b-4cf9-a228-cbabdbee0414",
    "sessionId": "e7116124-0a70-4245-961a-e0041ff25d29"
   },
   {
    "cellId": "2f3d3efa-8220-44b2-afbf-9600c2fea073",
    "msgId": "5bdcc501-f577-4908-9e85-aa52b44f652f",
    "sessionId": "e7116124-0a70-4245-961a-e0041ff25d29"
   },
   {
    "cellId": "2f3d3efa-8220-44b2-afbf-9600c2fea073",
    "msgId": "96fa923e-991c-409f-954b-1a9d036a7f0a",
    "sessionId": "e7116124-0a70-4245-961a-e0041ff25d29"
   },
   {
    "cellId": "cc0c9423-6587-41fb-88c4-5e7db61d7791",
    "msgId": "c4775dd8-e4e3-4505-865a-d2b54022e97c",
    "sessionId": "e7116124-0a70-4245-961a-e0041ff25d29"
   },
   {
    "cellId": "4f9d6f96-a6b7-4951-a98a-f29e0351a113",
    "msgId": "2721b704-5efa-4783-a128-ea0b813e202f",
    "sessionId": "e7116124-0a70-4245-961a-e0041ff25d29"
   },
   {
    "cellId": "4f9d6f96-a6b7-4951-a98a-f29e0351a113",
    "msgId": "14cd3ada-ede8-4693-b8ce-b1254e5357cb",
    "sessionId": "e7116124-0a70-4245-961a-e0041ff25d29"
   },
   {
    "cellId": "1e847ea0-95b4-47fa-8c71-09636de2c913",
    "msgId": "a53842aa-e7d2-4787-a474-04717a13bf12",
    "sessionId": "e7116124-0a70-4245-961a-e0041ff25d29"
   },
   {
    "cellId": "4b9d11b1-bc81-4937-8924-eda535bbe287",
    "msgId": "f9fa1ff3-ed3e-4876-8bb3-239ee4ec0279",
    "sessionId": "e7116124-0a70-4245-961a-e0041ff25d29"
   },
   {
    "cellId": "8e836c0a-f87f-43f5-9448-838d0028b904",
    "msgId": "f7641d44-aaf7-4676-bbd4-439a47d4db1f",
    "sessionId": "e7116124-0a70-4245-961a-e0041ff25d29"
   },
   {
    "cellId": "c72943b7-5e58-4fe3-9225-fa0beeff3654",
    "msgId": "1878748e-321b-484f-bee1-344ec8caf68e",
    "sessionId": "e7116124-0a70-4245-961a-e0041ff25d29"
   },
   {
    "cellId": "c4bd7d98-380a-4853-8114-51d41f0cfd95",
    "msgId": "af49c97c-7c7c-4b0c-9543-5c38d238fffb",
    "sessionId": "e7116124-0a70-4245-961a-e0041ff25d29"
   },
   {
    "cellId": "c4bd7d98-380a-4853-8114-51d41f0cfd95",
    "msgId": "691b283d-e47a-4686-9e73-4f457365a32a",
    "sessionId": "e7116124-0a70-4245-961a-e0041ff25d29"
   }
  ],
  "deepnote_notebook_id": "80dec77d-caa5-42a3-a211-a1492a1ab3e6",
  "kernelspec": {
   "display_name": "Python 3",
   "language": "python",
   "name": "python3"
  },
  "language_info": {
   "codemirror_mode": {
    "name": "ipython",
    "version": 3
   },
   "file_extension": ".py",
   "mimetype": "text/x-python",
   "name": "python",
   "nbconvert_exporter": "python",
   "pygments_lexer": "ipython3",
   "version": "3.7.8"
  }
 },
 "nbformat": 4,
 "nbformat_minor": 4
}
