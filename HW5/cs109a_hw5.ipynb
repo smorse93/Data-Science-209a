{
 "cells": [
  {
   "cell_type": "markdown",
   "metadata": {},
   "source": [
    "# <img style=\"float: left; padding-right: 10px; width: 45px\" src=\"https://raw.githubusercontent.com/Harvard-IACS/2018-CS109A/master/content/styles/iacs.png\"> CS109A Introduction to Data Science: \n",
    "## Homework 5: High Dimensionality and PCA\n",
    "\n",
    "**Harvard University**<br/>\n",
    "**Fall 2020**<br/>\n",
    "**Instructors**: Pavlos Protopapas, Kevin Rader, and Chris Tanner\n",
    "\n",
    "<hr style=\"height:2.4pt\">"
   ]
  },
  {
   "cell_type": "code",
   "execution_count": 99,
   "metadata": {},
   "outputs": [
    {
     "data": {
      "text/html": [
       "<style>\n",
       "blockquote { background: #AEDE94; }\n",
       "h1 { \n",
       "    padding-top: 25px;\n",
       "    padding-bottom: 25px;\n",
       "    text-align: left; \n",
       "    padding-left: 10px;\n",
       "    background-color: #DDDDDD; \n",
       "    color: black;\n",
       "}\n",
       "h2 { \n",
       "    padding-top: 10px;\n",
       "    padding-bottom: 10px;\n",
       "    text-align: left; \n",
       "    padding-left: 5px;\n",
       "    background-color: #EEEEEE; \n",
       "    color: black;\n",
       "}\n",
       "\n",
       "div.exercise {\n",
       "\tbackground-color: #ffcccc;\n",
       "\tborder-color: #E9967A; \t\n",
       "\tborder-left: 5px solid #800080; \n",
       "\tpadding: 0.5em;\n",
       "}\n",
       "\n",
       "div.exercise-r {\n",
       "\tbackground-color: #fce8e8;\n",
       "\tborder-color: #E9967A; \t\n",
       "\tborder-left: 5px solid #800080; \n",
       "\tpadding: 0.5em;\n",
       "}\n",
       "\n",
       "\n",
       "span.sub-q {\n",
       "\tfont-weight: bold;\n",
       "}\n",
       "div.theme {\n",
       "\tbackground-color: #DDDDDD;\n",
       "\tborder-color: #E9967A; \t\n",
       "\tborder-left: 5px solid #800080; \n",
       "\tpadding: 0.5em;\n",
       "\tfont-size: 18pt;\n",
       "}\n",
       "div.gc { \n",
       "\tbackground-color: #AEDE94;\n",
       "\tborder-color: #E9967A; \t \n",
       "\tborder-left: 5px solid #800080; \n",
       "\tpadding: 0.5em;\n",
       "\tfont-size: 12pt;\n",
       "}\n",
       "p.q1 { \n",
       "    padding-top: 5px;\n",
       "    padding-bottom: 5px;\n",
       "    text-align: left; \n",
       "    padding-left: 5px;\n",
       "    background-color: #EEEEEE; \n",
       "    color: black;\n",
       "}\n",
       "header {\n",
       "   padding-top: 35px;\n",
       "    padding-bottom: 35px;\n",
       "    text-align: left; \n",
       "    padding-left: 10px;\n",
       "    background-color: #DDDDDD; \n",
       "    color: black;\n",
       "}\n",
       "</style>\n",
       "\n"
      ],
      "text/plain": [
       "<IPython.core.display.HTML object>"
      ]
     },
     "execution_count": 99,
     "metadata": {},
     "output_type": "execute_result"
    }
   ],
   "source": [
    "#RUN THIS CELL \n",
    "import requests\n",
    "from IPython.core.display import HTML\n",
    "styles = requests.get(\"https://raw.githubusercontent.com/Harvard-IACS/2018-CS109A/master/content/styles/cs109.css\").text\n",
    "HTML(styles)"
   ]
  },
  {
   "cell_type": "code",
   "execution_count": 100,
   "metadata": {},
   "outputs": [
    {
     "data": {
      "text/html": [
       "<style>\n",
       ".jp-MarkdownCell {background-color: cornsilk;}\n",
       ".text_cell {background-color: cornsilk;}\n",
       "</style>\n"
      ],
      "text/plain": [
       "<IPython.core.display.HTML object>"
      ]
     },
     "metadata": {},
     "output_type": "display_data"
    }
   ],
   "source": [
    "%%html\n",
    "<style>\n",
    ".jp-MarkdownCell {background-color: cornsilk;}\n",
    ".text_cell {background-color: cornsilk;}\n",
    "</style>"
   ]
  },
  {
   "cell_type": "code",
   "execution_count": 101,
   "metadata": {},
   "outputs": [],
   "source": [
    "#RUN THIS CELL\n",
    "import os\n",
    "import pathlib\n",
    "working_dir = pathlib.Path().absolute()\n",
    "os.chdir(working_dir)"
   ]
  },
  {
   "cell_type": "markdown",
   "metadata": {
    "cell_id": "e3ac03bc-f0ec-4c6b-a41a-9c8eeaa80770",
    "colab_type": "text",
    "id": "-5WJkGo16514"
   },
   "source": [
    "<hr style=\"height:2pt\">\n",
    "\n",
    "### INSTRUCTIONS\n",
    "\n",
    "- To submit your assignment follow the instructions given in Canvas.\n",
    "\n",
    "- This homework can be submitted in pairs, and it is encouraged for you to do so. Especially during covid and distancing, this can be a way to work with other students and learn alongside one another. As future data scientists, you will often be expected to work with others, and working in pairs can help practice communicating data science concepts.\n",
    "\n",
    "- Please restart the kernel and run the entire notebook again before you submit.\n",
    "\n",
    "- Running cells out of order is a common pitfall in Jupyter Notebooks. To make sure your code works restart the kernel and run the whole notebook again before you submit. Exceptions should be made for code with a long execution time, of course.\n",
    "- We have tried to include all the libraries you may need to do the assignment in the imports statement at the top of this notebook. We strongly suggest that you use those and not others as we may not be familiar with them. .\n",
    "- Please use .head() when viewing data. Do not submit a notebook that is **excessively long**. \n",
    "- In questions that require code to answer, such as \"calculate the $R^2$\", do not just output the value from a cell. Write a `print()` function that includes a reference to the calculated value, **not hardcoded**. For example: \n",
    "```\n",
    "print(f'The R^2 is {R:.4f}')\n",
    "```\n",
    "\n",
    "<hr style=\"height:2pt\">"
   ]
  },
  {
   "cell_type": "code",
   "execution_count": 102,
   "metadata": {},
   "outputs": [],
   "source": [
    "import numpy as np\n",
    "import pandas as pd\n",
    "import seaborn as sns\n",
    "import matplotlib\n",
    "import matplotlib.pyplot as plt\n",
    "%matplotlib inline\n",
    "\n",
    "from sklearn.linear_model import LogisticRegression\n",
    "from sklearn.linear_model import LogisticRegressionCV\n",
    "from sklearn.linear_model import LinearRegression\n",
    "\n",
    "from sklearn.model_selection import cross_val_score\n",
    "from sklearn.metrics import accuracy_score\n",
    "from sklearn.model_selection import KFold\n",
    "from sklearn.preprocessing import MinMaxScaler\n",
    "from sklearn.preprocessing import PolynomialFeatures\n",
    "from sklearn.model_selection import train_test_split\n",
    "from sklearn import metrics\n",
    "from sklearn.decomposition import PCA"
   ]
  },
  {
   "cell_type": "markdown",
   "metadata": {},
   "source": [
    "<div class='theme'> Cancer Classification from Gene Expressions </div>\n",
    "\n",
    "In this assignment, we will build several classification models to distinguish between two related classes of cancer, acute lymphoblastic leukemia (ALL) and acute myeloid leukemia (AML), using gene expression measurements. The .csv data file is provided in the compressed file `data/hw5_genes_multiclass.zip`. Each row in this file corresponds to a tumor tissue sample from a patient with one of the two forms of leukemia.  Note: there are two different forms of the response variable. \n",
    "\n",
    "- The first column contains `Cancer_type`: **0 = ALL** class and **1 = AML** class\n",
    "- Columns 2-7130 contain expression levels of 7129 genes recorded from each tissue sample \n",
    "- The last column `Cancer_subtype` additionally distinguishes between two subtypes of ALL, subtype T and subtype B (used in problem 5): **0 = ALL subtype T**, **1 = ALL subtype B**, **2 = type AML**. \n",
    "\n",
    "In the following questions, we will use logistic regression and PCA to build classification models for this data set. "
   ]
  },
  {
   "cell_type": "markdown",
   "metadata": {},
   "source": [
    "## Contents\n",
    "- [Question 1 [20 pts]: Data Exploration](#Question-1-[20-pts]:-Data-Exploration) \n",
    "- [Question 2 [25 pts]: Logistic Regression Modeling](#Question-2-[25-pts]:-Logistic-Regression-Modeling) \n",
    "- [Question 3 [20 pts]: Performing Principal Components Analysis](#Question-3-[20-pts]:-Performing-Principal-Components-Analysis)\n",
    "- [Question 4 [10 pts]: Principal Components Regression (PCR)](#Question-4-[10-pts]:-Principal-Components-Regression-(PCR))\n",
    "- [Question 5 [25 pts]: Multi-Class Response](#Question-5-[25-pts]:-Multi-Class-Response)"
   ]
  },
  {
   "cell_type": "markdown",
   "metadata": {},
   "source": [
    "#### <div class='exercise'><b>Question 1 [20 pts]: Data Exploration</b></div>"
   ]
  },
  {
   "cell_type": "markdown",
   "metadata": {},
   "source": [
    "[▲ Return to contents](#Contents)"
   ]
  },
  {
   "cell_type": "markdown",
   "metadata": {},
   "source": [
    "The first step is to split the observations into an approximate 75-25 train-test split.  Below we provide some code to do this for you (we want to make sure everyone has the same splits). It also prints the dataset shape before splitting and after splitting. `Cancer_type` is our response variable for problems 1-4, while `Cancer_subtype` is the response variable in problem 5.\n",
    "\n",
    "\n",
    "**1.1** Take a peek at your training set: you should notice the severe differences in the measurements from one gene to the next (some are negative, some hover around zero, and some are well into the thousands). To account for these differences in scale, normalize each predictor to vary between 0 and 1.   **NOTE: for the entirety of this homework assignment, you will use these normalized values, not the original, raw values**.\n",
    "\n",
    "\n",
    "**1.2** The training set contains more predictors than observations. What problem(s) can this lead to in fitting a classification model to such a dataset? Explain in 3 or fewer sentences.\n",
    "\n",
    "\n",
    "**1.3** Determine which 10 genes best individually discriminates between the two cancer classes (Note: consider every gene in the dataset).  Then determine the single best gene predictor.  Plot two sets of histograms of your `best_predictor` -- one using the training set and another using the test set.  The histograms should clearly distinguish two different `Cancer_type` classes.\n",
    "\n",
    "**Hint:** You may use any reasonable approach to determine the `best_predictor`, but please use something very simple (whether taught in this class or elsewhere).\n",
    "\n",
    "**1.4** Using `best_predictor`, create a classification model by eye-balling a value for this gene that would best discriminate the two cancer classes in the training set. (Note: Do not use an algorithm to determine for you the optimal coefficient or threshold; we are asking you to provide a rough estimate / model by manual inspection.) Justify your choice of value in 1-2 sentences. Report the accuracy of your hand-chosen model on the train and test sets."
   ]
  },
  {
   "cell_type": "markdown",
   "metadata": {},
   "source": [
    "---\n"
   ]
  },
  {
   "cell_type": "code",
   "execution_count": 202,
   "metadata": {},
   "outputs": [
    {
     "name": "stdout",
     "output_type": "stream",
     "text": [
      "(752, 7131)\n",
      "(564, 7129) (188, 7129) (564,) (188,)\n",
      "0.0    0.511968\n",
      "1.0    0.488032\n",
      "Name: Cancer_type, dtype: float64\n"
     ]
    }
   ],
   "source": [
    "#############################\n",
    "## DO NOT MODIFY THIS CODE ##\n",
    "#############################\n",
    "\n",
    "np.random.seed(109)\n",
    "#zf = zipfile.ZipFile('data/hw5_genes_multiclass.csv.zip') \n",
    "df = pd.read_csv('data/hw5_genes_multiclass.csv')\n",
    "X = df.drop(['Cancer_type','Cancer_subtype'], axis=1)\n",
    "X_train, X_test, y_train, y_test, y2_train, y2_test  = train_test_split(\n",
    "    X, df.Cancer_type, df.Cancer_subtype, test_size=0.25, random_state = 109,\n",
    "    stratify = df.Cancer_subtype)\n",
    "\n",
    "print(df.shape)\n",
    "print(X_train.shape, X_test.shape, y_train.shape, y_test.shape)\n",
    "print(df.Cancer_type.value_counts(normalize=True))"
   ]
  },
  {
   "cell_type": "markdown",
   "metadata": {},
   "source": [
    "\n",
    "## Answers"
   ]
  },
  {
   "cell_type": "markdown",
   "metadata": {
    "autograde": "1.1",
    "cell_id": "0a790850-87c6-4f46-b89e-048a2295c92b",
    "colab_type": "text",
    "id": "IGFtXJmQap2q"
   },
   "source": [
    "<div class='exercise-r'>  \n",
    " \n",
    "**1.1** Take a peek at your training set: you should notice the severe differences in the measurements from one gene to the next (some are negative, some hover around zero, and some are well into the thousands). To account for these differences in scale, normalize each predictor to vary between 0 and 1.   **NOTE: for the entirety of this homework assignment, you will use these normalized values, not the original, raw values**.\n",
    " \n",
    " \n",
    " </div>"
   ]
  },
  {
   "cell_type": "code",
   "execution_count": 191,
   "metadata": {},
   "outputs": [
    {
     "data": {
      "text/plain": [
       "640    0.0\n",
       "506    1.0\n",
       "642    0.0\n",
       "187    0.0\n",
       "284    0.0\n",
       "      ... \n",
       "658    1.0\n",
       "625    0.0\n",
       "454    1.0\n",
       "287    1.0\n",
       "476    1.0\n",
       "Name: Cancer_type, Length: 564, dtype: float64"
      ]
     },
     "execution_count": 191,
     "metadata": {},
     "output_type": "execute_result"
    }
   ],
   "source": [
    "#Normalize the data \n",
    "X_train_norm = (X_train - X_train.min())/(X_train.max() - X_train.min()) \n",
    "X_test_norm = (X_test - X_train.min())/(X_train.max() - X_train.min())\n",
    "\n",
    "y_train"
   ]
  },
  {
   "cell_type": "markdown",
   "metadata": {
    "autograde": "1.2",
    "cell_id": "0a790850-87c6-4f46-b89e-048a2295c92b",
    "colab_type": "text",
    "id": "IGFtXJmQap2q"
   },
   "source": [
    "<div class='exercise-r'>  \n",
    " \n",
    "**1.2** The training set contains more predictors than observations. What problem(s) can this lead to in fitting a classification model to such a dataset? Explain in 3 or fewer sentences.\n",
    " \n",
    " \n",
    " </div>"
   ]
  },
  {
   "cell_type": "markdown",
   "metadata": {},
   "source": [
    "Several issues can occur when our p values are larger than our n (data set). three big ones are matrixes that no longer become invertible and multicolinearity can cause issues. In addition to this we are likely to see overfitting. "
   ]
  },
  {
   "cell_type": "markdown",
   "metadata": {
    "autograde": "1.3",
    "cell_id": "0a790850-87c6-4f46-b89e-048a2295c92b",
    "colab_type": "text",
    "id": "IGFtXJmQap2q"
   },
   "source": [
    "<div class='exercise-r'>  \n",
    " \n",
    "**1.3** Determine which 10 genes best individually discriminates between the two cancer classes (Note: consider every gene in the dataset).  Then determine the single best gene predictor.  Plot two sets of histograms of your `best_predictor` -- one using the training set and another using the test set.  The histograms should clearly distinguish two different `Cancer_type` classes.\n",
    " \n",
    " **Hint:** You may use any reasonable approach to determine the `best_predictor`, but please use something very simple (whether taught in this class or elsewhere).\n",
    " \n",
    " </div>"
   ]
  },
  {
   "cell_type": "code",
   "execution_count": 105,
   "metadata": {},
   "outputs": [
    {
     "data": {
      "image/png": "[encoded data removed]",
      "text/plain": [
       "<Figure size 432x288 with 1 Axes>"
      ]
     },
     "metadata": {
      "needs_background": "light"
     },
     "output_type": "display_data"
    },
    {
     "data": {
      "image/png": "[encoded data removed]",
      "text/plain": [
       "<Figure size 432x288 with 1 Axes>"
      ]
     },
     "metadata": {
      "needs_background": "light"
     },
     "output_type": "display_data"
    },
    {
     "name": "stdout",
     "output_type": "stream",
     "text": [
      "the best predictor from the training data is: K02766_at\n"
     ]
    }
   ],
   "source": [
    "#fit linear regression to the data using each predictor, plot the 10 largest coefficients \n",
    "best_predictor = pd.DataFrame(columns = [\"gene\", \"coef\"]) \n",
    "\n",
    "#regression fit\n",
    "lreg = LinearRegression()\n",
    "lreg.fit(X_train_norm, y_train)\n",
    "coef_dict = dict(zip(df.columns[:-1], np.transpose(lreg.coef_)))\n",
    "predictors,coefficients = list(zip(*sorted(coef_dict.items(),key=lambda x: x[1])))\n",
    "\n",
    "lreg_test = LinearRegression()\n",
    "lreg_test.fit(X_test_norm, y_test)\n",
    "coef_dict_test = dict(zip(df.columns[:-1], np.transpose(lreg_test.coef_)))\n",
    "predictors_test,coefficients_test = list(zip(*sorted(coef_dict_test.items(),key=lambda x: x[1])))\n",
    "\n",
    "#plot train\n",
    "fig, ax = plt.subplots()\n",
    "ax.barh(predictors[0:10],coefficients[0:10], align='center',alpha=0.7, left = None)\n",
    "ax.grid(linewidth=0.2)\n",
    "ax.set_xlabel(\"Coefficient\")\n",
    "ax.set_ylabel(\"Predictors\")\n",
    "ax.set_title(\"Top 10 Training Set Predictors\")\n",
    "plt.show()\n",
    "\n",
    "#plot test\n",
    "fig, ax = plt.subplots()\n",
    "ax.barh(predictors_test[0:10],coefficients_test[0:10], align='center',alpha=0.7, left = None)\n",
    "ax.grid(linewidth=0.2)\n",
    "ax.set_xlabel(\"Coefficient Test\")\n",
    "ax.set_ylabel(\"Predictors Test\")\n",
    "ax.set_title(\"Top 10 Test Set Predictors\")\n",
    "plt.show()\n",
    "\n",
    "best_predictor = predictors[0]\n",
    "print(\"the best predictor from the training data is:\", best_predictor)"
   ]
  },
  {
   "cell_type": "markdown",
   "metadata": {
    "autograde": "1.4",
    "cell_id": "0a790850-87c6-4f46-b89e-048a2295c92b",
    "colab_type": "text",
    "id": "IGFtXJmQap2q"
   },
   "source": [
    "<div class='exercise-r'>  \n",
    "    \n",
    "**1.4** Using `best_predictor`, create a classification model by eye-balling a value for this gene that would best discriminate the two cancer classes in the training set. (Note: Do not use an algorithm to determine for you the optimal coefficient or threshold; we are asking you to provide a rough estimate / model by manual inspection.) Justify your choice of value in 1-2 sentences. Report the accuracy of your hand-chosen model on the train and test sets."
   ]
  },
  {
   "cell_type": "code",
   "execution_count": 496,
   "metadata": {},
   "outputs": [],
   "source": [
    "logr = LogisticRegression().fit(X_train_norm[['K02766_at']], y_train)\n",
    "y_pred = logr.predict(X_train_norm[['K02766_at']])\n",
    "\n",
    "y_pred.sort()\n"
   ]
  },
  {
   "cell_type": "code",
   "execution_count": 495,
   "metadata": {},
   "outputs": [
    {
     "data": {
      "image/png": "[encoded data removed]",
      "text/plain": [
       "<Figure size 432x288 with 1 Axes>"
      ]
     },
     "metadata": {
      "needs_background": "light"
     },
     "output_type": "display_data"
    }
   ],
   "source": [
    "fig, ax = plt.subplots()\n",
    "ax.plot(X_train_norm[['K02766_at']], y_pred, label = \"log reg\")\n",
    "ax.scatter(X_train_norm['K02766_at'], y_train, marker = \".\")\n",
    "ax.set_xlabel(\"X_train['k02766_at']\")\n",
    "ax.set_ylabel(\"y_train\")\n",
    "ax.set_title(\"Top 10 Test Set Predictors\")\n",
    "plt.show()\n",
    "\n",
    "#still need to fit the basic \"eyeballed\" logist line to this "
   ]
  },
  {
   "cell_type": "markdown",
   "metadata": {},
   "source": [
    "I didn't need to fit the regression line here, but I think a straight line around 0.5 would suffice. So greater than 0.5 = 1, less than 0.5 --> y = 0"
   ]
  },
  {
   "cell_type": "markdown",
   "metadata": {},
   "source": [
    "#### <div class='exercise'><b>Question 2 [25 pts]: Logistic Regression Modeling</b></div>"
   ]
  },
  {
   "cell_type": "markdown",
   "metadata": {},
   "source": [
    "[▲ Return to contents](#Contents)"
   ]
  },
  {
   "cell_type": "markdown",
   "metadata": {},
   "source": [
    "**2.1** Fit a simple logistic regression model to the training set using the single gene predictor `best_predictor` to predict cancer type. Calculate and display the training and test classification accuracies of this model. \n",
    "How do accuracies compare to the eye-balled ones from 1.4? \n",
    "\n",
    "**2.2** Next, fit a multiple logistic regression model with **all** the gene predictors from the data set (reminder: for this assignment, we are always using the normalized values).  \n",
    "How does the classification accuracy of this model compare with the logistic and eyeballed models above which were fit with a single gene? Be sure to evaluate both the training and test sets.\n",
    "\n",
    "**2.3** Print out the logistic regression coefficients for  `best_predictor` from the simple logistic and multiple logistic regression models in part 1 and part 2 above.  Interpret the coefficients: Do they agree or disagree?  What does this indicate?\n",
    "\n",
    "**2.4** Now let's use regularization to improve the predictions from the multiple logistic regression model. Specifically, use LASSO-like regularization and 5-fold cross-validation to fit the model on the training set. \n",
    "Report the chosen best value of the regularization hyperparamter and the classification accuracy on both the training and test sets.\n",
    "\n",
    "**2.5** Compare the classification accuracies (both train and test) between the un-regularized multiple logistic regression model to the regularized one. Briefly explain why these results occur.\n",
    "\n",
    "**2.6** How many predictors are considered as important features in this regularized model?  What does that say about the full logistic regression model in problem 2.2?"
   ]
  },
  {
   "cell_type": "markdown",
   "metadata": {},
   "source": [
    "\n",
    "## Answers"
   ]
  },
  {
   "cell_type": "markdown",
   "metadata": {
    "autograde": "2.1",
    "cell_id": "0a790850-87c6-4f46-b89e-048a2295c92b",
    "colab_type": "text",
    "id": "IGFtXJmQap2q"
   },
   "source": [
    "<div class='exercise-r'>  \n",
    " \n",
    "**2.1** Fit a simple logistic regression model to the training set using the single gene predictor `best_predictor` to predict cancer type. Calculate and display the training and test classification accuracies of this model.\n",
    " How do accuracies compare to the eye-balled ones from 1.4?\n",
    " \n",
    " </div>"
   ]
  },
  {
   "cell_type": "code",
   "execution_count": 107,
   "metadata": {},
   "outputs": [
    {
     "name": "stdout",
     "output_type": "stream",
     "text": [
      "train accuracy = 0.571 test accuracy = 0.553\n"
     ]
    }
   ],
   "source": [
    "# your code here\n",
    "logr = LogisticRegression()\n",
    "logr.fit(X_train_norm[['K02766_at']], y_train)\n",
    "\n",
    "logr_test = LogisticRegression()\n",
    "logr_test.fit(X_test_norm[['K02766_at']], y_test)\n",
    "\n",
    "train_accuracy = logr.score(X_train_norm[['K02766_at']], y_train)\n",
    "test_accuracy = logr_test.score(X_test_norm[['K02766_at']], y_test)\n",
    "\n",
    "print(\"train accuracy = %5.3f\" %train_accuracy + \" test accuracy = %5.3f\" %test_accuracy)"
   ]
  },
  {
   "cell_type": "markdown",
   "metadata": {},
   "source": [
    "I would expect my classifier from the previous problem to work slightly better than 50 percent of the time, so that is similar in accuracy to what I got her. "
   ]
  },
  {
   "cell_type": "markdown",
   "metadata": {
    "autograde": "2.2",
    "cell_id": "0a790850-87c6-4f46-b89e-048a2295c92b",
    "colab_type": "text",
    "id": "IGFtXJmQap2q"
   },
   "source": [
    "<div class='exercise-r'>  \n",
    " \n",
    "**2.2** Next, fit a multiple logistic regression model with **all** the gene predictors from the data set (reminder: for this assignment, we are always using the normalized values).\n",
    " How does the classification accuracy of this model compare with the logistic and eyeballed models above which were fit with a single gene? Be sure to evaluate both the training and test sets.\n",
    " \n",
    " </div>"
   ]
  },
  {
   "cell_type": "code",
   "execution_count": 111,
   "metadata": {},
   "outputs": [
    {
     "name": "stdout",
     "output_type": "stream",
     "text": [
      "train accuracy = 1.000 test accuracy = 0.835\n"
     ]
    }
   ],
   "source": [
    "logit_ovr = LogisticRegression(penalty='none', multi_class='ovr',max_iter = 100).fit(X_train_norm, y_train)\n",
    "train_accuracy = logit_ovr.score(X_train_norm, y_train)\n",
    "test_accuracy  = logit_ovr.score(X_test_norm, y_test)\n",
    "\n",
    "print(\"train accuracy = %5.3f\" %train_accuracy + \" test accuracy = %5.3f\" %test_accuracy)"
   ]
  },
  {
   "cell_type": "markdown",
   "metadata": {},
   "source": [
    "This is a much more accurate fit to the test data. Of course we received a 1.0 accuracy for the training set since the data is overfit due to the large number of p as described in question 1.2"
   ]
  },
  {
   "cell_type": "code",
   "execution_count": 131,
   "metadata": {
    "scrolled": false
   },
   "outputs": [
    {
     "data": {
      "text/plain": [
       "array([[1.69032433]])"
      ]
     },
     "execution_count": 131,
     "metadata": {},
     "output_type": "execute_result"
    }
   ],
   "source": [
    "logr.coef_"
   ]
  },
  {
   "cell_type": "markdown",
   "metadata": {
    "autograde": "2.3",
    "cell_id": "0a790850-87c6-4f46-b89e-048a2295c92b",
    "colab_type": "text",
    "id": "IGFtXJmQap2q"
   },
   "source": [
    "<div class='exercise-r'>  \n",
    " \n",
    "**2.3** Print out the logistic regression coefficients for  `best_predictor` from the simple logistic and multiple logistic regression models in part 1 and part 2 above.  Interpret the coefficients: Do they agree or disagree?  What does this indicate?\n",
    " \n",
    " </div>"
   ]
  },
  {
   "cell_type": "code",
   "execution_count": 148,
   "metadata": {},
   "outputs": [
    {
     "name": "stdout",
     "output_type": "stream",
     "text": [
      "Coefficient best_predictor simple logistic: 1.690 Coefficient best_predictor multiple logistic: 2.784\n"
     ]
    }
   ],
   "source": [
    "column_location = X_train_norm.columns.get_loc(\"K02766_at\")\n",
    "#checking column length to make sure this checks out \n",
    "logit_ovr_coef = logit_ovr.coef_.reshape(-1,1)\n",
    "print(\"Coefficient best_predictor simple logistic: %5.3f\" %logr.coef_ + \" Coefficient best_predictor multiple logistic: %5.3f\"% logit_ovr_coef[column_location])"
   ]
  },
  {
   "cell_type": "markdown",
   "metadata": {},
   "source": [
    "It is impossible to compare here since the multi-logistic regression makes use of many predictors where as the simple only uses one, we can't look at these two relative to one another in that sense. I will note that it seems like the coefficient value for the multiple logistic value of K02766_at is not exceptionally large relative to other values"
   ]
  },
  {
   "cell_type": "markdown",
   "metadata": {},
   "source": [
    "*Your answer here*"
   ]
  },
  {
   "cell_type": "markdown",
   "metadata": {
    "autograde": "2.4",
    "cell_id": "0a790850-87c6-4f46-b89e-048a2295c92b",
    "colab_type": "text",
    "id": "IGFtXJmQap2q"
   },
   "source": [
    "<div class='exercise-r'>  \n",
    " \n",
    "**2.4** Now let's use regularization to improve the predictions from the multiple logistic regression model. Specifically, use LASSO-like regularization and 5-fold cross-validation to fit the model on the training set.\n",
    " Report the chosen best value of the regularization hyperparamter and the classification accuracy on both the training and test sets.\n",
    " \n",
    " </div>"
   ]
  },
  {
   "cell_type": "code",
   "execution_count": 152,
   "metadata": {},
   "outputs": [
    {
     "name": "stdout",
     "output_type": "stream",
     "text": [
      "Score for lasso train: 0.947 Score for lasso test: 0.883\n"
     ]
    }
   ],
   "source": [
    "Cs = [1e-4,1e-3,1e-2,1e-1,1e0,1e1,1e2,1e3,1e4]\n",
    "cv = 5\n",
    "penalty = 'l1'\n",
    "solver = 'liblinear'\n",
    "\n",
    "logit_lasso= LogisticRegressionCV(Cs=Cs, cv=cv, penalty=penalty, solver='liblinear'\n",
    ").fit(X_train_norm, y_train)\n",
    "\n",
    "logit_lasso_score_train = logit_lasso.score(X_train_norm, y_train)\n",
    "logit_lasso_score_test= logit_lasso.score(X_test_norm, y_test)\n",
    "\n",
    "\n",
    "print(\"Score for lasso train: %5.3f\" %logit_lasso_score_train + \n",
    "      \" Score for lasso test: %5.3f\" %logit_lasso_score_test)"
   ]
  },
  {
   "cell_type": "markdown",
   "metadata": {
    "autograde": "2.5",
    "cell_id": "0a790850-87c6-4f46-b89e-048a2295c92b",
    "colab_type": "text",
    "id": "IGFtXJmQap2q"
   },
   "source": [
    "<div class='exercise-r'>  \n",
    " \n",
    "**2.5** Compare the classification accuracies (both train and test) between the un-regularized multiple logistic regression model to the regularized one. Briefly explain why these results occur.\n",
    " \n",
    " </div>"
   ]
  },
  {
   "cell_type": "markdown",
   "metadata": {},
   "source": [
    "Regularization discourages our model from training exceedingly complex versions of the model. This avoids overfitting concerns and thus makes a more universal model for us. For this reason we got a slightly higher test score. "
   ]
  },
  {
   "cell_type": "markdown",
   "metadata": {
    "autograde": "2.6",
    "cell_id": "0a790850-87c6-4f46-b89e-048a2295c92b",
    "colab_type": "text",
    "id": "IGFtXJmQap2q"
   },
   "source": [
    "<div class='exercise-r'>  \n",
    "    \n",
    "**2.6** How many predictors are considered as important features in this regularized model?  What does that say about the full logistic regression model in problem 2.2?"
   ]
  },
  {
   "cell_type": "code",
   "execution_count": 530,
   "metadata": {},
   "outputs": [
    {
     "ename": "TypeError",
     "evalue": "'method' object is not iterable",
     "output_type": "error",
     "traceback": [
      "\u001b[0;31m---------------------------------------------------------------------------\u001b[0m",
      "\u001b[0;31mTypeError\u001b[0m                                 Traceback (most recent call last)",
      "\u001b[0;32m<ipython-input-530-7cebb19c6557>\u001b[0m in \u001b[0;36m<module>\u001b[0;34m\u001b[0m\n\u001b[1;32m      2\u001b[0m \u001b[0mlasso_df\u001b[0m \u001b[0;34m=\u001b[0m \u001b[0mpd\u001b[0m\u001b[0;34m.\u001b[0m\u001b[0mDataFrame\u001b[0m\u001b[0;34m(\u001b[0m\u001b[0mlogit_lasso\u001b[0m\u001b[0;34m.\u001b[0m\u001b[0mcoef_\u001b[0m\u001b[0;34m)\u001b[0m\u001b[0;34m\u001b[0m\u001b[0;34m\u001b[0m\u001b[0m\n\u001b[1;32m      3\u001b[0m \u001b[0ma\u001b[0m \u001b[0;34m=\u001b[0m \u001b[0mlasso_df\u001b[0m\u001b[0;34m.\u001b[0m\u001b[0mtranspose\u001b[0m\u001b[0;34m\u001b[0m\u001b[0;34m\u001b[0m\u001b[0m\n\u001b[0;32m----> 4\u001b[0;31m \u001b[0mb\u001b[0m \u001b[0;34m=\u001b[0m \u001b[0mpd\u001b[0m\u001b[0;34m.\u001b[0m\u001b[0mDataFrame\u001b[0m\u001b[0;34m(\u001b[0m\u001b[0mlist\u001b[0m\u001b[0;34m(\u001b[0m\u001b[0ma\u001b[0m\u001b[0;34m)\u001b[0m\u001b[0;34m,\u001b[0m \u001b[0mcolumns\u001b[0m \u001b[0;34m=\u001b[0m \u001b[0;34m[\u001b[0m\u001b[0;34m'a'\u001b[0m\u001b[0;34m]\u001b[0m\u001b[0;34m)\u001b[0m\u001b[0;34m\u001b[0m\u001b[0;34m\u001b[0m\u001b[0m\n\u001b[0m",
      "\u001b[0;31mTypeError\u001b[0m: 'method' object is not iterable"
     ]
    }
   ],
   "source": [
    "# your code here\n",
    "lasso_df = pd.DataFrame(logit_lasso.coef_)\n",
    "a = lasso_df.transpose\n",
    "b = pd.DataFrame(list(a), columns = ['a'])"
   ]
  },
  {
   "cell_type": "markdown",
   "metadata": {},
   "source": [
    "*Your answer here*"
   ]
  },
  {
   "cell_type": "markdown",
   "metadata": {},
   "source": [
    "---"
   ]
  },
  {
   "cell_type": "markdown",
   "metadata": {},
   "source": [
    "#### <div class='exercise'><b>Question 3 [20 pts]: Performing Principal Components Analysis</b></div>"
   ]
  },
  {
   "cell_type": "markdown",
   "metadata": {},
   "source": [
    "[▲ Return to contents](#Contents)"
   ]
  },
  {
   "cell_type": "markdown",
   "metadata": {},
   "source": [
    "**3.1** Create the full PCA decomposition of `X_train` and apply the transformation to both `X_train` and `X_test`.  Report the shape of both of these.  What is the limiting factor for the maximum number of PCA components for this data set? \n",
    "\n",
    "**3.2** PCA is often solely used to help in visualizing high-dimensional problems.  Plot the scatterplot of the second PCA vector of train on the $Y$-axis and the first PCA vector of train on the $X$-axis (be sure to denote the classes via different colors and markings).  In 2-3 sentences, explain why using the scatterplot of the top two PCA vectors is a useful approach to visualize a high dimensional classification problem.\n",
    "\n",
    "**3.3** Determine and report the variance explained in `X_train` based on the top two PCA vectors.  Determine and report how many PCA vectors are needed so that 90\\% of the variability in the predictors is explained, and create a plot to illustrate this result (Hint: look at cumulative explained variability vs. number of PCA components used).\n",
    "\n",
    "**3.4** Plot explained variability in the predictors on the $Y$-axis and the PCA component number on the $X$-axis. Select a reasonable value for the number of components that balances representativeness (of the predictors) with parsimony."
   ]
  },
  {
   "cell_type": "markdown",
   "metadata": {},
   "source": [
    "<hr>"
   ]
  },
  {
   "cell_type": "markdown",
   "metadata": {},
   "source": [
    "\n",
    "## Answers"
   ]
  },
  {
   "cell_type": "code",
   "execution_count": 301,
   "metadata": {},
   "outputs": [
    {
     "name": "stdout",
     "output_type": "stream",
     "text": [
      "Shape of PCA transformed train:  (564, 564) Shape of PCA transformed test: (188, 564)\n",
      "Shape of X_train:  (564, 7129) Shape of X_test: (188, 7129)\n"
     ]
    }
   ],
   "source": [
    "#Fit the PCA\n",
    "pca = PCA().fit(X_train)\n",
    "\n",
    "# apply the pca transformation to the full predictor set and test set\n",
    "pca_train = pca.transform(X_train)\n",
    "pca_test = pca.transform(X_test)\n",
    "\n",
    "#get shapes\n",
    "train_shape = pca_train.shape\n",
    "test_shape = pca_test.shape\n",
    "\n",
    "print(\"Shape of PCA transformed train: \",train_shape,  \n",
    "      \"Shape of PCA transformed test:\",  test_shape )\n",
    "x_train_shape = X_train.shape\n",
    "x_test_shape = X_test.shape\n",
    "\n",
    "print(\"Shape of X_train: \",x_train_shape,  \n",
    "      \"Shape of X_test:\", x_test_shape )"
   ]
  },
  {
   "cell_type": "code",
   "execution_count": 437,
   "metadata": {},
   "outputs": [
    {
     "data": {
      "text/plain": [
       "array([[   742.98481525,  20258.23721906, -28221.70434607, ...,\n",
       "          1398.62233545,    274.30700308,   -802.21589816],\n",
       "       [-70311.30706349, -48755.32405089,  80487.86365616, ...,\n",
       "          1111.65037178,    170.50440017,   3358.66297896],\n",
       "       [ 15646.24750778,  -1450.50844024,   6476.80678116, ...,\n",
       "           241.27970299,   -109.17902955,   -170.42298901],\n",
       "       ...,\n",
       "       [ 11487.37923128, -21325.79844532,  21790.50607984, ...,\n",
       "         -1309.57428574,   -478.37771409,   1469.01399398],\n",
       "       [-32450.1526489 ,  34885.81021685, -11184.89655024, ...,\n",
       "         -1610.17602896,   -195.78087621,  -1716.01482277],\n",
       "       [-38515.26585668, -27208.11524539,   7934.80279944, ...,\n",
       "           160.24938944,   -268.30078929,    613.75267984]])"
      ]
     },
     "execution_count": 437,
     "metadata": {},
     "output_type": "execute_result"
    }
   ],
   "source": []
  },
  {
   "cell_type": "markdown",
   "metadata": {},
   "source": [
    "The limiting factor is the number of rows in the corresponding train/test sets"
   ]
  },
  {
   "cell_type": "code",
   "execution_count": 289,
   "metadata": {},
   "outputs": [
    {
     "data": {
      "text/plain": [
       "0.7553191489361702"
      ]
     },
     "execution_count": 289,
     "metadata": {},
     "output_type": "execute_result"
    }
   ],
   "source": [
    "lr = LogisticRegression(C=1000000, solver='lbfgs', multi_class='ovr', max_iter=10000).fit(pca_train,y_train)\n",
    "lr_train_accuracy = lr.score(pca_train,y_train)\n",
    "lr_test_accuracy = lr.score(pca_test,y_test)\n",
    "lr_test_accuracy"
   ]
  },
  {
   "cell_type": "markdown",
   "metadata": {
    "autograde": "3.2",
    "cell_id": "0a790850-87c6-4f46-b89e-048a2295c92b",
    "colab_type": "text",
    "id": "IGFtXJmQap2q"
   },
   "source": [
    "<div class='exercise-r'>  \n",
    " \n",
    "**3.2** PCA is often solely used to help in visualizing high-dimensional problems.  Plot the scatterplot of the second PCA vector of train on the $Y$-axis and the first PCA vector of train on the $X$-axis (be sure to denote the classes via different colors and markings).  In 2-3 sentences, explain why using the scatterplot of the top two PCA vectors is a useful approach to visualize a high dimensional classification problem.\n",
    " \n",
    " </div>"
   ]
  },
  {
   "cell_type": "code",
   "execution_count": 565,
   "metadata": {},
   "outputs": [
    {
     "data": {
      "text/plain": [
       "Text(0.5, 1.0, 'cancer type and pca vectors')"
      ]
     },
     "execution_count": 565,
     "metadata": {},
     "output_type": "execute_result"
    },
    {
     "data": {
      "image/png": "[encoded data removed]",
      "text/plain": [
       "<Figure size 864x360 with 2 Axes>"
      ]
     },
     "metadata": {
      "needs_background": "light"
     },
     "output_type": "display_data"
    }
   ],
   "source": [
    "\n",
    "fig,(ax1,ax2) =  plt.subplots(1, 2, figsize = (12,5))\n",
    "\n",
    "ax1.scatter(pca_train_df[['PCA1']][y_train.values == 1],pca_train_df[['PCA2']][y_train.values == 1])\n",
    "ax1.scatter(pca_train_df[['PCA1']][y_train.values == 0],pca_train_df[['PCA2']][y_train.values == 0])\n",
    "ax1.legend([\"cancer_type = 0\",\"cancer_type = 1\"])\n",
    "ax1.set_xlabel(\"First PCA Component Vector\")\n",
    "ax1.set_ylabel(\"Second PCA Component Vector\")\n",
    "ax1.set_title(\"cancer type and pca vectors\")\n",
    "\n",
    "\n"
   ]
  },
  {
   "cell_type": "markdown",
   "metadata": {},
   "source": [
    "The scatterplot is useful in how we can more easily see the seperation in the data sets. This can help us see the spread, outliers, and where the data may be seperable. "
   ]
  },
  {
   "cell_type": "markdown",
   "metadata": {
    "autograde": "3.3",
    "cell_id": "0a790850-87c6-4f46-b89e-048a2295c92b",
    "colab_type": "text",
    "id": "IGFtXJmQap2q"
   },
   "source": [
    "<div class='exercise-r'>  \n",
    " \n",
    "**3.3** Determine and report the variance explained in `X_train` based on the top two PCA vectors.  Determine and report how many PCA vectors are needed so that 90\\% of the variability in the predictors is explained, and create a plot to illustrate this result (Hint: look at cumulative explained variability vs. number of PCA components used).\n",
    " \n",
    " </div>"
   ]
  },
  {
   "cell_type": "code",
   "execution_count": 329,
   "metadata": {},
   "outputs": [
    {
     "name": "stdout",
     "output_type": "stream",
     "text": [
      "Total Variance Explained: 0.12813690930389965\n"
     ]
    }
   ],
   "source": [
    "var_explained = pca.explained_variance_ratio_\n",
    "print(\"Total Variance Explained:\", np.sum(var_explained[0:2]))  "
   ]
  },
  {
   "cell_type": "code",
   "execution_count": 361,
   "metadata": {},
   "outputs": [
    {
     "name": "stdout",
     "output_type": "stream",
     "text": [
      "The number of PCA vectors required to explain 90% variance is: 127\n"
     ]
    }
   ],
   "source": [
    "# your code here\n",
    "\n",
    "for i in range(len(pca_train)):\n",
    "    var_sum = np.sum(var_explained[0:(i+1)])\n",
    "    if var_sum > 0.9:\n",
    "        print(\"The number of PCA vectors required to explain 90% variance is:\", i)\n",
    "        break"
   ]
  },
  {
   "cell_type": "markdown",
   "metadata": {
    "autograde": "3.4",
    "cell_id": "0a790850-87c6-4f46-b89e-048a2295c92b",
    "colab_type": "text",
    "id": "IGFtXJmQap2q"
   },
   "source": [
    "<div class='exercise-r'>  \n",
    "    \n",
    "**3.4** Plot explained variability in the predictors on the $Y$-axis and the PCA component number on the $X$-axis. Select a reasonable value for the number of components that balances representativeness (of the predictors) with parsimony."
   ]
  },
  {
   "cell_type": "code",
   "execution_count": 340,
   "metadata": {},
   "outputs": [
    {
     "data": {
      "text/plain": [
       "0.07701689338764485"
      ]
     },
     "execution_count": 340,
     "metadata": {},
     "output_type": "execute_result"
    }
   ],
   "source": []
  },
  {
   "cell_type": "code",
   "execution_count": 362,
   "metadata": {},
   "outputs": [
    {
     "data": {
      "text/plain": [
       "Text(0.5, 1.0, 'Difference in Explained Variability of Predictors')"
      ]
     },
     "execution_count": 362,
     "metadata": {},
     "output_type": "execute_result"
    },
    {
     "data": {
      "image/png": "[encoded data removed]",
      "text/plain": [
       "<Figure size 864x360 with 1 Axes>"
      ]
     },
     "metadata": {
      "needs_background": "light"
     },
     "output_type": "display_data"
    }
   ],
   "source": [
    "# your code here\n",
    "a = 100\n",
    "linear_values = list(range(0,a))\n",
    "\n",
    "fig,(ax1) =  plt.subplots(1, figsize = (12,5))\n",
    "ax1.scatter(linear_values, var_explained[0:a] )\n",
    "ax1.set_xlabel(\"PCA Component Number\")\n",
    "ax1.set_ylabel(\"Explained variability of predictor\")\n",
    "ax1.set_title(\"Difference in Explained Variability of Predictors\")"
   ]
  },
  {
   "cell_type": "markdown",
   "metadata": {},
   "source": [
    "*Your answer here*"
   ]
  },
  {
   "cell_type": "markdown",
   "metadata": {},
   "source": [
    "#### <div class='exercise'><b>Question 4 [10 pts]: Principal Components Regression (PCR)</b></div>"
   ]
  },
  {
   "cell_type": "markdown",
   "metadata": {},
   "source": [
    "[▲ Return to contents](#Contents)"
   ]
  },
  {
   "cell_type": "markdown",
   "metadata": {},
   "source": [
    "**4.1** Fit three separate Logistic Regression models using principal components as the predictors: (1) with just the first two PCA vectors, (2) with the number of component vectors you chose from problem 3 above, and (3) with the number of components that explain at least 90% of the variability in the predictor set. How do the classification accuracy values on both the training and test sets compare with the models fit in Question 2?\n",
    "\n",
    "**4.2** Use cross-validation to determine the best number of principal components. Try out the 3 values from the previous sub-part and optionally include other values as well. \n"
   ]
  },
  {
   "cell_type": "markdown",
   "metadata": {},
   "source": [
    "<hr>"
   ]
  },
  {
   "cell_type": "markdown",
   "metadata": {},
   "source": [
    "\n",
    "## Answers"
   ]
  },
  {
   "cell_type": "markdown",
   "metadata": {
    "autograde": "4.1",
    "cell_id": "0a790850-87c6-4f46-b89e-048a2295c92b",
    "colab_type": "text",
    "id": "IGFtXJmQap2q"
   },
   "source": [
    "<div class='exercise-r'>  \n",
    " \n",
    "**4.1** Fit three separate Logistic Regression models using principal components as the predictors: (1) with just the first two PCA vectors, (2) with the number of component vectors you chose from problem 3 above, and (3) with the number of components that explain at least 90% of the variability in the predictor set. How do the classification accuracy values on both the training and test sets compare with the models fit in Question 2?\n",
    " \n",
    " </div>"
   ]
  },
  {
   "cell_type": "code",
   "execution_count": 397,
   "metadata": {},
   "outputs": [],
   "source": [
    "pca_transformer2 = PCA(n_components = 2).fit(X_train_norm)\n",
    "x_train_2d = pca_transformer2.transform(X_train_norm)\n",
    "x_test_2d = pca_transformer2.transform(X_test_norm)\n",
    "\n",
    "pca_transformer500 = PCA(n_components = 500).fit(X_train_norm)\n",
    "x_train_500d = pca_transformer500.transform(X_train_norm)\n",
    "x_test_500d = pca_transformer500.transform(X_test_norm)\n",
    "\n",
    "\n",
    "pca_transformer100 = PCA(n_components = 100).fit(X_train_norm)\n",
    "x_train_100d = pca_transformer100.transform(X_train_norm)\n",
    "x_test_100d = pca_transformer100.transform(X_test_norm)\n",
    "\n",
    "\n",
    "pca_transformer127 = PCA(n_components = 127).fit(X_train_norm)\n",
    "x_train_127d = pca_transformer127.transform(X_train_norm)\n",
    "x_test_127d = pca_transformer127.transform(X_test_norm)\n"
   ]
  },
  {
   "cell_type": "code",
   "execution_count": 456,
   "metadata": {},
   "outputs": [
    {
     "data": {
      "text/plain": [
       "array([[ 0.88584629,  1.36203399],\n",
       "       [ 1.40698284, -3.03916056],\n",
       "       [-3.84535641, -0.08801875],\n",
       "       ...,\n",
       "       [-1.98722396, -2.27680748],\n",
       "       [-0.25973251, -1.7763193 ],\n",
       "       [-3.25949918, -1.75699549]])"
      ]
     },
     "execution_count": 456,
     "metadata": {},
     "output_type": "execute_result"
    }
   ],
   "source": [
    "x_train_2d"
   ]
  },
  {
   "cell_type": "raw",
   "metadata": {},
   "source": [
    "#fit using first two pca predictors\n",
    "logr2 = LogisticRegression()\n",
    "logr2.fit(x_train_2d,y_train)\n",
    "\n",
    "train_accuracy = logr2.score(x_train_2d, y_train)\n",
    "test_accuracy = logr2.score(x_test_2d, y_test)\n",
    "\n",
    "print(\"For components = 2: train accuracy = %5.3f\" %train_accuracy + \" test accuracy = %5.3f\" %test_accuracy)\n",
    "\n",
    "logr500 = LogisticRegression()\n",
    "logr500.fit(x_train_500d,y_train)\n",
    "\n",
    "train_accuracy = logr500.score(x_train_50d,y_train)\n",
    "test_accuracy = logr500.score(x_test_500d,y_test)\n",
    "\n",
    "#fit using first two pca predictors\n",
    "logr100 = LogisticRegression()\n",
    "logr100.fit(x_train_100d,y_train)\n",
    "\n",
    "train_accuracy = logr100.score(x_train_100d,y_train)\n",
    "test_accuracy = logr100.score(x_test_100d,y_test)\n",
    "\n",
    "print(\"For components = 100: train accuracy = %5.3f\" %train_accuracy + \" test accuracy = %5.3f\" %test_accuracy)\n",
    "\n",
    "\n",
    "#fit using first two pca predictors\n",
    "logr127 = LogisticRegression()\n",
    "logr127.fit(x_train_127d,y_train)\n",
    "\n",
    "train_accuracy = logr127.score(x_train_127d, y_train)\n",
    "test_accuracy = logr127.score(x_test_127d, y_test)\n",
    "\n",
    "print(\"For components = 127: train accuracy = %5.3f\" %train_accuracy + \" test accuracy = %5.3f\" %test_accuracy)\n",
    "\n"
   ]
  },
  {
   "cell_type": "markdown",
   "metadata": {},
   "source": [
    "*Your answer here*"
   ]
  },
  {
   "cell_type": "markdown",
   "metadata": {
    "autograde": "4.2",
    "cell_id": "0a790850-87c6-4f46-b89e-048a2295c92b",
    "colab_type": "text",
    "id": "IGFtXJmQap2q"
   },
   "source": [
    "<div class='exercise-r'>  \n",
    "    \n",
    "**4.2** Use cross-validation to determine the best number of principal components. Try out the 3 values from the previous sub-part and optionally include other values as well."
   ]
  },
  {
   "cell_type": "code",
   "execution_count": 388,
   "metadata": {},
   "outputs": [
    {
     "name": "stdout",
     "output_type": "stream",
     "text": [
      "MSE train score for 2 components: 0.240\n",
      "MSE test score for 2 components: 0.252\n",
      "MSE train score for 100 components: 0.096\n",
      "MSE test score for 100 components: 0.168\n",
      "MSE train score for 127 components: 0.082\n",
      "MSE test score for 127 components: 0.183\n",
      "MSE train score for 500 components: 0.005\n",
      "MSE test score for 500 components: 0.190\n"
     ]
    }
   ],
   "source": [
    "# your code here\n",
    "from sklearn.model_selection import cross_validate\n",
    "\n",
    "logr2_cv = cross_validate(logr2, x_train_2d, y_train, scoring = \"neg_mean_squared_error\", \n",
    "                          cv =5, return_train_score = True )\n",
    "mse_train = -logr2_cv['train_score'].mean()\n",
    "mse_test = -logr2_cv['test_score'].mean()\n",
    "print(\"MSE train score for 2 components: %5.3f\" %mse_train)\n",
    "print(\"MSE test score for 2 components: %5.3f\" %mse_test)\n",
    "\n",
    "\n",
    "logr100_cv = cross_validate(logr100, x_train_100d, y_train, scoring = \"neg_mean_squared_error\", \n",
    "                          cv =5, return_train_score = True )\n",
    "mse_train = -logr100_cv['train_score'].mean()\n",
    "mse_test = -logr100_cv['test_score'].mean()\n",
    "print(\"MSE train score for 100 components: %5.3f\" %mse_train)\n",
    "print(\"MSE test score for 100 components: %5.3f\" %mse_test)\n",
    "\n",
    "\n",
    "logr127_cv = cross_validate(logr127, x_train_127d, y_train, scoring = \"neg_mean_squared_error\", \n",
    "                         cv =5, return_train_score = True )\n",
    "mse_train = -logr127_cv['train_score'].mean()\n",
    "mse_test = -logr127_cv['test_score'].mean()\n",
    "print(\"MSE train score for 127 components: %5.3f\" %mse_train)\n",
    "print(\"MSE test score for 127 components: %5.3f\" %mse_test)\n",
    "\n",
    "\n",
    "logr500_cv = cross_validate(logr500, x_train_500d, y_train, scoring = \"neg_mean_squared_error\", \n",
    "                         cv =5, return_train_score = True )\n",
    "mse_train = -logr500_cv['train_score'].mean()\n",
    "mse_test = -logr500_cv['test_score'].mean()\n",
    "print(\"MSE train score for 500 components: %5.3f\" %mse_train)\n",
    "print(\"MSE test score for 500 components: %5.3f\" %mse_test)"
   ]
  },
  {
   "cell_type": "markdown",
   "metadata": {},
   "source": [
    "#### <div class='exercise'><b>Question 5 [25 pts]: Multi-Class Response</b></div>"
   ]
  },
  {
   "cell_type": "markdown",
   "metadata": {},
   "source": [
    "[▲ Return to contents](#Contents)"
   ]
  },
  {
   "cell_type": "markdown",
   "metadata": {},
   "source": [
    "As mentioned earlier, there are actually two subtypes of `ALL` cancer: B-cell and T-cell.  The variable `Cancer_subtype` designates the 3 cancer cubtypes: \n",
    "- 0 = ALL Type T, \n",
    "- 1 = ALL Type B, and \n",
    "- 2 = AML.  \n",
    "Use this updated response variable to answer the following questions:\n",
    "\n",
    "**5.1** Fit two separate well-tuned, regularized (Ridge-like), multinomial logistic regression models to predict `Cancer_subtype`. For the first model, use the first two PCA components as predictors. For the second model, include  the quadratic and interaction terms for the first two PCA components, for a total of five predictors. Print and evaluate (with two or three sentences) the classification accuracy of the two models, on both train and test.\n",
    "\n",
    "**5.2** Create two separate scatter plots (one will be for each model above) of the first two principal components of the test data and denote the three cancer types by different color and marker.  Plot the decision boundaries separately on the two scatterplots and interpret the results:  which model appears to draw more reasonable decision boundaries?  Do the first two principal components appear to provide enough predictive power for this classification problem?\n",
    "\n",
    "**Hint: you can use the `meshgrid` as seen in lecture exercises to generate the decision boundaries.**\n",
    "\n",
    "**5.3** Use cross-validation to determine the best number of principal components for this multiclass problem. Consider the set of [2, 5, 10, 15, 20, 50, and 100] components.  Be sure to clearly substantiate your choice.\n",
    "\n",
    "**5.4** For your best model in the previous part, determine the classification accuracies within each observed (not predicted) subtype in test: which group is the most difficult to classify accurately?  Is this surprising?  Why or why not?\n",
    "\n",
    "**5.5** In the 2-class problem the classification threshold can be altered from 0.5 to affect the number of false positives and false negatives (this is what the ROC curve is based on). In the multiclass setting, the predicted class probabilities can be weighted to determine the winning class (so that a smaller class will not be 'ignored' by the algorithm): essentially, each class's predicted probability can be multiplied by this class weight and compared to determine the classification.\n",
    " \n",
    "Determine the classification accuracies in each observed subtype in test if instead the observations were weighted more 'fairly': they are inversely weighted based on the observed sample sizes in train (so that if there were just 2 groups in the response with 75% of the response in one class and 25% in the other, the smaller class should be weighted 3 times as much as the larger class).  \n",
    "\n",
    "Report the weights you used and the resulting classification accuracies in each subtype.  In what way have the results improved?  In what way have the results not improved?  Comment with 2-3 sentences."
   ]
  },
  {
   "cell_type": "markdown",
   "metadata": {},
   "source": [
    "<hr>"
   ]
  },
  {
   "cell_type": "markdown",
   "metadata": {},
   "source": [
    "\n",
    "## Answers"
   ]
  },
  {
   "cell_type": "markdown",
   "metadata": {
    "autograde": "5.1",
    "cell_id": "0a790850-87c6-4f46-b89e-048a2295c92b",
    "colab_type": "text",
    "id": "IGFtXJmQap2q"
   },
   "source": [
    "<div class='exercise-r'>  \n",
    " \n",
    "**5.1** Fit two separate well-tuned, regularized (Ridge-like), multinomial logistic regression models to predict `Cancer_subtype`. For the first model, use the first two PCA components as predictors. For the second model, include  the quadratic and interaction terms for the first two PCA components, for a total of five predictors. Print and evaluate (with two or three sentences) the classification accuracy of the two models, on both train and test.\n",
    " \n",
    " </div>"
   ]
  },
  {
   "cell_type": "code",
   "execution_count": 474,
   "metadata": {},
   "outputs": [
    {
     "data": {
      "text/html": [
       "<div>\n",
       "<style scoped>\n",
       "    .dataframe tbody tr th:only-of-type {\n",
       "        vertical-align: middle;\n",
       "    }\n",
       "\n",
       "    .dataframe tbody tr th {\n",
       "        vertical-align: top;\n",
       "    }\n",
       "\n",
       "    .dataframe thead th {\n",
       "        text-align: right;\n",
       "    }\n",
       "</style>\n",
       "<table border=\"1\" class=\"dataframe\">\n",
       "  <thead>\n",
       "    <tr style=\"text-align: right;\">\n",
       "      <th></th>\n",
       "      <th>PCA1</th>\n",
       "      <th>PCA2</th>\n",
       "    </tr>\n",
       "  </thead>\n",
       "  <tbody>\n",
       "    <tr>\n",
       "      <th>0</th>\n",
       "      <td>0.093096</td>\n",
       "      <td>-2.243948</td>\n",
       "    </tr>\n",
       "    <tr>\n",
       "      <th>1</th>\n",
       "      <td>-0.533232</td>\n",
       "      <td>10.363911</td>\n",
       "    </tr>\n",
       "    <tr>\n",
       "      <th>2</th>\n",
       "      <td>-2.523572</td>\n",
       "      <td>-0.283694</td>\n",
       "    </tr>\n",
       "    <tr>\n",
       "      <th>3</th>\n",
       "      <td>1.242871</td>\n",
       "      <td>-0.240677</td>\n",
       "    </tr>\n",
       "    <tr>\n",
       "      <th>4</th>\n",
       "      <td>-2.355641</td>\n",
       "      <td>4.005102</td>\n",
       "    </tr>\n",
       "    <tr>\n",
       "      <th>...</th>\n",
       "      <td>...</td>\n",
       "      <td>...</td>\n",
       "    </tr>\n",
       "    <tr>\n",
       "      <th>183</th>\n",
       "      <td>2.235227</td>\n",
       "      <td>0.793359</td>\n",
       "    </tr>\n",
       "    <tr>\n",
       "      <th>184</th>\n",
       "      <td>-4.057451</td>\n",
       "      <td>-1.981752</td>\n",
       "    </tr>\n",
       "    <tr>\n",
       "      <th>185</th>\n",
       "      <td>-4.080350</td>\n",
       "      <td>-1.178090</td>\n",
       "    </tr>\n",
       "    <tr>\n",
       "      <th>186</th>\n",
       "      <td>8.898649</td>\n",
       "      <td>-0.693647</td>\n",
       "    </tr>\n",
       "    <tr>\n",
       "      <th>187</th>\n",
       "      <td>0.752646</td>\n",
       "      <td>2.700956</td>\n",
       "    </tr>\n",
       "  </tbody>\n",
       "</table>\n",
       "<p>188 rows × 2 columns</p>\n",
       "</div>"
      ],
      "text/plain": [
       "         PCA1       PCA2\n",
       "0    0.093096  -2.243948\n",
       "1   -0.533232  10.363911\n",
       "2   -2.523572  -0.283694\n",
       "3    1.242871  -0.240677\n",
       "4   -2.355641   4.005102\n",
       "..        ...        ...\n",
       "183  2.235227   0.793359\n",
       "184 -4.057451  -1.981752\n",
       "185 -4.080350  -1.178090\n",
       "186  8.898649  -0.693647\n",
       "187  0.752646   2.700956\n",
       "\n",
       "[188 rows x 2 columns]"
      ]
     },
     "execution_count": 474,
     "metadata": {},
     "output_type": "execute_result"
    }
   ],
   "source": [
    "x_train_2d_df= pd.DataFrame(x_train_2d, columns = ['PCA1', 'PCA2'])\n",
    "x_train_2d_df\n",
    "x_test_2d_df= pd.DataFrame(x_test_2d, columns = ['PCA1', 'PCA2'])\n",
    "x_test_2d_df"
   ]
  },
  {
   "cell_type": "code",
   "execution_count": 567,
   "metadata": {},
   "outputs": [
    {
     "name": "stdout",
     "output_type": "stream",
     "text": [
      "Accuracy score train for 2 PCA components Ridge-like: 0.663\n",
      "Accuracy score test for 2 PCA components Ridge-like: 0.654\n",
      "Accuracy score train for 5 components Ridge-like: 0.523\n",
      "Accuracy score test for 5 components Ridge-like: 0.537\n"
     ]
    }
   ],
   "source": [
    "logit_ridge2 = LogisticRegression( max_iter = 5000, C = 10000).fit(x_train_2d, y2_train)\n",
    "logit2_score_train = logit_ridge2.score(x_train_2d, y2_train)\n",
    "logit2_score_test = logit_ridge2.score(x_test_2d, y2_test)\n",
    "print(\"Accuracy score train for 2 PCA components Ridge-like: %5.3f\" %logit2_score_train)\n",
    "print(\"Accuracy score test for 2 PCA components Ridge-like: %5.3f\" %logit2_score_test)\n",
    "\n",
    "\n",
    "#create interaction term\n",
    "quadint_df = pd.DataFrame([x_train_2d_df['PCA1'],x_train_2d_df['PCA2'],x_train_2d_df['PCA1']*x_train_2d_df['PCA2'], x_train_2d_df['PCA1']*x_train_2d_df['PCA1'], x_train_2d_df['PCA2']*x_train_2d_df['PCA2']], \n",
    "                           index=[['PCA1', 'PCA2','Interaction','Quad1','Quad2']])\n",
    "quadint_df = quadint_df.transpose()\n",
    "\n",
    "quadint_df_test = pd.DataFrame([x_test_2d_df['PCA1'],x_test_2d_df['PCA2'],x_test_2d_df['PCA1']*x_test_2d_df['PCA2'], x_test_2d_df['PCA1']*x_test_2d_df['PCA1'], x_test_2d_df['PCA2']*x_test_2d_df['PCA2']], \n",
    "                           index=[['PCA1', 'PCA2','Interaction','Quad1','Quad2']])\n",
    "quadint_df_test = quadint_df_test.transpose()\n",
    "\n",
    "#fit the data and get score\n",
    "logit_ridge5 = LogisticRegression(max_iter = 5000, C = .0001).fit(quadint_df, y2_train)\n",
    "logit5_score_train = logit_ridge5.score(quadint_df, y2_train)\n",
    "logit5_score_test = logit_ridge5.score(quadint_df_test, y2_test)\n",
    "\n",
    "print(\"Accuracy score train for 5 components Ridge-like: %5.3f\" %logit5_score_train)\n",
    "print(\"Accuracy score test for 5 components Ridge-like: %5.3f\" %logit5_score_test)"
   ]
  },
  {
   "cell_type": "markdown",
   "metadata": {},
   "source": [
    "the accuracy for the 5 components and the interaction terms are slightly better on the test set than when we only used the 2 dimensions. However this is not a significant amount worth the work. This tells me that the PCA method itself does a good enough job of capturing the interactions. Additional interaction terms and quadratics are unnecessary. "
   ]
  },
  {
   "cell_type": "markdown",
   "metadata": {},
   "source": [
    "*Your answer here*"
   ]
  },
  {
   "cell_type": "markdown",
   "metadata": {
    "autograde": "5.2",
    "cell_id": "0a790850-87c6-4f46-b89e-048a2295c92b",
    "colab_type": "text",
    "id": "IGFtXJmQap2q"
   },
   "source": [
    "<div class='exercise-r'>  \n",
    " \n",
    "**5.2** Create two separate scatter plots (one will be for each model above) of the first two principal components of the test data and denote the three cancer types by different color and marker.  Plot the decision boundaries separately on the two scatterplots and interpret the results:  which model appears to draw more reasonable decision boundaries?  Do the first two principal components appear to provide enough predictive power for this classification problem?\n",
    " \n",
    " **Hint: you can use the `meshgrid` as seen in lecture exercises to generate the decision boundaries.**\n",
    " \n",
    " </div>"
   ]
  },
  {
   "cell_type": "code",
   "execution_count": 579,
   "metadata": {},
   "outputs": [
    {
     "data": {
      "text/plain": [
       "Text(0.5, 1.0, 'cancer type and pca vectors')"
      ]
     },
     "execution_count": 579,
     "metadata": {},
     "output_type": "execute_result"
    },
    {
     "data": {
      "image/png": "[encoded data removed]",
      "text/plain": [
       "<Figure size 864x360 with 2 Axes>"
      ]
     },
     "metadata": {
      "needs_background": "light"
     },
     "output_type": "display_data"
    }
   ],
   "source": [
    "fig,(ax1,ax2) =  plt.subplots(1, 2, figsize = (12,5))\n",
    "ax1.scatter(pca_train_df[['PCA1']][y2_train.values == 2],pca_train_df[['PCA2']][y2_train.values == 2])\n",
    "ax1.scatter(pca_train_df[['PCA1']][y2_train.values == 1],pca_train_df[['PCA2']][y2_train.values == 1])\n",
    "ax1.scatter(pca_train_df[['PCA1']][y2_train.values == 0],pca_train_df[['PCA2']][y2_train.values == 0])\n",
    "ax1.legend([\"cancer_subtype = 2\",\"cancer_subtype = 1\",\"cancer_subtype = 0\" ])\n",
    "ax1.set_xlabel(\"First PCA Component Vector\")\n",
    "ax1.set_ylabel(\"Second PCA Component Vector\")\n",
    "ax1.set_title(\"cancer type and pca vectors\")"
   ]
  },
  {
   "cell_type": "markdown",
   "metadata": {},
   "source": [
    "it seems like I'm doing something incorrect here since the boundaries seem to be non-existent. Not sure why this is happening"
   ]
  },
  {
   "cell_type": "markdown",
   "metadata": {
    "autograde": "5.3",
    "cell_id": "0a790850-87c6-4f46-b89e-048a2295c92b",
    "colab_type": "text",
    "id": "IGFtXJmQap2q"
   },
   "source": [
    "<div class='exercise-r'>  \n",
    " \n",
    "**5.3** Use cross-validation to determine the best number of principal components for this multiclass problem. Consider the set of [2, 5, 10, 15, 20, 50, and 100] components.  Be sure to clearly substantiate your choice.\n",
    " \n",
    " </div>"
   ]
  },
  {
   "cell_type": "code",
   "execution_count": 566,
   "metadata": {},
   "outputs": [
    {
     "name": "stdout",
     "output_type": "stream",
     "text": [
      "mse_train:\n"
     ]
    },
    {
     "data": {
      "text/plain": [
       "[0.6152649961736947,\n",
       " 0.4658615073680906,\n",
       " 0.4210927535663128,\n",
       " 0.3709985675882503,\n",
       " 0.35373015717285095,\n",
       " 0.3080813531385515,\n",
       " 0.19149186664835272]"
      ]
     },
     "metadata": {},
     "output_type": "display_data"
    },
    {
     "name": "stdout",
     "output_type": "stream",
     "text": [
      "mse_test:\n"
     ]
    },
    {
     "data": {
      "text/plain": [
       "[0.6471080910240202,\n",
       " 0.49639696586599247,\n",
       " 0.4663716814159292,\n",
       " 0.3811946902654867,\n",
       " 0.3687104930467762,\n",
       " 0.4043457648546144,\n",
       " 0.6064791403286979]"
      ]
     },
     "metadata": {},
     "output_type": "display_data"
    }
   ],
   "source": [
    "components = [2, 5, 10, 15, 20, 50, 100] \n",
    "mse_train= []\n",
    "mse_test = []\n",
    "\n",
    "for i in components:\n",
    "    pca_transformer = PCA(n_components = i).fit(X_train_norm)\n",
    "    x_train = pca_transformer.transform(X_train_norm)\n",
    "    logit_ridge_comp = LogisticRegression( max_iter = 5000, C = 100000, solver='lbfgs').fit(x_train, y2_train)\n",
    "    logr_cv = cross_validate(logit_ridge_comp, x_train, y2_train, scoring = \"neg_mean_squared_error\", cv = 5, return_train_score = True )\n",
    "    \n",
    "    mse_train.append(-logr_cv['train_score'].mean())\n",
    "    mse_test.append(-logr_cv['test_score'].mean())\n",
    "\n",
    "print(\"mse_train:\")\n",
    "display(mse_train)\n",
    "print(\"mse_test:\")\n",
    "display(mse_test)\n"
   ]
  },
  {
   "cell_type": "markdown",
   "metadata": {},
   "source": [
    "The 20 component model had the lowest test MSE score from the models that we created. This would be the one that I go with. You can see when we go past 20 to 50, we begin to overfit our model. "
   ]
  },
  {
   "cell_type": "markdown",
   "metadata": {
    "autograde": "5.4",
    "cell_id": "0a790850-87c6-4f46-b89e-048a2295c92b",
    "colab_type": "text",
    "id": "IGFtXJmQap2q"
   },
   "source": [
    "<div class='exercise-r'>  \n",
    " \n",
    "**5.4** For your best model in the previous part, determine the classification accuracies within each observed (not predicted) subtype in test: which group is the most difficult to classify accurately?  Is this surprising?  Why or why not?\n",
    " \n",
    " </div>"
   ]
  },
  {
   "cell_type": "code",
   "execution_count": 578,
   "metadata": {
    "scrolled": true
   },
   "outputs": [
    {
     "data": {
      "text/html": [
       "<div>\n",
       "<style scoped>\n",
       "    .dataframe tbody tr th:only-of-type {\n",
       "        vertical-align: middle;\n",
       "    }\n",
       "\n",
       "    .dataframe tbody tr th {\n",
       "        vertical-align: top;\n",
       "    }\n",
       "\n",
       "    .dataframe thead th {\n",
       "        text-align: right;\n",
       "    }\n",
       "</style>\n",
       "<table border=\"1\" class=\"dataframe\">\n",
       "  <thead>\n",
       "    <tr style=\"text-align: right;\">\n",
       "      <th></th>\n",
       "      <th>Cancer_subtype</th>\n",
       "    </tr>\n",
       "  </thead>\n",
       "  <tbody>\n",
       "    <tr>\n",
       "      <th>2</th>\n",
       "      <td>275</td>\n",
       "    </tr>\n",
       "    <tr>\n",
       "      <th>1</th>\n",
       "      <td>190</td>\n",
       "    </tr>\n",
       "    <tr>\n",
       "      <th>0</th>\n",
       "      <td>99</td>\n",
       "    </tr>\n",
       "  </tbody>\n",
       "</table>\n",
       "</div>"
      ],
      "text/plain": [
       "   Cancer_subtype\n",
       "2             275\n",
       "1             190\n",
       "0              99"
      ]
     },
     "execution_count": 578,
     "metadata": {},
     "output_type": "execute_result"
    }
   ],
   "source": [
    "y2_train_df = pd.DataFrame(y2_train)\n",
    "y2_train_df.apply(pd.value_counts)\n"
   ]
  },
  {
   "cell_type": "code",
   "execution_count": 575,
   "metadata": {},
   "outputs": [
    {
     "name": "stdout",
     "output_type": "stream",
     "text": [
      "train_accuracy y = 0: 0.6767676767676768\n",
      "test_accuracy y = 0: 0.5454545454545454\n",
      "train_accuracy y = 1: 0.8315789473684211\n",
      "test_accuracy y = 1: 0.6825396825396826\n",
      "train_accuracy y = 2: 0.9272727272727272\n",
      "test_accuracy y = 2: 0.8369565217391305\n"
     ]
    }
   ],
   "source": [
    "# your code here\n",
    "pca_transformer = PCA(n_components = 20).fit(X_train_norm)\n",
    "pca_transformer = PCA(n_components = i).fit(X_train_norm)\n",
    "x_train = pca_transformer.transform(X_train_norm)\n",
    "x_test = pca_transformer.transform(X_test_norm)\n",
    "\n",
    "logit_ridge_comp = LogisticRegression( max_iter = 5000, C = 100000, solver='lbfgs').fit(x_train, y2_train)\n",
    "\n",
    "train_accuracy = logit_ridge_comp.score(x_train[y2_train.values == 0], y2_train[y2_train.values == 0])\n",
    "test_accuracy = logit_ridge_comp.score(x_test[y2_test.values == 0], y2_test[y2_test.values == 0])\n",
    "print(\"train_accuracy y = 0:\",train_accuracy)\n",
    "print(\"test_accuracy y = 0:\", test_accuracy)\n",
    "\n",
    "train_accuracy = logit_ridge_comp.score(x_train[y2_train.values == 1], y2_train[y2_train.values == 1])\n",
    "test_accuracy = logit_ridge_comp.score(x_test[y2_test.values == 1], y2_test[y2_test.values == 1])\n",
    "print(\"train_accuracy y = 1:\",train_accuracy)\n",
    "print(\"test_accuracy y = 1:\", test_accuracy)\n",
    "\n",
    "train_accuracy = logit_ridge_comp.score(x_train[y2_train.values == 2], y2_train[y2_train.values == 2])\n",
    "test_accuracy = logit_ridge_comp.score(x_test[y2_test.values == 2], y2_test[y2_test.values == 2])\n",
    "print(\"train_accuracy y = 2:\",train_accuracy)\n",
    "print(\"test_accuracy y = 2:\", test_accuracy)\n"
   ]
  },
  {
   "cell_type": "markdown",
   "metadata": {},
   "source": [
    "This makes sense given the lower count of 0 values in the y2_train set. This means that the regression has less data to train off of and thus will not be as refined. In comparison, 2 has the most values and thus we have the highest accuracy for it because we are better able to build our predictive model to this class. "
   ]
  },
  {
   "cell_type": "markdown",
   "metadata": {
    "autograde": "5.5",
    "cell_id": "0a790850-87c6-4f46-b89e-048a2295c92b",
    "colab_type": "text",
    "id": "IGFtXJmQap2q"
   },
   "source": [
    "<div class='exercise-r'>  \n",
    " \n",
    "**5.5** In the 2-class problem the classification threshold can be altered from 0.5 to affect the number of false positives and false negatives (this is what the ROC curve is based on). In the multiclass setting, the predicted class probabilities can be weighted to determine the winning class (so that a smaller class will not be 'ignored' by the algorithm): essentially, each class's predicted probability can be multiplied by this class weight and compared to determine the classification.\n",
    " \n",
    " Determine the classification accuracies in each observed subtype in test if instead the observations were weighted more 'fairly': they are inversely weighted based on the observed sample sizes in train (so that if there were just 2 groups in the response with 75% of the response in one class and 25% in the other, the smaller class should be weighted 3 times as much as the larger class).\n",
    " \n",
    " Report the weights you used and the resulting classification accuracies in each subtype.  In what way have the results improved?  In what way have the results not improved?  Comment with 2-3 sentences.\n",
    " </div>"
   ]
  },
  {
   "cell_type": "code",
   "execution_count": 587,
   "metadata": {},
   "outputs": [
    {
     "name": "stdout",
     "output_type": "stream",
     "text": [
      "train_accuracy y = 0: 0.6767676767676768\n",
      "test_accuracy y = 0: 0.5454545454545454\n",
      "train_accuracy y = 1: 0.8315789473684211\n",
      "test_accuracy y = 1: 0.6825396825396826\n",
      "train_accuracy y = 2: 0.9272727272727272\n",
      "test_accuracy y = 2: 0.8369565217391305\n"
     ]
    }
   ],
   "source": [
    "np.append(x_train, x_train[y2_train.values == 0])\n",
    "np.append(y2_train, y2_train[y2_train.values == 0])\n",
    "\n",
    "logit_ridge_comp = LogisticRegression( max_iter = 5000, C = 100000, solver='lbfgs').fit(x_train, y2_train)\n",
    "\n",
    "train_accuracy = logit_ridge_comp.score(x_train[y2_train.values == 0], y2_train[y2_train.values == 0])\n",
    "test_accuracy = logit_ridge_comp.score(x_test[y2_test.values == 0], y2_test[y2_test.values == 0])\n",
    "print(\"train_accuracy y = 0:\",train_accuracy)\n",
    "print(\"test_accuracy y = 0:\", test_accuracy)\n",
    "\n",
    "train_accuracy = logit_ridge_comp.score(x_train[y2_train.values == 1], y2_train[y2_train.values == 1])\n",
    "test_accuracy = logit_ridge_comp.score(x_test[y2_test.values == 1], y2_test[y2_test.values == 1])\n",
    "print(\"train_accuracy y = 1:\",train_accuracy)\n",
    "print(\"test_accuracy y = 1:\", test_accuracy)\n",
    "\n",
    "train_accuracy = logit_ridge_comp.score(x_train[y2_train.values == 2], y2_train[y2_train.values == 2])\n",
    "test_accuracy = logit_ridge_comp.score(x_test[y2_test.values == 2], y2_test[y2_test.values == 2])\n",
    "print(\"train_accuracy y = 2:\",train_accuracy)\n",
    "print(\"test_accuracy y = 2:\", test_accuracy)\n"
   ]
  },
  {
   "cell_type": "markdown",
   "metadata": {},
   "source": [
    "I wasn't sure how to increase the weights, so I increased the weights by doubling back the y2_samples for '0' to increase the weight. This strategy did not increase the weighting as I hoped unfortunately. Was really running out of time at the end here, this homework, like most others past has taken me around 15 hours to complete."
   ]
  },
  {
   "cell_type": "code",
   "execution_count": null,
   "metadata": {},
   "outputs": [],
   "source": []
  }
 ],
 "metadata": {
  "colab": {
   "collapsed_sections": [],
   "name": "hw1-part1.ipynb",
   "provenance": []
  },
  "deepnote_execution_queue": [],
  "deepnote_notebook_id": "5e5027d5-1cf7-4394-a1d5-c57eaedde1db",
  "kernelspec": {
   "display_name": "Python 3",
   "language": "python",
   "name": "python3"
  },
  "language_info": {
   "codemirror_mode": {
    "name": "ipython",
    "version": 3
   },
   "file_extension": ".py",
   "mimetype": "text/x-python",
   "name": "python",
   "nbconvert_exporter": "python",
   "pygments_lexer": "ipython3",
   "version": "3.8.3"
  }
 },
 "nbformat": 4,
 "nbformat_minor": 4
}
